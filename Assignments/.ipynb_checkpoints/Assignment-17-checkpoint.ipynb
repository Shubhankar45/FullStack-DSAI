{
 "cells": [
  {
   "cell_type": "markdown",
   "id": "f7ce1572-b9fe-477f-ba24-df0f8bd7846a",
   "metadata": {},
   "source": [
    "**Assignment 17**"
   ]
  },
  {
   "cell_type": "markdown",
   "id": "400c9250-6047-4949-ae60-84a5ef66ba6b",
   "metadata": {},
   "source": [
    "1. List Operations with User Input\n",
    "Write a program that asks the user to enter a list of integers. Perform the following tasks:\n",
    "- (a) Print the total number of items in the list.\n",
    "\n",
    "\n",
    "(d) Print &quot;Yes&quot; if the list contains a 5 and &quot;No&quot; otherwise.\n",
    "(e) Print the number of fives in the list.\n",
    "(f) Remove the first and last items from the list, sort the remaining items, and print the result.\n",
    "(g) Print how many integers in the list are less than 5."
   ]
  },
  {
   "cell_type": "code",
   "execution_count": 7,
   "id": "c0656cea-dd7a-4fea-b85d-58a40c836c63",
   "metadata": {},
   "outputs": [
    {
     "name": "stdin",
     "output_type": "stream",
     "text": [
      "Enter a list of integers: 10 20 30 40\n"
     ]
    },
    {
     "name": "stdout",
     "output_type": "stream",
     "text": [
      "Total no of items in list is 4\n"
     ]
    }
   ],
   "source": [
    "Input=input(\"Enter a list of integers:\" )\n",
    "l=Input.split()\n",
    "total=0\n",
    "\n",
    "for i in l:\n",
    "    total+=1\n",
    "print(f\"Total no of items in list is {total}\")"
   ]
  },
  {
   "cell_type": "markdown",
   "id": "b8ddf3b5-9709-4baf-9d8e-5e7512a8c0f4",
   "metadata": {},
   "source": [
    "- (b) Print the last item in the list."
   ]
  },
  {
   "cell_type": "code",
   "execution_count": 13,
   "id": "591c8a72-58bf-4a53-842c-d4a024d49491",
   "metadata": {},
   "outputs": [
    {
     "name": "stdout",
     "output_type": "stream",
     "text": [
      "Last element of the list is:  40\n"
     ]
    }
   ],
   "source": [
    "print(\"Last element of the list is: \",l[-1])"
   ]
  },
  {
   "cell_type": "markdown",
   "id": "05467166-d407-43ea-9db0-96f31df9b933",
   "metadata": {},
   "source": [
    "- (c) Print the list in reverse order."
   ]
  },
  {
   "cell_type": "code",
   "execution_count": 30,
   "id": "5a8719c7-192f-4832-83b3-92ba4dc92f1c",
   "metadata": {},
   "outputs": [
    {
     "name": "stdout",
     "output_type": "stream",
     "text": [
      "[10, 20, 30, 40]\n"
     ]
    }
   ],
   "source": [
    "l=input(\"Enter a list of integers: \")\n",
    "print(l[::-1])"
   ]
  },
  {
   "cell_type": "code",
   "execution_count": null,
   "id": "a52afbc3-4a6c-4427-a2ad-6f258f520e2b",
   "metadata": {},
   "outputs": [],
   "source": []
  }
 ],
 "metadata": {
  "kernelspec": {
   "display_name": "Python [conda env:base] *",
   "language": "python",
   "name": "conda-base-py"
  },
  "language_info": {
   "codemirror_mode": {
    "name": "ipython",
    "version": 3
   },
   "file_extension": ".py",
   "mimetype": "text/x-python",
   "name": "python",
   "nbconvert_exporter": "python",
   "pygments_lexer": "ipython3",
   "version": "3.13.5"
  }
 },
 "nbformat": 4,
 "nbformat_minor": 5
}
