{
 "cells": [
  {
   "cell_type": "markdown",
   "id": "0fa9af8c-1321-4250-bfc7-fd940353db1c",
   "metadata": {},
   "source": [
    "**Assignment-19**"
   ]
  },
  {
   "cell_type": "markdown",
   "id": "f118acad-58ff-4ce1-a340-1f529464e354",
   "metadata": {},
   "source": [
    "- 'clear',\n",
    "- 'copy',\n",
    "- 'fromkeys',\n",
    "- 'get',\n",
    "- 'items',\n",
    "- 'keys',\n",
    "- 'pop',\n",
    "- 'popitem',\n",
    "- 'setdefault',\n",
    "- 'update',\n",
    "- 'values'"
   ]
  },
  {
   "cell_type": "markdown",
   "id": "5b4b172f-99d9-420c-9a25-159cbfbbb113",
   "metadata": {},
   "source": [
    "**clear()**\n",
    "- Remove all items from the dict."
   ]
  },
  {
   "cell_type": "code",
   "execution_count": 3,
   "id": "11e2d4dd-c377-41ee-b5d6-1771a5d5e060",
   "metadata": {},
   "outputs": [
    {
     "data": {
      "text/plain": [
       "{}"
      ]
     },
     "execution_count": 3,
     "metadata": {},
     "output_type": "execute_result"
    }
   ],
   "source": [
    "d={\"Cricketers\":[\"Virat\",\"Rohit\",\"Dhoni\"],\"Singers\":[\"Arijit\",\"Shaan\",\"Shreya\"]}\n",
    "d.clear()\n",
    "d"
   ]
  },
  {
   "cell_type": "markdown",
   "id": "47eaef4a-ce61-47bc-94de-27990ca80925",
   "metadata": {},
   "source": [
    "**copy()**\n",
    "- Return a shallow copy of the dict."
   ]
  },
  {
   "cell_type": "code",
   "execution_count": 6,
   "id": "3138e61b-3766-481e-b671-67ec165bcdeb",
   "metadata": {},
   "outputs": [
    {
     "data": {
      "text/plain": [
       "{'Cricketers': ['Virat', 'Rohit', 'Dhoni'],\n",
       " 'Singers': ['Arijit', 'Shaan', 'Shreya']}"
      ]
     },
     "execution_count": 6,
     "metadata": {},
     "output_type": "execute_result"
    }
   ],
   "source": [
    "d1={\"Cricketers\":[\"Virat\",\"Rohit\",\"Dhoni\"],\"Singers\":[\"Arijit\",\"Shaan\",\"Shreya\"]}\n",
    "d2=d1.copy()\n",
    "d2"
   ]
  },
  {
   "cell_type": "markdown",
   "id": "58fad697-32f4-4c5d-a62e-948b6d9c1d2f",
   "metadata": {},
   "source": [
    "**fromkeys()**\n",
    "- Create a new dictionary with keys from iterable and values set to value."
   ]
  },
  {
   "cell_type": "code",
   "execution_count": 31,
   "id": "d12ca51d-0188-4a27-ad1b-a003d079afb2",
   "metadata": {},
   "outputs": [
    {
     "name": "stdout",
     "output_type": "stream",
     "text": [
      "{'a': 10, 'b': 10, 'c': 10}\n",
      "{'B': 10, 'C': 10, 'A': 10}\n",
      "{'Virat': 'Cricketer', 'Rohit': 'Cricketer', 'Dhoni': 'Cricketer'}\n"
     ]
    },
    {
     "data": {
      "text/plain": [
       "{'1': 'Number', '2': 'Number', '3': 'Number', '4': 'Number'}"
      ]
     },
     "execution_count": 31,
     "metadata": {},
     "output_type": "execute_result"
    }
   ],
   "source": [
    "key=\"abc\"\n",
    "d1=dict.fromkeys(key,10)\n",
    "print(d1)\n",
    "\n",
    "key={'A','B','C'}\n",
    "d2=dict.fromkeys(key,10)\n",
    "print(d2)\n",
    "\n",
    "key=['Virat','Rohit','Dhoni']\n",
    "d3=dict.fromkeys(key,'Cricketer')\n",
    "print(d3)\n",
    "\n",
    "\n",
    "#without dict\n",
    "d4={}\n",
    "key=\"1234\"\n",
    "d4.fromkeys(key,\"Number\")"
   ]
  },
  {
   "cell_type": "markdown",
   "id": "9307f2fe-42bc-432a-bc77-2f0972ce22fc",
   "metadata": {},
   "source": [
    "**get()**\n",
    "- Return the value for key if key is in the dictionary, else default."
   ]
  },
  {
   "cell_type": "code",
   "execution_count": 36,
   "id": "5085fb5a-9b67-45d5-aa5c-884ed636f399",
   "metadata": {},
   "outputs": [
    {
     "name": "stdout",
     "output_type": "stream",
     "text": [
      "Cricketers are ['Virat', 'Rohit', 'Dhoni']\n",
      "Singers are ['Arijit', 'Shaan', 'Shreya']\n"
     ]
    }
   ],
   "source": [
    "d1={\"Cricketers\":[\"Virat\",\"Rohit\",\"Dhoni\"],\"Singers\":[\"Arijit\",\"Shaan\",\"Shreya\"]}\n",
    "for i in d1:\n",
    "    print(f\"{i} are {d1.get(i)}\")"
   ]
  },
  {
   "cell_type": "markdown",
   "id": "068d2f33-5711-45f8-bd42-5d9739a810b5",
   "metadata": {},
   "source": [
    "**items()**\n",
    "- Built-in mutable sequence.\n",
    "- If no argument is given, the constructor creates a new empty list.\n",
    "- The argument must be an iterable if specified."
   ]
  },
  {
   "cell_type": "code",
   "execution_count": 43,
   "id": "7af27314-95a8-4969-96bb-0bcc92ed4a07",
   "metadata": {},
   "outputs": [
    {
     "data": {
      "text/plain": [
       "[('Cricketers', ['Virat', 'Rohit', 'Dhoni']),\n",
       " ('Singers', ['Arijit', 'Shaan', 'Shreya'])]"
      ]
     },
     "execution_count": 43,
     "metadata": {},
     "output_type": "execute_result"
    }
   ],
   "source": [
    "d1={\"Cricketers\":[\"Virat\",\"Rohit\",\"Dhoni\"],\"Singers\":[\"Arijit\",\"Shaan\",\"Shreya\"]}\n",
    "list(d1.items())"
   ]
  },
  {
   "cell_type": "code",
   "execution_count": 48,
   "id": "57944446-14c3-4423-9a84-1f7bbf15eead",
   "metadata": {},
   "outputs": [
    {
     "name": "stdout",
     "output_type": "stream",
     "text": [
      "Cricketers are  Virat,Rohit,Dhoni\n",
      "Singers are  Arijit,Shaan,Shreya\n"
     ]
    }
   ],
   "source": [
    "d1={\"Cricketers\":[\"Virat\",\"Rohit\",\"Dhoni\"],\"Singers\":[\"Arijit\",\"Shaan\",\"Shreya\"]}\n",
    "\n",
    "for key,value in d1.items():\n",
    "    print(f\"{key} are \",\",\".join(value))"
   ]
  },
  {
   "cell_type": "markdown",
   "id": "d4d44623-b88e-4e56-8414-983cc394e2f2",
   "metadata": {},
   "source": [
    "**keys()**\n",
    "- Built-in mutable sequence.\n",
    "- If no argument is given, the constructor creates a new empty list.\n",
    "- The argument must be an iterable if specified."
   ]
  },
  {
   "cell_type": "code",
   "execution_count": 52,
   "id": "15b4b3e4-7e27-43ff-8d8a-610eb3c1cfca",
   "metadata": {},
   "outputs": [
    {
     "name": "stdout",
     "output_type": "stream",
     "text": [
      "Keys in d1:  Cricketers, Singers\n"
     ]
    }
   ],
   "source": [
    "d1={\"Cricketers\":[\"Virat\",\"Rohit\",\"Dhoni\"],\"Singers\":[\"Arijit\",\"Shaan\",\"Shreya\"]}\n",
    "key=list(d1.keys())\n",
    "print(\"Keys in d1: \",\", \".join(key))"
   ]
  },
  {
   "cell_type": "markdown",
   "id": "694de0f0-82ee-4f58-9a8d-0ec439ad7e66",
   "metadata": {},
   "source": [
    "**pop()**\n",
    "- D.pop(k[,d]) -> v, remove specified key and return the corresponding value.\n",
    "- If the key is not found, return the default if given; otherwise,\n",
    "raise a KeyError."
   ]
  },
  {
   "cell_type": "code",
   "execution_count": 56,
   "id": "1a36efee-5e45-48f2-940d-faa710444bac",
   "metadata": {},
   "outputs": [
    {
     "data": {
      "text/plain": [
       "{'Cricketers': ['Virat', 'Rohit', 'Dhoni']}"
      ]
     },
     "execution_count": 56,
     "metadata": {},
     "output_type": "execute_result"
    }
   ],
   "source": [
    "d1={\"Cricketers\":[\"Virat\",\"Rohit\",\"Dhoni\"],\"Singers\":[\"Arijit\",\"Shaan\",\"Shreya\"]}\n",
    "d1.pop(\"Singers\")\n",
    "d1"
   ]
  },
  {
   "cell_type": "code",
   "execution_count": 61,
   "id": "a3b6c8a2-8524-44b3-8069-43c5f69eed4f",
   "metadata": {},
   "outputs": [
    {
     "data": {
      "text/plain": [
       "'key not found'"
      ]
     },
     "execution_count": 61,
     "metadata": {},
     "output_type": "execute_result"
    }
   ],
   "source": [
    "d1={\"Cricketers\":[\"Virat\",\"Rohit\",\"Dhoni\"],\"Singers\":[\"Arijit\",\"Shaan\",\"Shreya\"]}\n",
    "d1.pop(\"Dancers\",\"key not found\")"
   ]
  },
  {
   "cell_type": "markdown",
   "id": "d196ca8b-8dfc-418b-8aa8-601e45abe71e",
   "metadata": {},
   "source": [
    "**popitem()**\n",
    "- Remove and return a (key, value) pair as a 2-tuple.\n",
    "- Pairs are returned in LIFO (last-in, first-out) order.\n",
    "- Raises KeyError if the dict is empty."
   ]
  },
  {
   "cell_type": "code",
   "execution_count": 65,
   "id": "a0a60c30-9a1c-4630-bbaf-009cb22be37c",
   "metadata": {},
   "outputs": [
    {
     "name": "stdout",
     "output_type": "stream",
     "text": [
      "('Singers', ['Arijit', 'Shaan', 'Shreya'])\n",
      "{'Cricketers': ['Virat', 'Rohit', 'Dhoni']}\n"
     ]
    }
   ],
   "source": [
    "d1={\"Cricketers\":[\"Virat\",\"Rohit\",\"Dhoni\"],\"Singers\":[\"Arijit\",\"Shaan\",\"Shreya\"]}\n",
    "print(d1.popitem())\n",
    "print(d1)"
   ]
  },
  {
   "cell_type": "markdown",
   "id": "a18c3b81-9bf3-43c9-b567-45b516680f67",
   "metadata": {},
   "source": [
    "**setdefault()**\n",
    "- Insert key with a value of default if key is not in the dictionary.\n",
    "\n",
    "- Return the value for key if key is in the dictionary, else default."
   ]
  },
  {
   "cell_type": "code",
   "execution_count": 10,
   "id": "0b446b7c-b5d6-40b2-a55b-066af370620f",
   "metadata": {},
   "outputs": [
    {
     "data": {
      "text/plain": [
       "['Michael Jackson']"
      ]
     },
     "execution_count": 10,
     "metadata": {},
     "output_type": "execute_result"
    }
   ],
   "source": [
    "d1={\"Cricketers\":[\"Virat\",\"Rohit\",\"Dhoni\"],\"Singers\":[\"Arijit\",\"Shaan\",\"Shreya\"]}\n",
    "d1.setdefault(\"Dancers\",[\"Michael Jackson\"])\n",
    "d1[\"Dancers\"]"
   ]
  },
  {
   "cell_type": "markdown",
   "id": "ffb18f78-5bce-45ae-bf64-281e1c977867",
   "metadata": {},
   "source": [
    "**update()**\n",
    "- D.update([E, ]**F) -> None.  Update D from mapping/iterable E and F.\n",
    "- If E is present and has a .keys() method, then does:  for k in E.keys(): D[k] = E[k]\n",
    "- If E is present and lacks a .keys() method, then does:  for k, v in E: D[k] = v\n",
    "- In either case, this is followed by: for k in F:  D[k] = F[k]"
   ]
  },
  {
   "cell_type": "code",
   "execution_count": 15,
   "id": "fe0b3532-4b7d-4076-8c64-744d60586dcf",
   "metadata": {},
   "outputs": [
    {
     "data": {
      "text/plain": [
       "{'Cricketers': ['Sachin', 'Virat', 'Rohit', 'Dhoni'],\n",
       " 'Singers': ['Arijit', 'Shaan', 'Shreya']}"
      ]
     },
     "execution_count": 15,
     "metadata": {},
     "output_type": "execute_result"
    }
   ],
   "source": [
    "d1={\"Cricketers\":[\"Virat\",\"Rohit\",\"Dhoni\"],\"Singers\":[\"Arijit\",\"Shaan\",\"Shreya\"]}\n",
    "d1.update({\"Cricketers\": [\"Sachin\", \"Virat\", \"Rohit\", \"Dhoni\"]})\n",
    "d1"
   ]
  },
  {
   "cell_type": "markdown",
   "id": "aed1770b-4114-4551-a78a-c91b76f8ed53",
   "metadata": {},
   "source": [
    "**values()**\n",
    "- Return an object providing a view on the dict's values"
   ]
  },
  {
   "cell_type": "code",
   "execution_count": 18,
   "id": "fc938396-6aee-4561-814b-3cb06d817106",
   "metadata": {},
   "outputs": [
    {
     "data": {
      "text/plain": [
       "[['Virat', 'Rohit', 'Dhoni'], ['Arijit', 'Shaan', 'Shreya']]"
      ]
     },
     "execution_count": 18,
     "metadata": {},
     "output_type": "execute_result"
    }
   ],
   "source": [
    "d1={\"Cricketers\":[\"Virat\",\"Rohit\",\"Dhoni\"],\"Singers\":[\"Arijit\",\"Shaan\",\"Shreya\"]}\n",
    "list(d1.values())"
   ]
  },
  {
   "cell_type": "code",
   "execution_count": null,
   "id": "8ea48ffc-608b-4ce8-9d73-0ab05a1ee6e0",
   "metadata": {},
   "outputs": [],
   "source": []
  }
 ],
 "metadata": {
  "kernelspec": {
   "display_name": "Python [conda env:base] *",
   "language": "python",
   "name": "conda-base-py"
  },
  "language_info": {
   "codemirror_mode": {
    "name": "ipython",
    "version": 3
   },
   "file_extension": ".py",
   "mimetype": "text/x-python",
   "name": "python",
   "nbconvert_exporter": "python",
   "pygments_lexer": "ipython3",
   "version": "3.13.5"
  }
 },
 "nbformat": 4,
 "nbformat_minor": 5
}
