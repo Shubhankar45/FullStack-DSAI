{
 "cells": [
  {
   "cell_type": "markdown",
   "id": "db1cf7bd-3f87-436c-8d99-2ad2f672f41b",
   "metadata": {},
   "source": [
    "**Assignment 21**"
   ]
  },
  {
   "cell_type": "markdown",
   "id": "32639dc9-e9ed-4106-8d15-eecee25c9c99",
   "metadata": {},
   "source": [
    "- Write a Python program to named data.txt and write 5 lines of text into it."
   ]
  },
  {
   "cell_type": "code",
   "execution_count": 10,
   "id": "ff37c99c-0aa7-4a3c-af14-8e9aed0af9e6",
   "metadata": {},
   "outputs": [
    {
     "ename": "FileExistsError",
     "evalue": "[Errno 17] File exists: 'data.txt'",
     "output_type": "error",
     "traceback": [
      "\u001b[1;31m---------------------------------------------------------------------------\u001b[0m",
      "\u001b[1;31mFileExistsError\u001b[0m                           Traceback (most recent call last)",
      "Cell \u001b[1;32mIn[10], line 4\u001b[0m\n\u001b[0;32m      2\u001b[0m os\u001b[38;5;241m.\u001b[39mgetcwd()\n\u001b[0;32m      3\u001b[0m path\u001b[38;5;241m=\u001b[39m\u001b[38;5;124m'\u001b[39m\u001b[38;5;124mdata.txt\u001b[39m\u001b[38;5;124m'\u001b[39m\n\u001b[1;32m----> 4\u001b[0m file\u001b[38;5;241m=\u001b[39m\u001b[38;5;28mopen\u001b[39m(path,mode\u001b[38;5;241m=\u001b[39m\u001b[38;5;124m'\u001b[39m\u001b[38;5;124mx\u001b[39m\u001b[38;5;124m'\u001b[39m)\n\u001b[0;32m      5\u001b[0m file\u001b[38;5;241m.\u001b[39mwrite(\u001b[38;5;124m'''\u001b[39m\u001b[38;5;124mA gentle breeze begins to sigh, \u001b[39m\n\u001b[0;32m      6\u001b[0m \u001b[38;5;124mAcross the fields, the tall grass high. \u001b[39m\n\u001b[0;32m      7\u001b[0m \u001b[38;5;124mSunlight paints the clouds with gold, \u001b[39m\n\u001b[0;32m      8\u001b[0m \u001b[38;5;124mA story whispered, yet untold. \u001b[39m\n\u001b[0;32m      9\u001b[0m \u001b[38;5;124mNature\u001b[39m\u001b[38;5;124m'\u001b[39m\u001b[38;5;124ms beauty, calm and bold. \u001b[39m\u001b[38;5;124m'''\u001b[39m)\n",
      "File \u001b[1;32m~\\anaconda3\\Lib\\site-packages\\IPython\\core\\interactiveshell.py:324\u001b[0m, in \u001b[0;36m_modified_open\u001b[1;34m(file, *args, **kwargs)\u001b[0m\n\u001b[0;32m    317\u001b[0m \u001b[38;5;28;01mif\u001b[39;00m file \u001b[38;5;129;01min\u001b[39;00m {\u001b[38;5;241m0\u001b[39m, \u001b[38;5;241m1\u001b[39m, \u001b[38;5;241m2\u001b[39m}:\n\u001b[0;32m    318\u001b[0m     \u001b[38;5;28;01mraise\u001b[39;00m \u001b[38;5;167;01mValueError\u001b[39;00m(\n\u001b[0;32m    319\u001b[0m         \u001b[38;5;124mf\u001b[39m\u001b[38;5;124m\"\u001b[39m\u001b[38;5;124mIPython won\u001b[39m\u001b[38;5;124m'\u001b[39m\u001b[38;5;124mt let you open fd=\u001b[39m\u001b[38;5;132;01m{\u001b[39;00mfile\u001b[38;5;132;01m}\u001b[39;00m\u001b[38;5;124m by default \u001b[39m\u001b[38;5;124m\"\u001b[39m\n\u001b[0;32m    320\u001b[0m         \u001b[38;5;124m\"\u001b[39m\u001b[38;5;124mas it is likely to crash IPython. If you know what you are doing, \u001b[39m\u001b[38;5;124m\"\u001b[39m\n\u001b[0;32m    321\u001b[0m         \u001b[38;5;124m\"\u001b[39m\u001b[38;5;124myou can use builtins\u001b[39m\u001b[38;5;124m'\u001b[39m\u001b[38;5;124m open.\u001b[39m\u001b[38;5;124m\"\u001b[39m\n\u001b[0;32m    322\u001b[0m     )\n\u001b[1;32m--> 324\u001b[0m \u001b[38;5;28;01mreturn\u001b[39;00m io_open(file, \u001b[38;5;241m*\u001b[39margs, \u001b[38;5;241m*\u001b[39m\u001b[38;5;241m*\u001b[39mkwargs)\n",
      "\u001b[1;31mFileExistsError\u001b[0m: [Errno 17] File exists: 'data.txt'"
     ]
    }
   ],
   "source": [
    "import os\n",
    "os.getcwd()\n",
    "path='data.txt'\n",
    "file=open(path,mode='x')\n",
    "file.write('''A gentle breeze begins to sigh, \n",
    "Across the fields, the tall grass high. \n",
    "Sunlight paints the clouds with gold, \n",
    "A story whispered, yet untold. \n",
    "Nature's beauty, calm and bold. ''')"
   ]
  },
  {
   "cell_type": "code",
   "execution_count": 7,
   "id": "06e5470c-b274-41f7-b04c-100dc6f32eee",
   "metadata": {},
   "outputs": [
    {
     "name": "stdout",
     "output_type": "stream",
     "text": [
      "A gentle breeze begins to sigh, \n",
      "Across the fields, the tall grass high. \n",
      "Sunlight paints the clouds with gold, \n",
      "A story whispered, yet untold. \n",
      "Nature's beauty, calm and bold. \n"
     ]
    }
   ],
   "source": [
    "file=open(path,mode='r')\n",
    "print(file.read())"
   ]
  },
  {
   "cell_type": "markdown",
   "id": "1347ccfc-2d6c-42a5-b1da-e561c69ee393",
   "metadata": {},
   "source": [
    "- Write a program to and display the contents of data.txt line by line."
   ]
  },
  {
   "cell_type": "code",
   "execution_count": 12,
   "id": "5abbfa69-6281-458b-91e2-d2f978dddd5e",
   "metadata": {},
   "outputs": [
    {
     "name": "stdout",
     "output_type": "stream",
     "text": [
      "A gentle breeze begins to sigh, \n",
      "\n",
      "Across the fields, the tall grass high. \n",
      "\n",
      "Sunlight paints the clouds with gold, \n",
      "\n",
      "A story whispered, yet untold. \n",
      "\n",
      "Nature's beauty, calm and bold. \n"
     ]
    }
   ],
   "source": [
    "path=\"data.txt\"\n",
    "file=open(path,mode='r')\n",
    "for line in file:\n",
    "    print(line)\n",
    "    "
   ]
  },
  {
   "cell_type": "markdown",
   "id": "26a84de1-a28c-4c3b-b60b-ccbd3893e21b",
   "metadata": {},
   "source": [
    "- Write a program to in a given text file."
   ]
  },
  {
   "cell_type": "code",
   "execution_count": 13,
   "id": "440ba1b3-f06f-41cd-98a9-17485ad60466",
   "metadata": {},
   "outputs": [
    {
     "data": {
      "text/plain": [
       "21"
      ]
     },
     "execution_count": 13,
     "metadata": {},
     "output_type": "execute_result"
    }
   ],
   "source": [
    "path='data.txt'\n",
    "file=open(path,mode='a')\n",
    "file.write('''\n",
    "--End Of the poem--\n",
    "''')"
   ]
  },
  {
   "cell_type": "code",
   "execution_count": 14,
   "id": "de4ef174-b10c-4388-8259-2c78e8be9547",
   "metadata": {},
   "outputs": [
    {
     "name": "stdout",
     "output_type": "stream",
     "text": [
      "A gentle breeze begins to sigh, \n",
      "Across the fields, the tall grass high. \n",
      "Sunlight paints the clouds with gold, \n",
      "A story whispered, yet untold. \n",
      "Nature's beauty, calm and bold. \n",
      "--End Of the poem--\n",
      "\n"
     ]
    }
   ],
   "source": [
    "file=open(path,mode='r')\n",
    "print(file.read())"
   ]
  },
  {
   "cell_type": "markdown",
   "id": "753b6621-eff6-44cf-bfa3-305b8e7133b5",
   "metadata": {},
   "source": [
    "- Write a program to in a file."
   ]
  },
  {
   "cell_type": "code",
   "execution_count": 20,
   "id": "dcc5b889-43a4-48a5-8e06-e9f94499b6b7",
   "metadata": {},
   "outputs": [
    {
     "data": {
      "text/plain": [
       "200"
      ]
     },
     "execution_count": 20,
     "metadata": {},
     "output_type": "execute_result"
    }
   ],
   "source": [
    "path='new_file.txt'\n",
    "file1=open(path,mode='x')\n",
    "file1.write('''\n",
    "Small steps, taken every day,\n",
    "shape mountains from grains of sand.\n",
    "Consistency doesn’t roar — it whispers,\n",
    "but its quiet voice carves the strongest path.\n",
    "In time, the world notices what you’ve built\n",
    "''')\n"
   ]
  },
  {
   "cell_type": "code",
   "execution_count": 21,
   "id": "ad9e3a1a-0bf5-4f3e-8ff9-814cd6cfcabd",
   "metadata": {},
   "outputs": [
    {
     "name": "stdout",
     "output_type": "stream",
     "text": [
      "\n",
      "Small steps, taken every day,\n",
      "shape mountains from grains of sand.\n",
      "Consistency doesn’t roar — it whispers,\n",
      "but its quiet voice carves the strongest path.\n",
      "In time, the world notices what you’ve built\n",
      "\n"
     ]
    }
   ],
   "source": [
    "file1=open(path,mode='r')\n",
    "print(file1.read())"
   ]
  },
  {
   "cell_type": "markdown",
   "id": "a0a1b6e0-868c-41c4-8588-85560e6ebd47",
   "metadata": {},
   "source": [
    "- Write a program to new content to an existing file."
   ]
  },
  {
   "cell_type": "code",
   "execution_count": 23,
   "id": "6323975d-a3bc-45f8-9269-845fd28aa739",
   "metadata": {},
   "outputs": [
    {
     "data": {
      "text/plain": [
       "6"
      ]
     },
     "execution_count": 23,
     "metadata": {},
     "output_type": "execute_result"
    }
   ],
   "source": [
    "path='new_file.txt'\n",
    "file=open(path,mode='a')\n",
    "file.write(\"-shubh\")"
   ]
  },
  {
   "cell_type": "code",
   "execution_count": 24,
   "id": "34eb6cbe-4435-438e-83be-6371fb0299ce",
   "metadata": {},
   "outputs": [
    {
     "name": "stdout",
     "output_type": "stream",
     "text": [
      "\n",
      "Small steps, taken every day,\n",
      "shape mountains from grains of sand.\n",
      "Consistency doesn’t roar — it whispers,\n",
      "but its quiet voice carves the strongest path.\n",
      "In time, the world notices what you’ve built\n",
      "-shubh\n"
     ]
    }
   ],
   "source": [
    "file=open(path,mode='r')\n",
    "print(file.read())"
   ]
  },
  {
   "cell_type": "code",
   "execution_count": null,
   "id": "77d2424d-a62d-421c-a0ff-a5f0ef4749d8",
   "metadata": {},
   "outputs": [],
   "source": []
  }
 ],
 "metadata": {
  "kernelspec": {
   "display_name": "Python [conda env:base] *",
   "language": "python",
   "name": "conda-base-py"
  },
  "language_info": {
   "codemirror_mode": {
    "name": "ipython",
    "version": 3
   },
   "file_extension": ".py",
   "mimetype": "text/x-python",
   "name": "python",
   "nbconvert_exporter": "python",
   "pygments_lexer": "ipython3",
   "version": "3.13.5"
  }
 },
 "nbformat": 4,
 "nbformat_minor": 5
}
