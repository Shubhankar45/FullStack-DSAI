{
 "cells": [
  {
   "cell_type": "markdown",
   "id": "0359d1aa-06e0-491b-963c-447fe3415cea",
   "metadata": {},
   "source": [
    "**Assignment 22**"
   ]
  },
  {
   "cell_type": "markdown",
   "id": "2f3e19ca-d7b0-492c-b8fc-f74037091ae7",
   "metadata": {},
   "source": [
    "1). Create a dictionary student with keys: \"name\", \"age\", \"marks\". Print each value separately."
   ]
  },
  {
   "cell_type": "code",
   "execution_count": 2,
   "id": "27ab4fdd-067d-45f8-9760-dd90c9ae40c6",
   "metadata": {},
   "outputs": [
    {
     "name": "stdout",
     "output_type": "stream",
     "text": [
      "name:Shubh\n",
      "age:21\n",
      "marks:99.9\n"
     ]
    }
   ],
   "source": [
    "d={\"name\":\"Shubh\",\"age\":21,\"marks\":99.9}\n",
    "for i in d:\n",
    "    print(f\"{i}:{d[i]}\")"
   ]
  },
  {
   "cell_type": "markdown",
   "id": "b6206f1d-d6f4-4f9d-8913-624a76fa36c6",
   "metadata": {},
   "source": [
    "2). Write a program to add a new key-value pair to an existing dictionary."
   ]
  },
  {
   "cell_type": "code",
   "execution_count": 47,
   "id": "d4d8dff6-057b-4f78-84e7-caba3f70d3dc",
   "metadata": {},
   "outputs": [
    {
     "name": "stdin",
     "output_type": "stream",
     "text": [
      "Enter key:  sex\n",
      "Enter value:  male\n"
     ]
    },
    {
     "name": "stdout",
     "output_type": "stream",
     "text": [
      "{'name': 'Shubh', 'age': 21, 'marks': 99.9, 'sex': 'male'}\n"
     ]
    }
   ],
   "source": [
    "d={\"name\":\"Shubh\",\"age\":21,\"marks\":99.9}\n",
    "key_in=input(\"Enter key: \")\n",
    "val_in=input(\"Enter value: \")\n",
    "d[key_in]=val_in\n",
    "print(d)"
   ]
  },
  {
   "cell_type": "markdown",
   "id": "188116ce-e703-4666-84b6-eefd63b64fd1",
   "metadata": {},
   "source": [
    "3). Write a program to update the value of a key in a dictionary."
   ]
  },
  {
   "cell_type": "code",
   "execution_count": 10,
   "id": "958d7941-e314-4a23-bfdf-7204b8f74428",
   "metadata": {},
   "outputs": [
    {
     "name": "stdin",
     "output_type": "stream",
     "text": [
      "Enter the key you want to update as it is:  age\n",
      "Enter the value :  22\n"
     ]
    },
    {
     "name": "stdout",
     "output_type": "stream",
     "text": [
      "{'name': 'Shubh', 'age': '22', 'marks': 98.9, 'sex': 'male'}\n"
     ]
    }
   ],
   "source": [
    "key_in=input('Enter the key you want to update as it is: ')\n",
    "val_in=input('Enter the value : ')\n",
    "\n",
    "d[key_in]=val_in\n",
    "print(d)"
   ]
  },
  {
   "cell_type": "markdown",
   "id": "40df0dd2-cd03-43b8-9563-9b86bb6b5e30",
   "metadata": {},
   "source": [
    "4). Write a program to remove a key from a dictionary using both pop() and del"
   ]
  },
  {
   "cell_type": "code",
   "execution_count": 20,
   "id": "fb835962-34bc-49a2-afe0-bfd288fba561",
   "metadata": {},
   "outputs": [
    {
     "name": "stdout",
     "output_type": "stream",
     "text": [
      "{'a': 57, 'b': 23, 'c': 91, 'd': 12}\n",
      "{'a': 57, 'b': 23, 'c': 91}\n"
     ]
    }
   ],
   "source": [
    "d4={'a': 57, 'b': 23, 'c': 91, 'd': 12, 'e': 64}\n",
    "d4.pop('e')\n",
    "print(d4)\n",
    "del d4['d']\n",
    "print(d4)"
   ]
  },
  {
   "cell_type": "markdown",
   "id": "b2e9f886-93cb-41ed-bdd7-197a310890bc",
   "metadata": {},
   "source": [
    "5).Write a program to check if a given key exists in a dictionary."
   ]
  },
  {
   "cell_type": "code",
   "execution_count": 25,
   "id": "835c2667-11a8-4ce0-ab98-1ee4e63cba49",
   "metadata": {},
   "outputs": [
    {
     "name": "stdin",
     "output_type": "stream",
     "text": [
      "Enter key you want to check:  2\n"
     ]
    },
    {
     "name": "stdout",
     "output_type": "stream",
     "text": [
      "2 exists in dictionary\n"
     ]
    }
   ],
   "source": [
    "d = {1: \"Amit\", 2: \"Sneha\", 3: \"Kiran\"}\n",
    "key_in=eval(input(\"Enter key you want to check: \"))\n",
    "\n",
    "if key_in in d:\n",
    "    print(f\"{key_in} exists in dictionary\")\n",
    "    \n",
    "else:\n",
    "    print(f\"{key_in} does not exists in dictionary\")\n",
    "    \n"
   ]
  },
  {
   "cell_type": "markdown",
   "id": "7f66953d-da2e-448a-8c7b-a18e783e825c",
   "metadata": {},
   "source": [
    "6). Write a Python program to through all keys and values of a dictionary."
   ]
  },
  {
   "cell_type": "code",
   "execution_count": 26,
   "id": "d0053fe2-5526-4f1a-8f1f-557648dcbdd5",
   "metadata": {},
   "outputs": [
    {
     "name": "stdout",
     "output_type": "stream",
     "text": [
      "1 = Value1\n",
      "2 = Value2\n",
      "3 = Value3\n",
      "4 = Value4\n",
      "5 = Value5\n",
      "6 = Value6\n",
      "7 = Value7\n",
      "8 = Value8\n",
      "9 = Value9\n",
      "10 = Value10\n",
      "11 = Value11\n",
      "12 = Value12\n",
      "13 = Value13\n",
      "14 = Value14\n",
      "15 = Value15\n",
      "16 = Value16\n",
      "17 = Value17\n",
      "18 = Value18\n",
      "19 = Value19\n",
      "20 = Value20\n",
      "21 = Value21\n",
      "22 = Value22\n",
      "23 = Value23\n",
      "24 = Value24\n",
      "25 = Value25\n",
      "26 = Value26\n",
      "27 = Value27\n",
      "28 = Value28\n",
      "29 = Value29\n",
      "30 = Value30\n",
      "31 = Value31\n",
      "32 = Value32\n",
      "33 = Value33\n",
      "34 = Value34\n",
      "35 = Value35\n",
      "36 = Value36\n",
      "37 = Value37\n",
      "38 = Value38\n",
      "39 = Value39\n",
      "40 = Value40\n",
      "41 = Value41\n",
      "42 = Value42\n",
      "43 = Value43\n",
      "44 = Value44\n",
      "45 = Value45\n",
      "46 = Value46\n",
      "47 = Value47\n",
      "48 = Value48\n",
      "49 = Value49\n",
      "50 = Value50\n",
      "51 = Value51\n",
      "52 = Value52\n",
      "53 = Value53\n",
      "54 = Value54\n",
      "55 = Value55\n",
      "56 = Value56\n",
      "57 = Value57\n",
      "58 = Value58\n",
      "59 = Value59\n",
      "60 = Value60\n",
      "61 = Value61\n",
      "62 = Value62\n",
      "63 = Value63\n",
      "64 = Value64\n",
      "65 = Value65\n",
      "66 = Value66\n",
      "67 = Value67\n",
      "68 = Value68\n",
      "69 = Value69\n",
      "70 = Value70\n",
      "71 = Value71\n",
      "72 = Value72\n",
      "73 = Value73\n",
      "74 = Value74\n",
      "75 = Value75\n",
      "76 = Value76\n",
      "77 = Value77\n",
      "78 = Value78\n",
      "79 = Value79\n",
      "80 = Value80\n",
      "81 = Value81\n",
      "82 = Value82\n",
      "83 = Value83\n",
      "84 = Value84\n",
      "85 = Value85\n",
      "86 = Value86\n",
      "87 = Value87\n",
      "88 = Value88\n",
      "89 = Value89\n",
      "90 = Value90\n",
      "91 = Value91\n",
      "92 = Value92\n",
      "93 = Value93\n",
      "94 = Value94\n",
      "95 = Value95\n",
      "96 = Value96\n",
      "97 = Value97\n",
      "98 = Value98\n",
      "99 = Value99\n",
      "100 = Value100\n"
     ]
    }
   ],
   "source": [
    "d = {\n",
    " 1: \"Value1\",  2: \"Value2\",  3: \"Value3\",  4: \"Value4\",  5: \"Value5\",\n",
    " 6: \"Value6\",  7: \"Value7\",  8: \"Value8\",  9: \"Value9\", 10: \"Value10\",\n",
    " 11: \"Value11\", 12: \"Value12\", 13: \"Value13\", 14: \"Value14\", 15: \"Value15\",\n",
    " 16: \"Value16\", 17: \"Value17\", 18: \"Value18\", 19: \"Value19\", 20: \"Value20\",\n",
    " 21: \"Value21\", 22: \"Value22\", 23: \"Value23\", 24: \"Value24\", 25: \"Value25\",\n",
    " 26: \"Value26\", 27: \"Value27\", 28: \"Value28\", 29: \"Value29\", 30: \"Value30\",\n",
    " 31: \"Value31\", 32: \"Value32\", 33: \"Value33\", 34: \"Value34\", 35: \"Value35\",\n",
    " 36: \"Value36\", 37: \"Value37\", 38: \"Value38\", 39: \"Value39\", 40: \"Value40\",\n",
    " 41: \"Value41\", 42: \"Value42\", 43: \"Value43\", 44: \"Value44\", 45: \"Value45\",\n",
    " 46: \"Value46\", 47: \"Value47\", 48: \"Value48\", 49: \"Value49\", 50: \"Value50\",\n",
    " 51: \"Value51\", 52: \"Value52\", 53: \"Value53\", 54: \"Value54\", 55: \"Value55\",\n",
    " 56: \"Value56\", 57: \"Value57\", 58: \"Value58\", 59: \"Value59\", 60: \"Value60\",\n",
    " 61: \"Value61\", 62: \"Value62\", 63: \"Value63\", 64: \"Value64\", 65: \"Value65\",\n",
    " 66: \"Value66\", 67: \"Value67\", 68: \"Value68\", 69: \"Value69\", 70: \"Value70\",\n",
    " 71: \"Value71\", 72: \"Value72\", 73: \"Value73\", 74: \"Value74\", 75: \"Value75\",\n",
    " 76: \"Value76\", 77: \"Value77\", 78: \"Value78\", 79: \"Value79\", 80: \"Value80\",\n",
    " 81: \"Value81\", 82: \"Value82\", 83: \"Value83\", 84: \"Value84\", 85: \"Value85\",\n",
    " 86: \"Value86\", 87: \"Value87\", 88: \"Value88\", 89: \"Value89\", 90: \"Value90\",\n",
    " 91: \"Value91\", 92: \"Value92\", 93: \"Value93\", 94: \"Value94\", 95: \"Value95\",\n",
    " 96: \"Value96\", 97: \"Value97\", 98: \"Value98\", 99: \"Value99\", 100: \"Value100\"\n",
    "}\n",
    "\n",
    "for i in d:\n",
    "    print(f\"{i} = {d[i]}\")"
   ]
  },
  {
   "cell_type": "markdown",
   "id": "a6b124a6-9699-4347-98f2-ab81e7625a94",
   "metadata": {},
   "source": [
    "7). Write a program to into a new one."
   ]
  },
  {
   "cell_type": "code",
   "execution_count": 28,
   "id": "abae66ff-c0b6-4b71-afd1-290baecad27e",
   "metadata": {},
   "outputs": [
    {
     "name": "stdout",
     "output_type": "stream",
     "text": [
      "{1: 'Value1', 2: 'Value2', 3: 'Value3', 4: 'Value4', 5: 'Value5', 6: 'Value6', 7: 'Value7', 8: 'Value8', 9: 'Value9', 10: 'Value10', 11: 'Value11', 12: 'Value12', 13: 'Value13', 14: 'Value14', 15: 'Value15', 16: 'Value16', 17: 'Value17', 18: 'Value18', 19: 'Value19', 20: 'Value20', 21: 'Value21', 22: 'Value22', 23: 'Value23', 24: 'Value24', 25: 'Value25', 26: 'Value26', 27: 'Value27', 28: 'Value28', 29: 'Value29', 30: 'Value30', 31: 'Value31', 32: 'Value32', 33: 'Value33', 34: 'Value34', 35: 'Value35', 36: 'Value36', 37: 'Value37', 38: 'Value38', 39: 'Value39', 40: 'Value40', 41: 'Value41', 42: 'Value42', 43: 'Value43', 44: 'Value44', 45: 'Value45', 46: 'Value46', 47: 'Value47', 48: 'Value48', 49: 'Value49', 50: 'Value50', 51: 'Value51', 52: 'Value52', 53: 'Value53', 54: 'Value54', 55: 'Value55', 56: 'Value56', 57: 'Value57', 58: 'Value58', 59: 'Value59', 60: 'Value60', 61: 'Value61', 62: 'Value62', 63: 'Value63', 64: 'Value64', 65: 'Value65', 66: 'Value66', 67: 'Value67', 68: 'Value68', 69: 'Value69', 70: 'Value70', 71: 'Value71', 72: 'Value72', 73: 'Value73', 74: 'Value74', 75: 'Value75', 76: 'Value76', 77: 'Value77', 78: 'Value78', 79: 'Value79', 80: 'Value80', 81: 'Value81', 82: 'Value82', 83: 'Value83', 84: 'Value84', 85: 'Value85', 86: 'Value86', 87: 'Value87', 88: 'Value88', 89: 'Value89', 90: 'Value90', 91: 'Value91', 92: 'Value92', 93: 'Value93', 94: 'Value94', 95: 'Value95', 96: 'Value96', 97: 'Value97', 98: 'Value98', 99: 'Value99', 100: 'Value100'}\n"
     ]
    }
   ],
   "source": [
    "d = {\n",
    " 1: \"Value1\",  2: \"Value2\",  3: \"Value3\",  4: \"Value4\",  5: \"Value5\",\n",
    " 6: \"Value6\",  7: \"Value7\",  8: \"Value8\",  9: \"Value9\", 10: \"Value10\",\n",
    " 11: \"Value11\", 12: \"Value12\", 13: \"Value13\", 14: \"Value14\", 15: \"Value15\",\n",
    " 16: \"Value16\", 17: \"Value17\", 18: \"Value18\", 19: \"Value19\", 20: \"Value20\",\n",
    " 21: \"Value21\", 22: \"Value22\", 23: \"Value23\", 24: \"Value24\", 25: \"Value25\",\n",
    " 26: \"Value26\", 27: \"Value27\", 28: \"Value28\", 29: \"Value29\", 30: \"Value30\",\n",
    " 31: \"Value31\", 32: \"Value32\", 33: \"Value33\", 34: \"Value34\", 35: \"Value35\",\n",
    " 36: \"Value36\", 37: \"Value37\", 38: \"Value38\", 39: \"Value39\", 40: \"Value40\",\n",
    " 41: \"Value41\", 42: \"Value42\", 43: \"Value43\", 44: \"Value44\", 45: \"Value45\",\n",
    " 46: \"Value46\", 47: \"Value47\", 48: \"Value48\", 49: \"Value49\", 50: \"Value50\",\n",
    " 51: \"Value51\", 52: \"Value52\", 53: \"Value53\", 54: \"Value54\", 55: \"Value55\",\n",
    " 56: \"Value56\", 57: \"Value57\", 58: \"Value58\", 59: \"Value59\", 60: \"Value60\",\n",
    " 61: \"Value61\", 62: \"Value62\", 63: \"Value63\", 64: \"Value64\", 65: \"Value65\",\n",
    " 66: \"Value66\", 67: \"Value67\", 68: \"Value68\", 69: \"Value69\", 70: \"Value70\",\n",
    " 71: \"Value71\", 72: \"Value72\", 73: \"Value73\", 74: \"Value74\", 75: \"Value75\",\n",
    " 76: \"Value76\", 77: \"Value77\", 78: \"Value78\", 79: \"Value79\", 80: \"Value80\",\n",
    " 81: \"Value81\", 82: \"Value82\", 83: \"Value83\", 84: \"Value84\", 85: \"Value85\",\n",
    " 86: \"Value86\", 87: \"Value87\", 88: \"Value88\", 89: \"Value89\", 90: \"Value90\",\n",
    " 91: \"Value91\", 92: \"Value92\", 93: \"Value93\", 94: \"Value94\", 95: \"Value95\",\n",
    " 96: \"Value96\", 97: \"Value97\", 98: \"Value98\", 99: \"Value99\", 100: \"Value100\"\n",
    "}\n",
    "new_d=d.copy()\n",
    "print(new_d)"
   ]
  },
  {
   "cell_type": "markdown",
   "id": "f7ccb0ee-8568-466b-88f9-1034c6eda71c",
   "metadata": {},
   "source": [
    "8). Write a program to in a dictionary."
   ]
  },
  {
   "cell_type": "code",
   "execution_count": 36,
   "id": "a8865923-76e0-4fd2-bb76-84c54ecd5157",
   "metadata": {},
   "outputs": [
    {
     "name": "stdin",
     "output_type": "stream",
     "text": [
      "Enter no of entries you want to add:  3\n",
      "Enter key 1: 18\n",
      "Enter value 1: Virat\n",
      "Enter key 2: 45\n",
      "Enter value 2: Rohit\n",
      "Enter key 3: 07\n",
      "Enter value 3: Dhoni\n"
     ]
    },
    {
     "name": "stdout",
     "output_type": "stream",
     "text": [
      "{'18': 'Virat', '45': 'Rohit', '07': 'Dhoni'}\n"
     ]
    }
   ],
   "source": [
    "n=int(input(\"Enter no of entries you want to add: \"))\n",
    "d8={}\n",
    "for i in range(n):\n",
    "    key_in=input(f\"Enter key {i+1}:\")\n",
    "    val_in=input(f\"Enter value {i+1}:\")\n",
    "    d8[key_in]=val_in\n",
    "print(d8)"
   ]
  },
  {
   "cell_type": "markdown",
   "id": "b7aa7ef7-e832-4027-94d3-2d0f3b4cda3e",
   "metadata": {},
   "source": [
    "9).Write a program to by :  keys in ascending"
   ]
  },
  {
   "cell_type": "code",
   "execution_count": 41,
   "id": "2a945cfb-ee43-4316-b2a2-feaa8d380764",
   "metadata": {},
   "outputs": [
    {
     "name": "stdout",
     "output_type": "stream",
     "text": [
      "{'07': 'Dhoni', '18': 'Virat', '45': 'Rohit'}\n"
     ]
    }
   ],
   "source": [
    "s_d8=dict(sorted(d8.items()))\n",
    "print(s_d8)"
   ]
  },
  {
   "cell_type": "code",
   "execution_count": 45,
   "id": "1aa86db4-9ac1-498d-8666-1fa31c734987",
   "metadata": {},
   "outputs": [
    {
     "name": "stdout",
     "output_type": "stream",
     "text": [
      "{3: 30, 2: 20, 1: 10}\n"
     ]
    }
   ],
   "source": [
    "d9={1:10,2:20,3:30}\n",
    "s_d9=dict(sorted(d9.items(), key=lambda x: x[1], reverse=True))\n",
    "print(s_d9)"
   ]
  }
 ],
 "metadata": {
  "kernelspec": {
   "display_name": "Python [conda env:base] *",
   "language": "python",
   "name": "conda-base-py"
  },
  "language_info": {
   "codemirror_mode": {
    "name": "ipython",
    "version": 3
   },
   "file_extension": ".py",
   "mimetype": "text/x-python",
   "name": "python",
   "nbconvert_exporter": "python",
   "pygments_lexer": "ipython3",
   "version": "3.13.5"
  }
 },
 "nbformat": 4,
 "nbformat_minor": 5
}
