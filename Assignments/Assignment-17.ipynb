{
 "cells": [
  {
   "cell_type": "markdown",
   "id": "f7ce1572-b9fe-477f-ba24-df0f8bd7846a",
   "metadata": {},
   "source": [
    "**Assignment 17**"
   ]
  },
  {
   "cell_type": "markdown",
   "id": "400c9250-6047-4949-ae60-84a5ef66ba6b",
   "metadata": {},
   "source": [
    "**1. List Operations with User Input**\n",
    "- Write a program that asks the user to enter a list of integers. Perform the following tasks:"
   ]
  },
  {
   "cell_type": "markdown",
   "id": "76b4128c-e278-45f0-8e19-5b4341eecff3",
   "metadata": {},
   "source": [
    "- (a) Print the total number of items in the list."
   ]
  },
  {
   "cell_type": "code",
   "execution_count": 78,
   "id": "c0656cea-dd7a-4fea-b85d-58a40c836c63",
   "metadata": {},
   "outputs": [
    {
     "name": "stdin",
     "output_type": "stream",
     "text": [
      "Enter a list of integers: 12 11 10 5 8 5 3 2 1\n"
     ]
    },
    {
     "name": "stdout",
     "output_type": "stream",
     "text": [
      "Total no of items in list is 9\n"
     ]
    }
   ],
   "source": [
    "Input=input(\"Enter a list of integers:\" )\n",
    "l=Input.split()\n",
    "total=0\n",
    "\n",
    "for i in l:\n",
    "    total+=1\n",
    "print(f\"Total no of items in list is {total}\")"
   ]
  },
  {
   "cell_type": "markdown",
   "id": "b8ddf3b5-9709-4baf-9d8e-5e7512a8c0f4",
   "metadata": {},
   "source": [
    "- (b) Print the last item in the list."
   ]
  },
  {
   "cell_type": "code",
   "execution_count": 79,
   "id": "591c8a72-58bf-4a53-842c-d4a024d49491",
   "metadata": {},
   "outputs": [
    {
     "name": "stdout",
     "output_type": "stream",
     "text": [
      "Last element of the list is:  1\n"
     ]
    }
   ],
   "source": [
    "print(\"Last element of the list is: \",l[-1])"
   ]
  },
  {
   "cell_type": "markdown",
   "id": "05467166-d407-43ea-9db0-96f31df9b933",
   "metadata": {},
   "source": [
    "- (c) Print the list in reverse order."
   ]
  },
  {
   "cell_type": "code",
   "execution_count": 80,
   "id": "5a8719c7-192f-4832-83b3-92ba4dc92f1c",
   "metadata": {},
   "outputs": [
    {
     "name": "stdout",
     "output_type": "stream",
     "text": [
      "['1', '2', '3', '5', '8', '5', '10', '11', '12']\n"
     ]
    }
   ],
   "source": [
    "print(list(reversed(l)))"
   ]
  },
  {
   "cell_type": "markdown",
   "id": "3cd668a0-c475-4758-9b84-885a0a27e1c4",
   "metadata": {},
   "source": [
    "- (d) Print Yes if the list contains a 5 and No otherwise."
   ]
  },
  {
   "cell_type": "code",
   "execution_count": 81,
   "id": "d1724e6b-92dc-4446-9850-f6231c15915c",
   "metadata": {},
   "outputs": [
    {
     "name": "stdout",
     "output_type": "stream",
     "text": [
      "YES\n"
     ]
    }
   ],
   "source": [
    "for i in l:\n",
    "    if '5' in l:\n",
    "        print(\"YES\")\n",
    "        break\n",
    "    else:\n",
    "        print(\"NO\")\n",
    "        break"
   ]
  },
  {
   "cell_type": "markdown",
   "id": "e5a70989-4b89-4340-8f6e-961567071621",
   "metadata": {},
   "source": [
    "- (e) Print the number of fives in the list."
   ]
  },
  {
   "cell_type": "code",
   "execution_count": 82,
   "id": "4e65d42a-a812-4b6f-9887-ddc4fede9502",
   "metadata": {},
   "outputs": [
    {
     "name": "stdout",
     "output_type": "stream",
     "text": [
      "2\n"
     ]
    }
   ],
   "source": [
    "num=0\n",
    "for i in l:\n",
    "    if i=='5':\n",
    "        num+=1\n",
    "print(num)"
   ]
  },
  {
   "cell_type": "markdown",
   "id": "dfb30f5a-519d-4a7b-8e80-8094840d550e",
   "metadata": {},
   "source": [
    "- (f) Remove the first and last items from the list, sort the remaining items, and print the result."
   ]
  },
  {
   "cell_type": "code",
   "execution_count": 85,
   "id": "c2387a1f-c153-409f-b221-51b77211a950",
   "metadata": {},
   "outputs": [
    {
     "name": "stdout",
     "output_type": "stream",
     "text": [
      "['2', '3', '5']\n"
     ]
    }
   ],
   "source": [
    "l.pop(0)\n",
    "l.pop(-1)\n",
    "print(list(sorted(l)))"
   ]
  },
  {
   "cell_type": "markdown",
   "id": "a8d2cfe1-47d3-4362-8ede-9f90c7c44352",
   "metadata": {},
   "source": [
    "- (g) Print how many integers in the list are less than 5."
   ]
  },
  {
   "cell_type": "code",
   "execution_count": 87,
   "id": "dd7672eb-643b-4658-95a2-c3d8f1a4ca74",
   "metadata": {},
   "outputs": [
    {
     "name": "stdout",
     "output_type": "stream",
     "text": [
      "2\n"
     ]
    }
   ],
   "source": [
    "num=0\n",
    "for i in l:\n",
    "    if int(i)<int(\"5\"):\n",
    "        num+=1\n",
    "print(num)"
   ]
  },
  {
   "cell_type": "markdown",
   "id": "f8c8dec6-1cd3-43bc-93c0-519c5b5c5411",
   "metadata": {},
   "source": [
    "**2. Random Number List Analysis**\n",
    "- Write a program that generates a list of 20 random numbers between 1 and 100. Perform the\n",
    "following tasks:"
   ]
  },
  {
   "cell_type": "markdown",
   "id": "e487d70e-37da-4707-b5bf-8a87d088c060",
   "metadata": {},
   "source": [
    "- (a) Print the list."
   ]
  },
  {
   "cell_type": "code",
   "execution_count": 90,
   "id": "919ea492-114c-4429-b01d-07ff5bb9ac6a",
   "metadata": {},
   "outputs": [
    {
     "name": "stdout",
     "output_type": "stream",
     "text": [
      "[93, 1, 38, 11, 66, 90, 60, 96, 42, 48, 50, 94, 69, 7, 51, 74, 94, 59, 84, 56]\n"
     ]
    }
   ],
   "source": [
    "import random\n",
    "l=[random.randint(1,100) for i in range(20)]\n",
    "print(l)"
   ]
  },
  {
   "cell_type": "markdown",
   "id": "3982607a-42f3-46d4-93e3-8e3e323a5efd",
   "metadata": {},
   "source": [
    "- (b) Print the average of the elements in the list."
   ]
  },
  {
   "cell_type": "code",
   "execution_count": 91,
   "id": "4b17b494-3052-43de-bd39-eae69ef4c7be",
   "metadata": {},
   "outputs": [
    {
     "name": "stdout",
     "output_type": "stream",
     "text": [
      "59.15\n"
     ]
    }
   ],
   "source": [
    "print(sum(l)/len(l))"
   ]
  },
  {
   "cell_type": "markdown",
   "id": "cb82beac-7044-4b0d-a8ac-2ddc2d21ef15",
   "metadata": {},
   "source": [
    "- (c) Print the largest and smallest values in the list."
   ]
  },
  {
   "cell_type": "code",
   "execution_count": 93,
   "id": "fb8f6fff-2abf-4eaa-b2b2-b295514d752e",
   "metadata": {},
   "outputs": [
    {
     "name": "stdout",
     "output_type": "stream",
     "text": [
      "96 1\n"
     ]
    }
   ],
   "source": [
    "print(max(l),min(l))"
   ]
  },
  {
   "cell_type": "markdown",
   "id": "6c5b6c3c-1ba2-4f80-b8ec-444cf5eff792",
   "metadata": {},
   "source": [
    "- (d) Print the second largest and second smallest entries in the list."
   ]
  },
  {
   "cell_type": "code",
   "execution_count": 101,
   "id": "a5a64405-17c1-4b0f-ac91-265e64ae7a85",
   "metadata": {},
   "outputs": [
    {
     "name": "stdout",
     "output_type": "stream",
     "text": [
      "7 94\n"
     ]
    }
   ],
   "source": [
    "l2=set(l)\n",
    "l3=list(l2)\n",
    "l3.sort()\n",
    "print(l3[1],l3[-2])"
   ]
  },
  {
   "cell_type": "markdown",
   "id": "384fc215-6242-4c64-9182-46949b543c36",
   "metadata": {},
   "source": [
    "- (e) Print how many even numbers are in the list."
   ]
  },
  {
   "cell_type": "code",
   "execution_count": 102,
   "id": "82b64420-1f50-4bb6-bbe4-6e21dc9e5a03",
   "metadata": {},
   "outputs": [
    {
     "name": "stdout",
     "output_type": "stream",
     "text": [
      "Total no of even no 13\n",
      "Total no of even no 7\n"
     ]
    }
   ],
   "source": [
    "even_count=0\n",
    "odd_count=0\n",
    "for i in l:\n",
    "    if i%2==0:\n",
    "        even_count+=1\n",
    "    else:\n",
    "        odd_count+=1\n",
    "print(f\"Total no of even no {even_count}\")\n",
    "print(f\"Total no of even no {odd_count}\")        "
   ]
  },
  {
   "cell_type": "markdown",
   "id": "4ce7a71b-5899-411e-a5ea-429fd1e839b3",
   "metadata": {},
   "source": [
    "**3. Modify and Transform a Predefined List**\n",
    "- Start with the list [8, 9, 10]. Perform the following tasks:"
   ]
  },
  {
   "cell_type": "code",
   "execution_count": 126,
   "id": "a9f1be14-5e55-44cf-9593-9f7e189dd460",
   "metadata": {},
   "outputs": [],
   "source": [
    "list3=[8,9,10]\n"
   ]
  },
  {
   "cell_type": "markdown",
   "id": "007f50cc-d699-4681-903d-b46ea623a40f",
   "metadata": {},
   "source": [
    "- (a) Set the second entry (index 1) to 17."
   ]
  },
  {
   "cell_type": "code",
   "execution_count": 127,
   "id": "457e1724-14c9-47b6-b0f8-99c7af2e4dcd",
   "metadata": {},
   "outputs": [
    {
     "data": {
      "text/plain": [
       "[8, 17, 10]"
      ]
     },
     "execution_count": 127,
     "metadata": {},
     "output_type": "execute_result"
    }
   ],
   "source": [
    "list3[1]=17\n",
    "list3"
   ]
  },
  {
   "cell_type": "markdown",
   "id": "81102075-eb6a-48e8-ab1a-5a54e93cc376",
   "metadata": {},
   "source": [
    "- (b) Add 4, 5, and 6 to the end of the list."
   ]
  },
  {
   "cell_type": "code",
   "execution_count": 128,
   "id": "4c974435-dd1a-4187-b7b2-c85c9929fe61",
   "metadata": {},
   "outputs": [
    {
     "data": {
      "text/plain": [
       "[8, 17, 10, 4, 5, 6]"
      ]
     },
     "execution_count": 128,
     "metadata": {},
     "output_type": "execute_result"
    }
   ],
   "source": [
    "n=4\n",
    "for i in range(3):\n",
    "    list3.append(n)\n",
    "    n=n+1\n",
    "list3"
   ]
  },
  {
   "cell_type": "markdown",
   "id": "6375dd36-4b35-4e04-bf4d-2ee7c022fb8a",
   "metadata": {},
   "source": [
    "- (c) Remove the first entry from the list."
   ]
  },
  {
   "cell_type": "code",
   "execution_count": 129,
   "id": "44073993-b2f2-4528-8909-32c683cd6774",
   "metadata": {},
   "outputs": [
    {
     "data": {
      "text/plain": [
       "8"
      ]
     },
     "execution_count": 129,
     "metadata": {},
     "output_type": "execute_result"
    }
   ],
   "source": [
    "list3.pop(0)"
   ]
  },
  {
   "cell_type": "markdown",
   "id": "b0b114d0-3b01-4ca1-9ebf-6be9267e3cb8",
   "metadata": {},
   "source": [
    "- (d) Sort the list."
   ]
  },
  {
   "cell_type": "code",
   "execution_count": 130,
   "id": "159360a5-973c-4b39-9213-09173d83fa93",
   "metadata": {},
   "outputs": [
    {
     "name": "stdout",
     "output_type": "stream",
     "text": [
      "[4, 5, 6, 10, 17]\n"
     ]
    }
   ],
   "source": [
    "list3.sort()\n",
    "print(list3)"
   ]
  },
  {
   "cell_type": "markdown",
   "id": "eaf595c1-84f1-4b80-b9b6-366ca512e664",
   "metadata": {},
   "source": [
    "- (e) Double the list."
   ]
  },
  {
   "cell_type": "code",
   "execution_count": 131,
   "id": "9e123e3f-d19f-4d26-be3b-79affb02a363",
   "metadata": {},
   "outputs": [
    {
     "name": "stdout",
     "output_type": "stream",
     "text": [
      "[4, 5, 6, 10, 17, 4, 5, 6, 10, 17]\n"
     ]
    }
   ],
   "source": [
    "list3=list3*2\n",
    "print(list3)"
   ]
  },
  {
   "cell_type": "markdown",
   "id": "213f9c82-3efc-4aae-849c-375c6540502d",
   "metadata": {},
   "source": [
    "- (f) Insert 25 at index 3.\n",
    "- The final list should equal [4, 5, 6, 25, 10, 17, 4, 5, 6, 10, 17]."
   ]
  },
  {
   "cell_type": "code",
   "execution_count": 132,
   "id": "292b5cf5-6365-4573-85e9-7e4b18b9e5d9",
   "metadata": {},
   "outputs": [
    {
     "data": {
      "text/plain": [
       "[4, 5, 6, 25, 10, 17, 4, 5, 6, 10, 17]"
      ]
     },
     "execution_count": 132,
     "metadata": {},
     "output_type": "execute_result"
    }
   ],
   "source": [
    "list3.insert(3,25)\n",
    "list3"
   ]
  },
  {
   "cell_type": "markdown",
   "id": "608be3aa-7d3f-4dff-a676-383597de76df",
   "metadata": {},
   "source": [
    "**4. Replace Numbers Greater than 10**\n",
    "- Ask the user to enter a list containing numbers between 1 and 12. Replace all entries in the list that\n",
    "are greater than 10 with 10."
   ]
  },
  {
   "cell_type": "code",
   "execution_count": 140,
   "id": "f3024d59-8d98-4d2d-85a0-eec390b6957c",
   "metadata": {},
   "outputs": [
    {
     "name": "stdin",
     "output_type": "stream",
     "text": [
      "Enter numbers between 1-12:  12 11 10 6 6 7 8 1\n"
     ]
    },
    {
     "name": "stdout",
     "output_type": "stream",
     "text": [
      "['10', '10', '10', '6', '6', '7', '8', '1']\n"
     ]
    }
   ],
   "source": [
    "list4_u = input(\"Enter numbers between 1-12: \")\n",
    "list4 = list4_u.split()\n",
    "\n",
    "for i in range(len(list4)):\n",
    "    if int(list4[i]) > 10:\n",
    "        list4[i] = '10'   \n",
    "        \n",
    "\n",
    "print(list4)"
   ]
  },
  {
   "cell_type": "markdown",
   "id": "93385244-2d98-4e72-88d6-7d3fcd953e2a",
   "metadata": {},
   "source": [
    "**5. Modify Strings in a List**\n",
    "- Ask the user to enter a list of strings. Create a new list that consists of those strings with their first\n",
    "characters removed."
   ]
  },
  {
   "cell_type": "code",
   "execution_count": 145,
   "id": "db546693-35ab-432a-bb24-cb7d32889907",
   "metadata": {},
   "outputs": [
    {
     "name": "stdin",
     "output_type": "stream",
     "text": [
      "Enter Strings:  hello how are you\n"
     ]
    },
    {
     "data": {
      "text/plain": [
       "['ello', 'ow', 're', 'ou']"
      ]
     },
     "execution_count": 145,
     "metadata": {},
     "output_type": "execute_result"
    }
   ],
   "source": [
    "list5_u=input(\"Enter Strings: \")\n",
    "list5_op=list5_u.split()\n",
    "list5=[]\n",
    "for i in list5_op:\n",
    "    list5.append(i[1:])\n",
    "list5"
   ]
  },
  {
   "cell_type": "markdown",
   "id": "50fcd4b5-b949-4068-b062-02ae63019140",
   "metadata": {},
   "source": [
    "**6. Create Lists Using Loops**\n",
    "- Using a for loop, create the following lists:"
   ]
  },
  {
   "cell_type": "markdown",
   "id": "3e95197f-124c-4267-9534-1b2310f7b80a",
   "metadata": {},
   "source": [
    "- (a) A list consisting of the integers 0 through 49."
   ]
  },
  {
   "cell_type": "code",
   "execution_count": 146,
   "id": "c9ab47d5-9caf-44c4-8ecd-52e8fa9f823e",
   "metadata": {},
   "outputs": [
    {
     "data": {
      "text/plain": [
       "[0,\n",
       " 1,\n",
       " 2,\n",
       " 3,\n",
       " 4,\n",
       " 5,\n",
       " 6,\n",
       " 7,\n",
       " 8,\n",
       " 9,\n",
       " 10,\n",
       " 11,\n",
       " 12,\n",
       " 13,\n",
       " 14,\n",
       " 15,\n",
       " 16,\n",
       " 17,\n",
       " 18,\n",
       " 19,\n",
       " 20,\n",
       " 21,\n",
       " 22,\n",
       " 23,\n",
       " 24,\n",
       " 25,\n",
       " 26,\n",
       " 27,\n",
       " 28,\n",
       " 29,\n",
       " 30,\n",
       " 31,\n",
       " 32,\n",
       " 33,\n",
       " 34,\n",
       " 35,\n",
       " 36,\n",
       " 37,\n",
       " 38,\n",
       " 39,\n",
       " 40,\n",
       " 41,\n",
       " 42,\n",
       " 43,\n",
       " 44,\n",
       " 45,\n",
       " 46,\n",
       " 47,\n",
       " 48,\n",
       " 49]"
      ]
     },
     "execution_count": 146,
     "metadata": {},
     "output_type": "execute_result"
    }
   ],
   "source": [
    "l6=[i for i in range(50)]\n",
    "l6"
   ]
  },
  {
   "cell_type": "markdown",
   "id": "d9f1b112-7028-428a-b23b-a32e8ac5ed8e",
   "metadata": {},
   "source": [
    "- (b) A list containing the squares of the integers 1 through 50."
   ]
  },
  {
   "cell_type": "code",
   "execution_count": 148,
   "id": "e831dc4b-1e99-4544-87c6-9ded838aaec2",
   "metadata": {},
   "outputs": [
    {
     "data": {
      "text/plain": [
       "[1,\n",
       " 4,\n",
       " 9,\n",
       " 16,\n",
       " 25,\n",
       " 36,\n",
       " 49,\n",
       " 64,\n",
       " 81,\n",
       " 100,\n",
       " 121,\n",
       " 144,\n",
       " 169,\n",
       " 196,\n",
       " 225,\n",
       " 256,\n",
       " 289,\n",
       " 324,\n",
       " 361,\n",
       " 400,\n",
       " 441,\n",
       " 484,\n",
       " 529,\n",
       " 576,\n",
       " 625,\n",
       " 676,\n",
       " 729,\n",
       " 784,\n",
       " 841,\n",
       " 900,\n",
       " 961,\n",
       " 1024,\n",
       " 1089,\n",
       " 1156,\n",
       " 1225,\n",
       " 1296,\n",
       " 1369,\n",
       " 1444,\n",
       " 1521,\n",
       " 1600,\n",
       " 1681,\n",
       " 1764,\n",
       " 1849,\n",
       " 1936,\n",
       " 2025,\n",
       " 2116,\n",
       " 2209,\n",
       " 2304,\n",
       " 2401,\n",
       " 2500]"
      ]
     },
     "execution_count": 148,
     "metadata": {},
     "output_type": "execute_result"
    }
   ],
   "source": [
    "l6=[i**2 for i in range(1,51)]\n",
    "l6"
   ]
  },
  {
   "cell_type": "markdown",
   "id": "07494481-c519-47c4-96d2-99c91b6c8388",
   "metadata": {},
   "source": [
    "- (c) The list [a, bb, cc, dddd, ...] that ends with 26 copies of the letter z."
   ]
  },
  {
   "cell_type": "code",
   "execution_count": 152,
   "id": "17500f34-5dc5-445e-a1f1-10173ec7ca21",
   "metadata": {},
   "outputs": [
    {
     "name": "stdout",
     "output_type": "stream",
     "text": [
      "['a', 'bb', 'ccc', 'dddd', 'eeeee', 'ffffff', 'ggggggg', 'hhhhhhhh', 'iiiiiiiii', 'jjjjjjjjjj', 'kkkkkkkkkkk', 'llllllllllll', 'mmmmmmmmmmmmm', 'nnnnnnnnnnnnnn', 'ooooooooooooooo', 'pppppppppppppppp', 'qqqqqqqqqqqqqqqqq', 'rrrrrrrrrrrrrrrrrr', 'sssssssssssssssssss', 'tttttttttttttttttttt', 'uuuuuuuuuuuuuuuuuuuuu', 'vvvvvvvvvvvvvvvvvvvvvv', 'wwwwwwwwwwwwwwwwwwwwwww', 'xxxxxxxxxxxxxxxxxxxxxxxx', 'yyyyyyyyyyyyyyyyyyyyyyyyy', 'zzzzzzzzzzzzzzzzzzzzzzzzzz']\n"
     ]
    }
   ],
   "source": [
    "l6=[]\n",
    "n=97\n",
    "for i in range(1,27):\n",
    "    l6.append(chr(n)*i)\n",
    "    n=n+1\n",
    "print(l6)\n"
   ]
  },
  {
   "cell_type": "markdown",
   "id": "02095077-a4cc-4de9-9e87-5a5406601bac",
   "metadata": {},
   "source": [
    "**7. Element-wise Sum of Two Lists**\n",
    "- Write a program that takes any two lists L and M of the same size and adds their elements together\n",
    "to form a new list N whose elements are the sums of the corresponding elements in L and M.\n",
    "For instance, if L = [3, 1, 4] and M = [1, 5, 9], then N should equal [4, 6, 13]."
   ]
  },
  {
   "cell_type": "code",
   "execution_count": 154,
   "id": "e0ac8fd3-a477-4201-8537-384e2a9b6693",
   "metadata": {},
   "outputs": [
    {
     "name": "stdin",
     "output_type": "stream",
     "text": [
      "Enter the list of integer:  1 2 3 \n",
      "Enter the list of integer:  5 6 7 \n"
     ]
    },
    {
     "name": "stdout",
     "output_type": "stream",
     "text": [
      "[6, 8, 10]\n"
     ]
    }
   ],
   "source": [
    "L_input=input(\"Enter the list of integer: \")\n",
    "M_input=input(\"Enter the list of integer: \")\n",
    "L=L_input.split()\n",
    "M=M_input.split()\n",
    "SUM=[]\n",
    "for i in range(len(M)):\n",
    "    SUM.append(int(L[i])+int(M[i]))\n",
    "print(SUM)"
   ]
  },
  {
   "cell_type": "markdown",
   "id": "ae4eae4d-d0cb-47c4-a6e0-79ffa879b98e",
   "metadata": {},
   "source": [
    "**8. List of Factors**\n",
    "- Write a program that asks the user for an integer and creates a list that consists of the factors of that\n",
    "integer."
   ]
  },
  {
   "cell_type": "code",
   "execution_count": 160,
   "id": "48d3fa2b-80c6-4ace-af6d-b9056434c4a6",
   "metadata": {},
   "outputs": [
    {
     "name": "stdin",
     "output_type": "stream",
     "text": [
      "Enter a number:  12\n"
     ]
    },
    {
     "data": {
      "text/plain": [
       "[1, 2, 3, 4, 6, 12]"
      ]
     },
     "execution_count": 160,
     "metadata": {},
     "output_type": "execute_result"
    }
   ],
   "source": [
    "Input=int(input(\"Enter a number: \"))\n",
    "l8=[]\n",
    "for i in range(1,Input+1):\n",
    "    if Input % i==0:\n",
    "        l8.append(i)\n",
    "l8"
   ]
  },
  {
   "cell_type": "markdown",
   "id": "a0b05847-4b7e-4e4c-8c37-d7590aa5118c",
   "metadata": {},
   "source": [
    "**9. Dice Roll Probabilities**\n",
    "- Write a program to simulate rolling two dice about 10,000 times and compute the percentage of\n",
    "rolls that result in sums of 2, 3, 4, ..., 12."
   ]
  },
  {
   "cell_type": "code",
   "execution_count": 173,
   "id": "fd4f4b70-de0d-42a4-9de1-ab33e4fb2f28",
   "metadata": {},
   "outputs": [
    {
     "name": "stdout",
     "output_type": "stream",
     "text": [
      "2.78\n",
      "4.91\n",
      "8.85\n",
      "11.559999999999999\n",
      "13.79\n",
      "16.37\n",
      "13.91\n",
      "10.66\n",
      "8.53\n",
      "5.75\n",
      "2.9000000000000004\n"
     ]
    }
   ],
   "source": [
    "import random\n",
    "dice_res=[(random.randint(1,6)+random.randint(1,6)) for _ in range(10001)]\n",
    "print((dice_res.count(2)/10000)*100)\n",
    "print((dice_res.count(3)/10000)*100)\n",
    "print((dice_res.count(4)/10000)*100)\n",
    "print((dice_res.count(5)/10000)*100)\n",
    "print((dice_res.count(6)/10000)*100)\n",
    "print((dice_res.count(7)/10000)*100)\n",
    "print((dice_res.count(8)/10000)*100)\n",
    "print((dice_res.count(9)/10000)*100)\n",
    "print((dice_res.count(10)/10000)*100)\n",
    "print((dice_res.count(11)/10000)*100)\n",
    "print((dice_res.count(12)/10000)*100)"
   ]
  },
  {
   "cell_type": "markdown",
   "id": "93e2979b-a08f-49e7-89cd-9120968f6c06",
   "metadata": {},
   "source": [
    "**10. Rotate a List**\n",
    "- Write a program that rotates the elements of a list so that the element at the first index moves to\n",
    "the second index, the element in the second index moves to the third index, and the element in the\n",
    "last index moves to the first index."
   ]
  },
  {
   "cell_type": "code",
   "execution_count": 179,
   "id": "19cd8471-67d9-446b-add9-5c9f0bb3bab4",
   "metadata": {},
   "outputs": [
    {
     "data": {
      "text/plain": [
       "[16, 12, 13, 14, 15]"
      ]
     },
     "execution_count": 179,
     "metadata": {},
     "output_type": "execute_result"
    }
   ],
   "source": [
    "l=[12,13,14,15,16]\n",
    "l.insert(0,l[-1])\n",
    "l.pop()\n",
    "l"
   ]
  },
  {
   "cell_type": "markdown",
   "id": "d17bf4c1-4b3c-4b0e-a802-1adabb1eceb8",
   "metadata": {},
   "source": [
    "**11. Patterned List of Ones and Zeroes**\n",
    "- Using a for loop, create the list [1, 1, 0, 1, 0, 0, 1, 0, 0, 0, 1, 0, 0, 0, 0, 1, ...] that ends with 10 zeroes\n",
    "between the last two ones."
   ]
  },
  {
   "cell_type": "code",
   "execution_count": 184,
   "id": "f5d6f3ad-e493-412f-bd18-39d2a85ffc5d",
   "metadata": {},
   "outputs": [
    {
     "name": "stdout",
     "output_type": "stream",
     "text": [
      "[1, 1, 0, 1, 0, 0, 1, 0, 0, 0, 1, 0, 0, 0, 0, 1, 0, 0, 0, 0, 0, 1, 0, 0, 0, 0, 0, 0, 1, 0, 0, 0, 0, 0, 0, 0, 1, 0, 0, 0, 0, 0, 0, 0, 0, 1, 0, 0, 0, 0, 0, 0, 0, 0, 0]\n"
     ]
    }
   ],
   "source": [
    "l=[]\n",
    "for i in range(10):\n",
    "    l.append(1)\n",
    "    l.extend([0]*i)\n",
    "\n",
    "print(l)\n"
   ]
  },
  {
   "cell_type": "markdown",
   "id": "aa91f25b-29dc-42e0-a7ca-540b0d7bc4b6",
   "metadata": {},
   "source": [
    "**12. Longest Run of Zeroes**\n",
    "- Write a program that generates 100 random integers (either 0 or 1). Find the longest run of zeroes,\n",
    "which is the largest number of consecutive zeroes in the list."
   ]
  },
  {
   "cell_type": "code",
   "execution_count": 191,
   "id": "914bc9c9-35fc-4868-b259-e48af1f0c1db",
   "metadata": {},
   "outputs": [
    {
     "name": "stdout",
     "output_type": "stream",
     "text": [
      "[0, 1, 1, 0, 0, 1, 1, 0, 1, 1, 0, 1, 1, 0, 1, 1, 0, 0, 1, 0, 1, 1, 1, 1, 0, 0, 0, 1, 1, 0, 0, 1, 1, 0, 1, 1, 1, 0, 0, 1, 0, 1, 0, 1, 1, 1, 1, 0, 0, 1, 1, 0, 0, 0, 0, 0, 1, 1, 1, 0, 0, 1, 0, 1, 0, 1, 0, 0, 0, 0, 1, 1, 0, 1, 1, 0, 1, 0, 0, 1, 1, 1, 1, 0, 0, 1, 0, 0, 0, 1, 1, 0, 1, 1, 0, 1, 0, 0, 1, 0]\n",
      "Longest Consecutive of '0': 5\n"
     ]
    }
   ],
   "source": [
    "longest_cons=0\n",
    "current_cons=0\n",
    "l=[random.randint(0,1) for i in range(100)]\n",
    "print(l)\n",
    "for i in l:\n",
    "    if i==0:\n",
    "        current_cons+=1\n",
    "        longest_cons=max(current_cons,longest_cons)\n",
    "    else:\n",
    "        current_cons=0\n",
    "print(f\"Longest Consecutive of '0': {longest_cons}\")"
   ]
  },
  {
   "cell_type": "markdown",
   "id": "8ffc2ffb-01e4-4520-aa54-057c58be4572",
   "metadata": {},
   "source": [
    "**13. Remove Duplicates**\n",
    "- Write a program that removes any repeated items from a list so that each item appears at most\n",
    "once. For instance, the list [1, 1, 2, 3, 4, 3, 0, 0] would become [1, 2, 3, 4, 0]."
   ]
  },
  {
   "cell_type": "code",
   "execution_count": 192,
   "id": "b323622a-a371-43cf-93a1-399eadf4e3e1",
   "metadata": {},
   "outputs": [
    {
     "name": "stdin",
     "output_type": "stream",
     "text": [
      "Enter numbers followed by space:  1 2 2 2 2 2 2 4 5 5 5 6 6 7 8 8\n"
     ]
    },
    {
     "name": "stdout",
     "output_type": "stream",
     "text": [
      "New List: ['5', '4', '7', '6', '8', '2', '1']\n"
     ]
    }
   ],
   "source": [
    "l=input(\"Enter numbers followed by space: \")\n",
    "l1=l.split()\n",
    "l2=set(l1)\n",
    "l3=list(l2)\n",
    "print(f\"New List: {l3}\")"
   ]
  },
  {
   "cell_type": "markdown",
   "id": "537430d6-f71d-4004-8e08-85f61424bc7b",
   "metadata": {},
   "source": [
    "**14. Unit Conversion\n",
    "Write a program that asks the user to enter a length in feet. Provide the user with options to convert\n",
    "from feet to:**\n",
    "- 1. Inches\n",
    "- 2. Yards\n",
    "- 3. Miles\n",
    "- 4. Millimeters\n",
    "- 5. Centimeters\n",
    "- 6. Meters\n",
    "- 7. Kilometers\n",
    "- Use lists to simplify the conversion."
   ]
  },
  {
   "cell_type": "code",
   "execution_count": 209,
   "id": "7d768e8d-634c-4174-b937-9793aa120aae",
   "metadata": {},
   "outputs": [
    {
     "name": "stdin",
     "output_type": "stream",
     "text": [
      "Enter length in feet:  12\n",
      "Enter chooice between 1 to 7:\n",
      "1. Inches\n",
      "2. Yards\n",
      "3. Miles\n",
      "4. Millimeters\n",
      "5. Centimeters\n",
      "6. Meters\n",
      "7. Kilometers \n",
      " 3\n"
     ]
    },
    {
     "name": "stdout",
     "output_type": "stream",
     "text": [
      "12.0 feet is 0.00 Miles\n"
     ]
    }
   ],
   "source": [
    "length=float(input(\"Enter length in feet: \"))\n",
    "choice=int(input('''Enter chooice between 1 to 7:\n",
    "1. Inches\n",
    "2. Yards\n",
    "3. Miles\n",
    "4. Millimeters\n",
    "5. Centimeters\n",
    "6. Meters\n",
    "7. Kilometers \\n'''))\n",
    "units=['Inches','Yards','Miles','Millimeters','Centimeters','Meters','Kilometers']\n",
    "factors = [12, 1/3, 1/5280, 304.8, 30.48, 0.3048, 0.0003048]\n",
    "print(f\"{length} feet is {(length*factors[choice-1]):.2f} {units[choice-1]}\")\n",
    "       "
   ]
  }
 ],
 "metadata": {
  "kernelspec": {
   "display_name": "Python [conda env:base] *",
   "language": "python",
   "name": "conda-base-py"
  },
  "language_info": {
   "codemirror_mode": {
    "name": "ipython",
    "version": 3
   },
   "file_extension": ".py",
   "mimetype": "text/x-python",
   "name": "python",
   "nbconvert_exporter": "python",
   "pygments_lexer": "ipython3",
   "version": "3.13.5"
  }
 },
 "nbformat": 4,
 "nbformat_minor": 5
}
