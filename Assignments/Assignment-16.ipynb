{
 "cells": [
  {
   "cell_type": "markdown",
   "id": "cd5f1628-766c-4b2c-b359-1394c9d4bc8d",
   "metadata": {},
   "source": [
    "**Assignment 16**"
   ]
  },
  {
   "cell_type": "markdown",
   "id": "75826626-18b5-4a38-a4c8-70a3effb14fb",
   "metadata": {},
   "source": [
    "**1. Write a program that asks the user to enter a string. The program should then print the following:**"
   ]
  },
  {
   "cell_type": "markdown",
   "id": "ee38d159-c655-4378-9232-9b6bb53fac45",
   "metadata": {},
   "source": [
    "**(a) The total number of characters in the string**"
   ]
  },
  {
   "cell_type": "code",
   "execution_count": 11,
   "id": "a787d104-cb87-4731-84b8-d040e2a13e59",
   "metadata": {},
   "outputs": [
    {
     "name": "stdin",
     "output_type": "stream",
     "text": [
      "Enter a string hai how are you\n"
     ]
    },
    {
     "name": "stdout",
     "output_type": "stream",
     "text": [
      "12\n"
     ]
    }
   ],
   "source": [
    "s=input(\"Enter a string: \")\n",
    "s2=s.split(\" \")\n",
    "s3=\"\".join(s2)\n",
    "print(len(s3))"
   ]
  },
  {
   "cell_type": "markdown",
   "id": "09c3e8e3-3d83-44d2-9839-24b1e7aff9e7",
   "metadata": {},
   "source": [
    "**(b) The string repeated 10 times**"
   ]
  },
  {
   "cell_type": "code",
   "execution_count": 7,
   "id": "b3372f1b-a70d-4a63-861d-7378a89e3dff",
   "metadata": {},
   "outputs": [
    {
     "name": "stdout",
     "output_type": "stream",
     "text": [
      "haihaihaihaihaihaihaihaihaihai\n"
     ]
    }
   ],
   "source": [
    "s=input(\"Enter a string: \")\n",
    "print(s*10)"
   ]
  },
  {
   "cell_type": "markdown",
   "id": "2b0a1343-17d6-42bd-a91e-288340db5dbb",
   "metadata": {},
   "source": [
    "**(c) The first character of the string (remember that string indices start at 0)**"
   ]
  },
  {
   "cell_type": "code",
   "execution_count": 8,
   "id": "b867d80b-bbbf-4033-aeec-aa2f7c6e4248",
   "metadata": {},
   "outputs": [
    {
     "name": "stdout",
     "output_type": "stream",
     "text": [
      "h\n"
     ]
    }
   ],
   "source": [
    "s=input(\"Enter a string: \")\n",
    "print(s[0])"
   ]
  },
  {
   "cell_type": "markdown",
   "id": "459689e6-5b55-47e4-a170-0816e0ae3e7f",
   "metadata": {},
   "source": [
    "**(d) The first three characters of the string**"
   ]
  },
  {
   "cell_type": "code",
   "execution_count": 10,
   "id": "ef24347f-44d5-4b6c-9d6b-4088d72a4fd5",
   "metadata": {},
   "outputs": [
    {
     "name": "stdout",
     "output_type": "stream",
     "text": [
      "hai \n"
     ]
    }
   ],
   "source": [
    "s=input(\"Enter a string: \")\n",
    "print(s[0:4])"
   ]
  },
  {
   "cell_type": "markdown",
   "id": "6217acc7-222c-4442-a394-300b95f1bf4a",
   "metadata": {},
   "source": [
    "**(e) The last three characters of the string**"
   ]
  },
  {
   "cell_type": "code",
   "execution_count": 24,
   "id": "4850c413-abd3-444c-a9f4-e8f30b72ba43",
   "metadata": {},
   "outputs": [
    {
     "name": "stdin",
     "output_type": "stream",
     "text": [
      "Enter a string:  patel\n"
     ]
    },
    {
     "name": "stdout",
     "output_type": "stream",
     "text": [
      "tel\n"
     ]
    }
   ],
   "source": [
    "s=input(\"Enter a string: \")\n",
    "s1=s[:-4:-1]\n",
    "print(s1[::-1])"
   ]
  },
  {
   "cell_type": "markdown",
   "id": "b08552f1-c5e0-41e7-86e6-fb96be0b4e71",
   "metadata": {},
   "source": [
    "**(f) The string backwards**"
   ]
  },
  {
   "cell_type": "code",
   "execution_count": 25,
   "id": "11437e57-fa8a-4c29-8b76-d5f7316e6dba",
   "metadata": {},
   "outputs": [
    {
     "name": "stdin",
     "output_type": "stream",
     "text": [
      "Enter a string:  CSK went to jail in 2016-17\n"
     ]
    },
    {
     "name": "stdout",
     "output_type": "stream",
     "text": [
      "71-6102 ni liaj ot tnew KSC\n"
     ]
    }
   ],
   "source": [
    "s=input(\"Enter a string: \")\n",
    "print(s[::-1])"
   ]
  },
  {
   "cell_type": "markdown",
   "id": "9ca7cf76-719e-4894-b44c-298030699bba",
   "metadata": {},
   "source": [
    "**(g) The seventh character of the string if the string is long enough and a message otherwise**"
   ]
  },
  {
   "cell_type": "code",
   "execution_count": 27,
   "id": "c54ecda7-fc56-454a-8186-4d9ce6a77dea",
   "metadata": {},
   "outputs": [
    {
     "name": "stdin",
     "output_type": "stream",
     "text": [
      "Enter a string:  hy virat you are greater bats\n"
     ]
    },
    {
     "name": "stdout",
     "output_type": "stream",
     "text": [
      "a\n"
     ]
    }
   ],
   "source": [
    "s=input(\"Enter a string: \")\n",
    "if len(s)>=7:\n",
    "    print(s[6])\n",
    "else:\n",
    "    print(\"String is not long enough!!\")"
   ]
  },
  {
   "cell_type": "markdown",
   "id": "8107708e-902a-441e-882a-e76858b46d11",
   "metadata": {},
   "source": [
    "**(h) The string with its first and last characters removed**"
   ]
  },
  {
   "cell_type": "code",
   "execution_count": 30,
   "id": "94472f67-fcca-4719-92a7-457cc190207c",
   "metadata": {},
   "outputs": [
    {
     "name": "stdin",
     "output_type": "stream",
     "text": [
      "Enter a string:  hello\n"
     ]
    },
    {
     "data": {
      "text/plain": [
       "'ell'"
      ]
     },
     "execution_count": 30,
     "metadata": {},
     "output_type": "execute_result"
    }
   ],
   "source": [
    "s=input(\"Enter a string: \")\n",
    "s1=s.replace(s[0],\"\")\n",
    "s2=s1.replace(s[-1],\"\")\n",
    "s2"
   ]
  },
  {
   "cell_type": "markdown",
   "id": "53395cca-4143-44e8-bbc3-5a279311834c",
   "metadata": {},
   "source": [
    "**(i) The string in all caps**"
   ]
  },
  {
   "cell_type": "code",
   "execution_count": 31,
   "id": "d77e1579-b8a5-46af-890a-59e1d23e2ac5",
   "metadata": {},
   "outputs": [
    {
     "name": "stdin",
     "output_type": "stream",
     "text": [
      "Enter a string:  Hello how are you\n"
     ]
    },
    {
     "name": "stdout",
     "output_type": "stream",
     "text": [
      "HELLO HOW ARE YOU\n"
     ]
    }
   ],
   "source": [
    "s=input(\"Enter a string: \")\n",
    "print(s.upper())"
   ]
  },
  {
   "cell_type": "markdown",
   "id": "e97f3dd1-b43c-4c38-b860-a3c50bff803a",
   "metadata": {},
   "source": [
    "**(j) The string with every a replaced with an e**"
   ]
  },
  {
   "cell_type": "markdown",
   "id": "ef8bef9b-ec60-408d-b97f-aa5b0968c5db",
   "metadata": {},
   "source": [
    "**2. A simple way to estimate the number of words in a string is to count the number of spaces in the\n",
    "string. Write a program that asks the user for a string and returns an estimate of how many words\n",
    "are in the string.\n",
    "Tip: You need to count the number of words using spaces**"
   ]
  },
  {
   "cell_type": "code",
   "execution_count": 32,
   "id": "93214765-feca-424d-9a0a-5c712a9d6f42",
   "metadata": {},
   "outputs": [
    {
     "name": "stdin",
     "output_type": "stream",
     "text": [
      "Enter a string:  hellow how are you\n"
     ]
    },
    {
     "name": "stdout",
     "output_type": "stream",
     "text": [
      "4\n"
     ]
    }
   ],
   "source": [
    "s=input(\"Enter a string: \")\n",
    "l=s.split(\" \")\n",
    "print(len(l))"
   ]
  },
  {
   "cell_type": "markdown",
   "id": "cf88c78e-4fcd-4e82-89a5-17326d50e802",
   "metadata": {},
   "source": [
    "**3.Write a program that asks the user to enter a word and prints out whether that word contains any\n",
    "vowels.**"
   ]
  },
  {
   "cell_type": "code",
   "execution_count": 7,
   "id": "3b0b1821-e5b5-4246-ab69-27ae82c3f7a0",
   "metadata": {},
   "outputs": [
    {
     "name": "stdin",
     "output_type": "stream",
     "text": [
      "Enter a word:  HY\n"
     ]
    },
    {
     "name": "stdout",
     "output_type": "stream",
     "text": [
      "HY has no vowel\n"
     ]
    }
   ],
   "source": [
    "s = input(\"Enter a word: \")\n",
    "\n",
    "if \"a\" in s or \"e\" in s or \"i\" in s or \"o\" in s or \"u\" in s:\n",
    "    print(f\"{s} has vowel\")\n",
    "else:\n",
    "\n",
    "    print(f\"{s} has no vowel\")"
   ]
  },
  {
   "cell_type": "markdown",
   "id": "207496d8-ec36-4117-aed9-26aa8e0adfff",
   "metadata": {},
   "source": [
    "**4.Improvise above code by providing unique vowels**"
   ]
  },
  {
   "cell_type": "code",
   "execution_count": 9,
   "id": "5827f0d1-1f91-41c6-95ef-5d4d4bd779b1",
   "metadata": {},
   "outputs": [
    {
     "name": "stdin",
     "output_type": "stream",
     "text": [
      "Enter a word:  jgu\n"
     ]
    },
    {
     "name": "stdout",
     "output_type": "stream",
     "text": [
      "jgu has vowel\n"
     ]
    }
   ],
   "source": [
    "s = input(\"Enter a word: \")\n",
    "\n",
    "if \"a\" in s or \"e\" in s or \"i\" in s or \"o\" in s or \"u\" in s:\n",
    "    print(f\"{s} has vowel\")\n",
    "elif \"y\" in s:\n",
    "    print(f\"{s} has unique vowel\")\n",
    "else:\n",
    "    \n",
    "    print(f\"{s} has no vowel\")"
   ]
  },
  {
   "cell_type": "markdown",
   "id": "ab35db8b-4998-4c5d-ac27-ab04d291609e",
   "metadata": {},
   "source": [
    "**5. Write a program that asks the user to enter a string. The program should create a new string\n",
    "called new_string from the user’s string such that the second character is changed to an asterisk and\n",
    "three exclamation points are attached to the end of the string. Finally, print new_string.\n",
    "Typical output is shown below:\n",
    "Enter your string: Qbert\n",
    "Output: Q*ert!!!**"
   ]
  },
  {
   "cell_type": "code",
   "execution_count": 20,
   "id": "e7c0bcc1-409d-43df-8d01-8d3729c90ee7",
   "metadata": {},
   "outputs": [
    {
     "name": "stdin",
     "output_type": "stream",
     "text": [
      "Enter a word:  hello\n"
     ]
    },
    {
     "name": "stdout",
     "output_type": "stream",
     "text": [
      "h*llo!!!\n"
     ]
    }
   ],
   "source": [
    "nstr = input(\"Enter a word: \")\n",
    "if len(s)>2:\n",
    "    new_s=nstr[0]+\"*\"+nstr[2:]+\"!!!\"\n",
    "else:\n",
    "    pass\n",
    "print(new_s)"
   ]
  },
  {
   "cell_type": "markdown",
   "id": "bedee483-2cd5-40aa-9b18-81a45f589fc9",
   "metadata": {},
   "source": [
    "**6. Write a program that asks the user to enter a word and determines whether the word is a\n",
    "palindrome or not. A palindrome is a word that reads the same backwards as forwards**"
   ]
  },
  {
   "cell_type": "code",
   "execution_count": 23,
   "id": "7016cf8f-a38e-4b6d-80b0-8a4b12b99e94",
   "metadata": {},
   "outputs": [
    {
     "name": "stdin",
     "output_type": "stream",
     "text": [
      "Enter a word:  modi\n"
     ]
    },
    {
     "name": "stdout",
     "output_type": "stream",
     "text": [
      "modi is not a palindrome word\n"
     ]
    }
   ],
   "source": [
    "s=input(\"Enter a word: \")\n",
    "rev_s=s[::-1]\n",
    "if s==rev_s:\n",
    "    print(f\"{s} is a palindrome word\")\n",
    "else:\n",
    "    print(f\"{s} is not a palindrome word\")\n",
    "    "
   ]
  },
  {
   "cell_type": "markdown",
   "id": "f876cf9d-4847-4ea7-bd96-1278f887df9f",
   "metadata": {},
   "source": [
    "**7. At a certain school, student email addresses end with @student.college.edu, while professor\n",
    "email addresses end with @prof.college.edu. Write a program that first asks the user how many\n",
    "email addresses they will be entering, and then has the user enter those addresses. After all the\n",
    "email addresses are entered, the program should print out a message indicating either that all the\n",
    "addresses are student addresses or that there were some professor addresses entered.**"
   ]
  },
  {
   "cell_type": "code",
   "execution_count": 34,
   "id": "8ef828d7-82b4-41a6-a96d-eedd3846c608",
   "metadata": {},
   "outputs": [
    {
     "name": "stdin",
     "output_type": "stream",
     "text": [
      "How many email address do you want to enter: 1\n",
      "Enter email address:  @student.college.edu\n"
     ]
    },
    {
     "name": "stdout",
     "output_type": "stream",
     "text": [
      "@student.college.edu is a student email\n"
     ]
    }
   ],
   "source": [
    "stud_mail=\"@student.college.edu\"\n",
    "prof_mail=\"@prof.college.edu\"\n",
    "n=int(input(\"How many email address do you want to enter:\"))\n",
    "for i in range(n):\n",
    "    address=input(\"Enter email address: \")\n",
    "    if address.endswith(stud_mail):\n",
    "        print(f\"{address} is a student email\")\n",
    "    elif address.endswith(prof_mail):\n",
    "        print(f\"{address} is a professor email\")\n",
    "    else:\n",
    "        print(f\"{address} is a invalid email\")"
   ]
  },
  {
   "cell_type": "markdown",
   "id": "d20e030a-7647-4dcf-b8d1-21347417af5e",
   "metadata": {},
   "source": [
    "**8. Write a program that asks the user to enter a string, then prints out each letter of the string\n",
    "doubled and on a separate line. For instance,\n",
    "if the user entered HEY,\n",
    "the output would be\n",
    "HH\n",
    "EE\n",
    "YY**"
   ]
  },
  {
   "cell_type": "code",
   "execution_count": 39,
   "id": "44120ab9-7dd4-4cde-9ac3-a0b514311fcf",
   "metadata": {},
   "outputs": [
    {
     "name": "stdin",
     "output_type": "stream",
     "text": [
      "Enter a string:  HEY\n"
     ]
    },
    {
     "name": "stdout",
     "output_type": "stream",
     "text": [
      "HH\n",
      "EE\n",
      "YY\n"
     ]
    }
   ],
   "source": [
    "s=input(\"Enter a string: \")\n",
    "for i in new_s:\n",
    "   print(i*2,end=\"\\n\")\n",
    "    \n"
   ]
  },
  {
   "cell_type": "markdown",
   "id": "6c0956b4-832f-4202-abab-b2c91a06be67",
   "metadata": {},
   "source": [
    "**9.Write a program that asks the user to enter a word that contains the letter a. The program should\n",
    "then print the following two lines: On the first line should be the part of the string up to and\n",
    "including the the first a, and on the second line should be the rest of the string.\n",
    "Sample output is shown below:\n",
    "Enter a word: buffalo\n",
    "buffa\n",
    "lo**"
   ]
  },
  {
   "cell_type": "code",
   "execution_count": 43,
   "id": "5ab1d11c-6e8e-49ae-a425-abd043e27db7",
   "metadata": {},
   "outputs": [
    {
     "name": "stdin",
     "output_type": "stream",
     "text": [
      "Enter a string apple\n"
     ]
    },
    {
     "name": "stdout",
     "output_type": "stream",
     "text": [
      "a \n",
      " pple\n"
     ]
    }
   ],
   "source": [
    "s=input(\"Enter a string\")\n",
    "i=s.index(\"a\")\n",
    "print(s[:i+1],\"\\n\",s[i+1:])"
   ]
  },
  {
   "cell_type": "markdown",
   "id": "bbd32245-2856-4cd5-8696-171417c46d0f",
   "metadata": {},
   "source": [
    "**10. Write a program that asks the user to enter a word and then capitalizes every other letter of that\n",
    "word.\n",
    "So if the user enters rhinoceros,\n",
    "the program should print rHiNoCeRoS.**"
   ]
  },
  {
   "cell_type": "code",
   "execution_count": 49,
   "id": "63010b7b-8aa8-42ee-ad92-4e6991b26b90",
   "metadata": {},
   "outputs": [
    {
     "name": "stdin",
     "output_type": "stream",
     "text": [
      "Enter a string:  hello\n"
     ]
    },
    {
     "name": "stdout",
     "output_type": "stream",
     "text": [
      "hElLo\n"
     ]
    }
   ],
   "source": [
    "s=input(\"Enter a string: \")\n",
    "new_s=\"\"\n",
    "for i in range(len(s)):\n",
    "    if i%2==0:\n",
    "        new_s+=s[i].lower()\n",
    "    else:\n",
    "        new_s+=s[i].upper()\n",
    "print(new_s)"
   ]
  },
  {
   "cell_type": "markdown",
   "id": "1c9a029b-7bd1-4fcc-8864-44652f82a069",
   "metadata": {},
   "source": [
    "**11. Write a program that asks the user to enter two strings of the same length. The program should\n",
    "then check to see if the strings are of the same length. If they are not, the program should print an\n",
    "appropriate message and exit. If they are of the same length, the program should alternate the\n",
    "characters of the two strings. For example,\n",
    "if the user enters abcde and ABCDE\n",
    "the program should print out AaBbCcDdEe.**"
   ]
  },
  {
   "cell_type": "code",
   "execution_count": 61,
   "id": "409c948b-2cbe-4ed7-8125-a901597ee217",
   "metadata": {},
   "outputs": [
    {
     "name": "stdin",
     "output_type": "stream",
     "text": [
      "Enter first string:  HELLO\n",
      "Enter second string:  hello\n"
     ]
    },
    {
     "name": "stdout",
     "output_type": "stream",
     "text": [
      "HhEeLlLlOo\n"
     ]
    }
   ],
   "source": [
    "s1=input(\"Enter first string: \")\n",
    "s2=input(\"Enter second string: \")\n",
    "if len(s1)!=len(s2):\n",
    "    print(\"Invalid inputs\")\n",
    "else:\n",
    "    new_s=\"\"\n",
    "    for i in range(len(s1)):\n",
    "        new_s+=s1[i]+s2[i]\n",
    "    \n",
    "    print(new_s)\n",
    "        "
   ]
  },
  {
   "cell_type": "markdown",
   "id": "22f80124-66c1-493b-8b29-4c4625ac8384",
   "metadata": {},
   "source": [
    "**12. Write a program that asks the user to enter their name in lowercase and then capitalizes the first\n",
    "letter of each word of their name.**"
   ]
  },
  {
   "cell_type": "code",
   "execution_count": 1,
   "id": "d2499ce3-318b-4bd9-a1b3-b4370a17815a",
   "metadata": {},
   "outputs": [
    {
     "name": "stdin",
     "output_type": "stream",
     "text": [
      "Enter your name in lower case:  virat kohli\n"
     ]
    },
    {
     "name": "stdout",
     "output_type": "stream",
     "text": [
      "Virat Kohli\n"
     ]
    }
   ],
   "source": [
    "s=input(\"Enter your name in lower case: \")\n",
    "print(s.title())\n"
   ]
  },
  {
   "cell_type": "markdown",
   "id": "9f102096-f9cb-41d6-b152-05b55b895782",
   "metadata": {},
   "source": [
    "**The goal of this exercise is to see if you can mimic the behavior of the in operator and the count\n",
    "and index methods using only variables, for loops, and if statements.**\n",
    "- (a) Without using the in operator, write a program that asks the user for a string and a letter\n",
    "and prints out whether or not the letter appears in the string."
   ]
  },
  {
   "cell_type": "code",
   "execution_count": 9,
   "id": "aa9ad471-2827-442e-b923-e2ab11bb3234",
   "metadata": {},
   "outputs": [
    {
     "name": "stdin",
     "output_type": "stream",
     "text": [
      "Enter a String:  i am\n",
      "Enter value:  you\n"
     ]
    },
    {
     "name": "stdout",
     "output_type": "stream",
     "text": [
      "you not present in i am \n"
     ]
    }
   ],
   "source": [
    "string=input(\"Enter a String: \")\n",
    "value=input(\"Enter value: \")\n",
    "s=string.split()\n",
    "found=False\n",
    "\n",
    "for char in range(len(s)):\n",
    "    if value==s:\n",
    "        found=True\n",
    "if(found==True):\n",
    "    print(f\"{value} present in {string} \")\n",
    "else:\n",
    "    print(f\"{value} not present in {string} \")\n",
    "    "
   ]
  },
  {
   "cell_type": "markdown",
   "id": "9894a0c1-a5b9-48b9-aebf-1f5c6dd600be",
   "metadata": {},
   "source": [
    "- (b) Without using the count method, write a program that asks the user for a string and a\n",
    "letter and counts how many occurrences there are of the letter in the string."
   ]
  },
  {
   "cell_type": "code",
   "execution_count": 12,
   "id": "959bf3b9-b77d-4f8d-954a-dc2a944541ab",
   "metadata": {},
   "outputs": [
    {
     "name": "stdin",
     "output_type": "stream",
     "text": [
      "Enter a string:  Hy how are you\n"
     ]
    },
    {
     "name": "stdout",
     "output_type": "stream",
     "text": [
      "14\n"
     ]
    }
   ],
   "source": [
    "s=input(\"Enter a string: \")\n",
    "count=0\n",
    "for i in s:\n",
    "    count=count+1\n",
    "print(count)"
   ]
  },
  {
   "cell_type": "markdown",
   "id": "e8839514-72a5-4212-b93f-c24094e22a37",
   "metadata": {},
   "source": [
    "- (c) Without using the index method, write a program that asks the user for a string and a\n",
    "letter and prints out the index of the first occurrence of the letter in the string. If the letter is\n",
    "not in the string, the program should say so."
   ]
  },
  {
   "cell_type": "code",
   "execution_count": 16,
   "id": "e0ed0d0b-4208-41e2-a902-5e94db178242",
   "metadata": {},
   "outputs": [
    {
     "name": "stdin",
     "output_type": "stream",
     "text": [
      "Enter a string:  hello how are you\n",
      "Enter a letter:  l\n"
     ]
    },
    {
     "name": "stdout",
     "output_type": "stream",
     "text": [
      "2\n"
     ]
    }
   ],
   "source": [
    "s=input(\"Enter a string: \")\n",
    "l=input(\"Enter a letter: \")\n",
    "count=0\n",
    "for i in s:\n",
    "    \n",
    "    if i==l:\n",
    "        print(count)\n",
    "        break\n",
    "    else:\n",
    "        \n",
    "        count+=1\n",
    "\n",
    "    "
   ]
  },
  {
   "cell_type": "markdown",
   "id": "e262fde2-15f0-4a1c-9718-deda5dc10257",
   "metadata": {},
   "source": [
    "**14. Finding a substring within a string\n",
    "For example, if we were presented a series of lines formatted as follows:\n",
    "From stephen.marquard@uct.ac.za Sat Jan 5 09:14:16 2008\n",
    "and we wanted to pull out only the second half of the address (i.e., uct.ac.za)**"
   ]
  },
  {
   "cell_type": "code",
   "execution_count": 27,
   "id": "87faed45-9768-4edb-b013-fe10b3abd6cf",
   "metadata": {},
   "outputs": [
    {
     "name": "stdin",
     "output_type": "stream",
     "text": [
      "Enter a String:  From stephen.marquard@uct.ac.za Sat Jan 5 09:14:16 2008\n"
     ]
    },
    {
     "name": "stdout",
     "output_type": "stream",
     "text": [
      "uct.ac.za\n"
     ]
    }
   ],
   "source": [
    "s=input(\"Enter a String: \")\n",
    "s1=s.split(\" \")\n",
    "s2=[]\n",
    "for i in s1:\n",
    "    if '@' in i:\n",
    "        s2=i.split('@')\n",
    "print(s2[1])\n",
    "        "
   ]
  },
  {
   "cell_type": "markdown",
   "id": "a3611a63-7ffc-4da5-b9f2-59a91d912905",
   "metadata": {},
   "source": [
    "**15. Write a Python program to add &#39;ing&#39; at the end of a given string (length should be at least 3). If the\n",
    "given string already ends with &#39;ing&#39; then add &#39;ly&#39; instead.\n",
    "If the string length of the given string is less than 3, leave it unchanged.\n",
    "Go to the editor\n",
    "Sample String : &#39;abc&#39;\n",
    "Expected Result : &#39;abcing&#39;\n",
    "Sample String : &#39;string&#39;\n",
    "Expected Result : &#39;stringly&#39;**"
   ]
  },
  {
   "cell_type": "code",
   "execution_count": 30,
   "id": "ff0be0dc-caef-41a7-b0fd-558dd0d7dab2",
   "metadata": {},
   "outputs": [
    {
     "name": "stdin",
     "output_type": "stream",
     "text": [
      "Enter a String:  read\n"
     ]
    },
    {
     "name": "stdout",
     "output_type": "stream",
     "text": [
      "reading\n"
     ]
    }
   ],
   "source": [
    "s=input(\"Enter a String: \")\n",
    "\n",
    "for i in s:\n",
    "    if len(s)>3:\n",
    "        if(s.endswith('ing')):\n",
    "            print(f\"{s}ly\")\n",
    "            break\n",
    "        else:\n",
    "            print(f\"{s}ing\")\n",
    "            break\n",
    "    else:\n",
    "        print(s)"
   ]
  },
  {
   "cell_type": "markdown",
   "id": "0e1e96b7-4be5-47d2-9402-5f7b231291a0",
   "metadata": {},
   "source": [
    "**16. Take the following Python code that stores a string:‘\n",
    "string = &#39;X-DSPAM-Confidence: 0.8475&#39;\n",
    "Extract the portion of the string after the colon character and then use the float function to convert\n",
    "the extracted string into a floating point number.**"
   ]
  },
  {
   "cell_type": "code",
   "execution_count": 32,
   "id": "49db9ac8-a830-44c7-b305-516247d4ebba",
   "metadata": {},
   "outputs": [
    {
     "name": "stdin",
     "output_type": "stream",
     "text": [
      "Enter a String:  X-DSPAM-Confidence: 0.8475\n"
     ]
    },
    {
     "name": "stdout",
     "output_type": "stream",
     "text": [
      "0.8475\n"
     ]
    }
   ],
   "source": [
    "s=input(\"Enter a String: \")\n",
    "s1=[]\n",
    "if ':' in s:\n",
    "    s1=s.split(':')\n",
    "else:\n",
    "    print(\"Invalid input\")\n",
    "print(float(s1[1]))\n",
    "    "
   ]
  },
  {
   "cell_type": "code",
   "execution_count": null,
   "id": "94b0d469-41d5-45a1-916f-bc0382768c87",
   "metadata": {},
   "outputs": [],
   "source": []
  }
 ],
 "metadata": {
  "kernelspec": {
   "display_name": "Python [conda env:base] *",
   "language": "python",
   "name": "conda-base-py"
  },
  "language_info": {
   "codemirror_mode": {
    "name": "ipython",
    "version": 3
   },
   "file_extension": ".py",
   "mimetype": "text/x-python",
   "name": "python",
   "nbconvert_exporter": "python",
   "pygments_lexer": "ipython3",
   "version": "3.13.5"
  }
 },
 "nbformat": 4,
 "nbformat_minor": 5
}
