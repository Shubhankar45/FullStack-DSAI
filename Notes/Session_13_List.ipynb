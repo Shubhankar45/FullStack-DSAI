{
 "cells": [
  {
   "cell_type": "markdown",
   "id": "0c028c61-6ce4-443e-9690-99d2cd74abda",
   "metadata": {},
   "source": [
    "**List**"
   ]
  },
  {
   "cell_type": "code",
   "execution_count": 71,
   "id": "6e6dae46-50f6-4ee0-8ff8-e8b4301e2fe6",
   "metadata": {},
   "outputs": [
    {
     "name": "stdout",
     "output_type": "stream",
     "text": [
      "4\n",
      "100\n",
      "40\n",
      "10\n",
      "[5, 7, 8, 9]\n",
      "[9, 8, 7, 5]\n",
      "[8, 9, 7, 5]\n"
     ]
    }
   ],
   "source": [
    "l1=[10,20,30,40]\n",
    "l2=['A','B','C']\n",
    "l3=[10,20,30,'A','B','C']\n",
    "l4=[10,'A',20.5,True,10+20j]\n",
    "l5=[[10,20,30]]\n",
    "l6=[10,10,10]\n",
    "l7=[]\n",
    "#list can take all data types \n",
    "#list are heterogeneous\n",
    "#duplicates are available\n",
    "#list in a list also possible\n",
    "\n",
    "#len all\n",
    "#sum l1 \n",
    "#max l1 l2 \n",
    "#min \n",
    "#sorted\n",
    "#reversed\n",
    "\n",
    "print(len(l1))\n",
    "print(sum(l1))\n",
    "print(max(l1))\n",
    "print(min(l1))\n",
    "l1=[5,7,9,8]\n",
    "print(sorted(l1))\n",
    "print(sorted(l1,reverse=True))\n",
    "print(list(reversed(l1)))\n",
    "#print(reversed(l1,reversed='true'))"
   ]
  },
  {
   "cell_type": "markdown",
   "id": "10ea949b-b4ad-483e-8aa6-2baa5e42f77c",
   "metadata": {},
   "source": [
    "**index**"
   ]
  },
  {
   "cell_type": "code",
   "execution_count": 72,
   "id": "409d1af0-bf01-4539-9d92-4db53a3b16ab",
   "metadata": {},
   "outputs": [],
   "source": [
    "l3=[10,20,30,'A','B','C']\n",
    "\n"
   ]
  },
  {
   "cell_type": "code",
   "execution_count": 73,
   "id": "9de7379f-91d2-465c-ae0e-ce69b6fe66a5",
   "metadata": {},
   "outputs": [
    {
     "data": {
      "text/plain": [
       "'Banana'"
      ]
     },
     "execution_count": 73,
     "metadata": {},
     "output_type": "execute_result"
    }
   ],
   "source": [
    "l=['Apple','Banana']\n",
    "l[1]\n"
   ]
  },
  {
   "cell_type": "code",
   "execution_count": 74,
   "id": "2140a24b-fac1-430d-a678-447639023ce3",
   "metadata": {},
   "outputs": [
    {
     "data": {
      "text/plain": [
       "'Banana'"
      ]
     },
     "execution_count": 74,
     "metadata": {},
     "output_type": "execute_result"
    }
   ],
   "source": [
    "l=['Apple',['Banana']]\n",
    "l[1][0]"
   ]
  },
  {
   "cell_type": "code",
   "execution_count": 75,
   "id": "3eb8c459-e457-4796-b48b-8bbd98eb26c5",
   "metadata": {},
   "outputs": [
    {
     "name": "stdout",
     "output_type": "stream",
     "text": [
      "2\n"
     ]
    },
    {
     "data": {
      "text/plain": [
       "'Cherry'"
      ]
     },
     "execution_count": 75,
     "metadata": {},
     "output_type": "execute_result"
    }
   ],
   "source": [
    "l=['Apple',['Banana','Cherry']]\n",
    "print(len(l))\n",
    "l[1][1]"
   ]
  },
  {
   "cell_type": "code",
   "execution_count": 76,
   "id": "18a31629-b2c6-40e4-a537-c0a570480487",
   "metadata": {},
   "outputs": [
    {
     "name": "stdout",
     "output_type": "stream",
     "text": [
      "2\n"
     ]
    },
    {
     "data": {
      "text/plain": [
       "'Cherry'"
      ]
     },
     "execution_count": 76,
     "metadata": {},
     "output_type": "execute_result"
    }
   ],
   "source": [
    "l=['Apple',['Banana',['Cherry']]]\n",
    "print(len(l))\n",
    "l[1][1][0]"
   ]
  },
  {
   "cell_type": "code",
   "execution_count": 77,
   "id": "6e9c0cff-4cac-4a04-a983-650d3ff0faa9",
   "metadata": {},
   "outputs": [
    {
     "data": {
      "text/plain": [
       "'VK'"
      ]
     },
     "execution_count": 77,
     "metadata": {},
     "output_type": "execute_result"
    }
   ],
   "source": [
    "l=['Orange',['Nagpur',['MH',['Shivaji',['Shambaji',['Chava',['VK']]]]]]]\n",
    "l[1][1][1][1][1][1][0]"
   ]
  },
  {
   "cell_type": "markdown",
   "id": "a2f3fefa-b5e7-407d-a4ae-e3a61b9400df",
   "metadata": {},
   "source": [
    "**List is a Mutable**"
   ]
  },
  {
   "cell_type": "code",
   "execution_count": 78,
   "id": "eedca0d6-1b08-41e6-adc9-a28f697e9749",
   "metadata": {},
   "outputs": [
    {
     "name": "stdout",
     "output_type": "stream",
     "text": [
      "[10, 3, 4]\n"
     ]
    }
   ],
   "source": [
    "my_list = [1, 2, 3]\n",
    "my_list[0] = 10      # Modify element\n",
    "my_list.append(4)    # Add element\n",
    "del my_list[1]       # Delete element\n",
    "\n",
    "print(my_list) "
   ]
  },
  {
   "cell_type": "markdown",
   "id": "1bdae328-dd00-4c0e-ae4d-507fb47b580d",
   "metadata": {},
   "source": [
    "**Concatenation**"
   ]
  },
  {
   "cell_type": "code",
   "execution_count": 79,
   "id": "c1bbf517-ca04-4cc4-8490-a0c722bd3c81",
   "metadata": {},
   "outputs": [
    {
     "name": "stdout",
     "output_type": "stream",
     "text": [
      "[10, 20, 30, 40, 50, 60, 'A', 'B']\n"
     ]
    }
   ],
   "source": [
    "l1=[10,20,30,40]\n",
    "l2=[50,60,\"A\",\"B\"]\n",
    "l3=l1+l2\n",
    "print(l3)\n"
   ]
  },
  {
   "cell_type": "code",
   "execution_count": 80,
   "id": "3f621480-655a-4050-a02c-1f89e606a574",
   "metadata": {},
   "outputs": [
    {
     "ename": "TypeError",
     "evalue": "unsupported operand type(s) for -: 'list' and 'list'",
     "output_type": "error",
     "traceback": [
      "\u001b[1;31m---------------------------------------------------------------------------\u001b[0m",
      "\u001b[1;31mTypeError\u001b[0m                                 Traceback (most recent call last)",
      "Cell \u001b[1;32mIn[80], line 3\u001b[0m\n\u001b[0;32m      1\u001b[0m l1\u001b[38;5;241m=\u001b[39m[\u001b[38;5;241m10\u001b[39m,\u001b[38;5;241m20\u001b[39m,\u001b[38;5;241m30\u001b[39m,\u001b[38;5;241m40\u001b[39m]\n\u001b[0;32m      2\u001b[0m l2\u001b[38;5;241m=\u001b[39m[\u001b[38;5;241m50\u001b[39m,\u001b[38;5;241m60\u001b[39m,\u001b[38;5;124m\"\u001b[39m\u001b[38;5;124mA\u001b[39m\u001b[38;5;124m\"\u001b[39m,\u001b[38;5;124m\"\u001b[39m\u001b[38;5;124mB\u001b[39m\u001b[38;5;124m\"\u001b[39m]\n\u001b[1;32m----> 3\u001b[0m \u001b[38;5;28mprint\u001b[39m(l1\u001b[38;5;241m-\u001b[39ml2)\n",
      "\u001b[1;31mTypeError\u001b[0m: unsupported operand type(s) for -: 'list' and 'list'"
     ]
    }
   ],
   "source": [
    "l1=[10,20,30,40]\n",
    "l2=[50,60,\"A\",\"B\"]\n",
    "print(l1-l2)"
   ]
  },
  {
   "cell_type": "code",
   "execution_count": null,
   "id": "281e2c40-e0be-4a9b-9e98-eed67248cd8d",
   "metadata": {},
   "outputs": [],
   "source": [
    "l1=[10,20,30,40]\n",
    "print(l1*2)"
   ]
  },
  {
   "cell_type": "code",
   "execution_count": null,
   "id": "30da22c7-7cbc-46de-919a-858f820cdacb",
   "metadata": {},
   "outputs": [],
   "source": [
    "l1=[10,20,30,40]\n",
    "l2=[50,60,\"A\",\"B\"]\n",
    "print(l1/l2)"
   ]
  },
  {
   "cell_type": "code",
   "execution_count": null,
   "id": "277894a0-42c7-4372-8d95-565be28124b7",
   "metadata": {},
   "outputs": [],
   "source": [
    "# -15 -14 -13-12-11 10 \n",
    "l=[10, 20,30,40,1, 2,3,4,'a','p','p','l','e',True,False]\n",
    "#  0   1  2  3  4   5 6 7  8   9   10  11  12  13  14\n",
    "\n",
    "l[2:12:12],l[2:12:-2],l[2:-12:2],l[-2:-12:-2],l[2:-12:-2]"
   ]
  },
  {
   "cell_type": "markdown",
   "id": "8946af96-48ae-4400-9dbc-d092d0c08af3",
   "metadata": {},
   "source": [
    "**Methods**"
   ]
  },
  {
   "cell_type": "code",
   "execution_count": null,
   "id": "c4fe1bb1-496d-4d14-b8ea-96553968cb2b",
   "metadata": {},
   "outputs": [],
   "source": [
    "dir([])"
   ]
  },
  {
   "cell_type": "markdown",
   "id": "d9695440-0fdb-4f6c-98a3-120ba372a0a2",
   "metadata": {},
   "source": [
    "**clear() and copy()**"
   ]
  },
  {
   "cell_type": "code",
   "execution_count": null,
   "id": "ade4c32e-c725-49a2-8562-7f392db51176",
   "metadata": {},
   "outputs": [],
   "source": [
    "l1=[1,2,3,4,5,6,7,8]\n",
    "l1.clear()\n",
    "print(l1)"
   ]
  },
  {
   "cell_type": "code",
   "execution_count": null,
   "id": "2e0729cd-a6dd-42f1-bda8-00aa0fe11e82",
   "metadata": {},
   "outputs": [],
   "source": [
    "l1=[10,20,30,40]\n",
    "l2=l1.copy()\n",
    "l1.clear()\n",
    "print(l2,l1)"
   ]
  },
  {
   "cell_type": "markdown",
   "id": "13b406bb-1b5a-48d6-af53-9037942d1a80",
   "metadata": {},
   "source": [
    "**count()**"
   ]
  },
  {
   "cell_type": "code",
   "execution_count": null,
   "id": "641db550-8e3f-4d81-916e-4d80fc9b58ce",
   "metadata": {},
   "outputs": [],
   "source": [
    "l1=[10, 20,30,40,1, 2,3,4,'a','p','p','l','e',True,False]\n",
    "l1.count(10)"
   ]
  },
  {
   "cell_type": "markdown",
   "id": "3defd3ba-333a-4233-966b-d55cab9ef795",
   "metadata": {},
   "source": [
    "**index()**"
   ]
  },
  {
   "cell_type": "code",
   "execution_count": null,
   "id": "3ae1bc2b-d1e5-4a77-b8ac-387eb45200bf",
   "metadata": {},
   "outputs": [],
   "source": [
    "l=[10, 20,30,40,1, 2,3,4,'a','p','p','l','e',1,1,2,1]\n",
    "i1=l.index(1)\n",
    "i2=l.index(1,i1+1)\n",
    "i3=l.index(1,i2+1)\n",
    "i4=l.index(1,i3+1)\n",
    "i1,i2,i3,i4\n"
   ]
  },
  {
   "cell_type": "markdown",
   "id": "d605ae2a-b4af-4fcb-ae6c-2ab427b5ee7e",
   "metadata": {},
   "source": [
    "**len()**"
   ]
  },
  {
   "cell_type": "code",
   "execution_count": null,
   "id": "7b7d393e-faf7-4889-b72f-c7e9d43673c0",
   "metadata": {},
   "outputs": [],
   "source": [
    "l1=[1,4,5,6,7,9]\n",
    "len(l1)"
   ]
  },
  {
   "cell_type": "markdown",
   "id": "5382f339-5c46-46ea-8f51-0bd914edc7ba",
   "metadata": {},
   "source": [
    "**pop() and remove()**"
   ]
  },
  {
   "cell_type": "markdown",
   "id": "9e9880f1-21b5-4af4-98f7-cac123a5d3b9",
   "metadata": {},
   "source": [
    "| Feature              | `pop()`                                     | `remove()`                             |\n",
    "| -------------------- | ------------------------------------------- | -------------------------------------- |\n",
    "| **What it removes**  | Removes element **by index**                | Removes element **by value**           |\n",
    "| **Return value**     | ✅ Yes, returns the removed element         | No, returns nothing                    |\n",
    "| **Default behavior** | Removes the **last item** if no index given | No default, you **must specify value** |\n",
    "| **Error raised**     | `IndexError` if index is out of range       | `ValueError` if value not found        |\n",
    "| **Use case**         | When you know the **position**              | When you know the **value**            |\n"
   ]
  },
  {
   "cell_type": "code",
   "execution_count": null,
   "id": "68a8e1ba-7f27-4956-b7bc-f5726a75ecec",
   "metadata": {},
   "outputs": [],
   "source": [
    "l=[1,5,6,7,8,9]\n",
    "l.pop()\n",
    "l"
   ]
  },
  {
   "cell_type": "code",
   "execution_count": null,
   "id": "80d5f208-4180-46d6-af18-be889fe0505e",
   "metadata": {},
   "outputs": [],
   "source": [
    "l=[1,5,6,7,8,9]\n",
    "l.pop(2)\n",
    "l"
   ]
  },
  {
   "cell_type": "code",
   "execution_count": null,
   "id": "a03e2c37-ea84-40e6-a2dd-eecfdfea5ddf",
   "metadata": {},
   "outputs": [],
   "source": [
    "l=[\"apple\",\"banana\",\"cherry\",\"cherry\",\"a\",\"b\",10,20,30]\n",
    "i1=l.index(\"cherry\")\n",
    "i2=l.index(\"cherry\",i1+1)\n",
    "l.pop(i2)\n",
    "l"
   ]
  },
  {
   "cell_type": "code",
   "execution_count": null,
   "id": "b3dd7cb0-4efa-4b03-b75e-ab154e790da1",
   "metadata": {},
   "outputs": [],
   "source": [
    "l=[1,5,6,7,8,9]\n",
    "l.remove(1)\n",
    "l"
   ]
  },
  {
   "cell_type": "code",
   "execution_count": null,
   "id": "63b8e091-721e-457d-991d-2455adcfff2b",
   "metadata": {},
   "outputs": [],
   "source": [
    "s='apple'\n",
    "print(s.find('z'))\n",
    "print(s.count('z'))\n",
    "print(s.replace('z','Z'))\n",
    "print(s.index('z'))"
   ]
  },
  {
   "cell_type": "markdown",
   "id": "02a8e117-a8da-4daa-b747-9a6cb9e8110d",
   "metadata": {},
   "source": [
    "**append() , extend() , concat()**"
   ]
  },
  {
   "cell_type": "code",
   "execution_count": null,
   "id": "48278f5a-858f-46fd-83c1-3bb19cff9e9b",
   "metadata": {},
   "outputs": [],
   "source": [
    "l1=[1,3,2,4,5,6]\n",
    "l1.append(6)\n",
    "l1"
   ]
  },
  {
   "cell_type": "code",
   "execution_count": null,
   "id": "f44892b3-14d8-4746-8cb8-d07a1b12cf69",
   "metadata": {},
   "outputs": [],
   "source": [
    "l1=[1,3,2,4,5,6]\n",
    "l1.append([10,20,30])\n",
    "l1"
   ]
  },
  {
   "cell_type": "code",
   "execution_count": 82,
   "id": "93a24e65-f327-4a2b-a44c-ac3fc1363122",
   "metadata": {},
   "outputs": [
    {
     "name": "stdout",
     "output_type": "stream",
     "text": [
      "[10, 20, 30, 'A', 'B', 'C']\n",
      "['A', 'B', 'C']\n"
     ]
    },
    {
     "data": {
      "text/plain": [
       "[10, 20, 30, 'A', 'B', 'C', 'A', 'B', 'C']"
      ]
     },
     "execution_count": 82,
     "metadata": {},
     "output_type": "execute_result"
    }
   ],
   "source": [
    "l1=[10,20,30]\n",
    "l2=['A','B','C']\n",
    "l1.extend(l2)\n",
    "print(l1)\n",
    "print(l2)\n",
    "l1+l2 #not saved"
   ]
  },
  {
   "cell_type": "code",
   "execution_count": 81,
   "id": "a53fa054-54e9-4349-9d8b-44d7265d7961",
   "metadata": {},
   "outputs": [
    {
     "name": "stdout",
     "output_type": "stream",
     "text": [
      "[10, 20, 30]\n",
      "['A', 'B', 'C', 10, 20, 30]\n"
     ]
    },
    {
     "data": {
      "text/plain": [
       "[10, 20, 30, 'A', 'B', 'C', 10, 20, 30]"
      ]
     },
     "execution_count": 81,
     "metadata": {},
     "output_type": "execute_result"
    }
   ],
   "source": [
    "l1=[10,20,30]\n",
    "l2=['A','B','C']\n",
    "l2.extend(l1)\n",
    "print(l1)\n",
    "print(l2)\n"
   ]
  },
  {
   "cell_type": "markdown",
   "id": "d7026d59-46d2-4b1a-bb05-384deb474a74",
   "metadata": {},
   "source": [
    "- In many with append there\n",
    "- Append is use to store the result\n",
    "- So far we just print the results\n",
    "- We never stored"
   ]
  },
  {
   "cell_type": "code",
   "execution_count": 1,
   "id": "6d704b00-052e-4b31-8687-7f2adbd8731a",
   "metadata": {},
   "outputs": [
    {
     "data": {
      "text/plain": [
       "[1, 2, 3]"
      ]
     },
     "execution_count": 1,
     "metadata": {},
     "output_type": "execute_result"
    }
   ],
   "source": [
    "l=[]\n",
    "l.append(1)\n",
    "l.append(2)\n",
    "l.append(3)\n",
    "l"
   ]
  },
  {
   "cell_type": "code",
   "execution_count": 4,
   "id": "0b62a119-bfe7-4188-bd6a-72c008066686",
   "metadata": {},
   "outputs": [
    {
     "name": "stdout",
     "output_type": "stream",
     "text": [
      "1\n",
      "2\n",
      "3\n",
      "[1, 2, 3]\n"
     ]
    }
   ],
   "source": [
    "l=[]\n",
    "for i in range(1,4):\n",
    "    print(i)\n",
    "    l.append(i)\n",
    "print(l)"
   ]
  },
  {
   "cell_type": "markdown",
   "id": "c368eeac-9b05-4202-9e15-73a5c991cb72",
   "metadata": {},
   "source": [
    "**Write a program ask user take 5 random number print even and odd save even and odd**"
   ]
  },
  {
   "cell_type": "code",
   "execution_count": 10,
   "id": "a38b1651-2997-4120-9cb9-916d174fbf47",
   "metadata": {},
   "outputs": [
    {
     "name": "stdout",
     "output_type": "stream",
     "text": [
      "['76:even', '40:even']\n",
      "['51:odd', '1:odd', '45:odd']\n"
     ]
    }
   ],
   "source": [
    "import random\n",
    "even_list=[]\n",
    "odd_list=[]\n",
    "for i in range(5):\n",
    "    n=random.randint(1,100)\n",
    "    if n%2==0:\n",
    "        even_list.append(f\"{n}:even\")\n",
    "    else:\n",
    "        odd_list.append(f\"{n}:odd\")\n",
    "print(even_list)\n",
    "print(odd_list)"
   ]
  },
  {
   "cell_type": "code",
   "execution_count": null,
   "id": "20f5d148-bf02-49fc-a85b-4733541338f3",
   "metadata": {},
   "outputs": [],
   "source": [
    "# Q1) input=['hyd','bengaluru','mumbai','chennai']\n",
    "#     output=['Hyd','Bengaluru','Mumbai','Chennai']\n",
    "\n",
    "# Q2) input=['hyd','bengaluru','mumbai','chennai']\n",
    "#     output=['HYD','BENGALURU','MUMBAI','CHENNAI']\n",
    "\n",
    "# Q3) input=['hyd','bengaluru','mum#bai','chen#nai']\n",
    "#     output=['mum#bai','chen#nai']\n",
    "\n",
    "# Q4) input=['hyd','bengaluru','mum#bai','chen#nai']\n",
    "#     output=['hyd','bengaluru']\n",
    "\n",
    "# Q5) input=['hyd','bengaluru','mumbai','chennai']\n",
    "#     multiply all indexes by 10\n",
    "\n",
    "# Q6) input=['hyd','bengaluru','mumbai','chennai']\n",
    "#     sum of all indexes\n",
    "\n",
    "# Q7) Sum of first 10 Natural numbers"
   ]
  },
  {
   "cell_type": "code",
   "execution_count": 12,
   "id": "28fb2385-afeb-4e62-812c-e2ada39c6ed2",
   "metadata": {},
   "outputs": [
    {
     "name": "stdout",
     "output_type": "stream",
     "text": [
      "['Hyd', 'Bengaluru', 'Mumbai', 'Chennai']\n"
     ]
    }
   ],
   "source": [
    "Input=['hyd','bengaluru','mumbai','chennai']\n",
    "output=[]\n",
    "for i in Input:\n",
    "    output.append(i.title())\n",
    "print(output)"
   ]
  },
  {
   "cell_type": "code",
   "execution_count": 13,
   "id": "0523bb77-6fd1-4bb9-90e4-5700443c86de",
   "metadata": {},
   "outputs": [
    {
     "name": "stdout",
     "output_type": "stream",
     "text": [
      "['HYD', 'BENGALURU', 'MUMBAI', 'CHENNAI']\n"
     ]
    }
   ],
   "source": [
    "Input=['hyd','bengaluru','mumbai','chennai']\n",
    "output=[]\n",
    "for i in Input:\n",
    "    output.append(i.upper())\n",
    "print(output)"
   ]
  },
  {
   "cell_type": "code",
   "execution_count": 28,
   "id": "27da9acf-8f19-465e-844e-24f9dbe00abf",
   "metadata": {},
   "outputs": [
    {
     "name": "stdout",
     "output_type": "stream",
     "text": [
      "['mum#bai', 'chen#nai']\n"
     ]
    }
   ],
   "source": [
    "Input=['hyd','bengaluru','mum#bai','chen#nai']\n",
    "output=[]\n",
    "for i in Input:\n",
    "    if '#' in i :\n",
    "        output.append(i)\n",
    "    \n",
    "print(output)"
   ]
  },
  {
   "cell_type": "code",
   "execution_count": 18,
   "id": "be5e7696-eebe-4a52-b2c1-2f97103a9e9c",
   "metadata": {},
   "outputs": [
    {
     "name": "stdout",
     "output_type": "stream",
     "text": [
      "['hyd', 'bengaluru']\n"
     ]
    }
   ],
   "source": [
    "Input=['hyd','bengaluru','mum#bai','chen#nai']\n",
    "output=[]\n",
    "for i in Input:\n",
    "    if '#' in i:\n",
    "        pass\n",
    "    else:\n",
    "        output.append(i)\n",
    "print(output)"
   ]
  },
  {
   "cell_type": "code",
   "execution_count": 22,
   "id": "ef765acb-39d1-4abf-ae51-b9bd9528d0ed",
   "metadata": {},
   "outputs": [
    {
     "name": "stdout",
     "output_type": "stream",
     "text": [
      "[0, 10, 20, 30]\n"
     ]
    }
   ],
   "source": [
    "Input=['hyd','bengaluru','mumbai','chennai']\n",
    "output=[]\n",
    "for i in Input:\n",
    "    output.append(Input.index(i)*10)\n",
    "print(output)\n",
    "    \n",
    "    "
   ]
  },
  {
   "cell_type": "code",
   "execution_count": 25,
   "id": "8583e406-9fd3-4e59-b03b-8cf289358b44",
   "metadata": {},
   "outputs": [
    {
     "name": "stdout",
     "output_type": "stream",
     "text": [
      "6\n"
     ]
    }
   ],
   "source": [
    "Input=['hyd','bengaluru','mumbai','chennai']\n",
    "output=[]\n",
    "for i in Input:\n",
    "    output.append(Input.index(i))\n",
    "print(sum(output))"
   ]
  },
  {
   "cell_type": "code",
   "execution_count": 27,
   "id": "63cfb53a-adf3-47d5-8172-f3b12f1f1466",
   "metadata": {},
   "outputs": [
    {
     "name": "stdout",
     "output_type": "stream",
     "text": [
      "55\n"
     ]
    }
   ],
   "source": [
    "output=[]\n",
    "for i in range(1,11):\n",
    "    output.append(i)\n",
    "print(sum(output))"
   ]
  },
  {
   "cell_type": "code",
   "execution_count": 29,
   "id": "529b3b35-1d2d-42bb-beff-d10680d1a5f9",
   "metadata": {},
   "outputs": [
    {
     "name": "stdout",
     "output_type": "stream",
     "text": [
      "55\n"
     ]
    }
   ],
   "source": [
    "num=list(range(1,11))\n",
    "print(sum(num))"
   ]
  },
  {
   "cell_type": "code",
   "execution_count": null,
   "id": "75916111-7771-47b8-b5e1-68754b0b7df9",
   "metadata": {},
   "outputs": [],
   "source": [
    "# find tha max in a given list without max l=[3,2,7,1,9,5] max=3\n",
    "# find 2nd max\n",
    "#find the min value \n",
    "#find the 2nd min\n",
    "#sort values\n",
    "#reverse values"
   ]
  },
  {
   "cell_type": "code",
   "execution_count": 30,
   "id": "02d84d37-a57a-4030-ac8f-6afc2117e58f",
   "metadata": {},
   "outputs": [
    {
     "name": "stdout",
     "output_type": "stream",
     "text": [
      "9\n"
     ]
    }
   ],
   "source": [
    "l=[3,2,7,1,9,5]\n",
    "max=l[0]\n",
    "for i in l:\n",
    "    if max<i:\n",
    "        max=i\n",
    "print(max)"
   ]
  },
  {
   "cell_type": "code",
   "execution_count": 31,
   "id": "cbf76bf3-de7d-4ac2-a2c8-7a5acf00505e",
   "metadata": {},
   "outputs": [
    {
     "name": "stdout",
     "output_type": "stream",
     "text": [
      "1\n"
     ]
    }
   ],
   "source": [
    "l=[3,2,7,1,9,5]\n",
    "min=l[0]\n",
    "for i in l:\n",
    "    if min>i:\n",
    "        min=i\n",
    "print(min)"
   ]
  },
  {
   "cell_type": "code",
   "execution_count": 35,
   "id": "53e23fd4-4622-4235-a282-08fe61ad1890",
   "metadata": {},
   "outputs": [
    {
     "name": "stdout",
     "output_type": "stream",
     "text": [
      "5\n"
     ]
    }
   ],
   "source": [
    "l=[3,2,7,1,9,5]\n",
    "max=l[0]\n",
    "max2=l[len(l)-1]\n",
    "for i in l:\n",
    "    if max<i:\n",
    "        max=i\n",
    "        l[0]=max\n",
    "for i in l:\n",
    "    if max2<i:\n",
    "        max2=i\n",
    "    \n",
    "print(max2)"
   ]
  },
  {
   "cell_type": "markdown",
   "id": "70034891-6a26-4395-b9e5-669627a0f2d5",
   "metadata": {},
   "source": [
    "**sorted and sort**"
   ]
  },
  {
   "cell_type": "code",
   "execution_count": 37,
   "id": "1054fc02-e6d7-4047-88ee-9fc17ad4472b",
   "metadata": {},
   "outputs": [
    {
     "data": {
      "text/plain": [
       "[10, 20, 30, 50, 70, 90]"
      ]
     },
     "execution_count": 37,
     "metadata": {},
     "output_type": "execute_result"
    }
   ],
   "source": [
    "l=[30,20,70,10,90,50]\n",
    "l.sort()\n",
    "l"
   ]
  },
  {
   "cell_type": "code",
   "execution_count": 38,
   "id": "35bc73d5-467a-4592-b10a-5bd1e6505c72",
   "metadata": {},
   "outputs": [
    {
     "data": {
      "text/plain": [
       "[10, 20, 30, 50, 70, 90]"
      ]
     },
     "execution_count": 38,
     "metadata": {},
     "output_type": "execute_result"
    }
   ],
   "source": [
    "l=[30,20,70,10,90,50]\n",
    "l2=sorted(l)\n",
    "l2"
   ]
  },
  {
   "cell_type": "markdown",
   "id": "721a649e-da0a-44fb-9f3a-17a88c3555cf",
   "metadata": {},
   "source": [
    "**reverse() and reversed()**"
   ]
  },
  {
   "cell_type": "code",
   "execution_count": 39,
   "id": "74afbac1-71ac-4711-9306-2a8e9aca34a1",
   "metadata": {},
   "outputs": [
    {
     "data": {
      "text/plain": [
       "[10, 9, 7, 6, 4, 1]"
      ]
     },
     "execution_count": 39,
     "metadata": {},
     "output_type": "execute_result"
    }
   ],
   "source": [
    "l=[1,4,6,7,9,10]\n",
    "l.reverse()\n",
    "l"
   ]
  },
  {
   "cell_type": "code",
   "execution_count": 41,
   "id": "b9d50a9e-d1d7-46f4-adf3-a097b1c7c2c2",
   "metadata": {},
   "outputs": [
    {
     "data": {
      "text/plain": [
       "[1, 4, 6, 7, 9, 10]"
      ]
     },
     "execution_count": 41,
     "metadata": {},
     "output_type": "execute_result"
    }
   ],
   "source": [
    "l=[1,4,6,7,9,10]\n",
    "list(reversed(l))\n",
    "l"
   ]
  },
  {
   "cell_type": "markdown",
   "id": "a4690b7c-cabb-4a56-9362-95697f36e5d2",
   "metadata": {},
   "source": [
    "**split()**"
   ]
  },
  {
   "cell_type": "code",
   "execution_count": 9,
   "id": "4b202c23-81a4-4315-a764-cfaf6dbbedd7",
   "metadata": {},
   "outputs": [
    {
     "name": "stdout",
     "output_type": "stream",
     "text": [
      "hai==>how==>are==>you\n",
      "hai how are you\n"
     ]
    }
   ],
   "source": [
    "s=\"hai how are you\"\n",
    "s1=s.split()\n",
    "space=' '\n",
    "print(\"==>\".join(s1))\n",
    "print(\" \".join(s1))"
   ]
  },
  {
   "cell_type": "code",
   "execution_count": null,
   "id": "51ff1801-45c8-494f-b8bb-95f46afaa936",
   "metadata": {},
   "outputs": [],
   "source": [
    "#we will take one string\n",
    "#split that string\n",
    "#we will calculate len of each word in a string\n",
    "#if len is greater than 3\n",
    "#then we will take those words in new list\n",
    "#we will join those words in a new list\n",
    "#we will join tose word will make a string"
   ]
  },
  {
   "cell_type": "code",
   "execution_count": 17,
   "id": "19fe5678-2943-4200-aff5-e562f3856481",
   "metadata": {},
   "outputs": [
    {
     "name": "stdout",
     "output_type": "stream",
     "text": [
      "['fragrant', 'spices,', 'rice,', 'meat,', 'biryani,', 'royal', 'treat.', 'Then', 'slumber', 'calls,', 'gentle', 'sway,', 'naps', 'afternoon', 'away.', 'Awake', 'shows,', 'digital', 'flight,', 'Biryani', 'dreams', 'fading', 'light.']\n",
      "fragrant spices, rice, meat, biryani, royal treat. Then slumber calls, gentle sway, naps afternoon away. Awake shows, digital flight, Biryani dreams fading light.\n"
     ]
    }
   ],
   "source": [
    "str1=\"\"\"\n",
    "On fragrant spices, rice, and meat, His biryani,\n",
    "a royal treat. Then slumber calls, a gentle sway,\n",
    "He naps the afternoon away. \n",
    "Awake for shows, a digital flight, \n",
    "Biryani dreams in fading light.\n",
    "\"\"\"\n",
    "s2 = str1.split()\n",
    "l2 = []\n",
    "for word in s2:\n",
    "    if len(word) > 3:\n",
    "        l2.append(word)\n",
    "print(l2)\n",
    "print(\" \".join(l2))\n"
   ]
  },
  {
   "cell_type": "code",
   "execution_count": null,
   "id": "1282672f-12dc-498e-8667-73091752b027",
   "metadata": {},
   "outputs": [],
   "source": []
  }
 ],
 "metadata": {
  "kernelspec": {
   "display_name": "Python [conda env:base] *",
   "language": "python",
   "name": "conda-base-py"
  },
  "language_info": {
   "codemirror_mode": {
    "name": "ipython",
    "version": 3
   },
   "file_extension": ".py",
   "mimetype": "text/x-python",
   "name": "python",
   "nbconvert_exporter": "python",
   "pygments_lexer": "ipython3",
   "version": "3.13.5"
  }
 },
 "nbformat": 4,
 "nbformat_minor": 5
}
