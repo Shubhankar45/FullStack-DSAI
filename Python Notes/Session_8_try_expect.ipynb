{
 "cells": [
  {
   "cell_type": "code",
   "execution_count": 1,
   "id": "f1ab303e-81e5-4a0b-9df5-6603bf83c740",
   "metadata": {},
   "outputs": [
    {
     "ename": "NameError",
     "evalue": "name 'python' is not defined",
     "output_type": "error",
     "traceback": [
      "\u001b[1;31m---------------------------------------------------------------------------\u001b[0m",
      "\u001b[1;31mNameError\u001b[0m                                 Traceback (most recent call last)",
      "Cell \u001b[1;32mIn[1], line 5\u001b[0m\n\u001b[0;32m      3\u001b[0m a\u001b[38;5;241m=\u001b[39m\u001b[38;5;241m10\u001b[39m  \u001b[38;5;66;03m# correct\u001b[39;00m\n\u001b[0;32m      4\u001b[0m b\u001b[38;5;241m=\u001b[39m\u001b[38;5;241m20\u001b[39m  \u001b[38;5;66;03m# correct\u001b[39;00m\n\u001b[1;32m----> 5\u001b[0m c\u001b[38;5;241m=\u001b[39mpython \u001b[38;5;66;03m# python wrong\u001b[39;00m\n\u001b[0;32m      6\u001b[0m d\u001b[38;5;241m=\u001b[39ma\u001b[38;5;241m+\u001b[39mb    \u001b[38;5;66;03m# correc\u001b[39;00m\n\u001b[0;32m      7\u001b[0m \u001b[38;5;28mprint\u001b[39m(d)\n",
      "\u001b[1;31mNameError\u001b[0m: name 'python' is not defined"
     ]
    }
   ],
   "source": [
    "#step by step process\n",
    "\n",
    "a=10  # correct\n",
    "b=20  # correct\n",
    "c=python # python wrong\n",
    "d=a+b    # correc\n",
    "print(d) # correct"
   ]
  },
  {
   "cell_type": "code",
   "execution_count": null,
   "id": "1889703f-498d-4f3e-9a29-91cc87b27e3a",
   "metadata": {},
   "outputs": [],
   "source": [
    "# whenver error come \n",
    "# my code should catch automatically\n",
    "# my continue the error if it sees error\n",
    "\n",
    "\n",
    "# syntax error\n",
    "# indentation error\n",
    "# not defined error\n",
    "# "
   ]
  },
  {
   "cell_type": "code",
   "execution_count": 3,
   "id": "2665144a-1fdb-418d-a0a0-d37c6c656c96",
   "metadata": {},
   "outputs": [
    {
     "ename": "SyntaxError",
     "evalue": "incomplete input (1119427691.py, line 1)",
     "output_type": "error",
     "traceback": [
      "\u001b[1;36m  Cell \u001b[1;32mIn[3], line 1\u001b[1;36m\u001b[0m\n\u001b[1;33m    eval(print('')\u001b[0m\n\u001b[1;37m                  ^\u001b[0m\n\u001b[1;31mSyntaxError\u001b[0m\u001b[1;31m:\u001b[0m incomplete input\n"
     ]
    }
   ],
   "source": [
    "eval(print('')"
   ]
  },
  {
   "cell_type": "code",
   "execution_count": 5,
   "id": "7be350f5-2885-4999-ae91-489f8101908e",
   "metadata": {},
   "outputs": [
    {
     "ename": "SyntaxError",
     "evalue": "unterminated string literal (detected at line 1) (255721797.py, line 1)",
     "output_type": "error",
     "traceback": [
      "\u001b[1;36m  Cell \u001b[1;32mIn[5], line 1\u001b[1;36m\u001b[0m\n\u001b[1;33m    \"python'\u001b[0m\n\u001b[1;37m    ^\u001b[0m\n\u001b[1;31mSyntaxError\u001b[0m\u001b[1;31m:\u001b[0m unterminated string literal (detected at line 1)\n"
     ]
    }
   ],
   "source": [
    "\"python'"
   ]
  },
  {
   "cell_type": "code",
   "execution_count": 7,
   "id": "61c62439-b4b0-4fc9-941d-c312192598b1",
   "metadata": {},
   "outputs": [
    {
     "ename": "SyntaxError",
     "evalue": "unterminated string literal (detected at line 1) (4138776589.py, line 1)",
     "output_type": "error",
     "traceback": [
      "\u001b[1;36m  Cell \u001b[1;32mIn[7], line 1\u001b[1;36m\u001b[0m\n\u001b[1;33m    \"python\u001b[0m\n\u001b[1;37m    ^\u001b[0m\n\u001b[1;31mSyntaxError\u001b[0m\u001b[1;31m:\u001b[0m unterminated string literal (detected at line 1)\n"
     ]
    }
   ],
   "source": [
    "\"python"
   ]
  },
  {
   "cell_type": "code",
   "execution_count": 9,
   "id": "6b0015df-381b-4ea9-899b-0bc4a4295ef5",
   "metadata": {},
   "outputs": [
    {
     "data": {
      "text/plain": [
       "'ab'"
      ]
     },
     "execution_count": 9,
     "metadata": {},
     "output_type": "execute_result"
    }
   ],
   "source": [
    "'a'+'b'"
   ]
  },
  {
   "cell_type": "code",
   "execution_count": 11,
   "id": "f856adec-4cc6-4b9d-8e4c-70f6ec46253f",
   "metadata": {},
   "outputs": [
    {
     "ename": "TypeError",
     "evalue": "can only concatenate str (not \"int\") to str",
     "output_type": "error",
     "traceback": [
      "\u001b[1;31m---------------------------------------------------------------------------\u001b[0m",
      "\u001b[1;31mTypeError\u001b[0m                                 Traceback (most recent call last)",
      "Cell \u001b[1;32mIn[11], line 1\u001b[0m\n\u001b[1;32m----> 1\u001b[0m \u001b[38;5;124m'\u001b[39m\u001b[38;5;124ma\u001b[39m\u001b[38;5;124m'\u001b[39m\u001b[38;5;241m+\u001b[39m\u001b[38;5;241m100\u001b[39m\n",
      "\u001b[1;31mTypeError\u001b[0m: can only concatenate str (not \"int\") to str"
     ]
    }
   ],
   "source": [
    "'a'+100"
   ]
  },
  {
   "cell_type": "code",
   "execution_count": 13,
   "id": "f4ca9776-fb25-4aed-b517-833f0e5adf36",
   "metadata": {},
   "outputs": [
    {
     "ename": "NameError",
     "evalue": "name 'python' is not defined",
     "output_type": "error",
     "traceback": [
      "\u001b[1;31m---------------------------------------------------------------------------\u001b[0m",
      "\u001b[1;31mNameError\u001b[0m                                 Traceback (most recent call last)",
      "Cell \u001b[1;32mIn[13], line 1\u001b[0m\n\u001b[1;32m----> 1\u001b[0m python\n",
      "\u001b[1;31mNameError\u001b[0m: name 'python' is not defined"
     ]
    }
   ],
   "source": [
    "python"
   ]
  },
  {
   "cell_type": "code",
   "execution_count": 17,
   "id": "fcc6807f-4fa2-479f-ae91-cedf031f9b77",
   "metadata": {},
   "outputs": [
    {
     "data": {
      "text/plain": [
       "(5.0, 0.0)"
      ]
     },
     "execution_count": 17,
     "metadata": {},
     "output_type": "execute_result"
    }
   ],
   "source": [
    "10/2,0/10"
   ]
  },
  {
   "cell_type": "code",
   "execution_count": 19,
   "id": "add077ce-2ed0-45db-a716-6c53f41ef20f",
   "metadata": {},
   "outputs": [
    {
     "ename": "ZeroDivisionError",
     "evalue": "division by zero",
     "output_type": "error",
     "traceback": [
      "\u001b[1;31m---------------------------------------------------------------------------\u001b[0m",
      "\u001b[1;31mZeroDivisionError\u001b[0m                         Traceback (most recent call last)",
      "Cell \u001b[1;32mIn[19], line 1\u001b[0m\n\u001b[1;32m----> 1\u001b[0m \u001b[38;5;241m10\u001b[39m\u001b[38;5;241m/\u001b[39m\u001b[38;5;241m0\u001b[39m\n",
      "\u001b[1;31mZeroDivisionError\u001b[0m: division by zero"
     ]
    }
   ],
   "source": [
    "10/0"
   ]
  },
  {
   "cell_type": "code",
   "execution_count": 21,
   "id": "7aef537c-864e-4513-b613-ab1013375d77",
   "metadata": {},
   "outputs": [
    {
     "ename": "ModuleNotFoundError",
     "evalue": "No module named 'viratkohli'",
     "output_type": "error",
     "traceback": [
      "\u001b[1;31m---------------------------------------------------------------------------\u001b[0m",
      "\u001b[1;31mModuleNotFoundError\u001b[0m                       Traceback (most recent call last)",
      "Cell \u001b[1;32mIn[21], line 1\u001b[0m\n\u001b[1;32m----> 1\u001b[0m \u001b[38;5;28;01mimport\u001b[39;00m \u001b[38;5;21;01mviratkohli\u001b[39;00m\n",
      "\u001b[1;31mModuleNotFoundError\u001b[0m: No module named 'viratkohli'"
     ]
    }
   ],
   "source": [
    "import viratkohli"
   ]
  },
  {
   "cell_type": "code",
   "execution_count": 23,
   "id": "c6484453-bbfd-4068-be85-d624a7b70646",
   "metadata": {},
   "outputs": [
    {
     "ename": "AttributeError",
     "evalue": "module 'random' has no attribute 'virat'",
     "output_type": "error",
     "traceback": [
      "\u001b[1;31m---------------------------------------------------------------------------\u001b[0m",
      "\u001b[1;31mAttributeError\u001b[0m                            Traceback (most recent call last)",
      "Cell \u001b[1;32mIn[23], line 2\u001b[0m\n\u001b[0;32m      1\u001b[0m \u001b[38;5;28;01mimport\u001b[39;00m \u001b[38;5;21;01mrandom\u001b[39;00m\n\u001b[1;32m----> 2\u001b[0m random\u001b[38;5;241m.\u001b[39mvirat\n",
      "\u001b[1;31mAttributeError\u001b[0m: module 'random' has no attribute 'virat'"
     ]
    }
   ],
   "source": [
    "import random\n",
    "random.virat"
   ]
  },
  {
   "cell_type": "code",
   "execution_count": 25,
   "id": "9b49dbdd-b297-45cb-b4f0-2448d4db936b",
   "metadata": {},
   "outputs": [
    {
     "ename": "IndentationError",
     "evalue": "expected an indented block after 'if' statement on line 1 (1785633973.py, line 2)",
     "output_type": "error",
     "traceback": [
      "\u001b[1;36m  Cell \u001b[1;32mIn[25], line 2\u001b[1;36m\u001b[0m\n\u001b[1;33m    print('hello')\u001b[0m\n\u001b[1;37m    ^\u001b[0m\n\u001b[1;31mIndentationError\u001b[0m\u001b[1;31m:\u001b[0m expected an indented block after 'if' statement on line 1\n"
     ]
    }
   ],
   "source": [
    "if True:\n",
    "print('hello')"
   ]
  },
  {
   "cell_type": "code",
   "execution_count": 27,
   "id": "725e0659-eac5-4d82-95de-80f0706edbf8",
   "metadata": {},
   "outputs": [
    {
     "ename": "TypeError",
     "evalue": "unsupported operand type(s) for /: 'str' and 'int'",
     "output_type": "error",
     "traceback": [
      "\u001b[1;31m---------------------------------------------------------------------------\u001b[0m",
      "\u001b[1;31mTypeError\u001b[0m                                 Traceback (most recent call last)",
      "Cell \u001b[1;32mIn[27], line 1\u001b[0m\n\u001b[1;32m----> 1\u001b[0m \u001b[38;5;124m'\u001b[39m\u001b[38;5;124ma\u001b[39m\u001b[38;5;124m'\u001b[39m\u001b[38;5;241m/\u001b[39m\u001b[38;5;241m10\u001b[39m\n",
      "\u001b[1;31mTypeError\u001b[0m: unsupported operand type(s) for /: 'str' and 'int'"
     ]
    }
   ],
   "source": [
    "'a'/10"
   ]
  },
  {
   "cell_type": "code",
   "execution_count": 29,
   "id": "abec847a-0407-4b31-91dc-42d2ccf5ff89",
   "metadata": {},
   "outputs": [
    {
     "ename": "ValueError",
     "evalue": "invalid literal for int() with base 10: '10.5'",
     "output_type": "error",
     "traceback": [
      "\u001b[1;31m---------------------------------------------------------------------------\u001b[0m",
      "\u001b[1;31mValueError\u001b[0m                                Traceback (most recent call last)",
      "Cell \u001b[1;32mIn[29], line 1\u001b[0m\n\u001b[1;32m----> 1\u001b[0m \u001b[38;5;28mint\u001b[39m(\u001b[38;5;124m'\u001b[39m\u001b[38;5;124m10.5\u001b[39m\u001b[38;5;124m'\u001b[39m)\n",
      "\u001b[1;31mValueError\u001b[0m: invalid literal for int() with base 10: '10.5'"
     ]
    }
   ],
   "source": [
    "int('10.5')"
   ]
  },
  {
   "cell_type": "markdown",
   "id": "2e0021ef-6062-49dc-b4ed-1ed59e88b606",
   "metadata": {},
   "source": [
    "- syntax error\n",
    "\n",
    "- indentation error\n",
    "\n",
    "- type error\n",
    "\n",
    "- name error\n",
    "\n",
    "- zero division error\n",
    "\n",
    "- module not found error\n",
    "\n",
    "- attribute error\n",
    "\n",
    "- value error"
   ]
  },
  {
   "cell_type": "code",
   "execution_count": 37,
   "id": "d0cf5037-489c-4efb-95df-29ed02d59da1",
   "metadata": {},
   "outputs": [
    {
     "name": "stderr",
     "output_type": "stream",
     "text": [
      "UsageError: Line magic function `%/100` not found.\n"
     ]
    }
   ],
   "source": [
    "%/100"
   ]
  },
  {
   "cell_type": "code",
   "execution_count": null,
   "id": "df18fa5a-28f6-4187-93d6-54578ed15db2",
   "metadata": {},
   "outputs": [],
   "source": [
    "- now onwards we will write our code using try-except\n",
    "\n",
    "- there are two blocks \n",
    "\n",
    "    - try block\n",
    "\n",
    "    - except block\n",
    "\n",
    "- write your code in try block\n",
    "\n",
    "- if any error occures in try block(original code) that code will catch in except block"
   ]
  },
  {
   "cell_type": "code",
   "execution_count": 40,
   "id": "4bbd125a-eb2e-4eea-9363-748554ba46f8",
   "metadata": {},
   "outputs": [
    {
     "name": "stdout",
     "output_type": "stream",
     "text": [
      "the addition of 10 and 20 is:30\n"
     ]
    }
   ],
   "source": [
    "a=10\n",
    "b=20\n",
    "c=a+b\n",
    "print(f'the addition of {a} and {b} is:{c}')"
   ]
  },
  {
   "cell_type": "code",
   "execution_count": 42,
   "id": "a93f18aa-b00d-46d1-a383-7e0ec8fba84c",
   "metadata": {},
   "outputs": [
    {
     "name": "stdout",
     "output_type": "stream",
     "text": [
      "the addition of 10 and 20 is:30\n"
     ]
    }
   ],
   "source": [
    "try:\n",
    "    a=10\n",
    "    b=20\n",
    "    c=a+b\n",
    "    print(f'the addition of {a} and {b} is:{c}')\n",
    "except Exception as e:\n",
    "    print(e)"
   ]
  },
  {
   "cell_type": "code",
   "execution_count": 50,
   "id": "8860f44c-0cdd-4807-9f3a-b873870c9958",
   "metadata": {},
   "outputs": [
    {
     "name": "stdout",
     "output_type": "stream",
     "text": [
      "10\n",
      "20\n",
      "division by zero\n",
      "ha ha ha error milgaya\n"
     ]
    }
   ],
   "source": [
    "try:\n",
    "    a=10  # correct\n",
    "    print(a) # correct\n",
    "    b=20     # correct\n",
    "    print(b) # correct\n",
    "    c=a/0    # wrong\n",
    "    print(f'the addition of {a} and {b} is:{c}')\n",
    "except Exception as e:\n",
    "    print(e)\n",
    "    print('ha ha ha error milgaya')"
   ]
  },
  {
   "cell_type": "code",
   "execution_count": 46,
   "id": "4b158e47-1d10-4295-9130-099dbe597f4c",
   "metadata": {},
   "outputs": [
    {
     "ename": "ZeroDivisionError",
     "evalue": "division by zero",
     "output_type": "error",
     "traceback": [
      "\u001b[1;31m---------------------------------------------------------------------------\u001b[0m",
      "\u001b[1;31mZeroDivisionError\u001b[0m                         Traceback (most recent call last)",
      "Cell \u001b[1;32mIn[46], line 1\u001b[0m\n\u001b[1;32m----> 1\u001b[0m a\u001b[38;5;241m/\u001b[39m\u001b[38;5;241m0\u001b[39m\n",
      "\u001b[1;31mZeroDivisionError\u001b[0m: division by zero"
     ]
    }
   ],
   "source": [
    "a/0"
   ]
  },
  {
   "cell_type": "code",
   "execution_count": 54,
   "id": "bb393cd9-271d-40b7-b8fa-0fab404f6a18",
   "metadata": {},
   "outputs": [
    {
     "name": "stdout",
     "output_type": "stream",
     "text": [
      "can only concatenate str (not \"int\") to str\n"
     ]
    }
   ],
   "source": [
    "try:\n",
    "    'a'+100\n",
    "except Exception as e:\n",
    "    print(e)"
   ]
  },
  {
   "cell_type": "code",
   "execution_count": 56,
   "id": "e085c715-da95-4b6c-81b2-85cffa8491b2",
   "metadata": {},
   "outputs": [
    {
     "name": "stdout",
     "output_type": "stream",
     "text": [
      "module 'random' has no attribute 'random1'\n"
     ]
    }
   ],
   "source": [
    "try:\n",
    "    import random\n",
    "    random.random1()\n",
    "except Exception as e:\n",
    "    print(e)"
   ]
  },
  {
   "cell_type": "code",
   "execution_count": 60,
   "id": "c7166787-e2f1-4e17-b94c-830bcaa5f7d4",
   "metadata": {},
   "outputs": [
    {
     "name": "stdout",
     "output_type": "stream",
     "text": [
      "module 'random' has no attribute 'random1'\n"
     ]
    }
   ],
   "source": [
    "try:\n",
    "    import random\n",
    "    random.random1()\n",
    "except Exception as virat:\n",
    "    print(virat)"
   ]
  },
  {
   "cell_type": "code",
   "execution_count": 62,
   "id": "b4f8efb4-df3e-4b5f-8a12-ce9124c21598",
   "metadata": {},
   "outputs": [
    {
     "ename": "IndentationError",
     "evalue": "expected an indented block after 'if' statement on line 2 (3235529027.py, line 3)",
     "output_type": "error",
     "traceback": [
      "\u001b[1;36m  Cell \u001b[1;32mIn[62], line 3\u001b[1;36m\u001b[0m\n\u001b[1;33m    print(True)\u001b[0m\n\u001b[1;37m    ^\u001b[0m\n\u001b[1;31mIndentationError\u001b[0m\u001b[1;31m:\u001b[0m expected an indented block after 'if' statement on line 2\n"
     ]
    }
   ],
   "source": [
    "try:\n",
    "    if 100<0:\n",
    "    print(True)\n",
    "except Exception as correct:\n",
    "    print(correct)\n"
   ]
  },
  {
   "cell_type": "markdown",
   "id": "41992ab7-613b-4d97-bf6f-9fca72763eb6",
   "metadata": {},
   "source": [
    "- syntax error\n",
    "\n",
    "- indentation error will not catch "
   ]
  },
  {
   "cell_type": "code",
   "execution_count": 69,
   "id": "f79a3753-d6e5-4126-a94a-976161af4056",
   "metadata": {},
   "outputs": [
    {
     "name": "stdout",
     "output_type": "stream",
     "text": [
      "success\n",
      "logout\n"
     ]
    }
   ],
   "source": [
    "try:\n",
    "    print('success')\n",
    "except Exception as e:\n",
    "    print(e)\n",
    "finally:\n",
    "    print('logout')"
   ]
  },
  {
   "cell_type": "code",
   "execution_count": 71,
   "id": "8a5cd245-95a8-4042-b98d-a53450e97c91",
   "metadata": {},
   "outputs": [
    {
     "name": "stdout",
     "output_type": "stream",
     "text": [
      "division by zero\n",
      "logout\n"
     ]
    }
   ],
   "source": [
    "try:\n",
    "    10/0\n",
    "except Exception as e:\n",
    "    print(e)\n",
    "finally:\n",
    "    print('logout')"
   ]
  },
  {
   "cell_type": "code",
   "execution_count": null,
   "id": "fefe4769-eed0-4d3f-8e26-de426d63f4df",
   "metadata": {},
   "outputs": [],
   "source": [
    "try:\n",
    "    # wap ask the user take the salary, percetage of tax calculate tax amount\n",
    "    bill_amount=10000\n",
    "    tip_percentage=10\n",
    "    tip_amount=bill_amount*tip_percentage/100\n",
    "    total_amount=bill_amount+tip_amount\n",
    "    print(f\"the total bill is:{total_amount}\")\n",
    "except Exception as e:\n",
    "    print(e)"
   ]
  },
  {
   "cell_type": "code",
   "execution_count": 73,
   "id": "acc5be2b-2851-4639-9e6b-768585c39839",
   "metadata": {},
   "outputs": [
    {
     "name": "stdout",
     "output_type": "stream",
     "text": [
      "Log Out\n"
     ]
    }
   ],
   "source": [
    "\n",
    "########## VIKAS IM getting #############\n",
    "try:\n",
    "    10/2\n",
    "except Exception as e:\n",
    "    print(e)\n",
    "finally:\n",
    "    print(\"Log Out\")\n"
   ]
  },
  {
   "cell_type": "code",
   "execution_count": null,
   "id": "498d85e0-64a4-417b-8f64-9084c2502276",
   "metadata": {},
   "outputs": [],
   "source": []
  }
 ],
 "metadata": {
  "kernelspec": {
   "display_name": "Python [conda env:base] *",
   "language": "python",
   "name": "conda-base-py"
  },
  "language_info": {
   "codemirror_mode": {
    "name": "ipython",
    "version": 3
   },
   "file_extension": ".py",
   "mimetype": "text/x-python",
   "name": "python",
   "nbconvert_exporter": "python",
   "pygments_lexer": "ipython3",
   "version": "3.12.7"
  }
 },
 "nbformat": 4,
 "nbformat_minor": 5
}
