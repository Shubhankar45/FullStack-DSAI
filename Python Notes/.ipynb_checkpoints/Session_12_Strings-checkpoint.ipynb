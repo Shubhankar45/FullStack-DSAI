{
 "cells": [
  {
   "cell_type": "code",
   "execution_count": null,
   "id": "2f36b901-4fa3-4457-8a77-dc438d5279b8",
   "metadata": {},
   "outputs": [],
   "source": [
    "python basics\n",
    "    - Variables\n",
    "\n",
    "    - Data types\n",
    "\n",
    "    - Type casting , how to convert one data type to another data type\n",
    "\n",
    "    - print statements\n",
    "\n",
    "    - basic codes\n",
    "\n",
    "    - input , eval , round\n",
    "\n",
    "    - packages or libraries  i.e.very important\n",
    "\n",
    "    - conditional statements\n",
    "\n",
    "    - exceptional handling\n",
    "\n",
    "    - functions\n",
    "\n",
    "    - for and while\n",
    "python core\n",
    "    - strings\n",
    "\n",
    "    - list \n",
    "\n",
    "        - list comprehension\n",
    "\n",
    "    - tuple   # my students\n",
    "\n",
    "    - dictionary\n",
    "\n",
    "    - lambda functions\n",
    "\n",
    "    - file handling\n",
    "\n",
    "30days ==== learn\n",
    "\n",
    "python advanced\n",
    "\n",
    "    - oops EDA ML\n",
    "\n",
    "\n",
    "python + stats : EDA\n",
    "python + ML : \n",
    "python + DL\n",
    "python+ NLP\n",
    "python+Genai\n"
   ]
  },
  {
   "cell_type": "markdown",
   "id": "ce9d85e5-59d2-478d-aefb-532b464681dd",
   "metadata": {},
   "source": [
    "**Strings**\n",
    "\n",
    "- Intializations\n",
    "\n",
    "- Inbuilt functions\n",
    "\n",
    "    - print\n",
    "\n",
    "    - type\n",
    "\n",
    "    - len\n",
    "\n",
    "    - min\n",
    "\n",
    "    - max\n",
    "\n",
    "    - sum\n",
    "\n",
    "    - sorted\n",
    "\n",
    "    - reversed\n",
    "\n",
    "\n",
    "- Concatenation\n",
    "\n",
    "- Index operations\n",
    "\n",
    "- Mutable vs Immutable\n",
    "\n",
    "- Slice\n",
    "\n",
    "- Methods\n",
    "    "
   ]
  },
  {
   "cell_type": "markdown",
   "id": "b7d29bc5-3cdf-4cfd-aee7-6abc53d64162",
   "metadata": {},
   "source": [
    "**Intializations**"
   ]
  },
  {
   "cell_type": "code",
   "execution_count": 3,
   "id": "046baa36-6a96-4667-8cba-3248879451fe",
   "metadata": {},
   "outputs": [],
   "source": [
    "str1='python'"
   ]
  },
  {
   "cell_type": "code",
   "execution_count": 5,
   "id": "9d4a5538-9550-4a4a-a844-e918a745bc5d",
   "metadata": {},
   "outputs": [],
   "source": [
    "str2=\"python\""
   ]
  },
  {
   "cell_type": "code",
   "execution_count": 7,
   "id": "1eef1161-fcc1-4b71-b03d-3dd4e85d1a7c",
   "metadata": {},
   "outputs": [
    {
     "data": {
      "text/plain": [
       "\"I like 'python'\""
      ]
     },
     "execution_count": 7,
     "metadata": {},
     "output_type": "execute_result"
    }
   ],
   "source": [
    "str3=\"I like 'python'\"\n",
    "str3"
   ]
  },
  {
   "cell_type": "code",
   "execution_count": 9,
   "id": "4f06ec00-d91e-4c16-8725-4f29f37d6408",
   "metadata": {},
   "outputs": [
    {
     "data": {
      "text/plain": [
       "'I like \"Python\"'"
      ]
     },
     "execution_count": 9,
     "metadata": {},
     "output_type": "execute_result"
    }
   ],
   "source": [
    "str4='I like \"Python\"'\n",
    "str4"
   ]
  },
  {
   "cell_type": "code",
   "execution_count": 1,
   "id": "d6422e7b-8ea9-4ce3-8a7c-239a2380aa79",
   "metadata": {},
   "outputs": [
    {
     "data": {
      "text/plain": [
       "str"
      ]
     },
     "execution_count": 1,
     "metadata": {},
     "output_type": "execute_result"
    }
   ],
   "source": [
    "str1='python'\n",
    "type(str1)  # ans"
   ]
  },
  {
   "cell_type": "code",
   "execution_count": 3,
   "id": "e598dc22-ba4d-4588-8ca3-effda52eb45d",
   "metadata": {},
   "outputs": [
    {
     "name": "stdout",
     "output_type": "stream",
     "text": [
      "python\n"
     ]
    }
   ],
   "source": [
    "print(str1)"
   ]
  },
  {
   "cell_type": "code",
   "execution_count": 7,
   "id": "2418e7ce-6fd6-47e3-a41f-5b8ffa8ad5a1",
   "metadata": {},
   "outputs": [
    {
     "data": {
      "text/plain": [
       "6"
      ]
     },
     "execution_count": 7,
     "metadata": {},
     "output_type": "execute_result"
    }
   ],
   "source": [
    "str1='python'\n",
    "len(str1)"
   ]
  },
  {
   "cell_type": "code",
   "execution_count": 9,
   "id": "d6ce0d78-bc3b-418e-9934-53a342af691c",
   "metadata": {},
   "outputs": [
    {
     "data": {
      "text/plain": [
       "'h'"
      ]
     },
     "execution_count": 9,
     "metadata": {},
     "output_type": "execute_result"
    }
   ],
   "source": [
    "min(str1)"
   ]
  },
  {
   "cell_type": "code",
   "execution_count": 11,
   "id": "31ebfe4b-2308-45fe-a057-951874da480d",
   "metadata": {},
   "outputs": [
    {
     "data": {
      "text/plain": [
       "'y'"
      ]
     },
     "execution_count": 11,
     "metadata": {},
     "output_type": "execute_result"
    }
   ],
   "source": [
    "max(str1)"
   ]
  },
  {
   "cell_type": "code",
   "execution_count": 15,
   "id": "a19f805f-2e33-4d36-9bc0-8949966623e1",
   "metadata": {},
   "outputs": [
    {
     "data": {
      "text/plain": [
       "(49, 112)"
      ]
     },
     "execution_count": 15,
     "metadata": {},
     "output_type": "execute_result"
    }
   ],
   "source": [
    "min('123')\n",
    "ord('1'),ord('p')"
   ]
  },
  {
   "cell_type": "code",
   "execution_count": 17,
   "id": "53c209a8-73fd-440d-bd7b-c9459b805cf7",
   "metadata": {},
   "outputs": [
    {
     "data": {
      "text/plain": [
       "'1'"
      ]
     },
     "execution_count": 17,
     "metadata": {},
     "output_type": "execute_result"
    }
   ],
   "source": [
    "min('python123')"
   ]
  },
  {
   "cell_type": "code",
   "execution_count": 19,
   "id": "c7c75f62-ae0a-48cf-b79f-6a253fd36796",
   "metadata": {},
   "outputs": [
    {
     "ename": "TypeError",
     "evalue": "unsupported operand type(s) for +: 'int' and 'str'",
     "output_type": "error",
     "traceback": [
      "\u001b[1;31m---------------------------------------------------------------------------\u001b[0m",
      "\u001b[1;31mTypeError\u001b[0m                                 Traceback (most recent call last)",
      "Cell \u001b[1;32mIn[19], line 1\u001b[0m\n\u001b[1;32m----> 1\u001b[0m \u001b[38;5;28msum\u001b[39m(\u001b[38;5;124m'\u001b[39m\u001b[38;5;124mpython\u001b[39m\u001b[38;5;124m'\u001b[39m)\n",
      "\u001b[1;31mTypeError\u001b[0m: unsupported operand type(s) for +: 'int' and 'str'"
     ]
    }
   ],
   "source": [
    "sum('python')"
   ]
  },
  {
   "cell_type": "code",
   "execution_count": 21,
   "id": "9dcf8d3c-150f-4fbe-a783-0f924b90f740",
   "metadata": {},
   "outputs": [
    {
     "ename": "TypeError",
     "evalue": "unsupported operand type(s) for +: 'int' and 'str'",
     "output_type": "error",
     "traceback": [
      "\u001b[1;31m---------------------------------------------------------------------------\u001b[0m",
      "\u001b[1;31mTypeError\u001b[0m                                 Traceback (most recent call last)",
      "Cell \u001b[1;32mIn[21], line 1\u001b[0m\n\u001b[1;32m----> 1\u001b[0m \u001b[38;5;28msum\u001b[39m(\u001b[38;5;124m'\u001b[39m\u001b[38;5;124m123\u001b[39m\u001b[38;5;124m'\u001b[39m)\n",
      "\u001b[1;31mTypeError\u001b[0m: unsupported operand type(s) for +: 'int' and 'str'"
     ]
    }
   ],
   "source": [
    "sum('123')"
   ]
  },
  {
   "cell_type": "code",
   "execution_count": null,
   "id": "d40eadb3-61bf-4811-8be2-be34d4f5cd5a",
   "metadata": {},
   "outputs": [],
   "source": [
    "type\n",
    "print\n",
    "len\n",
    "min\n",
    "max\n",
    "sum  # Not working"
   ]
  },
  {
   "cell_type": "code",
   "execution_count": 24,
   "id": "c58aa46f-e896-4a11-9de3-bba4636d1ec7",
   "metadata": {},
   "outputs": [
    {
     "data": {
      "text/plain": [
       "['h', 'n', 'o', 'p', 't', 'y']"
      ]
     },
     "execution_count": 24,
     "metadata": {},
     "output_type": "execute_result"
    }
   ],
   "source": [
    "sorted('python')"
   ]
  },
  {
   "cell_type": "markdown",
   "id": "8b44afdf-19e7-4c78-b83d-1e36e1561ded",
   "metadata": {},
   "source": [
    "**iterable**\n",
    "\n",
    "- anything can iterate through loop\n",
    "\n",
    "- string list tuple dictionary"
   ]
  },
  {
   "cell_type": "code",
   "execution_count": 26,
   "id": "73f6e95d-e5ae-42e8-92ca-6ccebfcdf40b",
   "metadata": {},
   "outputs": [
    {
     "data": {
      "text/plain": [
       "['h', 'n', 'o', 'p', 't', 'y']"
      ]
     },
     "execution_count": 26,
     "metadata": {},
     "output_type": "execute_result"
    }
   ],
   "source": [
    "# sorted('python')\n",
    "sorted('python',reverse=False)\n",
    "# ascending order"
   ]
  },
  {
   "cell_type": "code",
   "execution_count": 28,
   "id": "930c7c9e-8aac-4e70-9590-24931a16285d",
   "metadata": {},
   "outputs": [
    {
     "data": {
      "text/plain": [
       "['y', 't', 'p', 'o', 'n', 'h']"
      ]
     },
     "execution_count": 28,
     "metadata": {},
     "output_type": "execute_result"
    }
   ],
   "source": [
    "sorted('python',reverse=True)\n",
    "# descending order"
   ]
  },
  {
   "cell_type": "code",
   "execution_count": null,
   "id": "e429e391-eec4-48b4-a75c-1b4ab93fe2da",
   "metadata": {},
   "outputs": [],
   "source": [
    "sorted('python')\n",
    "sorted('python',reverse=False)\n",
    "sorted('python',reverse=True)"
   ]
  },
  {
   "cell_type": "markdown",
   "id": "7f80b50a-2272-4dd7-b8fe-5445222a9222",
   "metadata": {},
   "source": [
    "**reversed**\n",
    "\n",
    "- sequence means string list tuple dictionary"
   ]
  },
  {
   "cell_type": "code",
   "execution_count": 32,
   "id": "79d85d04-4ff7-4460-bdcc-b9949f03353f",
   "metadata": {},
   "outputs": [
    {
     "data": {
      "text/plain": [
       "<reversed at 0x1da57a941f0>"
      ]
     },
     "execution_count": 32,
     "metadata": {},
     "output_type": "execute_result"
    }
   ],
   "source": [
    "reversed('python')\n",
    "# It is already reveresed\n",
    "# answer located a memory \n",
    "# <memory>"
   ]
  },
  {
   "cell_type": "code",
   "execution_count": 34,
   "id": "ff70741c-8d9b-43eb-9c3f-96c9ff16043e",
   "metadata": {},
   "outputs": [
    {
     "name": "stdout",
     "output_type": "stream",
     "text": [
      "n o h t y p "
     ]
    }
   ],
   "source": [
    "out=reversed('python')\n",
    "for i in out:\n",
    "    print(i,end=' ')"
   ]
  },
  {
   "cell_type": "code",
   "execution_count": 38,
   "id": "886894d1-f596-48ec-917e-7513dd14eaa8",
   "metadata": {},
   "outputs": [
    {
     "data": {
      "text/plain": [
       "['n', 'o', 'h', 't', 'y', 'p']"
      ]
     },
     "execution_count": 38,
     "metadata": {},
     "output_type": "execute_result"
    }
   ],
   "source": [
    "list(reversed('python'))"
   ]
  },
  {
   "cell_type": "markdown",
   "id": "d88441d5-a9af-4149-843d-a9c49a6966d9",
   "metadata": {},
   "source": [
    "**Concatenation**"
   ]
  },
  {
   "cell_type": "code",
   "execution_count": 41,
   "id": "0b97fe34-4ba1-4cb7-9caa-4f81db034edb",
   "metadata": {},
   "outputs": [
    {
     "data": {
      "text/plain": [
       "'hellopython'"
      ]
     },
     "execution_count": 41,
     "metadata": {},
     "output_type": "execute_result"
    }
   ],
   "source": [
    "str1='hello'\n",
    "str2='python'\n",
    "str1+str2\n"
   ]
  },
  {
   "cell_type": "code",
   "execution_count": 43,
   "id": "8b20b4eb-1c1f-40f4-b04f-2d5cc613b4a3",
   "metadata": {},
   "outputs": [
    {
     "ename": "TypeError",
     "evalue": "unsupported operand type(s) for -: 'str' and 'str'",
     "output_type": "error",
     "traceback": [
      "\u001b[1;31m---------------------------------------------------------------------------\u001b[0m",
      "\u001b[1;31mTypeError\u001b[0m                                 Traceback (most recent call last)",
      "Cell \u001b[1;32mIn[43], line 1\u001b[0m\n\u001b[1;32m----> 1\u001b[0m str1\u001b[38;5;241m-\u001b[39mstr2\n",
      "\u001b[1;31mTypeError\u001b[0m: unsupported operand type(s) for -: 'str' and 'str'"
     ]
    }
   ],
   "source": [
    "str1-str2"
   ]
  },
  {
   "cell_type": "code",
   "execution_count": 45,
   "id": "e978f116-df45-4520-abe3-e46d4ca1ffa7",
   "metadata": {},
   "outputs": [
    {
     "ename": "TypeError",
     "evalue": "unsupported operand type(s) for /: 'str' and 'str'",
     "output_type": "error",
     "traceback": [
      "\u001b[1;31m---------------------------------------------------------------------------\u001b[0m",
      "\u001b[1;31mTypeError\u001b[0m                                 Traceback (most recent call last)",
      "Cell \u001b[1;32mIn[45], line 1\u001b[0m\n\u001b[1;32m----> 1\u001b[0m str1\u001b[38;5;241m/\u001b[39mstr2\n",
      "\u001b[1;31mTypeError\u001b[0m: unsupported operand type(s) for /: 'str' and 'str'"
     ]
    }
   ],
   "source": [
    "str1/str2"
   ]
  },
  {
   "cell_type": "code",
   "execution_count": 47,
   "id": "967f6ef6-7e71-4610-876d-e3989c35d174",
   "metadata": {},
   "outputs": [
    {
     "ename": "TypeError",
     "evalue": "can't multiply sequence by non-int of type 'str'",
     "output_type": "error",
     "traceback": [
      "\u001b[1;31m---------------------------------------------------------------------------\u001b[0m",
      "\u001b[1;31mTypeError\u001b[0m                                 Traceback (most recent call last)",
      "Cell \u001b[1;32mIn[47], line 1\u001b[0m\n\u001b[1;32m----> 1\u001b[0m str1\u001b[38;5;241m*\u001b[39mstr2\n",
      "\u001b[1;31mTypeError\u001b[0m: can't multiply sequence by non-int of type 'str'"
     ]
    }
   ],
   "source": [
    "str1*str2"
   ]
  },
  {
   "cell_type": "code",
   "execution_count": null,
   "id": "d267e0cd-dac3-433b-a661-71e451e82d50",
   "metadata": {},
   "outputs": [],
   "source": [
    "str1-str2\n",
    "TypeError: unsupported operand type(s) for -: 'str' and 'str'\n",
    "str1/str2\n",
    "TypeError: unsupported operand type(s) for /: 'str' and 'str'\n",
    "str1*str2\n",
    "TypeError: can't multiply sequence by non-int of type 'str'"
   ]
  },
  {
   "cell_type": "code",
   "execution_count": 49,
   "id": "1c2d0533-2f42-4b8b-bcef-71841668d2ec",
   "metadata": {},
   "outputs": [
    {
     "data": {
      "text/plain": [
       "'pythonpython'"
      ]
     },
     "execution_count": 49,
     "metadata": {},
     "output_type": "execute_result"
    }
   ],
   "source": [
    "'python'*2"
   ]
  },
  {
   "cell_type": "code",
   "execution_count": 51,
   "id": "1ebdbc23-611a-4ad6-aec4-7a7bf6bdef45",
   "metadata": {},
   "outputs": [
    {
     "data": {
      "text/plain": [
       "'pythonpython'"
      ]
     },
     "execution_count": 51,
     "metadata": {},
     "output_type": "execute_result"
    }
   ],
   "source": [
    "'python'+'python'"
   ]
  },
  {
   "cell_type": "markdown",
   "id": "78e37cf6-65e8-4e4e-9b40-33bde1cbbe49",
   "metadata": {},
   "source": [
    "**index**"
   ]
  },
  {
   "cell_type": "code",
   "execution_count": null,
   "id": "c4306237-6a77-4013-bae1-f7e3ec0ac625",
   "metadata": {},
   "outputs": [],
   "source": [
    "# ()  indicates function call\n",
    "# []  access the elements or values"
   ]
  },
  {
   "cell_type": "code",
   "execution_count": null,
   "id": "54d8d1fe-b0a4-47f2-acd3-5039796c05ce",
   "metadata": {},
   "outputs": [],
   "source": [
    "-6  -5   -4   -3   -2   -1\n",
    "p    y    t    h    o    n\n",
    "0    1    2    3    4    5"
   ]
  },
  {
   "cell_type": "code",
   "execution_count": 57,
   "id": "82656426-88cb-4104-934b-4a510d5fc418",
   "metadata": {},
   "outputs": [
    {
     "data": {
      "text/plain": [
       "('p', 'p')"
      ]
     },
     "execution_count": 57,
     "metadata": {},
     "output_type": "execute_result"
    }
   ],
   "source": [
    "str1='python'\n",
    "str1[0],str1[-6]"
   ]
  },
  {
   "cell_type": "code",
   "execution_count": 59,
   "id": "5d52b06b-0edf-4192-881e-28aa3b7c112f",
   "metadata": {},
   "outputs": [
    {
     "ename": "IndexError",
     "evalue": "string index out of range",
     "output_type": "error",
     "traceback": [
      "\u001b[1;31m---------------------------------------------------------------------------\u001b[0m",
      "\u001b[1;31mIndexError\u001b[0m                                Traceback (most recent call last)",
      "Cell \u001b[1;32mIn[59], line 1\u001b[0m\n\u001b[1;32m----> 1\u001b[0m str1[\u001b[38;5;241m6\u001b[39m]\n",
      "\u001b[1;31mIndexError\u001b[0m: string index out of range"
     ]
    }
   ],
   "source": [
    "str1[6]"
   ]
  },
  {
   "cell_type": "code",
   "execution_count": 71,
   "id": "217cea88-7674-4661-8b5a-7f57b3f5534f",
   "metadata": {},
   "outputs": [
    {
     "name": "stdout",
     "output_type": "stream",
     "text": [
      "p\n",
      "y\n",
      "t\n",
      "h\n",
      "o\n",
      "n\n"
     ]
    }
   ],
   "source": [
    "str1='python'\n",
    "print(str1[0])\n",
    "print(str1[1])\n",
    "print(str1[2])\n",
    "print(str1[3])\n",
    "print(str1[4])\n",
    "print(str1[5])\n",
    "\n",
    "#print(str1[i])   i=== 0  to 6"
   ]
  },
  {
   "cell_type": "code",
   "execution_count": 77,
   "id": "ce7f4eb3-90e6-4956-97ca-a8328200eb9c",
   "metadata": {},
   "outputs": [
    {
     "name": "stdout",
     "output_type": "stream",
     "text": [
      "p\n",
      "y\n",
      "t\n",
      "h\n",
      "o\n",
      "n\n",
      " \n",
      "h\n",
      "e\n",
      "l\n",
      "l\n",
      "o\n"
     ]
    }
   ],
   "source": [
    "str1='python hello'\n",
    "n=len(str1) # human count only \n",
    "for i in range(n):\n",
    "    print(str1[i])"
   ]
  },
  {
   "cell_type": "code",
   "execution_count": 81,
   "id": "0dfab036-9a71-463a-90bc-c46495d46c98",
   "metadata": {},
   "outputs": [
    {
     "name": "stdout",
     "output_type": "stream",
     "text": [
      "p y t h o n "
     ]
    }
   ],
   "source": [
    "str1='python'\n",
    "n=len(str1) # human count only \n",
    "for i in range(n):\n",
    "    print(str1[i],end=' ')"
   ]
  },
  {
   "cell_type": "code",
   "execution_count": 83,
   "id": "94cac478-00d8-4850-9a9a-4b31a0168be1",
   "metadata": {},
   "outputs": [
    {
     "name": "stdout",
     "output_type": "stream",
     "text": [
      "p y t h o n "
     ]
    }
   ],
   "source": [
    "for i in str1:\n",
    "    print(i,end=' ')"
   ]
  },
  {
   "cell_type": "code",
   "execution_count": null,
   "id": "4952d854-5a15-4ca9-b3ab-237a07051701",
   "metadata": {},
   "outputs": [],
   "source": [
    "i in range()  ==== i behave as number\n",
    "str1[i]\n",
    "i in str1     ==== i behave as element\n",
    "i"
   ]
  },
  {
   "cell_type": "markdown",
   "id": "ea3967b1-2d19-4fe0-b2a2-20f7baaae18a",
   "metadata": {},
   "source": [
    "**Note**\n",
    "\n",
    "- when you have a use case with index then use range method access\n",
    "\n",
    "- when you have a use case with out index then use in method access"
   ]
  },
  {
   "cell_type": "code",
   "execution_count": 94,
   "id": "3f30af88-c11e-4625-8756-993dd7c68c9f",
   "metadata": {},
   "outputs": [
    {
     "name": "stdout",
     "output_type": "stream",
     "text": [
      "1\n",
      "5\n",
      "9\n"
     ]
    }
   ],
   "source": [
    "# Q1) WAP ask the user get a indexes of 'a' from a given string\n",
    "#     str1='hai hai hai'  \n",
    "#     ans: 1,5,9\n",
    "\n",
    "# idea: \n",
    "# step-1: iterate each letter using range\n",
    "# step-2: if str1[i]=='a'\n",
    "# step-3:    i\n",
    "str1='hai hai hai'\n",
    "n=len(str1)\n",
    "for i in range(n):\n",
    "    #print(n-i,str1[i],i)\n",
    "    if str1[i]=='a':\n",
    "        print(i)\n",
    "# step-1: i=0  if str1[0]=='a'  'h'=='a'   F\n",
    "# step-2: i=1  if str1[1]=='a'   'a'=='a'  T  print(1)"
   ]
  },
  {
   "cell_type": "code",
   "execution_count": 96,
   "id": "f3c4b500-9280-457d-b052-118c07465a2f",
   "metadata": {},
   "outputs": [
    {
     "name": "stdout",
     "output_type": "stream",
     "text": [
      "3\n"
     ]
    }
   ],
   "source": [
    "# Q2) Wap ask the user how many 'a' are present \n",
    "#   str1='hai hai hai'  ans=3\n",
    "\n",
    "str1='hai hai hai'\n",
    "n=len(str1)\n",
    "count=0\n",
    "for i in range(n):\n",
    "    if str1[i]=='a':\n",
    "        count=count+1\n",
    "print(count)"
   ]
  },
  {
   "cell_type": "code",
   "execution_count": 98,
   "id": "b1e2c465-d2f2-4d73-b0e6-37757fec683e",
   "metadata": {},
   "outputs": [
    {
     "name": "stdout",
     "output_type": "stream",
     "text": [
      "3\n"
     ]
    }
   ],
   "source": [
    "str1='hai hai hai'\n",
    "count=0\n",
    "for i in str1:\n",
    "    if i=='a':\n",
    "        count=count+1\n",
    "print(count)"
   ]
  },
  {
   "cell_type": "code",
   "execution_count": null,
   "id": "446de110-f97f-4a77-beaa-63ab6622cfb9",
   "metadata": {},
   "outputs": [],
   "source": [
    "# Q3) Wap ask the user find the all vowels ('a e i o u')\n",
    "# str1='hello hai how are you'\n",
    "# all vowels and count also\n",
    "\n",
    "str5='hello hai how are you'\n",
    "str6='aeiou'\n",
    "count=0\n",
    "for i in str5: 'h'\n",
    "    for j in str6:   #'a' e i o u\n",
    "        if i==j:\n",
    "            print(i)\n",
    "            count+=1\n",
    "print(count)\n",
    "\n",
    "praneeth kankanti 20:26\n",
    "str1 = 'hello hai how are you'\n",
    "count = 0\n",
    "for i in range(0,len(str1)):\n",
    "    if str1[i] == 'a' or str1[i] == 'e' or str1[i] == 'i' or str1[i] == 'o' or str1[i] == 'u':\n",
    "        count +=1\n",
    "count"
   ]
  },
  {
   "cell_type": "code",
   "execution_count": 102,
   "id": "a42eb4d6-3630-48b4-8e68-138962f3d2c9",
   "metadata": {},
   "outputs": [
    {
     "name": "stdout",
     "output_type": "stream",
     "text": [
      "e\n",
      "o\n",
      "a\n",
      "i\n",
      "o\n",
      "a\n",
      "e\n",
      "o\n",
      "u\n"
     ]
    }
   ],
   "source": [
    "# 1: No need of range here\n",
    "str1 = 'hello hai how are you'\n",
    "for i in str1:\n",
    "    if i in 'aeiou':\n",
    "        print(i)\n",
    "\n",
    "# step-1: i='h'  if 'h' in 'aeiou'  F\n",
    "# step-2: i='e'  if 'e' in 'aeiou'  T"
   ]
  },
  {
   "cell_type": "code",
   "execution_count": null,
   "id": "58a8ca20-d141-4201-b436-9d5760422853",
   "metadata": {},
   "outputs": [],
   "source": [
    "# Q4) Update above code with\n",
    "#   only one vowel"
   ]
  },
  {
   "cell_type": "markdown",
   "id": "c4ccb1b0-c66d-4f22-b865-f468b239fd01",
   "metadata": {},
   "source": [
    "**Empty string**"
   ]
  },
  {
   "cell_type": "code",
   "execution_count": 107,
   "id": "7b6dafb5-68bd-4649-be12-7c451c025148",
   "metadata": {},
   "outputs": [
    {
     "data": {
      "text/plain": [
       "'py'"
      ]
     },
     "execution_count": 107,
     "metadata": {},
     "output_type": "execute_result"
    }
   ],
   "source": [
    "s=''\n",
    "s=s+'p'\n",
    "s=s+'y'\n"
   ]
  },
  {
   "cell_type": "code",
   "execution_count": 109,
   "id": "afea4590-d6b1-43c8-992e-705c716f6f2d",
   "metadata": {},
   "outputs": [
    {
     "name": "stdout",
     "output_type": "stream",
     "text": [
      "python\n"
     ]
    }
   ],
   "source": [
    "str1='python'\n",
    "s=''\n",
    "for i in str1:\n",
    "    s=s+i\n",
    "print(s)"
   ]
  },
  {
   "cell_type": "code",
   "execution_count": 113,
   "id": "e6eec72b-7361-4ce0-9c87-e79f2327da96",
   "metadata": {},
   "outputs": [
    {
     "data": {
      "text/plain": [
       "'b@n@n@'"
      ]
     },
     "execution_count": 113,
     "metadata": {},
     "output_type": "execute_result"
    }
   ],
   "source": [
    "# Q5) reverse a string\n",
    "# str1='python'\n",
    "# s='nohtyp'\n",
    "\n",
    "# Q6) remove the spaces in a string\n",
    "# str1='hai how are you'\n",
    "# s='haihowareyou'\n",
    "\n",
    "# Q7) remove digits from string\n",
    "# str1='hai123hello435'\n",
    "# s='haihello'\n",
    "\n",
    "#Q8) str1='banana'\n",
    "#     s='b@n@n@'\n",
    "\n"
   ]
  },
  {
   "cell_type": "code",
   "execution_count": null,
   "id": "794fdf5a-8cf6-48d5-999f-bb13f15b7b9a",
   "metadata": {},
   "outputs": [],
   "source": []
  }
 ],
 "metadata": {
  "kernelspec": {
   "display_name": "Python [conda env:base] *",
   "language": "python",
   "name": "conda-base-py"
  },
  "language_info": {
   "codemirror_mode": {
    "name": "ipython",
    "version": 3
   },
   "file_extension": ".py",
   "mimetype": "text/x-python",
   "name": "python",
   "nbconvert_exporter": "python",
   "pygments_lexer": "ipython3",
   "version": "3.12.7"
  }
 },
 "nbformat": 4,
 "nbformat_minor": 5
}
