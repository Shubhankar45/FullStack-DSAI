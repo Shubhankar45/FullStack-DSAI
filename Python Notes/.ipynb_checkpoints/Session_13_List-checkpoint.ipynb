{
 "cells": [
  {
   "cell_type": "markdown",
   "id": "0c028c61-6ce4-443e-9690-99d2cd74abda",
   "metadata": {},
   "source": [
    "**List**"
   ]
  },
  {
   "cell_type": "code",
   "execution_count": 11,
   "id": "6e6dae46-50f6-4ee0-8ff8-e8b4301e2fe6",
   "metadata": {},
   "outputs": [
    {
     "name": "stdout",
     "output_type": "stream",
     "text": [
      "4\n",
      "100\n",
      "40\n",
      "10\n",
      "[5, 7, 8, 9]\n",
      "[9, 8, 7, 5]\n",
      "[8, 9, 7, 5]\n"
     ]
    }
   ],
   "source": [
    "l1=[10,20,30,40]\n",
    "l2=['A','B','C']\n",
    "l3=[10,20,30,'A','B','C']\n",
    "l4=[10,'A',20.5,True,10+20j]\n",
    "l5=[[10,20,30]]\n",
    "l6=[10,10,10]\n",
    "l7=[]\n",
    "#list can take all data types \n",
    "#list are heterogeneous\n",
    "#duplicates are available\n",
    "#list in a list also possible\n",
    "\n",
    "#len all\n",
    "#sum l1 \n",
    "#max l1 l2 \n",
    "#min \n",
    "#sorted\n",
    "#reversed\n",
    "\n",
    "print(len(l1))\n",
    "print(sum(l1))\n",
    "print(max(l1))\n",
    "print(min(l1))\n",
    "l1=[5,7,9,8]\n",
    "print(sorted(l1))\n",
    "print(sorted(l1,reverse=True))\n",
    "print(list(reversed(l1)))\n",
    "#print(reversed(l1,reversed='true'))"
   ]
  },
  {
   "cell_type": "markdown",
   "id": "10ea949b-b4ad-483e-8aa6-2baa5e42f77c",
   "metadata": {},
   "source": [
    "**index**"
   ]
  },
  {
   "cell_type": "code",
   "execution_count": null,
   "id": "409d1af0-bf01-4539-9d92-4db53a3b16ab",
   "metadata": {},
   "outputs": [],
   "source": [
    "l3=[10,20,30,'A','B','C']\n",
    "\n"
   ]
  },
  {
   "cell_type": "code",
   "execution_count": 12,
   "id": "9de7379f-91d2-465c-ae0e-ce69b6fe66a5",
   "metadata": {},
   "outputs": [
    {
     "data": {
      "text/plain": [
       "'Banana'"
      ]
     },
     "execution_count": 12,
     "metadata": {},
     "output_type": "execute_result"
    }
   ],
   "source": [
    "l=['Apple','Banana']\n",
    "l[1]\n"
   ]
  },
  {
   "cell_type": "code",
   "execution_count": 14,
   "id": "2140a24b-fac1-430d-a678-447639023ce3",
   "metadata": {},
   "outputs": [
    {
     "data": {
      "text/plain": [
       "'Banana'"
      ]
     },
     "execution_count": 14,
     "metadata": {},
     "output_type": "execute_result"
    }
   ],
   "source": [
    "l=['Apple',['Banana']]\n",
    "l[1][0]"
   ]
  },
  {
   "cell_type": "code",
   "execution_count": 16,
   "id": "3eb8c459-e457-4796-b48b-8bbd98eb26c5",
   "metadata": {},
   "outputs": [
    {
     "name": "stdout",
     "output_type": "stream",
     "text": [
      "2\n"
     ]
    },
    {
     "data": {
      "text/plain": [
       "'Cherry'"
      ]
     },
     "execution_count": 16,
     "metadata": {},
     "output_type": "execute_result"
    }
   ],
   "source": [
    "l=['Apple',['Banana','Cherry']]\n",
    "print(len(l))\n",
    "l[1][1]"
   ]
  },
  {
   "cell_type": "code",
   "execution_count": 19,
   "id": "18a31629-b2c6-40e4-a537-c0a570480487",
   "metadata": {},
   "outputs": [
    {
     "name": "stdout",
     "output_type": "stream",
     "text": [
      "2\n"
     ]
    },
    {
     "data": {
      "text/plain": [
       "'Cherry'"
      ]
     },
     "execution_count": 19,
     "metadata": {},
     "output_type": "execute_result"
    }
   ],
   "source": [
    "l=['Apple',['Banana',['Cherry']]]\n",
    "print(len(l))\n",
    "l[1][1][0]"
   ]
  },
  {
   "cell_type": "code",
   "execution_count": 20,
   "id": "6e9c0cff-4cac-4a04-a983-650d3ff0faa9",
   "metadata": {},
   "outputs": [
    {
     "data": {
      "text/plain": [
       "'VK'"
      ]
     },
     "execution_count": 20,
     "metadata": {},
     "output_type": "execute_result"
    }
   ],
   "source": [
    "l=['Orange',['Nagpur',['MH',['Shivaji',['Shambaji',['Chava',['VK']]]]]]]\n",
    "l[1][1][1][1][1][1][0]"
   ]
  },
  {
   "cell_type": "code",
   "execution_count": null,
   "id": "0dce9fac-9924-4be0-8777-ca44e398c868",
   "metadata": {},
   "outputs": [],
   "source": []
  }
 ],
 "metadata": {
  "kernelspec": {
   "display_name": "Python [conda env:base] *",
   "language": "python",
   "name": "conda-base-py"
  },
  "language_info": {
   "codemirror_mode": {
    "name": "ipython",
    "version": 3
   },
   "file_extension": ".py",
   "mimetype": "text/x-python",
   "name": "python",
   "nbconvert_exporter": "python",
   "pygments_lexer": "ipython3",
   "version": "3.13.5"
  }
 },
 "nbformat": 4,
 "nbformat_minor": 5
}
