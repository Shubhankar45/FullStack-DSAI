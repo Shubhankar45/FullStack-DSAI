{
 "cells": [
  {
   "cell_type": "markdown",
   "id": "0ab317f1-e9fe-4594-ac1a-6cc10edc3ede",
   "metadata": {},
   "source": [
    "- Any loop we need 3 things\n",
    "\n",
    "- intial point\n",
    "\n",
    "- increment or decrement\n",
    "\n",
    "- stop point"
   ]
  },
  {
   "cell_type": "code",
   "execution_count": null,
   "id": "5fc0f0bc-afc2-4b2e-82af-420a1ac55462",
   "metadata": {},
   "outputs": [],
   "source": [
    "for i in range(3,10)\n",
    "# 3   +1    stop till 9\n",
    "# i=3     # intial point\n",
    "# i=i+1   # increment point\n",
    "# i==9    # stop"
   ]
  },
  {
   "cell_type": "code",
   "execution_count": null,
   "id": "8aa81ee2-67b0-4b39-97f1-8d6dfd77e365",
   "metadata": {},
   "outputs": [],
   "source": [
    "# intial point\n",
    "while <condition>:\n",
    "    #increment\n",
    "    # statements\n",
    "\n",
    "for i in range(start,stop):\n",
    "    # statements"
   ]
  },
  {
   "cell_type": "code",
   "execution_count": 1,
   "id": "31eeefd6-da4b-46d9-9a62-be3ac80f90f3",
   "metadata": {},
   "outputs": [
    {
     "name": "stdout",
     "output_type": "stream",
     "text": [
      "3\n",
      "4\n",
      "5\n",
      "6\n",
      "7\n",
      "8\n",
      "9\n"
     ]
    }
   ],
   "source": [
    "for i in range(3,10):  # 3lines\n",
    "    print(i)           # 1 line"
   ]
  },
  {
   "cell_type": "code",
   "execution_count": null,
   "id": "14aada0a-cd59-4704-a6ea-0796faca68a9",
   "metadata": {},
   "outputs": [],
   "source": [
    "i=3\n",
    "while i<10:    # 3==10  True\n",
    "    print(i)\n",
    "    i=i+1\n",
    "\n",
    "# step-1: i=3  while 3<10 True  print(3)  i=3+1=4\n",
    "# step-2: i=4 while 4<10  Tr    p(4)     i=4+1=5\n",
    "\n",
    "# step-6: i=9 while 9<10  T    p(9)    i=9+1=10\n",
    "# step-7: i=10 while 10<10 F   "
   ]
  },
  {
   "cell_type": "code",
   "execution_count": 8,
   "id": "d2233c29-50ca-4ae1-b10f-211282cd594c",
   "metadata": {},
   "outputs": [
    {
     "name": "stdout",
     "output_type": "stream",
     "text": [
      "1 2 3 4 5 6 7 8 9 10 "
     ]
    }
   ],
   "source": [
    "for i in range(1,11):\n",
    "    print(i,end=' ')\n"
   ]
  },
  {
   "cell_type": "code",
   "execution_count": 10,
   "id": "6b58e5eb-7527-4d04-857d-9349c730838a",
   "metadata": {},
   "outputs": [
    {
     "name": "stdout",
     "output_type": "stream",
     "text": [
      "10 9 8 7 6 5 4 3 2 1 "
     ]
    }
   ],
   "source": [
    "for i in range(10,0,-1):\n",
    "    print(i,end=' ')"
   ]
  },
  {
   "cell_type": "code",
   "execution_count": 12,
   "id": "349faa2d-5452-463c-8bee-dc02800b7e84",
   "metadata": {},
   "outputs": [
    {
     "name": "stdout",
     "output_type": "stream",
     "text": [
      "-10 -9 -8 -7 -6 -5 -4 -3 -2 -1 "
     ]
    }
   ],
   "source": [
    "for i in range(-10,0):\n",
    "    print(i,end=' ')"
   ]
  },
  {
   "cell_type": "code",
   "execution_count": 14,
   "id": "937fb83f-0589-4029-b273-f5f6e762ef3c",
   "metadata": {},
   "outputs": [
    {
     "name": "stdout",
     "output_type": "stream",
     "text": [
      "-1 -2 -3 -4 -5 -6 -7 -8 -9 -10 "
     ]
    }
   ],
   "source": [
    "for i in range(-1,-11,-1):\n",
    "    print(i,end=' ')"
   ]
  },
  {
   "cell_type": "code",
   "execution_count": null,
   "id": "7854d92b-3927-4645-a158-b329f52c8e8c",
   "metadata": {},
   "outputs": [],
   "source": [
    "for i in range(1,11):\n",
    "    print(i,end=' ')\n",
    "\n",
    "for i in range(10,0,-1):\n",
    "    print(i,end=' ')\n",
    "\n",
    "for i in range(-10,0):\n",
    "    print(i,end=' ')\n",
    "\n",
    "for i in range(-1,-11,-1):\n",
    "    print(i,end=' ')"
   ]
  },
  {
   "cell_type": "code",
   "execution_count": 18,
   "id": "3adcba52-387d-4ae2-ba62-054b2ade5888",
   "metadata": {},
   "outputs": [
    {
     "name": "stdout",
     "output_type": "stream",
     "text": [
      "10 9 8 7 6 5 4 3 2 1 "
     ]
    }
   ],
   "source": [
    "i=10  # Mandatory\n",
    "while i>0: # Mandatory\n",
    "    print(i,end=' ')\n",
    "    i=i-1  # Mandatory"
   ]
  },
  {
   "cell_type": "code",
   "execution_count": 20,
   "id": "3a9080bf-a56c-47a1-acd6-9181424cb1e8",
   "metadata": {},
   "outputs": [
    {
     "name": "stdout",
     "output_type": "stream",
     "text": [
      "-10 -9 -8 -7 -6 -5 -4 -3 -2 -1 "
     ]
    }
   ],
   "source": [
    "# for i in range(-10,0):\n",
    "#     print(i,end=' ')\n",
    "\n",
    "i=-10\n",
    "while i<0:\n",
    "    print(i,end=' ')\n",
    "    i=i+1\n"
   ]
  },
  {
   "cell_type": "code",
   "execution_count": 22,
   "id": "6ca66f02-e6b5-4ee8-99dd-6c1ca27d39fa",
   "metadata": {},
   "outputs": [
    {
     "name": "stdout",
     "output_type": "stream",
     "text": [
      "-1 -2 -3 -4 -5 -6 -7 -8 -9 -10 "
     ]
    }
   ],
   "source": [
    "# for i in range(-1,-11,-1):\n",
    "#     print(i,end=' ')\n",
    "\n",
    "i=-1\n",
    "while i>-11:\n",
    "    print(i,end=' ')\n",
    "    i=i-1"
   ]
  },
  {
   "cell_type": "code",
   "execution_count": null,
   "id": "ec888781-de74-479e-8a13-e468c4e0b71e",
   "metadata": {},
   "outputs": [],
   "source": [
    "i=10  # Mandatory\n",
    "while i>0: # Mandatory\n",
    "    print(i,end=' ')\n",
    "    i=i-1  # Mandatory\n",
    "##############################################\n",
    "i=-10\n",
    "while i<0:\n",
    "    print(i,end=' ')\n",
    "    i=i+1\n",
    "#############################################\n",
    "i=-1\n",
    "while i>-11:\n",
    "    print(i,end=' ')\n",
    "    i=i-1"
   ]
  },
  {
   "cell_type": "code",
   "execution_count": 26,
   "id": "26489098-e4ad-4d55-95a7-28701ad853bd",
   "metadata": {},
   "outputs": [
    {
     "name": "stdout",
     "output_type": "stream",
     "text": [
      "1 2 3 4 5 6 7 8 9 10 "
     ]
    }
   ],
   "source": [
    "i=1\n",
    "while i<11:    \n",
    "    print(i,end=' ')\n",
    "    i=i+1"
   ]
  },
  {
   "cell_type": "code",
   "execution_count": 30,
   "id": "39990c78-2178-4d76-ab49-45bb9dbe4c94",
   "metadata": {},
   "outputs": [
    {
     "name": "stdout",
     "output_type": "stream",
     "text": [
      "1 2 3 4 5 6 7 8 9 10 "
     ]
    }
   ],
   "source": [
    "i=1\n",
    "while True:    \n",
    "    print(i,end=' ')\n",
    "    i=i+1\n",
    "    if i==11:\n",
    "        break"
   ]
  },
  {
   "cell_type": "code",
   "execution_count": null,
   "id": "f529c67c-21ef-4f84-bd75-9f9fc3e799c9",
   "metadata": {},
   "outputs": [],
   "source": [
    "# Q1) wap ask the user take a number print square of the number\n",
    "#     ask the repeat the task 3 times\n",
    "\n",
    "# # Q2) wap 7th table\n",
    "\n",
    "# Q3) ask the user enter a number print even or odd\n",
    "#      repeat the task 5 times\n",
    "\n",
    "# Q4) ask the user get a random number between 1 to 100 print even or odd\n",
    "#    repeat the task 5 times\n",
    "\n",
    "# Q5) WAP ask the user find the divisiors of 75\n",
    "\n",
    "# Q6) wap ask the user enter a number\n",
    "#     ask the user get a random number\n",
    "#    if both are equal print won \n",
    "#    otherwise print lost\n",
    "#    give 3 chances to the user (for)\n",
    "\n",
    "\n",
    "# Q7) Imagine that your develop internet\n",
    "\n",
    "# Case-1: when ever the correct pwd : code should stop\n",
    "# Case-2: whenever you are enter the wrong\n",
    "          # wrong pwd\n",
    "          # still have 2 chances\n",
    "          # still have 1 cahnces\n",
    "\n",
    "# Case-3: whenerver all the chances\n",
    "#         # try afer 24hours print\n",
    "\n",
    "# Q8) Wap ask the user get the sum of first 10 natural number\n",
    "\n",
    "# Q9) Wap ask the user get the sum of divsiors of 75\n",
    "\n",
    "# Q10) Wap ask the user get a random number between 1 to 100\n",
    "# find  even or odd\n",
    "# get the sum of even and sum of odd\n",
    "# Get 5 random number (for 5 times)\n",
    "# even_summ=0\n",
    "# odd_summ=0\n",
    "\n",
    "# Q11)Wap ask the user get the find the number of divsiors of 75"
   ]
  },
  {
   "cell_type": "code",
   "execution_count": null,
   "id": "f9706476-1f79-4c0a-bafa-5a463e4dfbc5",
   "metadata": {},
   "outputs": [],
   "source": [
    "# If we dont know what is stop condition\n",
    "# If we want to give infinite chances till the answer should correct \n",
    "# then we can use while loop \n",
    "\n",
    "# In for loop inherently stop value available \n",
    "#   range(3)  stop =2   \n",
    "#   range(3,11) stop=10\n"
   ]
  },
  {
   "cell_type": "code",
   "execution_count": 32,
   "id": "022b0410-66d5-4f9e-bfd2-c2cd4af0aa19",
   "metadata": {},
   "outputs": [
    {
     "name": "stdout",
     "output_type": "stream",
     "text": [
      "6\n"
     ]
    },
    {
     "name": "stdin",
     "output_type": "stream",
     "text": [
      "number: 7\n",
      "number: 9\n",
      "number: 0\n",
      "number: 1\n",
      "number: 2\n",
      "number: 3\n",
      "number: 6\n"
     ]
    },
    {
     "name": "stdout",
     "output_type": "stream",
     "text": [
      "won\n"
     ]
    }
   ],
   "source": [
    "import random\n",
    "random_num=random.randint(1,10)\n",
    "print(random_num)\n",
    "while True:\n",
    "    user_num=eval(input('number:'))\n",
    "    if user_num==random_num:\n",
    "        print('won')\n",
    "        break"
   ]
  },
  {
   "cell_type": "code",
   "execution_count": null,
   "id": "b3a98ad3-a457-479a-92ba-a8da342f0ce2",
   "metadata": {},
   "outputs": [],
   "source": []
  }
 ],
 "metadata": {
  "kernelspec": {
   "display_name": "Python [conda env:base] *",
   "language": "python",
   "name": "conda-base-py"
  },
  "language_info": {
   "codemirror_mode": {
    "name": "ipython",
    "version": 3
   },
   "file_extension": ".py",
   "mimetype": "text/x-python",
   "name": "python",
   "nbconvert_exporter": "python",
   "pygments_lexer": "ipython3",
   "version": "3.12.7"
  }
 },
 "nbformat": 4,
 "nbformat_minor": 5
}
