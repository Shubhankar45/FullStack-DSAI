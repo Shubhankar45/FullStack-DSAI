{
 "cells": [
  {
   "cell_type": "code",
   "execution_count": 1,
   "id": "183c1dae-73bd-426b-9db4-2666dd3d918f",
   "metadata": {},
   "outputs": [
    {
     "data": {
      "text/plain": [
       "<bound method Kernel.raw_input of <ipykernel.ipkernel.IPythonKernel object at 0x0000023BD16C1760>>"
      ]
     },
     "execution_count": 1,
     "metadata": {},
     "output_type": "execute_result"
    }
   ],
   "source": [
    "input"
   ]
  },
  {
   "cell_type": "markdown",
   "id": "de8c246e-3576-49e0-973f-936f7c83f196",
   "metadata": {},
   "source": [
    "- bound method\n",
    "\n",
    "- function\n",
    "\n",
    "- we need to add brackets"
   ]
  },
  {
   "cell_type": "code",
   "execution_count": 8,
   "id": "18b41afb-2de8-4dc0-8395-2e7cd4180fdf",
   "metadata": {
    "scrolled": true
   },
   "outputs": [
    {
     "name": "stdin",
     "output_type": "stream",
     "text": [
      " 10\n"
     ]
    },
    {
     "data": {
      "text/plain": [
       "'10'"
      ]
     },
     "execution_count": 8,
     "metadata": {},
     "output_type": "execute_result"
    }
   ],
   "source": [
    "input()"
   ]
  },
  {
   "cell_type": "code",
   "execution_count": 12,
   "id": "9cad398c-3b52-425f-b040-803f2c68ffcc",
   "metadata": {},
   "outputs": [
    {
     "name": "stdin",
     "output_type": "stream",
     "text": [
      " 10\n",
      " 20\n"
     ]
    },
    {
     "data": {
      "text/plain": [
       "'20'"
      ]
     },
     "execution_count": 12,
     "metadata": {},
     "output_type": "execute_result"
    }
   ],
   "source": [
    "input()\n",
    "input()"
   ]
  },
  {
   "cell_type": "code",
   "execution_count": 14,
   "id": "2f2091c2-b9dd-4ebb-b0a3-0ab477ce4836",
   "metadata": {},
   "outputs": [
    {
     "name": "stdin",
     "output_type": "stream",
     "text": [
      "Enter the number1: 10\n",
      "Enter the number2: 20\n"
     ]
    },
    {
     "data": {
      "text/plain": [
       "'20'"
      ]
     },
     "execution_count": 14,
     "metadata": {},
     "output_type": "execute_result"
    }
   ],
   "source": [
    "input(\"Enter the number1:\")\n",
    "input(\"Enter the number2:\")"
   ]
  },
  {
   "cell_type": "code",
   "execution_count": null,
   "id": "13d969ac-4992-44bb-9c1c-c4f32f65f95e",
   "metadata": {},
   "outputs": [],
   "source": [
    "a=10\n",
    "b=20\n",
    "c=a+b\n",
    "c"
   ]
  },
  {
   "cell_type": "code",
   "execution_count": 16,
   "id": "822a2ff6-02b0-42f2-ab9a-353e8d8f6c17",
   "metadata": {},
   "outputs": [
    {
     "name": "stdin",
     "output_type": "stream",
     "text": [
      "Enter the number1: 10\n",
      "Enter the number2: 20\n"
     ]
    },
    {
     "data": {
      "text/plain": [
       "'1020'"
      ]
     },
     "execution_count": 16,
     "metadata": {},
     "output_type": "execute_result"
    }
   ],
   "source": [
    "a=input(\"Enter the number1:\")\n",
    "b=input(\"Enter the number2:\")\n",
    "c=a+b\n",
    "c"
   ]
  },
  {
   "cell_type": "code",
   "execution_count": 18,
   "id": "aca5a743-bf3f-46a3-b8ee-74c7c84e1f18",
   "metadata": {},
   "outputs": [
    {
     "name": "stdin",
     "output_type": "stream",
     "text": [
      " 10\n"
     ]
    },
    {
     "data": {
      "text/plain": [
       "'10'"
      ]
     },
     "execution_count": 18,
     "metadata": {},
     "output_type": "execute_result"
    }
   ],
   "source": [
    "int(input())"
   ]
  },
  {
   "cell_type": "code",
   "execution_count": 20,
   "id": "ac1683c4-674a-4dea-ad8b-e564377b01ab",
   "metadata": {},
   "outputs": [
    {
     "name": "stdin",
     "output_type": "stream",
     "text": [
      "Enter the number1: 10\n",
      "Enter the number2: 20\n"
     ]
    },
    {
     "data": {
      "text/plain": [
       "30"
      ]
     },
     "execution_count": 20,
     "metadata": {},
     "output_type": "execute_result"
    }
   ],
   "source": [
    "a=int(input(\"Enter the number1:\")) # int('10')\n",
    "b=int(input(\"Enter the number2:\"))\n",
    "c=a+b\n",
    "c"
   ]
  },
  {
   "cell_type": "code",
   "execution_count": 22,
   "id": "2f34e5ab-c2d1-4203-8da5-eda48417af4e",
   "metadata": {},
   "outputs": [
    {
     "name": "stdin",
     "output_type": "stream",
     "text": [
      "enter a value: 10\n"
     ]
    },
    {
     "data": {
      "text/plain": [
       "'10'"
      ]
     },
     "execution_count": 22,
     "metadata": {},
     "output_type": "execute_result"
    }
   ],
   "source": [
    "input('enter a value:')"
   ]
  },
  {
   "cell_type": "code",
   "execution_count": null,
   "id": "ab21bbab-ec47-47bb-abaf-dc2e8687c482",
   "metadata": {},
   "outputs": [],
   "source": [
    "a=int(input(\"Enter the number1:\")) # int('10')\n",
    "b=int(input(\"Enter the number2:\"))\n",
    "c=a+b\n",
    "c"
   ]
  },
  {
   "cell_type": "code",
   "execution_count": null,
   "id": "81eace11-ca32-4d44-9bc2-b9e2d463eb62",
   "metadata": {},
   "outputs": [],
   "source": [
    "a=eval(input(\"Enter the number1:\")) # int('10')\n",
    "b=eval(input(\"Enter the number2:\"))\n",
    "c=a+b\n",
    "c\n"
   ]
  },
  {
   "cell_type": "code",
   "execution_count": null,
   "id": "8b7d431d-91fc-481b-8809-74b948e6aed5",
   "metadata": {},
   "outputs": [],
   "source": [
    "input\n",
    "input()\n",
    "a=input('enter the number')\n",
    "b=input('enter the number')\n",
    "print(a+b)\n",
    "\n",
    "a=eval(input('enter the number'))\n",
    "b=eval(input('enter the number'))\n",
    "print(a+b)"
   ]
  },
  {
   "cell_type": "code",
   "execution_count": null,
   "id": "422ef795-b219-441b-9c80-f690445d8b59",
   "metadata": {},
   "outputs": [],
   "source": [
    "int('10')  # 10\n",
    "float('10.5') "
   ]
  },
  {
   "cell_type": "code",
   "execution_count": null,
   "id": "e1e67701-8adc-46b3-af11-4cb491e97775",
   "metadata": {},
   "outputs": [],
   "source": [
    "eval('10')\n",
    "eval('10.5')"
   ]
  },
  {
   "cell_type": "code",
   "execution_count": null,
   "id": "0bd378cc-e16b-45ae-af87-ceb1c087faba",
   "metadata": {},
   "outputs": [],
   "source": [
    "# wap ask the user take two number print subtraction multiplication and division\n",
    "a=eval(input())\n",
    "# wap ask the user take the radius find the area of circle\n",
    "# pi=3.14\n",
    "# r=100\n",
    "# area_of_circle=pi*r*r\n",
    "\n",
    "# wap ask the user take height and breadth find the area of traingle\n",
    "#       area_of_traingle=0.5*b*h\n",
    "\n",
    "# wap ask the user take 3 numbers find the average\n",
    "# wap ask the user take the bill amount and tip anount calculate total bill\n",
    "# wap ask the user take the salary, percetage of tax calculate tax amount\n",
    "# wap ask the user take the value in dollar convert into rupees\n",
    "#         1$=80rs\n",
    "# wap ask the use take weight in kgs convert into pounds\n",
    "#     1kg=2.2pounds"
   ]
  },
  {
   "cell_type": "code",
   "execution_count": null,
   "id": "48f128f9-984e-4c86-97bd-28576c26b2a8",
   "metadata": {},
   "outputs": [],
   "source": [
    "a=eval(input('enter the number'))\n",
    "eval(input(\"enter )\n",
    "eval(input(\"enter the number\"))\n",
    "eval(input(\""
   ]
  }
 ],
 "metadata": {
  "kernelspec": {
   "display_name": "Python [conda env:base] *",
   "language": "python",
   "name": "conda-base-py"
  },
  "language_info": {
   "codemirror_mode": {
    "name": "ipython",
    "version": 3
   },
   "file_extension": ".py",
   "mimetype": "text/x-python",
   "name": "python",
   "nbconvert_exporter": "python",
   "pygments_lexer": "ipython3",
   "version": "3.12.7"
  }
 },
 "nbformat": 4,
 "nbformat_minor": 5
}
