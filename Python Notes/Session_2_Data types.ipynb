{
 "cells": [
  {
   "cell_type": "code",
   "execution_count": 1,
   "id": "e3ddb8d7-4e86-46cb-80cb-5516df48feca",
   "metadata": {},
   "outputs": [],
   "source": [
    "import os"
   ]
  },
  {
   "cell_type": "code",
   "execution_count": 3,
   "id": "a2850fae-e3e0-47eb-a90b-57e71d7999e1",
   "metadata": {},
   "outputs": [
    {
     "data": {
      "text/plain": [
       "'C:\\\\Users\\\\omkar\\\\OneDrive\\\\Documents\\\\Data science\\\\Naresh IT\\\\Naresh IT\\\\Data science\\\\Batches\\\\Batch_16_July\\\\python_sessions'"
      ]
     },
     "execution_count": 3,
     "metadata": {},
     "output_type": "execute_result"
    }
   ],
   "source": [
    "os.getcwd()"
   ]
  },
  {
   "cell_type": "markdown",
   "id": "94b15088-1b49-4884-b83c-d8ae0b64a22d",
   "metadata": {},
   "source": [
    "- we are using some inbulit functions"
   ]
  },
  {
   "cell_type": "code",
   "execution_count": null,
   "id": "93e74f70-e1d5-4299-bb23-cfec39cf2b88",
   "metadata": {},
   "outputs": [],
   "source": [
    "print()\n",
    "type()\n",
    "sum()\n",
    "max()\n",
    "min()\n",
    "len()\n",
    "len[]   # wrong"
   ]
  },
  {
   "cell_type": "code",
   "execution_count": 6,
   "id": "b9cdd5e0-135d-474e-919b-ad81dfba3440",
   "metadata": {},
   "outputs": [
    {
     "data": {
      "text/plain": [
       "<function nt.getcwd()>"
      ]
     },
     "execution_count": 6,
     "metadata": {},
     "output_type": "execute_result"
    }
   ],
   "source": [
    "os.getcwd"
   ]
  },
  {
   "cell_type": "code",
   "execution_count": 12,
   "id": "409787a2-5065-440e-96bc-ce2e05333c12",
   "metadata": {},
   "outputs": [
    {
     "data": {
      "text/plain": [
       "'C:\\\\Users\\\\omkar\\\\OneDrive\\\\Documents\\\\Data science\\\\Naresh IT\\\\Naresh IT\\\\Data science\\\\Batches\\\\Batch_16_July\\\\python_sessions'"
      ]
     },
     "execution_count": 12,
     "metadata": {},
     "output_type": "execute_result"
    }
   ],
   "source": [
    "os.getcwd()"
   ]
  },
  {
   "cell_type": "markdown",
   "id": "f480b694-12be-4508-9b92-08358e397c53",
   "metadata": {},
   "source": [
    "- if we miss brackets\n",
    "\n",
    "    - function\n",
    "\n",
    "    - bound method"
   ]
  },
  {
   "cell_type": "markdown",
   "id": "a9b72252-b0bc-4fc5-a561-1d18a7b19f19",
   "metadata": {},
   "source": [
    "## Data types"
   ]
  },
  {
   "cell_type": "markdown",
   "id": "0440a723-d25b-4b30-af57-234f581cb99d",
   "metadata": {},
   "source": [
    "- int\n",
    "\n",
    "- float\n",
    "\n",
    "- bool\n",
    "\n",
    "- str\n",
    "\n",
    "- complex\n",
    "\n",
    "- range\n",
    "\n",
    "- list\n",
    "\n",
    "- tuple\n",
    "\n",
    "- dict\n",
    "\n",
    "- set\n",
    "\n",
    "- frozenset\n",
    "\n",
    "- bytes\n",
    "\n",
    "- bytearray\n",
    "\n",
    "- memoryview"
   ]
  },
  {
   "cell_type": "code",
   "execution_count": null,
   "id": "b77a99ff-1c10-4f89-b7f2-d92205f6fcfb",
   "metadata": {},
   "outputs": [],
   "source": [
    "python basics\n",
    "    - Variables\n",
    "\n",
    "    - Data types\n",
    "\n",
    "    - Type casting , how to convert one data type to another data type\n",
    "\n",
    "    - print statements\n",
    "\n",
    "    - basic codes\n",
    "\n",
    "    - input , eval , round\n",
    "\n",
    "    - packages or libraries  i.e.very important\n",
    "\n",
    "    - conditional statements\n",
    "\n",
    "    - exceptional handling\n",
    "\n",
    "    - functions\n",
    "\n",
    "    - for and while\n",
    "python core\n",
    "    - strings\n",
    "\n",
    "    - list \n",
    "\n",
    "        - list comprehension\n",
    "\n",
    "    - tuple   # my students\n",
    "\n",
    "    - dictionary\n",
    "\n",
    "    - lambda functions\n",
    "\n",
    "    - file handling\n",
    "\n",
    "30days ==== learn\n",
    "\n",
    "python advanced\n",
    "\n",
    "    - oops EDA ML\n",
    "\n",
    "\n",
    "python + stats : EDA\n",
    "python + ML : \n",
    "python + DL\n",
    "python+ NLP\n",
    "python+Genai\n"
   ]
  },
  {
   "cell_type": "markdown",
   "id": "bc99b86a-b912-485e-87af-c2c9b108b20d",
   "metadata": {},
   "source": [
    "**integer**"
   ]
  },
  {
   "cell_type": "code",
   "execution_count": 18,
   "id": "3bb864d6-7e5d-432d-bfb8-a0efc7f2310c",
   "metadata": {},
   "outputs": [
    {
     "data": {
      "text/plain": [
       "int"
      ]
     },
     "execution_count": 18,
     "metadata": {},
     "output_type": "execute_result"
    }
   ],
   "source": [
    "number=100\n",
    "type(number)"
   ]
  },
  {
   "cell_type": "markdown",
   "id": "ca8370da-2f38-4719-90f5-f16177269d54",
   "metadata": {},
   "source": [
    "**float**"
   ]
  },
  {
   "cell_type": "code",
   "execution_count": 23,
   "id": "36787b80-f367-4dac-be8d-c1693249302d",
   "metadata": {},
   "outputs": [
    {
     "data": {
      "text/plain": [
       "float"
      ]
     },
     "execution_count": 23,
     "metadata": {},
     "output_type": "execute_result"
    }
   ],
   "source": [
    "number1=100.25\n",
    "type(number1)"
   ]
  },
  {
   "cell_type": "code",
   "execution_count": 29,
   "id": "aed999c6-3c5a-4e48-a225-984d58158973",
   "metadata": {},
   "outputs": [
    {
     "name": "stdout",
     "output_type": "stream",
     "text": [
      "100.0\n",
      "1000.0\n",
      "10000.0\n"
     ]
    }
   ],
   "source": [
    "print(10e1)  # 10*10\n",
    "print(10e2)  # 10*100\n",
    "print(10e3)  # 10*1000"
   ]
  },
  {
   "cell_type": "code",
   "execution_count": 31,
   "id": "361b3a55-6aee-493f-a763-dc4c461a12d2",
   "metadata": {},
   "outputs": [
    {
     "name": "stdout",
     "output_type": "stream",
     "text": [
      "1.0\n",
      "0.1\n",
      "0.01\n"
     ]
    }
   ],
   "source": [
    "print(10e-1) # 10/10\n",
    "print(10e-2) # 10/100\n",
    "print(10e-3) # 10/1000"
   ]
  },
  {
   "cell_type": "code",
   "execution_count": 37,
   "id": "8d476a22-7201-40e2-84c6-5e447368c713",
   "metadata": {},
   "outputs": [
    {
     "data": {
      "text/plain": [
       "-0.000191946214"
      ]
     },
     "execution_count": 37,
     "metadata": {},
     "output_type": "execute_result"
    }
   ],
   "source": [
    "-1.91946214e-10"
   ]
  },
  {
   "cell_type": "code",
   "execution_count": 39,
   "id": "fafdb3ca-e6c7-41dc-98fb-35f6151debfb",
   "metadata": {},
   "outputs": [
    {
     "name": "stdout",
     "output_type": "stream",
     "text": [
      "100.0\n",
      "1000.0\n",
      "10000.0\n"
     ]
    }
   ],
   "source": [
    "print(10e+1) \n",
    "print(10e+2) \n",
    "print(10e+3) "
   ]
  },
  {
   "cell_type": "code",
   "execution_count": 41,
   "id": "b04a4c35-c8df-4e40-b740-8a58b6d2d11b",
   "metadata": {},
   "outputs": [
    {
     "data": {
      "text/plain": [
       "True"
      ]
     },
     "execution_count": 41,
     "metadata": {},
     "output_type": "execute_result"
    }
   ],
   "source": [
    "10e+1==10e1"
   ]
  },
  {
   "cell_type": "code",
   "execution_count": 43,
   "id": "45075d31-6be5-4140-801f-144f334f78bb",
   "metadata": {},
   "outputs": [
    {
     "data": {
      "text/plain": [
       "False"
      ]
     },
     "execution_count": 43,
     "metadata": {},
     "output_type": "execute_result"
    }
   ],
   "source": [
    "10e+1==10e2 "
   ]
  },
  {
   "cell_type": "code",
   "execution_count": null,
   "id": "fc98e610-7161-4c3c-be5c-3b6898c1c6ee",
   "metadata": {},
   "outputs": [],
   "source": [
    "10e-1,10e+1,10e1"
   ]
  },
  {
   "cell_type": "markdown",
   "id": "6860c066-0b43-4b5d-bccd-57f027ebcfab",
   "metadata": {},
   "source": [
    "**Strings**"
   ]
  },
  {
   "cell_type": "code",
   "execution_count": 48,
   "id": "9112b60f-27e4-44cc-86a0-58a8a23219f3",
   "metadata": {},
   "outputs": [],
   "source": [
    "omkar=200"
   ]
  },
  {
   "cell_type": "code",
   "execution_count": 52,
   "id": "45c1cb42-d5d9-40ee-b992-c420757e090a",
   "metadata": {},
   "outputs": [
    {
     "ename": "NameError",
     "evalue": "name 'omkaaaar' is not defined",
     "output_type": "error",
     "traceback": [
      "\u001b[1;31m---------------------------------------------------------------------------\u001b[0m",
      "\u001b[1;31mNameError\u001b[0m                                 Traceback (most recent call last)",
      "Cell \u001b[1;32mIn[52], line 1\u001b[0m\n\u001b[1;32m----> 1\u001b[0m omkaaaar\n",
      "\u001b[1;31mNameError\u001b[0m: name 'omkaaaar' is not defined"
     ]
    }
   ],
   "source": [
    "omkaaaar"
   ]
  },
  {
   "cell_type": "code",
   "execution_count": 56,
   "id": "f710c3da-cf44-4476-96ee-33aa6521a641",
   "metadata": {},
   "outputs": [],
   "source": [
    "OMKAR=500"
   ]
  },
  {
   "cell_type": "code",
   "execution_count": 58,
   "id": "f40eed17-abaf-4d63-852e-f131afe6884b",
   "metadata": {},
   "outputs": [
    {
     "data": {
      "text/plain": [
       "500"
      ]
     },
     "execution_count": 58,
     "metadata": {},
     "output_type": "execute_result"
    }
   ],
   "source": [
    "OMKAR"
   ]
  },
  {
   "cell_type": "code",
   "execution_count": 66,
   "id": "c34de738-221e-4f23-8f40-01eff0dd64d4",
   "metadata": {},
   "outputs": [
    {
     "data": {
      "text/plain": [
       "str"
      ]
     },
     "execution_count": 66,
     "metadata": {},
     "output_type": "execute_result"
    }
   ],
   "source": [
    "city='Hyderabad'\n",
    "type(city)"
   ]
  },
  {
   "cell_type": "code",
   "execution_count": 68,
   "id": "9413ebb9-1955-409a-b7b3-ae320bc76115",
   "metadata": {},
   "outputs": [
    {
     "data": {
      "text/plain": [
       "'Mumbai'"
      ]
     },
     "execution_count": 68,
     "metadata": {},
     "output_type": "execute_result"
    }
   ],
   "source": [
    "\"Mumbai\""
   ]
  },
  {
   "cell_type": "code",
   "execution_count": 70,
   "id": "e27e8885-15ff-4bf8-bb5d-8d2cb16de7f6",
   "metadata": {},
   "outputs": [
    {
     "name": "stdout",
     "output_type": "stream",
     "text": [
      "Mumbai\n"
     ]
    }
   ],
   "source": [
    "print('Mumbai')"
   ]
  },
  {
   "cell_type": "code",
   "execution_count": 72,
   "id": "eef4f21c-d036-4d22-a299-42a23325b69f",
   "metadata": {},
   "outputs": [
    {
     "data": {
      "text/plain": [
       "'Chennai'"
      ]
     },
     "execution_count": 72,
     "metadata": {},
     "output_type": "execute_result"
    }
   ],
   "source": [
    "\"Chennai\""
   ]
  },
  {
   "cell_type": "code",
   "execution_count": 74,
   "id": "2382a582-3b4e-4593-9d13-370a5e0a089c",
   "metadata": {},
   "outputs": [
    {
     "data": {
      "text/plain": [
       "'Chennai'"
      ]
     },
     "execution_count": 74,
     "metadata": {},
     "output_type": "execute_result"
    }
   ],
   "source": [
    "'Chennai'"
   ]
  },
  {
   "cell_type": "code",
   "execution_count": 76,
   "id": "9246b6ee-7c80-468e-953e-ca1babf955b2",
   "metadata": {},
   "outputs": [
    {
     "name": "stdout",
     "output_type": "stream",
     "text": [
      "Chennai\n"
     ]
    }
   ],
   "source": [
    "print('Chennai')"
   ]
  },
  {
   "cell_type": "code",
   "execution_count": 78,
   "id": "821deaca-a845-4b10-837d-e8e4b9565c57",
   "metadata": {},
   "outputs": [
    {
     "name": "stdout",
     "output_type": "stream",
     "text": [
      "hello\n"
     ]
    }
   ],
   "source": [
    "print('hello')"
   ]
  },
  {
   "cell_type": "code",
   "execution_count": 80,
   "id": "49f25d39-3dc0-4b1f-acef-3b6f1ed0b7d0",
   "metadata": {},
   "outputs": [
    {
     "name": "stdout",
     "output_type": "stream",
     "text": [
      " hello\n"
     ]
    }
   ],
   "source": [
    "print(' hello')"
   ]
  },
  {
   "cell_type": "code",
   "execution_count": 82,
   "id": "0cf6511e-efe6-4e12-aabb-b4512c839d1d",
   "metadata": {},
   "outputs": [
    {
     "name": "stdout",
     "output_type": "stream",
     "text": [
      "hello   \n"
     ]
    }
   ],
   "source": [
    "print('hello   ')"
   ]
  },
  {
   "cell_type": "code",
   "execution_count": 84,
   "id": "ec97221e-bc57-45ed-9cb5-03fa8d3080c2",
   "metadata": {},
   "outputs": [
    {
     "data": {
      "text/plain": [
       "'hello   '"
      ]
     },
     "execution_count": 84,
     "metadata": {},
     "output_type": "execute_result"
    }
   ],
   "source": [
    "'hello   '"
   ]
  },
  {
   "cell_type": "code",
   "execution_count": 92,
   "id": "9596c68b-ed69-4321-8ee0-e38092f39739",
   "metadata": {},
   "outputs": [
    {
     "data": {
      "text/plain": [
       "5"
      ]
     },
     "execution_count": 92,
     "metadata": {},
     "output_type": "execute_result"
    }
   ],
   "source": [
    "len('hello')"
   ]
  },
  {
   "cell_type": "code",
   "execution_count": 94,
   "id": "9e73a254-6e59-4e22-a7fe-44ca20f01e42",
   "metadata": {},
   "outputs": [
    {
     "ename": "SyntaxError",
     "evalue": "unterminated string literal (detected at line 1) (4261755221.py, line 1)",
     "output_type": "error",
     "traceback": [
      "\u001b[1;36m  Cell \u001b[1;32mIn[94], line 1\u001b[1;36m\u001b[0m\n\u001b[1;33m    \"Benagluru'\u001b[0m\n\u001b[1;37m    ^\u001b[0m\n\u001b[1;31mSyntaxError\u001b[0m\u001b[1;31m:\u001b[0m unterminated string literal (detected at line 1)\n"
     ]
    }
   ],
   "source": [
    "\"Benagluru'"
   ]
  },
  {
   "cell_type": "code",
   "execution_count": 96,
   "id": "2788b9fc-1c48-4b7f-b269-0cf7175b4977",
   "metadata": {},
   "outputs": [
    {
     "data": {
      "text/plain": [
       "'Benagluru'"
      ]
     },
     "execution_count": 96,
     "metadata": {},
     "output_type": "execute_result"
    }
   ],
   "source": [
    "\"Benagluru\""
   ]
  },
  {
   "cell_type": "code",
   "execution_count": 100,
   "id": "daa3aa98-42e0-469c-bb51-1185da2567fa",
   "metadata": {},
   "outputs": [
    {
     "data": {
      "text/plain": [
       "16"
      ]
     },
     "execution_count": 100,
     "metadata": {},
     "output_type": "execute_result"
    }
   ],
   "source": [
    "len(' hello          ')\n"
   ]
  },
  {
   "cell_type": "markdown",
   "id": "0161fd3d-b5a7-45af-b81a-1a9cf82686f6",
   "metadata": {},
   "source": [
    "**Name not found error**\n",
    "\n",
    "- Name means variable is not written before\n",
    "\n",
    "- And we are trying to use that\n",
    "\n",
    "- Check the variable name have you written before or not"
   ]
  },
  {
   "cell_type": "code",
   "execution_count": 2,
   "id": "eb3c8a7b-6a49-44f5-aad0-475e0ae906d9",
   "metadata": {},
   "outputs": [
    {
     "data": {
      "text/plain": [
       "('python', 'python')"
      ]
     },
     "execution_count": 2,
     "metadata": {},
     "output_type": "execute_result"
    }
   ],
   "source": [
    "str1='python'\n",
    "str2=\"python\"\n",
    "str1,str2"
   ]
  },
  {
   "cell_type": "code",
   "execution_count": 4,
   "id": "076961d6-c453-493d-9196-4c1afa178860",
   "metadata": {},
   "outputs": [
    {
     "name": "stdout",
     "output_type": "stream",
     "text": [
      "python\n",
      "python\n"
     ]
    }
   ],
   "source": [
    "str1='python'\n",
    "str2=\"python\"\n",
    "print(str1)\n",
    "print(str2)"
   ]
  },
  {
   "cell_type": "code",
   "execution_count": 14,
   "id": "ee10325b-0b70-433c-8759-ce486ea850ef",
   "metadata": {},
   "outputs": [
    {
     "name": "stdout",
     "output_type": "stream",
     "text": [
      "Im studying at \"NareshIT\"\n"
     ]
    }
   ],
   "source": [
    "print('Im studying at \"NareshIT\"')"
   ]
  },
  {
   "cell_type": "code",
   "execution_count": 16,
   "id": "9ca00bde-68d7-454d-9da1-aae67af634a7",
   "metadata": {},
   "outputs": [
    {
     "ename": "SyntaxError",
     "evalue": "invalid syntax. Perhaps you forgot a comma? (2709408773.py, line 1)",
     "output_type": "error",
     "traceback": [
      "\u001b[1;36m  Cell \u001b[1;32mIn[16], line 1\u001b[1;36m\u001b[0m\n\u001b[1;33m    print('Im studying at 'NareshIT'')\u001b[0m\n\u001b[1;37m          ^\u001b[0m\n\u001b[1;31mSyntaxError\u001b[0m\u001b[1;31m:\u001b[0m invalid syntax. Perhaps you forgot a comma?\n"
     ]
    }
   ],
   "source": [
    "print('Im studying at 'NareshIT'')"
   ]
  },
  {
   "cell_type": "code",
   "execution_count": 18,
   "id": "f42a2f12-2ffa-4317-90eb-ab7ba2bc8976",
   "metadata": {},
   "outputs": [
    {
     "name": "stdout",
     "output_type": "stream",
     "text": [
      "Im studying at 'NareshIT'\n"
     ]
    }
   ],
   "source": [
    "print(\"Im studying at 'NareshIT'\")"
   ]
  },
  {
   "cell_type": "code",
   "execution_count": 20,
   "id": "6ab8c257-7ca1-4357-9430-e4390404a885",
   "metadata": {},
   "outputs": [
    {
     "ename": "SyntaxError",
     "evalue": "invalid syntax. Perhaps you forgot a comma? (1316391732.py, line 1)",
     "output_type": "error",
     "traceback": [
      "\u001b[1;36m  Cell \u001b[1;32mIn[20], line 1\u001b[1;36m\u001b[0m\n\u001b[1;33m    print(\"Im studying at \"NareshIT\"\")\u001b[0m\n\u001b[1;37m          ^\u001b[0m\n\u001b[1;31mSyntaxError\u001b[0m\u001b[1;31m:\u001b[0m invalid syntax. Perhaps you forgot a comma?\n"
     ]
    }
   ],
   "source": [
    "print(\"Im studying at \"NareshIT\"\")"
   ]
  },
  {
   "cell_type": "markdown",
   "id": "ae5ff382-d337-42f0-b0b7-ed5934510500",
   "metadata": {},
   "source": [
    "**Note**\n",
    "\n",
    "- Entire string in single quotes\n",
    "\n",
    "- Highlite the word in double quote vice versa"
   ]
  },
  {
   "cell_type": "markdown",
   "id": "382d60a8-72bc-40b4-9f8f-5ecef9620eb4",
   "metadata": {},
   "source": [
    "**triple quotes**"
   ]
  },
  {
   "cell_type": "code",
   "execution_count": 27,
   "id": "6d682dc6-cc45-4830-b8e3-b1723e2e21f6",
   "metadata": {},
   "outputs": [
    {
     "data": {
      "text/plain": [
       "'My name is python\\nIm 10 years old\\nI came from Hyderabad'"
      ]
     },
     "execution_count": 27,
     "metadata": {},
     "output_type": "execute_result"
    }
   ],
   "source": [
    "\"\"\"My name is python\n",
    "Im 10 years old\n",
    "I came from Hyderabad\"\"\" "
   ]
  },
  {
   "cell_type": "code",
   "execution_count": 29,
   "id": "f917b633-0503-4153-a49d-72630cbbe3e3",
   "metadata": {},
   "outputs": [
    {
     "name": "stdout",
     "output_type": "stream",
     "text": [
      "My name is python\n",
      "Im 10 years old\n",
      "I came from Hyderabad\n"
     ]
    }
   ],
   "source": [
    "print(\"\"\"My name is python\n",
    "Im 10 years old\n",
    "I came from Hyderabad\"\"\") "
   ]
  },
  {
   "cell_type": "markdown",
   "id": "251cdd91-041c-46e9-8db1-c09516156fdc",
   "metadata": {},
   "source": [
    "**Doc string**\n",
    "\n",
    "- We will write the information about python file\n",
    "\n",
    "- We will write the information about functions\n",
    "\n",
    "- To make user familier with our python code\n",
    "\n",
    "- We will use triple quotes \n",
    "\n",
    "- It is nothing but a Multiline comments\n",
    "\n",
    "- Never use triple quotes in a coding\n",
    "\n",
    "- Triple quoutes means convey the inforamtion is called as **Doc string**"
   ]
  },
  {
   "cell_type": "code",
   "execution_count": 32,
   "id": "6af34e08-5510-46c8-b087-2fa02123440d",
   "metadata": {},
   "outputs": [],
   "source": [
    "import os"
   ]
  },
  {
   "cell_type": "code",
   "execution_count": 34,
   "id": "007812b5-f605-41e9-95f4-f6fe0e9f65d5",
   "metadata": {},
   "outputs": [
    {
     "data": {
      "text/plain": [
       "' hello '"
      ]
     },
     "execution_count": 34,
     "metadata": {},
     "output_type": "execute_result"
    }
   ],
   "source": [
    "''' hello ''' \n",
    "\"hello\"\n",
    "'hello'\n",
    "\"\"\" hello \"\"\""
   ]
  },
  {
   "cell_type": "code",
   "execution_count": 36,
   "id": "5627c0f0-c229-4a57-a99e-9420b570f2aa",
   "metadata": {},
   "outputs": [
    {
     "data": {
      "text/plain": [
       "'C:\\\\Users\\\\omkar\\\\OneDrive\\\\Documents\\\\Data science\\\\Naresh IT\\\\Naresh IT\\\\Data science\\\\Batches\\\\Batch_16_July\\\\python_sessions'"
      ]
     },
     "execution_count": 36,
     "metadata": {},
     "output_type": "execute_result"
    }
   ],
   "source": [
    "import os\n",
    "os.getcwd()   \n",
    "# take your cursor inside the bracket\n",
    "# do shift+tab"
   ]
  },
  {
   "cell_type": "code",
   "execution_count": null,
   "id": "11902081-46d8-44ef-92cb-22b31708b156",
   "metadata": {},
   "outputs": [],
   "source": [
    "# Return a unicode string representing the current working directory"
   ]
  },
  {
   "cell_type": "code",
   "execution_count": 44,
   "id": "4092bcb3-18cb-4ac8-b016-5cb2be036c38",
   "metadata": {},
   "outputs": [
    {
     "data": {
      "text/plain": [
       "<function Random.random()>"
      ]
     },
     "execution_count": 44,
     "metadata": {},
     "output_type": "execute_result"
    }
   ],
   "source": [
    "import random\n",
    "random.random()"
   ]
  },
  {
   "cell_type": "code",
   "execution_count": null,
   "id": "195e894b-4108-49cd-854d-a01cc29375e8",
   "metadata": {},
   "outputs": [],
   "source": [
    "random() -> x in the interval [0, 1)"
   ]
  },
  {
   "cell_type": "code",
   "execution_count": 48,
   "id": "5b21da60-7da8-4fe9-b925-1d43c239b818",
   "metadata": {},
   "outputs": [
    {
     "data": {
      "text/plain": [
       "<function math.pow(x, y, /)>"
      ]
     },
     "execution_count": 48,
     "metadata": {},
     "output_type": "execute_result"
    }
   ],
   "source": [
    "import math\n",
    "math.pow"
   ]
  },
  {
   "cell_type": "code",
   "execution_count": 50,
   "id": "6c40cb3a-1dc9-4d90-8187-d09203e2d9f3",
   "metadata": {},
   "outputs": [
    {
     "data": {
      "text/plain": [
       "8.0"
      ]
     },
     "execution_count": 50,
     "metadata": {},
     "output_type": "execute_result"
    }
   ],
   "source": [
    "import math\n",
    "math.pow(2,3)\n",
    "\n",
    "# if we miss brackets : function\n",
    "# shift+tab : doct string conveying the information\n",
    "# 2**3"
   ]
  },
  {
   "cell_type": "markdown",
   "id": "0137869c-543f-4225-8c49-a423752e1428",
   "metadata": {},
   "source": [
    "**bollean**"
   ]
  },
  {
   "cell_type": "markdown",
   "id": "e60da49d-9fab-4efc-b657-e9531a18adab",
   "metadata": {},
   "source": [
    "- when we ask a qn to a Machine\n",
    "\n",
    "    - True means yes i.e. 1\n",
    "\n",
    "    - True means ON\n",
    "\n",
    "    - False means No i.e 0\n",
    "\n",
    "    - False means OFF"
   ]
  },
  {
   "cell_type": "code",
   "execution_count": 54,
   "id": "0508ff02-a14a-4f3a-bfc0-e20d8d75bd28",
   "metadata": {},
   "outputs": [
    {
     "data": {
      "text/plain": [
       "bool"
      ]
     },
     "execution_count": 54,
     "metadata": {},
     "output_type": "execute_result"
    }
   ],
   "source": [
    "n1=True\n",
    "type(n1)"
   ]
  },
  {
   "cell_type": "code",
   "execution_count": 56,
   "id": "a0a6a053-0479-4dc4-940a-1fbd3e1afd16",
   "metadata": {},
   "outputs": [
    {
     "data": {
      "text/plain": [
       "10.5"
      ]
     },
     "execution_count": 56,
     "metadata": {},
     "output_type": "execute_result"
    }
   ],
   "source": [
    "true=\"True\"  # true variable  string\n",
    "true=True    # boolean\n",
    "true=10      # int\n",
    "true=10.5    # float\n",
    "false=true   #\n",
    "false"
   ]
  },
  {
   "cell_type": "code",
   "execution_count": 58,
   "id": "59c092df-17b1-4178-bd69-a0045c5f2351",
   "metadata": {},
   "outputs": [
    {
     "data": {
      "text/plain": [
       "10"
      ]
     },
     "execution_count": 58,
     "metadata": {},
     "output_type": "execute_result"
    }
   ],
   "source": [
    "true=\"True\"  # true variable  string\n",
    "true=True    # boolean\n",
    "true=10      # int\n",
    "false=true   #\n",
    "false"
   ]
  },
  {
   "cell_type": "code",
   "execution_count": 60,
   "id": "9c4c216a-41da-4393-b9af-cf0fd5c7e2fb",
   "metadata": {},
   "outputs": [
    {
     "data": {
      "text/plain": [
       "True"
      ]
     },
     "execution_count": 60,
     "metadata": {},
     "output_type": "execute_result"
    }
   ],
   "source": [
    "true=\"True\"  # true variable  string\n",
    "true=True    # boolean\n",
    "false=true   #\n",
    "false"
   ]
  },
  {
   "cell_type": "code",
   "execution_count": 62,
   "id": "b2166f5b-ce7d-4d90-b764-d2f189f3300d",
   "metadata": {},
   "outputs": [
    {
     "data": {
      "text/plain": [
       "'True'"
      ]
     },
     "execution_count": 62,
     "metadata": {},
     "output_type": "execute_result"
    }
   ],
   "source": [
    "true=\"True\"  # true variable  string\n",
    "false=true   #\n",
    "false"
   ]
  },
  {
   "cell_type": "markdown",
   "id": "2db755ea-de30-4c50-8793-1f638d241571",
   "metadata": {},
   "source": [
    "**List**\n",
    "\n",
    "- array of elements represents in a square brackets"
   ]
  },
  {
   "cell_type": "code",
   "execution_count": 65,
   "id": "cefea516-333a-458b-ba1d-62d468697807",
   "metadata": {},
   "outputs": [
    {
     "data": {
      "text/plain": [
       "list"
      ]
     },
     "execution_count": 65,
     "metadata": {},
     "output_type": "execute_result"
    }
   ],
   "source": [
    "l=[10,20,30,40]\n",
    "type(l)"
   ]
  },
  {
   "cell_type": "code",
   "execution_count": 68,
   "id": "ec9c7be4-343a-4f31-b95a-0ea2117ff7cc",
   "metadata": {},
   "outputs": [
    {
     "name": "stdout",
     "output_type": "stream",
     "text": [
      "['Ramesh', 'Suresh', 'Sathish']\n",
      "[10, 'Ramesh', 10.5, True]\n",
      "[10, 10, 10]\n",
      "['Apple', [10, 20, 30]]\n"
     ]
    }
   ],
   "source": [
    "l1=['Ramesh','Suresh','Sathish']\n",
    "l2=[10,'Ramesh',10.5,True]\n",
    "l3=[10,10,10]\n",
    "l4=['Apple',[10,20,30]]\n",
    "print(l1)\n",
    "print(l2)\n",
    "print(l3)\n",
    "print(l4)"
   ]
  },
  {
   "cell_type": "code",
   "execution_count": 70,
   "id": "67d50ede-321a-4d4c-9962-0372bccc804f",
   "metadata": {},
   "outputs": [
    {
     "data": {
      "text/plain": [
       "tuple"
      ]
     },
     "execution_count": 70,
     "metadata": {},
     "output_type": "execute_result"
    }
   ],
   "source": [
    "l=(10,20,30,40)\n",
    "type(l)"
   ]
  },
  {
   "cell_type": "code",
   "execution_count": 72,
   "id": "cd0403a0-0dde-4da3-a793-c9686e4e426d",
   "metadata": {},
   "outputs": [
    {
     "name": "stdout",
     "output_type": "stream",
     "text": [
      "('Ramesh', 'Suresh', 'Sathish')\n",
      "(10, 'Ramesh', 10.5, True)\n",
      "(10, 10, 10)\n",
      "('Apple', [10, 20, 30])\n"
     ]
    }
   ],
   "source": [
    "t1=('Ramesh','Suresh','Sathish')\n",
    "t2=(10,'Ramesh',10.5,True)\n",
    "t3=(10,10,10)\n",
    "t4=('Apple',[10,20,30])\n",
    "print(t1)\n",
    "print(t2)\n",
    "print(t3)\n",
    "print(t4)"
   ]
  },
  {
   "cell_type": "markdown",
   "id": "506181bc-7b92-464f-aa51-195afb146c2f",
   "metadata": {},
   "source": [
    "**dictionary**"
   ]
  },
  {
   "cell_type": "code",
   "execution_count": null,
   "id": "c1bb70c6-0497-484e-846e-f788e9a1e3f9",
   "metadata": {},
   "outputs": [],
   "source": [
    "[] : list\n",
    "() : tuple\n",
    "{} : ......?"
   ]
  },
  {
   "cell_type": "code",
   "execution_count": 75,
   "id": "4a9f44de-48a3-4ee2-ba61-05b0341c9f6a",
   "metadata": {},
   "outputs": [
    {
     "data": {
      "text/plain": [
       "set"
      ]
     },
     "execution_count": 75,
     "metadata": {},
     "output_type": "execute_result"
    }
   ],
   "source": [
    "n1={10,20,30}\n",
    "type(n1)"
   ]
  },
  {
   "cell_type": "markdown",
   "id": "f031341b-5df9-4d36-af03-1d0ac2dff978",
   "metadata": {},
   "source": [
    "- Its a Pair\n",
    "\n",
    "- key and value pair\n",
    "\n",
    "- seperated by :"
   ]
  },
  {
   "cell_type": "code",
   "execution_count": null,
   "id": "0c6f8df3-dd93-42b8-b45c-6c0467ba77fa",
   "metadata": {},
   "outputs": [],
   "source": [
    "d1={'wife':'husband'} # dictinary\n",
    "s1={'wife','husband'} # set\n",
    "d2={'key':'value'}  # dictionary\n"
   ]
  }
 ],
 "metadata": {
  "kernelspec": {
   "display_name": "Python [conda env:base] *",
   "language": "python",
   "name": "conda-base-py"
  },
  "language_info": {
   "codemirror_mode": {
    "name": "ipython",
    "version": 3
   },
   "file_extension": ".py",
   "mimetype": "text/x-python",
   "name": "python",
   "nbconvert_exporter": "python",
   "pygments_lexer": "ipython3",
   "version": "3.12.7"
  }
 },
 "nbformat": 4,
 "nbformat_minor": 5
}
