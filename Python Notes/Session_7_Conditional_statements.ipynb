{
 "cells": [
  {
   "cell_type": "code",
   "execution_count": 1,
   "id": "ee4435b3-559e-4af9-bd74-3af0c17ed180",
   "metadata": {},
   "outputs": [],
   "source": [
    "import math"
   ]
  },
  {
   "cell_type": "code",
   "execution_count": 3,
   "id": "9a5d8730-2e6e-473f-9ac8-96d2618002d6",
   "metadata": {},
   "outputs": [
    {
     "data": {
      "text/plain": [
       "25"
      ]
     },
     "execution_count": 3,
     "metadata": {},
     "output_type": "execute_result"
    }
   ],
   "source": [
    "math.floor(25.67)"
   ]
  },
  {
   "cell_type": "code",
   "execution_count": 5,
   "id": "db6ebc7f-7f09-4523-95cd-71d10159e608",
   "metadata": {},
   "outputs": [
    {
     "data": {
      "text/plain": [
       "25"
      ]
     },
     "execution_count": 5,
     "metadata": {},
     "output_type": "execute_result"
    }
   ],
   "source": [
    "math.floor(25.37)"
   ]
  },
  {
   "cell_type": "markdown",
   "id": "bed867b5-bf45-40ab-9c20-6b323eb78550",
   "metadata": {},
   "source": [
    "**how to take the numbers**"
   ]
  },
  {
   "cell_type": "code",
   "execution_count": 16,
   "id": "9e66d993-333c-496a-a1bb-ed684a5b208e",
   "metadata": {},
   "outputs": [
    {
     "name": "stdout",
     "output_type": "stream",
     "text": [
      "30\n"
     ]
    }
   ],
   "source": [
    "a=10   # hardcoded\n",
    "b=20   # hardcoded\n",
    "c=a+b\n",
    "print(c)"
   ]
  },
  {
   "cell_type": "code",
   "execution_count": 18,
   "id": "5cc52ac4-b8fa-4934-a226-a4431835308c",
   "metadata": {},
   "outputs": [
    {
     "name": "stdin",
     "output_type": "stream",
     "text": [
      "enter n1: 10\n",
      "enter n1: 20\n"
     ]
    },
    {
     "name": "stdout",
     "output_type": "stream",
     "text": [
      "30\n"
     ]
    }
   ],
   "source": [
    "a=eval(input('enter n1:')) # user can choose\n",
    "b=eval(input('enter n1:'))\n",
    "c=a+b\n",
    "print(c)"
   ]
  },
  {
   "cell_type": "code",
   "execution_count": 20,
   "id": "53b10bcc-af1d-4731-8727-a9ce26246bb5",
   "metadata": {},
   "outputs": [
    {
     "name": "stdout",
     "output_type": "stream",
     "text": [
      "the addition of 55 and 16 is:71\n"
     ]
    }
   ],
   "source": [
    "import random\n",
    "a=random.randint(1,100)\n",
    "b=random.randint(1,100)\n",
    "c=a+b\n",
    "print(f\"the addition of {a} and {b} is:{c}\")"
   ]
  },
  {
   "cell_type": "markdown",
   "id": "b3013a49-ffcb-4fa5-83ca-f4da37813921",
   "metadata": {},
   "source": [
    "## Conditional statements"
   ]
  },
  {
   "cell_type": "code",
   "execution_count": null,
   "id": "d5e1a940-43d1-49b1-ab29-b77d58f984df",
   "metadata": {},
   "outputs": [],
   "source": [
    "i want to do something based on a condition\n",
    "I want to say hello \n",
    "I want to say hello if You known to me\n",
    "I want to come to the class\n",
    "I want to go to the class if there is rain otherwise ground"
   ]
  },
  {
   "cell_type": "code",
   "execution_count": null,
   "id": "58b7c63d-e7a9-464b-8932-d2931ac6863c",
   "metadata": {},
   "outputs": [],
   "source": [
    "if   :  I want to say hello if You known to me\n",
    "if else : I want to go to the class if there is rain else ground\n",
    "if elif else : I want to go to the class if there is rain \n",
    "              otherwise I will study at home if father is there otherwise ground"
   ]
  },
  {
   "cell_type": "markdown",
   "id": "172d2396-b4f2-412d-99a1-5bf5e007582d",
   "metadata": {},
   "source": [
    "**if**"
   ]
  },
  {
   "cell_type": "code",
   "execution_count": null,
   "id": "4fbb7749-4c2b-4f20-847f-e241e7083d88",
   "metadata": {},
   "outputs": [],
   "source": [
    "if <condition>:\n",
    "    # code\n",
    "    # code\n",
    "    # code"
   ]
  },
  {
   "cell_type": "code",
   "execution_count": 24,
   "id": "657286cc-fc92-4f90-b796-601da7fa1e8c",
   "metadata": {},
   "outputs": [
    {
     "data": {
      "text/plain": [
       "True"
      ]
     },
     "execution_count": 24,
     "metadata": {},
     "output_type": "execute_result"
    }
   ],
   "source": [
    "10>0"
   ]
  },
  {
   "cell_type": "code",
   "execution_count": 26,
   "id": "bfc50c57-fde7-4327-93ac-2d9ac9739541",
   "metadata": {},
   "outputs": [
    {
     "name": "stdout",
     "output_type": "stream",
     "text": [
      "hello\n"
     ]
    }
   ],
   "source": [
    "print('hello')"
   ]
  },
  {
   "cell_type": "code",
   "execution_count": 34,
   "id": "96238741-2dcb-4e34-8ab5-b41c434ee626",
   "metadata": {},
   "outputs": [
    {
     "name": "stdout",
     "output_type": "stream",
     "text": [
      "hello\n"
     ]
    }
   ],
   "source": [
    "if 10>3:           # if True \n",
    "    print('hello')"
   ]
  },
  {
   "cell_type": "code",
   "execution_count": 32,
   "id": "23bc545c-317f-4e49-a480-f40c091ebdb1",
   "metadata": {},
   "outputs": [
    {
     "name": "stdout",
     "output_type": "stream",
     "text": [
      "hello\n"
     ]
    }
   ],
   "source": [
    "if 10==10:\n",
    "    print('hello')"
   ]
  },
  {
   "cell_type": "code",
   "execution_count": 36,
   "id": "907e093b-2d2f-4127-8e21-8f6a4ed3e336",
   "metadata": {},
   "outputs": [
    {
     "name": "stdout",
     "output_type": "stream",
     "text": [
      "hello\n"
     ]
    }
   ],
   "source": [
    "if True:\n",
    "    print('hello')"
   ]
  },
  {
   "cell_type": "markdown",
   "id": "fbdaa0b0-83c3-4cfd-8017-da0536e716f7",
   "metadata": {},
   "source": [
    "**mistake-1**"
   ]
  },
  {
   "cell_type": "code",
   "execution_count": 39,
   "id": "54511ae1-844f-443f-b432-02aba7776125",
   "metadata": {},
   "outputs": [
    {
     "ename": "IndentationError",
     "evalue": "expected an indented block after 'if' statement on line 1 (1785633973.py, line 2)",
     "output_type": "error",
     "traceback": [
      "\u001b[1;36m  Cell \u001b[1;32mIn[39], line 2\u001b[1;36m\u001b[0m\n\u001b[1;33m    print('hello')\u001b[0m\n\u001b[1;37m    ^\u001b[0m\n\u001b[1;31mIndentationError\u001b[0m\u001b[1;31m:\u001b[0m expected an indented block after 'if' statement on line 1\n"
     ]
    }
   ],
   "source": [
    "if True:\n",
    "print('hello')"
   ]
  },
  {
   "cell_type": "code",
   "execution_count": null,
   "id": "2f0f047f-3cef-40af-8bd7-ec0ba0b4954b",
   "metadata": {},
   "outputs": [],
   "source": [
    "if True:\n",
    "    print('hello')  # enter tab"
   ]
  },
  {
   "cell_type": "code",
   "execution_count": null,
   "id": "00ea8559-344b-41b7-aaf7-00e8d7c65656",
   "metadata": {},
   "outputs": [],
   "source": [
    "if True:\n",
    "    print('hello') # backspace till : then do enter"
   ]
  },
  {
   "cell_type": "code",
   "execution_count": 41,
   "id": "8eb5ece5-3240-49f7-a543-9eb66f17a534",
   "metadata": {},
   "outputs": [
    {
     "name": "stdout",
     "output_type": "stream",
     "text": [
      "hello\n"
     ]
    }
   ],
   "source": [
    "if True:\n",
    "    print('hello') # space bar"
   ]
  },
  {
   "cell_type": "markdown",
   "id": "9c0549d4-c64a-49dd-adfe-94a199d6a47e",
   "metadata": {},
   "source": [
    "**Mistake-2**"
   ]
  },
  {
   "cell_type": "code",
   "execution_count": 43,
   "id": "a9f2a9d2-73e6-475e-a252-4875782653b2",
   "metadata": {},
   "outputs": [
    {
     "ename": "SyntaxError",
     "evalue": "expected ':' (2671508121.py, line 1)",
     "output_type": "error",
     "traceback": [
      "\u001b[1;36m  Cell \u001b[1;32mIn[43], line 1\u001b[1;36m\u001b[0m\n\u001b[1;33m    if True\u001b[0m\n\u001b[1;37m           ^\u001b[0m\n\u001b[1;31mSyntaxError\u001b[0m\u001b[1;31m:\u001b[0m expected ':'\n"
     ]
    }
   ],
   "source": [
    "if True\n",
    "    print('hello')"
   ]
  },
  {
   "cell_type": "code",
   "execution_count": 52,
   "id": "1d28cc6a-1d57-4985-8c4f-bb95b5257e51",
   "metadata": {},
   "outputs": [
    {
     "name": "stdout",
     "output_type": "stream",
     "text": [
      "hello\n",
      "hai\n"
     ]
    }
   ],
   "source": [
    "if 10>0:    \n",
    "    print('hello') \n",
    "    print('hai')"
   ]
  },
  {
   "cell_type": "code",
   "execution_count": 46,
   "id": "8d387ffc-050b-45d2-89de-3251e1d8de18",
   "metadata": {},
   "outputs": [
    {
     "ename": "IndentationError",
     "evalue": "unexpected indent (1869947416.py, line 3)",
     "output_type": "error",
     "traceback": [
      "\u001b[1;36m  Cell \u001b[1;32mIn[46], line 3\u001b[1;36m\u001b[0m\n\u001b[1;33m    print('hai')\u001b[0m\n\u001b[1;37m    ^\u001b[0m\n\u001b[1;31mIndentationError\u001b[0m\u001b[1;31m:\u001b[0m unexpected indent\n"
     ]
    }
   ],
   "source": [
    "if 10>0:    # if 10>0  True \n",
    "    print('hello') # hello\n",
    "        print('hai')"
   ]
  },
  {
   "cell_type": "code",
   "execution_count": 48,
   "id": "13061a63-679d-4175-b2ae-a2d164ad43de",
   "metadata": {},
   "outputs": [
    {
     "name": "stdout",
     "output_type": "stream",
     "text": [
      "hello\n",
      "hai\n"
     ]
    }
   ],
   "source": [
    "if 10>0:    # if 10>0  True \n",
    "    print('hello') # hello\n",
    "############################################    \n",
    "print('hai')"
   ]
  },
  {
   "cell_type": "code",
   "execution_count": 50,
   "id": "2eca0c52-a1dc-463a-a233-0bc35a63af01",
   "metadata": {},
   "outputs": [
    {
     "ename": "IndentationError",
     "evalue": "unexpected indent (2642098806.py, line 2)",
     "output_type": "error",
     "traceback": [
      "\u001b[1;36m  Cell \u001b[1;32mIn[50], line 2\u001b[1;36m\u001b[0m\n\u001b[1;33m    b=20\u001b[0m\n\u001b[1;37m    ^\u001b[0m\n\u001b[1;31mIndentationError\u001b[0m\u001b[1;31m:\u001b[0m unexpected indent\n"
     ]
    }
   ],
   "source": [
    "a=10\n",
    "b=20"
   ]
  },
  {
   "cell_type": "code",
   "execution_count": 54,
   "id": "683f490c-3a92-4c73-8c96-93a789158207",
   "metadata": {},
   "outputs": [
    {
     "name": "stdout",
     "output_type": "stream",
     "text": [
      "hello\n",
      "hai\n",
      "bye\n"
     ]
    }
   ],
   "source": [
    "print('hello')\n",
    "#########################\n",
    "if True:\n",
    "    print('hai')\n",
    "###########################\n",
    "print('bye')"
   ]
  },
  {
   "cell_type": "code",
   "execution_count": 56,
   "id": "42f29cec-150d-4038-ab69-4064fdee6de7",
   "metadata": {},
   "outputs": [
    {
     "name": "stdout",
     "output_type": "stream",
     "text": [
      "hello\n",
      "bye\n"
     ]
    }
   ],
   "source": [
    "print('hello')\n",
    "#########################\n",
    "if False:\n",
    "    print('hai')\n",
    "###########################\n",
    "print('bye')"
   ]
  },
  {
   "cell_type": "code",
   "execution_count": 58,
   "id": "3719e220-6782-49e8-849d-fea3a61c7a58",
   "metadata": {},
   "outputs": [
    {
     "name": "stdout",
     "output_type": "stream",
     "text": [
      "hello\n",
      "hai\n",
      "hey\n",
      "haa\n",
      "bye\n"
     ]
    }
   ],
   "source": [
    "print('hello')\n",
    "if True:\n",
    "    print('hai')\n",
    "    print('hey')\n",
    "    if True:\n",
    "        print('haa')\n",
    "print('bye')"
   ]
  },
  {
   "cell_type": "code",
   "execution_count": 60,
   "id": "a10bc0a0-ee53-4976-9915-d61577cf2838",
   "metadata": {},
   "outputs": [
    {
     "name": "stdout",
     "output_type": "stream",
     "text": [
      "hello\n",
      "hai\n",
      "hey\n",
      "bye\n"
     ]
    }
   ],
   "source": [
    "print('hello')\n",
    "if True:\n",
    "    print('hai')\n",
    "    print('hey')\n",
    "    if False:\n",
    "        print('haa')\n",
    "print('bye')"
   ]
  },
  {
   "cell_type": "code",
   "execution_count": 64,
   "id": "8311137b-65c5-4646-8be6-a5441c12289e",
   "metadata": {},
   "outputs": [
    {
     "name": "stdout",
     "output_type": "stream",
     "text": [
      "hello\n",
      "bye\n"
     ]
    }
   ],
   "source": [
    "print('hello')  # h ello\n",
    "if False: # ID \n",
    "    print('hai')\n",
    "    print('hey')\n",
    "    if True:\n",
    "        print('haa')\n",
    "print('bye')"
   ]
  },
  {
   "cell_type": "code",
   "execution_count": 66,
   "id": "3b403180-50a2-4df1-b027-6c20cdf6bf03",
   "metadata": {},
   "outputs": [
    {
     "name": "stdout",
     "output_type": "stream",
     "text": [
      "hello\n",
      "bye\n"
     ]
    }
   ],
   "source": [
    "print('hello')  # h ello\n",
    "if False: # ID \n",
    "    print('hai')\n",
    "    print('hey')\n",
    "    if False:\n",
    "        print('haa')\n",
    "print('bye')"
   ]
  },
  {
   "cell_type": "code",
   "execution_count": 68,
   "id": "aeccefa5-6e71-4f1b-829e-75f4575b2709",
   "metadata": {},
   "outputs": [
    {
     "name": "stdout",
     "output_type": "stream",
     "text": [
      "hello\n",
      "bye\n"
     ]
    }
   ],
   "source": [
    "print('hello')\n",
    "if False:\n",
    "    print('hai')\n",
    "    print('hey')\n",
    "    if FalseTrue:\n",
    "        print('haa')\n",
    "print('bye')"
   ]
  },
  {
   "cell_type": "code",
   "execution_count": 70,
   "id": "4c6145f1-a1ef-4d5c-8bd4-32649cc959d6",
   "metadata": {},
   "outputs": [
    {
     "ename": "NameError",
     "evalue": "name 'FalseTrue' is not defined",
     "output_type": "error",
     "traceback": [
      "\u001b[1;31m---------------------------------------------------------------------------\u001b[0m",
      "\u001b[1;31mNameError\u001b[0m                                 Traceback (most recent call last)",
      "Cell \u001b[1;32mIn[70], line 1\u001b[0m\n\u001b[1;32m----> 1\u001b[0m \u001b[38;5;28;01mif\u001b[39;00m FalseTrue:\n\u001b[0;32m      2\u001b[0m     \u001b[38;5;28mprint\u001b[39m(\u001b[38;5;124m'\u001b[39m\u001b[38;5;124mhaa\u001b[39m\u001b[38;5;124m'\u001b[39m)\n",
      "\u001b[1;31mNameError\u001b[0m: name 'FalseTrue' is not defined"
     ]
    }
   ],
   "source": [
    "if FalseTrue:\n",
    "    print('haa')"
   ]
  },
  {
   "cell_type": "code",
   "execution_count": 74,
   "id": "c26ea815-8fb9-4956-9082-4fcfc6d72027",
   "metadata": {},
   "outputs": [
    {
     "name": "stdout",
     "output_type": "stream",
     "text": [
      "hi\n",
      "I am happy \n",
      "to see you\n"
     ]
    }
   ],
   "source": [
    "if True: \n",
    "    print('hi')\n",
    "    if True: \n",
    "        print('I am happy ')\n",
    "        if True: \n",
    "            print('to see you')"
   ]
  },
  {
   "cell_type": "markdown",
   "id": "52121d76-b4d3-491c-840b-c9c59d193454",
   "metadata": {},
   "source": [
    "**if-else**"
   ]
  },
  {
   "cell_type": "code",
   "execution_count": 77,
   "id": "82731614-7312-43fb-81f5-0b7cf3698362",
   "metadata": {},
   "outputs": [
    {
     "name": "stdout",
     "output_type": "stream",
     "text": [
      "hello\n"
     ]
    }
   ],
   "source": [
    "if True:\n",
    "    print('hello')\n",
    "else:\n",
    "    print('bye')"
   ]
  },
  {
   "cell_type": "code",
   "execution_count": 79,
   "id": "22cd4326-f57b-460f-b5a1-40f40ab9aff7",
   "metadata": {},
   "outputs": [
    {
     "name": "stdout",
     "output_type": "stream",
     "text": [
      "bye\n"
     ]
    }
   ],
   "source": [
    "if False:\n",
    "    print('hello')\n",
    "else:\n",
    "    print('bye')"
   ]
  },
  {
   "cell_type": "code",
   "execution_count": 81,
   "id": "c3e080a2-cc61-49e4-be46-de687e5c7bfb",
   "metadata": {},
   "outputs": [
    {
     "name": "stdout",
     "output_type": "stream",
     "text": [
      "hai\n",
      "hello\n",
      "bye\n"
     ]
    }
   ],
   "source": [
    "print('hai')\n",
    "if True:\n",
    "    print('hello')\n",
    "else:\n",
    "    print('hey')\n",
    "print('bye')"
   ]
  },
  {
   "cell_type": "code",
   "execution_count": 83,
   "id": "5eff7cec-405f-4d2e-8075-1dbd5758e138",
   "metadata": {},
   "outputs": [
    {
     "name": "stdout",
     "output_type": "stream",
     "text": [
      "hai\n",
      "hey\n",
      "bye\n"
     ]
    }
   ],
   "source": [
    "print('hai')\n",
    "if False:\n",
    "    print('hello')\n",
    "else:\n",
    "    print('hey')\n",
    "print('bye')"
   ]
  },
  {
   "cell_type": "code",
   "execution_count": 89,
   "id": "786a818d-86aa-4896-aad6-882eb6ae4461",
   "metadata": {},
   "outputs": [
    {
     "ename": "SyntaxError",
     "evalue": "invalid syntax (669429223.py, line 5)",
     "output_type": "error",
     "traceback": [
      "\u001b[1;36m  Cell \u001b[1;32mIn[89], line 5\u001b[1;36m\u001b[0m\n\u001b[1;33m    else:\u001b[0m\n\u001b[1;37m    ^\u001b[0m\n\u001b[1;31mSyntaxError\u001b[0m\u001b[1;31m:\u001b[0m invalid syntax\n"
     ]
    }
   ],
   "source": [
    "print('hai')\n",
    "if True:\n",
    "    print('hello')\n",
    "print('arey why are you in middile')   \n",
    "else:\n",
    "    print('hey')\n",
    "print('bye')"
   ]
  },
  {
   "cell_type": "code",
   "execution_count": 91,
   "id": "88ba7d6c-cc07-49be-b483-ac226d0b847e",
   "metadata": {},
   "outputs": [
    {
     "name": "stdout",
     "output_type": "stream",
     "text": [
      "hai\n",
      "hello\n",
      "1\n",
      "bye\n"
     ]
    }
   ],
   "source": [
    "print('hai')\n",
    "if True:\n",
    "    print('hello')\n",
    "    print(\"1\")   \n",
    "else:\n",
    "    print('hey')\n",
    "print('bye')"
   ]
  },
  {
   "cell_type": "code",
   "execution_count": null,
   "id": "3089d230-6460-43d9-a9da-1790b5b56c75",
   "metadata": {},
   "outputs": [],
   "source": [
    "print('hai')\n",
    "if True:\n",
    "    print('hello')\n",
    "    if True:\n",
    "        print(\"1\")   \n",
    "else:\n",
    "    print('hey')\n",
    "print('bye')"
   ]
  },
  {
   "cell_type": "code",
   "execution_count": 93,
   "id": "bbe962d5-2812-4e0f-ad58-b52314cc92eb",
   "metadata": {},
   "outputs": [
    {
     "name": "stdout",
     "output_type": "stream",
     "text": [
      "hai\n",
      "hello\n",
      "1\n",
      "bye\n"
     ]
    }
   ],
   "source": [
    "print('hai')\n",
    "if True:\n",
    "    print('hello')\n",
    "    ################################\n",
    "    if True:\n",
    "        print(\"1\") \n",
    "    else:\n",
    "        print('No')\n",
    "    ##################################\n",
    "else:\n",
    "    print('hey')\n",
    "    \n",
    "print('bye')"
   ]
  },
  {
   "cell_type": "code",
   "execution_count": 95,
   "id": "e455a652-2902-47a8-bf60-81afa2d758c6",
   "metadata": {},
   "outputs": [
    {
     "name": "stdout",
     "output_type": "stream",
     "text": [
      "hai\n",
      "GF\n",
      "F\n",
      "S\n",
      "bye\n"
     ]
    }
   ],
   "source": [
    "print('hai')\n",
    "if True:\n",
    "    print('GF')\n",
    "    if True:\n",
    "        print('F')\n",
    "        if True:\n",
    "            print('S')\n",
    "        else:\n",
    "            print('SW')\n",
    "    else:\n",
    "        print('FW')\n",
    "else:\n",
    "    print('GM')\n",
    "    \n",
    "print('bye')"
   ]
  },
  {
   "cell_type": "code",
   "execution_count": 105,
   "id": "fb5ed310-b55e-44c2-841b-46b0d7eb4bcd",
   "metadata": {},
   "outputs": [
    {
     "name": "stdout",
     "output_type": "stream",
     "text": [
      "hai\n",
      "GF\n",
      "F\n",
      "SW\n",
      "bye\n"
     ]
    }
   ],
   "source": [
    "print('hai')\n",
    "if True:\n",
    "    print('GF')\n",
    "    if True:\n",
    "        print('F')\n",
    "        if False:\n",
    "            print('S')\n",
    "        else:\n",
    "            print('SW')\n",
    "    else:\n",
    "        print('FW')\n",
    "else:\n",
    "    print('GM')\n",
    "    \n",
    "print('bye')"
   ]
  },
  {
   "cell_type": "markdown",
   "id": "ab128c30-2ff5-46ca-902b-d0db14e52a71",
   "metadata": {},
   "source": [
    "**Questions**"
   ]
  },
  {
   "cell_type": "code",
   "execution_count": null,
   "id": "fdfbb002-773d-4607-909f-2a3faf2833b3",
   "metadata": {},
   "outputs": [],
   "source": [
    "# Q1) WAP ask the user enter a number\n",
    "#     print positive if number greater than>=0\n",
    "#     otherwise print negative\n",
    "\n",
    "# Idea:\n",
    "# step-1: num= eval(input())\n",
    "# step-2: if <cond>:\n",
    "# step-3:     print()\n",
    "# step-4: else:\n",
    "# step-5:     print()\n",
    "\n",
    "# Q2) repeat above qn by taking a random number\n",
    "\n",
    "# Q3) WAP ask the user two numbers n1 and n2\n",
    "#      print which is the greatest number\n",
    "# idea:\n",
    "# step-1: n1=eval(input())\n",
    "# step-2: n2=eval(input())\n",
    "# step-3: if <condition>:\n",
    "# step-4:      print()\n",
    "# step-5: else:\n",
    "# step-6:     print()\n",
    "\n",
    "\n",
    "# Q4) Lets play a game\n",
    "# we will enter one number  n1\n",
    "# code will give some random number 1 to 10 n2\n",
    "# if both are equal then print won\n",
    "# other wise lost\n",
    "\n",
    "# idea\n",
    "# n1=random.randint(1,10)\n",
    "# n2=eval()\n",
    "# if <con>:\n",
    "#    print('won')\n",
    "# else:\n",
    "#   print('lost')\n",
    "\n",
    "\n",
    "# Q5) WAP ask \n",
    "#   ask the user enter distance in km (50km)\n",
    "#   if distance greater than 25km\n",
    "#        ask the user enter the charge per km\n",
    "#        print total charge\n",
    "#  otherwise\n",
    "#       print enjoy free ride\n",
    "\n",
    "# idea\n",
    "# step-1: distance = eval(input)\n",
    "# step-2: if <condition>\n",
    "# step-3:     charge=eval()\n",
    "# step-4:     total charge= distance tarvelled * charge\n",
    "# step-5: else:\n",
    "# step-6:    print free ride\n",
    "\n",
    "#Q6) WAP ask the user enter a gender\n",
    "# if gender equal to male\n",
    "#      ask the distance\n",
    "#      enter the charge\n",
    "#      print the total charge\n",
    "# else\n",
    "#    print free ride\n",
    "\n",
    "#Q7) WAP ask the user enter a number\n",
    "# find that number is even numberb or odd number\n",
    "\n",
    "#Q8) wap ask the user enter\n",
    "#  course name \n",
    "#  ask the user enter institute name\n",
    "# if course name equal to data science and institute name equal to naresh it\n",
    "# print life is secure\n",
    "# otherwise\n",
    "#   print katam zindagi"
   ]
  },
  {
   "cell_type": "code",
   "execution_count": 6,
   "id": "b0290366-6fa2-4373-88b9-8742fa088ea5",
   "metadata": {},
   "outputs": [
    {
     "name": "stdin",
     "output_type": "stream",
     "text": [
      "enter a number: -20\n"
     ]
    },
    {
     "name": "stdout",
     "output_type": "stream",
     "text": [
      "-20 is a negative\n"
     ]
    }
   ],
   "source": [
    "num=eval(input('enter a number:'))\n",
    "if num>=0:\n",
    "    print(f'{num} is a postive')\n",
    "else:\n",
    "    print(f'{num} is a negative')"
   ]
  },
  {
   "cell_type": "code",
   "execution_count": 16,
   "id": "ee2f0265-c59f-476e-bb13-db75c38a3ecd",
   "metadata": {},
   "outputs": [
    {
     "name": "stdout",
     "output_type": "stream",
     "text": [
      "86 is a postive\n"
     ]
    }
   ],
   "source": [
    "import random\n",
    "num=random.randint(-100,100)\n",
    "if num>=0:\n",
    "    print(f'{num} is a postive')\n",
    "else:\n",
    "    print(f'{num} is a negative')"
   ]
  },
  {
   "cell_type": "code",
   "execution_count": null,
   "id": "703faca5-566a-4b40-8be2-3cad2df59c6a",
   "metadata": {},
   "outputs": [],
   "source": [
    "# ask the user enter a number\n",
    "# if num>=0\n",
    "#    if num==0:\n",
    "#        print(zero)\n",
    "#    else:\n",
    "#        postive\n",
    "# else:\n",
    "#    negative"
   ]
  },
  {
   "cell_type": "code",
   "execution_count": null,
   "id": "5f7d3412-7570-4dd9-9133-b7441d6c4974",
   "metadata": {},
   "outputs": [],
   "source": [
    "import random\n",
    "num=random.randint(-100,100)\n",
    "if num>=0:\n",
    "    if num==0:\n",
    "        print('zero')\n",
    "    else:\n",
    "        print(f'{num} is a postive')\n",
    "else:\n",
    "    print(f'{num} is a negative')"
   ]
  },
  {
   "cell_type": "code",
   "execution_count": 18,
   "id": "1d298f60-6d40-4620-bec3-437593d9f7dc",
   "metadata": {},
   "outputs": [
    {
     "name": "stdin",
     "output_type": "stream",
     "text": [
      "enter a number1: 10\n",
      "enter a number2: 5\n"
     ]
    },
    {
     "name": "stdout",
     "output_type": "stream",
     "text": [
      "10 is greatest\n"
     ]
    }
   ],
   "source": [
    " #Q3) WAP ask the user two numbers n1 and n2\n",
    "#      print which is the greatest number\n",
    "\n",
    "num1=eval(input('enter a number1:'))  # 10\n",
    "num2=eval(input('enter a number2:'))  # 5   10>5\n",
    "if num1>num2:\n",
    "    print(f'{num1} is greatest')\n",
    "else:\n",
    "    print(f'{num2} is greatest')"
   ]
  },
  {
   "cell_type": "code",
   "execution_count": 40,
   "id": "8261b7a1-37a7-4ca1-b3e9-1cc3fd113eb8",
   "metadata": {},
   "outputs": [
    {
     "name": "stdout",
     "output_type": "stream",
     "text": [
      "9\n"
     ]
    },
    {
     "name": "stdin",
     "output_type": "stream",
     "text": [
      "enter the num: 9\n"
     ]
    },
    {
     "name": "stdout",
     "output_type": "stream",
     "text": [
      "won\n"
     ]
    }
   ],
   "source": [
    "# Q4) Lets play a game\n",
    "# we will enter one number  n1\n",
    "# code will give some random number 1 to 10 n2\n",
    "# if both are equal then print won\n",
    "# other wise lost\n",
    "random_num=random.randint(1,10)\n",
    "print(random_num)\n",
    "user_num=eval(input('enter the num:'))\n",
    "if user_num==random_num:\n",
    "    print('won')\n",
    "else:\n",
    "    print('katam zindagi')"
   ]
  },
  {
   "cell_type": "code",
   "execution_count": 54,
   "id": "86c4692e-e9b8-4ec4-802e-d4a529659b09",
   "metadata": {},
   "outputs": [
    {
     "name": "stdin",
     "output_type": "stream",
     "text": [
      "enter the distance in km: 75\n",
      "km per charge in rs 2\n"
     ]
    },
    {
     "name": "stdout",
     "output_type": "stream",
     "text": [
      "the total price is:50km*2rs=100rs\n"
     ]
    }
   ],
   "source": [
    "# idea\n",
    "# step-1: distance = eval(input)\n",
    "# step-2: if <condition>\n",
    "# step-3:     charge=eval()\n",
    "# step-4:     total charge= distance tarvelled * charge\n",
    "# step-5: else:\n",
    "# step-6:    print free ride\n",
    "\n",
    "distance =eval(input('enter the distance in km:'))\n",
    "if distance>25:\n",
    "    travel_dis=distance-25\n",
    "    charge=eval(input('km per charge in rs'))\n",
    "    total_price=travel_dis*charge\n",
    "    print(f'the total price is:{travel_dis}km*{charge}rs={total_price}rs')\n",
    "else:\n",
    "    print('enjoy the free ride')"
   ]
  },
  {
   "cell_type": "code",
   "execution_count": 46,
   "id": "a825b191-3740-417d-9e4e-00984c15c8cb",
   "metadata": {},
   "outputs": [
    {
     "name": "stdin",
     "output_type": "stream",
     "text": [
      " 10.5\n"
     ]
    },
    {
     "ename": "ValueError",
     "evalue": "invalid literal for int() with base 10: '10.5'",
     "output_type": "error",
     "traceback": [
      "\u001b[1;31m---------------------------------------------------------------------------\u001b[0m",
      "\u001b[1;31mValueError\u001b[0m                                Traceback (most recent call last)",
      "Cell \u001b[1;32mIn[46], line 2\u001b[0m\n\u001b[0;32m      1\u001b[0m \u001b[38;5;66;03m#sir can you please explain why we are using eval always?\u001b[39;00m\n\u001b[1;32m----> 2\u001b[0m \u001b[38;5;28mint\u001b[39m(\u001b[38;5;28minput\u001b[39m())\n\u001b[0;32m      3\u001b[0m \u001b[38;5;28mfloat\u001b[39m(\u001b[38;5;28minput\u001b[39m())\n\u001b[0;32m      4\u001b[0m \u001b[38;5;28meval\u001b[39m(\u001b[38;5;28minput\u001b[39m())\n",
      "\u001b[1;31mValueError\u001b[0m: invalid literal for int() with base 10: '10.5'"
     ]
    }
   ],
   "source": [
    "#sir can you please explain why we are using eval always?\n",
    "int(input())\n",
    "float(input())\n",
    "eval(input())"
   ]
  },
  {
   "cell_type": "code",
   "execution_count": 48,
   "id": "b9892270-dbc5-495d-80d6-fadb1f91c940",
   "metadata": {},
   "outputs": [
    {
     "name": "stdin",
     "output_type": "stream",
     "text": [
      " 10.5\n"
     ]
    },
    {
     "data": {
      "text/plain": [
       "10.5"
      ]
     },
     "execution_count": 48,
     "metadata": {},
     "output_type": "execute_result"
    }
   ],
   "source": [
    "eval(input())"
   ]
  },
  {
   "cell_type": "code",
   "execution_count": 50,
   "id": "5f47d7b7-712e-4273-a5c3-ad9c53bf9c69",
   "metadata": {},
   "outputs": [
    {
     "name": "stdin",
     "output_type": "stream",
     "text": [
      " 10\n"
     ]
    },
    {
     "data": {
      "text/plain": [
       "10"
      ]
     },
     "execution_count": 50,
     "metadata": {},
     "output_type": "execute_result"
    }
   ],
   "source": [
    "eval(input())"
   ]
  },
  {
   "cell_type": "code",
   "execution_count": null,
   "id": "e3e9d43b-9118-4796-81eb-3ed98791632b",
   "metadata": {},
   "outputs": [],
   "source": [
    "#Q7) WAP ask the user enter a number\n",
    "# find that number is even numberb or odd number\n",
    "\n",
    "#Q8) wap ask the user enter\n",
    "#  course name \n",
    "#  ask the user enter institute name\n",
    "# if course name equal to data science and institute name equal to naresh it\n",
    "# print life is secure\n",
    "# otherwise\n",
    "#   print katam zindagi"
   ]
  },
  {
   "cell_type": "code",
   "execution_count": 62,
   "id": "2816b541-042b-4bb0-924a-426c8c8306e9",
   "metadata": {},
   "outputs": [
    {
     "data": {
      "text/plain": [
       "5.5"
      ]
     },
     "execution_count": 62,
     "metadata": {},
     "output_type": "execute_result"
    }
   ],
   "source": [
    "11/2"
   ]
  },
  {
   "cell_type": "code",
   "execution_count": 64,
   "id": "e6247e71-58f2-4ff1-9d27-4b0740a9d5de",
   "metadata": {},
   "outputs": [
    {
     "data": {
      "text/plain": [
       "1"
      ]
     },
     "execution_count": 64,
     "metadata": {},
     "output_type": "execute_result"
    }
   ],
   "source": [
    "11%2  # modulus remin"
   ]
  },
  {
   "cell_type": "code",
   "execution_count": 66,
   "id": "0bed145d-e112-4ffb-8792-bba4b8946db9",
   "metadata": {},
   "outputs": [
    {
     "data": {
      "text/plain": [
       "5"
      ]
     },
     "execution_count": 66,
     "metadata": {},
     "output_type": "execute_result"
    }
   ],
   "source": [
    "11//2  # floor  Q"
   ]
  },
  {
   "cell_type": "code",
   "execution_count": 70,
   "id": "6e068e50-72c1-45dc-a378-8ea3b8fb5183",
   "metadata": {},
   "outputs": [
    {
     "data": {
      "text/plain": [
       "False"
      ]
     },
     "execution_count": 70,
     "metadata": {},
     "output_type": "execute_result"
    }
   ],
   "source": [
    "11%2==0"
   ]
  },
  {
   "cell_type": "code",
   "execution_count": 3,
   "id": "125dda4d-bfb1-4ab8-8e7e-b37813d8fe8f",
   "metadata": {},
   "outputs": [
    {
     "name": "stdout",
     "output_type": "stream",
     "text": [
      "47 is an odd\n"
     ]
    }
   ],
   "source": [
    "import random\n",
    "num=random.randint(1,100)  # num=47\n",
    "if num%2==0:  # if  47%2==0  False\n",
    "    print(f'{num} is an even')\n",
    "else:\n",
    "    print(f'{num} is an odd')"
   ]
  },
  {
   "cell_type": "code",
   "execution_count": 17,
   "id": "330fe8ed-1b9a-4415-a409-a5e5bf603eba",
   "metadata": {},
   "outputs": [
    {
     "name": "stdin",
     "output_type": "stream",
     "text": [
      "enter the course name: Data Science\n",
      "enter the institute name: Naresh IT\n"
     ]
    },
    {
     "name": "stdout",
     "output_type": "stream",
     "text": [
      "life is secure\n"
     ]
    }
   ],
   "source": [
    "#Q8) wap ask the user enter\n",
    "#  course name \n",
    "#  ask the user enter institute name\n",
    "# if course name equal to data science and institute name equal to naresh it\n",
    "# print life is secure\n",
    "# otherwise\n",
    "#   print katam zindagi\n",
    "\n",
    "cname=input('enter the course name:')\n",
    "inst_name=input('enter the institute name:')\n",
    "if cname=='Data Science' and inst_name=='Naresh IT':\n",
    "    print('life is secure')\n",
    "else:\n",
    "    print('katam')"
   ]
  },
  {
   "cell_type": "code",
   "execution_count": 11,
   "id": "27f25636-8af1-4ee5-a1e7-be84292a6985",
   "metadata": {},
   "outputs": [
    {
     "data": {
      "text/plain": [
       "True"
      ]
     },
     "execution_count": 11,
     "metadata": {},
     "output_type": "execute_result"
    }
   ],
   "source": [
    "'Data Science'=='Data Science'"
   ]
  },
  {
   "cell_type": "code",
   "execution_count": 15,
   "id": "b79e8d7c-de16-4ca9-87ad-b0e74f2c25f0",
   "metadata": {},
   "outputs": [
    {
     "data": {
      "text/plain": [
       "True"
      ]
     },
     "execution_count": 15,
     "metadata": {},
     "output_type": "execute_result"
    }
   ],
   "source": [
    "'data science'.lower()=='Data Science'.lower()"
   ]
  },
  {
   "cell_type": "code",
   "execution_count": 25,
   "id": "8135ffed-8bac-41e9-b849-096e73cab77c",
   "metadata": {},
   "outputs": [
    {
     "name": "stdin",
     "output_type": "stream",
     "text": [
      "enter the course name: data science\n",
      "enter the institute name: naresh it\n"
     ]
    },
    {
     "name": "stdout",
     "output_type": "stream",
     "text": [
      "life is secure\n"
     ]
    }
   ],
   "source": [
    "cname=input('enter the course name:')\n",
    "inst_name=input('enter the institute name:')\n",
    "con1=cname.lower()=='Data Science'.lower()\n",
    "con2=inst_name.lower()=='Naresh IT'.lower()\n",
    "if con1 and con2:\n",
    "    print('life is secure')\n",
    "else:\n",
    "    print('katam')"
   ]
  },
  {
   "cell_type": "code",
   "execution_count": 23,
   "id": "eac2579d-1804-42ee-8404-0d939173f394",
   "metadata": {},
   "outputs": [
    {
     "data": {
      "text/plain": [
       "True"
      ]
     },
     "execution_count": 23,
     "metadata": {},
     "output_type": "execute_result"
    }
   ],
   "source": [
    "'data science'.lower()=='Data Science'.lower()\n",
    "'naresh it'.lower()=='Naresh IT'.lower()"
   ]
  },
  {
   "cell_type": "code",
   "execution_count": null,
   "id": "c57bae5d-8a1a-48e7-a78a-76f74685c6e4",
   "metadata": {},
   "outputs": [],
   "source": [
    "cname=input('enter the course name:')\n",
    "inst_name=input('enter the institute name:')\n",
    "con1=cname.lower()=='Data Science'.lower()\n",
    "con2=inst_name.lower()=='Naresh IT'.lower()\n",
    "if con1 or con2:\n",
    "    print('life is secure')\n",
    "else:\n",
    "    print('katam')"
   ]
  },
  {
   "cell_type": "markdown",
   "id": "637a0e0c-201a-4dad-aee1-1d5e7c0342bb",
   "metadata": {},
   "source": [
    "**if-elif-else**"
   ]
  },
  {
   "cell_type": "code",
   "execution_count": 28,
   "id": "ee786ad9-ff8d-4945-9c9f-e4b08a3662d2",
   "metadata": {},
   "outputs": [
    {
     "name": "stdout",
     "output_type": "stream",
     "text": [
      "enter a valid number\n"
     ]
    }
   ],
   "source": [
    "num=10\n",
    "if num==1:        # 10==1 False\n",
    "    print('one')\n",
    "elif num==2:      # 10==2 F\n",
    "    print('two')\n",
    "elif num==3:       # 10==3 F\n",
    "    print('three')\n",
    "else:\n",
    "    print('enter a valid number')"
   ]
  },
  {
   "cell_type": "code",
   "execution_count": 36,
   "id": "e38d1089-14bb-404f-8a46-69c29a516c6a",
   "metadata": {
    "scrolled": true
   },
   "outputs": [
    {
     "name": "stdout",
     "output_type": "stream",
     "text": [
      "two\n"
     ]
    }
   ],
   "source": [
    "num=2\n",
    "if num<1:          # 2<1  False\n",
    "    print('one')    \n",
    "elif num==2:       #  2==2 T\n",
    "    print('two')\n",
    "elif num<3:         #  2<3  T\n",
    "    print('Three')\n",
    "else:\n",
    "    print('enter a valid number')"
   ]
  },
  {
   "cell_type": "code",
   "execution_count": 38,
   "id": "50f3b750-eba5-4716-84e4-bcca54625c5e",
   "metadata": {},
   "outputs": [
    {
     "name": "stdout",
     "output_type": "stream",
     "text": [
      "one\n",
      "two\n"
     ]
    }
   ],
   "source": [
    "num=2\n",
    "if num>1:        # 2>1   One        \n",
    "    print('one')    \n",
    "if num==2:      # 2==2   two       \n",
    "    print('two')\n",
    "elif num<3:        \n",
    "    print('Three')\n",
    "else:\n",
    "    print('enter a valid number')"
   ]
  },
  {
   "cell_type": "code",
   "execution_count": null,
   "id": "4024daab-3349-4ba0-a5ac-675ee9c9010e",
   "metadata": {},
   "outputs": [],
   "source": [
    "if is not pass === elif (condition)\n",
    "# two can degree pass\n",
    "# if first === dont check\n",
    "if is not pass === else (condition)\n",
    "# we are looking only degree === \n",
    "# who ever avaolable\n",
    "if is pass not pass ==== if \n",
    "# two can degree pass\n",
    "# if first  second "
   ]
  },
  {
   "cell_type": "code",
   "execution_count": null,
   "id": "e67a6c9f-9faf-4139-bd64-9a207ec660ea",
   "metadata": {},
   "outputs": [],
   "source": [
    "# ask the user enter percentage of marks\n",
    "# if marks greater than 75 then print A grade\n",
    "# if marks between 60 to 75 then print B grade\n",
    "# if marks between 45 to 60 then print C grade\n",
    "# othwise print Fail\n",
    "\n",
    "# if === elif === elif  === else"
   ]
  },
  {
   "cell_type": "code",
   "execution_count": 44,
   "id": "f428ad03-531a-41f8-a297-4078f30bed1d",
   "metadata": {},
   "outputs": [
    {
     "name": "stdin",
     "output_type": "stream",
     "text": [
      "enter the number: 65\n"
     ]
    },
    {
     "name": "stdout",
     "output_type": "stream",
     "text": [
      "B grade\n"
     ]
    }
   ],
   "source": [
    "num=eval(input('enter the number:'))\n",
    "if num>=75:  # 65>=75  False\n",
    "    print('A grade')\n",
    "elif num>=60 and num<75: # 65>=60 and 65<75 True\n",
    "    print('B grade')"
   ]
  },
  {
   "cell_type": "code",
   "execution_count": 46,
   "id": "5c3fae7c-c07c-43f7-80c3-6e695dac3ac7",
   "metadata": {},
   "outputs": [
    {
     "name": "stdin",
     "output_type": "stream",
     "text": [
      "enter the number: 65\n"
     ]
    },
    {
     "name": "stdout",
     "output_type": "stream",
     "text": [
      "B grade\n"
     ]
    }
   ],
   "source": [
    "num=eval(input('enter the number:'))\n",
    "if num>=75:  \n",
    "    print('A grade')\n",
    "elif 60<num<75:  # 60<65<75\n",
    "    print('B grade')"
   ]
  },
  {
   "cell_type": "code",
   "execution_count": 56,
   "id": "8421198f-d4bc-467f-9f21-ebfeeea8c468",
   "metadata": {},
   "outputs": [
    {
     "name": "stdin",
     "output_type": "stream",
     "text": [
      "enter the number: 70\n"
     ]
    },
    {
     "name": "stdout",
     "output_type": "stream",
     "text": [
      "B grade\n"
     ]
    }
   ],
   "source": [
    "num=eval(input('enter the number:'))\n",
    "if num>=75:    # 70>=75 F\n",
    "    print('A grade')\n",
    "elif num>=60:  # 70>=60  T\n",
    "    print('B grade')\n",
    "elif num>=45:  # 70>=45 T\n",
    "    print('C grade')\n",
    "else:\n",
    "    print('Fail')"
   ]
  },
  {
   "cell_type": "code",
   "execution_count": null,
   "id": "5ec537a8-9b03-441b-977b-120a701d74cc",
   "metadata": {},
   "outputs": [],
   "source": [
    "# wap ask the user take a age\n",
    "# if age>100 print unlucky person\n",
    "# if age between 60 to 100 print senior c\n",
    "# if age between 30 to 60 print MA\n",
    "# if age between 19 to 30 print young\n",
    "# if age between 13 to 19 print teen\n",
    "# else\n",
    "# print kid\n",
    "\n",
    "# if elif elif elif elif else"
   ]
  },
  {
   "cell_type": "code",
   "execution_count": null,
   "id": "9f6c4e23-e525-4292-8845-2a223c66753b",
   "metadata": {},
   "outputs": [],
   "source": [
    "age=eval(input(\"enter the age:\"))\n",
    "if age>=100:\n",
    "    print(\"unlucky person\")\n",
    "elif age>=60 :\n",
    "    print(\"senior c\")\n",
    "elif age>=30 and marks<60:\n",
    "    print(\"middle age\")\n",
    "elif age>=13 and marks<19:\n",
    "    print(\"youth\")\n",
    "else:\n",
    "    print(\"kid\")\n",
    "\n",
    "Karumanchi Nikitha 20:41\n",
    "age=eval(input(\"Enter the age:\"))\n",
    "if age>=100:\n",
    "    print(\"unlucky person\")\n",
    "elif age>=60:\n",
    "    print(\"senior citizen\")\n",
    "elif age>=30:\n",
    "    print(\"Middle Age\")\n",
    "elif age>=19:\n",
    "    print(\"young\")\n",
    "elif age>=13:\n",
    "    print(\"teen age\")\n",
    "else:\n",
    "    print(\"kid\")"
   ]
  },
  {
   "cell_type": "code",
   "execution_count": null,
   "id": "58589a30-12cc-4df6-8908-c8b65cc87c53",
   "metadata": {},
   "outputs": [],
   "source": [
    "age=eval(input('enter a age'))\n",
    "if age>=100:\n",
    "    print('unlucky person')\n",
    "elif age>=60:\n",
    "    print('Senior Citizen')\n",
    "elif age>=19:\n",
    "    print('young')\n",
    "elif age>=13:\n",
    "    print('teen')\n",
    "elif age>=30:\n",
    "    print('MA')\n",
    "else:\n",
    "    print('kid')\n",
    "\n",
    "# and two conditions then only works"
   ]
  },
  {
   "cell_type": "code",
   "execution_count": null,
   "id": "e2712afd-b283-4094-bedb-f0b7fae8a8ef",
   "metadata": {},
   "outputs": [],
   "source": [
    "# wap ask the user enter two numbers\n",
    "# num1=eval()\n",
    "# num2=eval()\n",
    "# ask the user print some statements\n",
    "# print(\"enter 1 for addition, enter 2 for sub, enter3 mul , enter4 div\")\n",
    "# operation=eval(input('enter a number between 1 to 4'))\n",
    "# if operation==1:\n",
    "#     print('addition operation sle')\n",
    "#    add= n1+n2\n",
    "#    print(add)\n",
    "# elif opertaion==2\n",
    "#      ====\n",
    "# elif operation==3\n",
    "#     ====\n",
    "# elif operation==4\n",
    "#   ====\n",
    "# else:\n",
    "#     print a enter a valid operation"
   ]
  },
  {
   "cell_type": "code",
   "execution_count": 9,
   "id": "9a58f03c-54c8-4211-8b5e-bab99179cd31",
   "metadata": {},
   "outputs": [
    {
     "name": "stdout",
     "output_type": "stream",
     "text": [
      "Enter 1 for addition \n",
      ",enter 2 for sub,enter 3 for multiplication, enter 4 for division\n"
     ]
    },
    {
     "name": "stdin",
     "output_type": "stream",
     "text": [
      "Enter a number between 1-4 1\n"
     ]
    }
   ],
   "source": [
    "print(\"Enter 1 for addition \\n,enter 2 for sub,enter 3 for multiplication, enter 4 for division\")\n",
    "operation = input(\"Enter a number between 1-4\") # '1'\n",
    "if operation==1:  # '1'==1\n",
    "    print('hello')"
   ]
  },
  {
   "cell_type": "code",
   "execution_count": 11,
   "id": "faae9451-50d0-4a07-ae1b-b4dddf0c7886",
   "metadata": {},
   "outputs": [
    {
     "name": "stdin",
     "output_type": "stream",
     "text": [
      " 10\n",
      " 20\n"
     ]
    },
    {
     "name": "stdout",
     "output_type": "stream",
     "text": [
      "Enter 1 for addition \n",
      ",enter 2 for sub \n",
      ",enter 3 for multiplication \n",
      ", enter 4 for division\n"
     ]
    },
    {
     "name": "stdin",
     "output_type": "stream",
     "text": [
      "Enter a number between 1-4 4\n"
     ]
    },
    {
     "name": "stdout",
     "output_type": "stream",
     "text": [
      "division operation selected\n",
      "difference of 10 and 20 is : 0.5\n"
     ]
    }
   ],
   "source": [
    "num1= eval(input(\"Enter a number1:\"))\n",
    "num2= eval(input(\"Enter a number2:\"))\n",
    "print(\"Enter 1 for addition \\n,enter 2 for sub \\n,enter 3 for multiplication \\n, enter 4 for division\")\n",
    "operation = eval(input(\"Enter a number between 1-4\"))\n",
    "if operation == 1:\n",
    "    print(\"Addition operation selected\")\n",
    "    add = num1 + num2\n",
    "    print(f\"Sum of {num1} and {num2} is : {sum}\")\n",
    "elif operation == 2:\n",
    "    print(\"subtraction operation selected\")\n",
    "    sub = num1 - num2\n",
    "    print(f\"difference of {num1} and {num2} is : {sub}\")\n",
    "elif operation == 3:\n",
    "    print(\"Multiplication operation selected\")\n",
    "    mul = num1 * num2\n",
    "    print(f\"multiplication of {num1} and {num2} is : {mul}\")\n",
    "elif operation == 4:\n",
    "    print(\"division operation selected\")\n",
    "    div = num1 / num2\n",
    "    print(f\"difference of {num1} and {num2} is : {div}\")\n",
    "else:\n",
    "    print(\"Enter a valid number...\")"
   ]
  },
  {
   "cell_type": "code",
   "execution_count": 13,
   "id": "27b21054-093c-4413-8fc6-4a1a82c84dee",
   "metadata": {},
   "outputs": [
    {
     "name": "stdin",
     "output_type": "stream",
     "text": [
      "Enter a number1: 10\n",
      "Enter a number2: 20\n"
     ]
    },
    {
     "name": "stdout",
     "output_type": "stream",
     "text": [
      "Enter + for addition \n",
      ",Enter - for sub \n",
      ",Enter * for multiplication \n",
      ", Enter 4 for /\n"
     ]
    },
    {
     "name": "stdin",
     "output_type": "stream",
     "text": [
      "Enter a symbol [+,-,*,/] *\n"
     ]
    },
    {
     "name": "stdout",
     "output_type": "stream",
     "text": [
      "Multiplication operation selected\n",
      "multiplication of 10 and 20 is : 200\n"
     ]
    }
   ],
   "source": [
    "num1= eval(input(\"Enter a number1:\"))\n",
    "num2= eval(input(\"Enter a number2:\"))\n",
    "print(\"Enter + for addition \\n,Enter - for sub \\n,Enter * for multiplication \\n, Enter 4 for /\")\n",
    "operation = input(\"Enter a symbol [+,-,*,/]\")\n",
    "if operation == '+':\n",
    "    print(\"Addition operation selected\")\n",
    "    add = num1 + num2\n",
    "    print(f\"Sum of {num1} and {num2} is : {add}\")\n",
    "elif operation == '-':\n",
    "    print(\"subtraction operation selected\")\n",
    "    sub = num1 - num2\n",
    "    print(f\"difference of {num1} and {num2} is : {sub}\")\n",
    "elif operation == '*':\n",
    "    print(\"Multiplication operation selected\")\n",
    "    mul = num1 * num2\n",
    "    print(f\"multiplication of {num1} and {num2} is : {mul}\")\n",
    "elif operation == '/':\n",
    "    print(\"division operation selected\")\n",
    "    div = num1 / num2\n",
    "    print(f\"difference of {num1} and {num2} is : {div}\")\n",
    "else:\n",
    "    print(\"Enter a valid number...\")"
   ]
  },
  {
   "cell_type": "code",
   "execution_count": null,
   "id": "cdd17eb3-6e4b-4265-8a4d-8380ac7b6831",
   "metadata": {},
   "outputs": [],
   "source": [
    " "
   ]
  }
 ],
 "metadata": {
  "kernelspec": {
   "display_name": "Python [conda env:base] *",
   "language": "python",
   "name": "conda-base-py"
  },
  "language_info": {
   "codemirror_mode": {
    "name": "ipython",
    "version": 3
   },
   "file_extension": ".py",
   "mimetype": "text/x-python",
   "name": "python",
   "nbconvert_exporter": "python",
   "pygments_lexer": "ipython3",
   "version": "3.12.7"
  }
 },
 "nbformat": 4,
 "nbformat_minor": 5
}
