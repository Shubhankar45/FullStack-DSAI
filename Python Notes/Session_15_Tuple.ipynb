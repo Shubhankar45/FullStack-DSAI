{
 "cells": [
  {
   "cell_type": "markdown",
   "id": "16175605-ea15-4143-8fe7-00a3588ad7a3",
   "metadata": {},
   "source": [
    "**Tuple**"
   ]
  },
  {
   "cell_type": "markdown",
   "id": "c7817ba2-61eb-4946-9506-5598ac51b07a",
   "metadata": {},
   "source": [
    "- A tuple is an ordered, immutable collection of elements in Python.\n",
    "- Created by placing items inside parentheses () separated by commas.\n",
    "- Once created, the elements of a tuple cannot be changed, added, or removed.\n",
    "- The elements maintain the same order in which they were defined.\n",
    "- Tuples can contain duplicate values.\n",
    "- Can store integers, strings, lists, other tuples, etc., in a single tuple."
   ]
  },
  {
   "cell_type": "markdown",
   "id": "0a1cd507-8f3f-46ee-b5e0-542bbcf7bb6f",
   "metadata": {},
   "source": [
    "**Tuple is a immutable**"
   ]
  },
  {
   "cell_type": "code",
   "execution_count": 1,
   "id": "e67b5bcb-f729-425a-b97f-98208bae5a22",
   "metadata": {},
   "outputs": [
    {
     "data": {
      "text/plain": [
       "['__add__',\n",
       " '__class__',\n",
       " '__class_getitem__',\n",
       " '__contains__',\n",
       " '__delattr__',\n",
       " '__dir__',\n",
       " '__doc__',\n",
       " '__eq__',\n",
       " '__format__',\n",
       " '__ge__',\n",
       " '__getattribute__',\n",
       " '__getitem__',\n",
       " '__getnewargs__',\n",
       " '__getstate__',\n",
       " '__gt__',\n",
       " '__hash__',\n",
       " '__init__',\n",
       " '__init_subclass__',\n",
       " '__iter__',\n",
       " '__le__',\n",
       " '__len__',\n",
       " '__lt__',\n",
       " '__mul__',\n",
       " '__ne__',\n",
       " '__new__',\n",
       " '__reduce__',\n",
       " '__reduce_ex__',\n",
       " '__repr__',\n",
       " '__rmul__',\n",
       " '__setattr__',\n",
       " '__sizeof__',\n",
       " '__str__',\n",
       " '__subclasshook__',\n",
       " 'count',\n",
       " 'index']"
      ]
     },
     "execution_count": 1,
     "metadata": {},
     "output_type": "execute_result"
    }
   ],
   "source": [
    "dir(())"
   ]
  },
  {
   "cell_type": "code",
   "execution_count": 10,
   "id": "97d731dc-c13e-4a10-9bf1-f92a251fb780",
   "metadata": {},
   "outputs": [
    {
     "ename": "NameError",
     "evalue": "name 't' is not defined",
     "output_type": "error",
     "traceback": [
      "\u001b[1;31m---------------------------------------------------------------------------\u001b[0m",
      "\u001b[1;31mNameError\u001b[0m                                 Traceback (most recent call last)",
      "Cell \u001b[1;32mIn[10], line 5\u001b[0m\n\u001b[0;32m      2\u001b[0m \u001b[38;5;28;01mdel\u001b[39;00m t\n\u001b[0;32m      3\u001b[0m \u001b[38;5;66;03m#t[2]=3 #modify element failed\u001b[39;00m\n\u001b[0;32m      4\u001b[0m \u001b[38;5;66;03m#t.append(2) #add element failed\u001b[39;00m\n\u001b[1;32m----> 5\u001b[0m \u001b[38;5;28mprint\u001b[39m(t)\n",
      "\u001b[1;31mNameError\u001b[0m: name 't' is not defined"
     ]
    }
   ],
   "source": [
    "t=(1,2,3,4,5,6,7,8,9)\n",
    "\n",
    "t[2]=3 #modify element failed\n",
    "t.append(2) #add element failed\n",
    "del t "
   ]
  },
  {
   "cell_type": "markdown",
   "id": "04a2701c-34d0-412f-a77a-c81f2836ac3a",
   "metadata": {},
   "source": [
    "**Concatination**"
   ]
  },
  {
   "cell_type": "code",
   "execution_count": 14,
   "id": "8796a3f1-87a6-41a5-ad10-4a8be10f2034",
   "metadata": {},
   "outputs": [
    {
     "name": "stdout",
     "output_type": "stream",
     "text": [
      "(1, 2, 3, 4, 5, 6, 7, 8, 9)\n",
      "(1, 2, 3, 4, 5, 6, 7, 8, 9, 1, 2, 3, 4, 5, 6, 7, 8, 9)\n"
     ]
    }
   ],
   "source": [
    "t1=(1,2,3,4,5)\n",
    "t2=(6,7,8,9)\n",
    "t3=t1+t2\n",
    "print(t3) #Addition\n",
    "print(t3*2) #Multiplication"
   ]
  },
  {
   "cell_type": "markdown",
   "id": "e830face-2205-4592-bcaa-0d5626b25b13",
   "metadata": {},
   "source": [
    "**Methods**"
   ]
  },
  {
   "cell_type": "markdown",
   "id": "86c7c3bf-2776-4105-874f-d568dfbb3284",
   "metadata": {},
   "source": [
    "**count()**"
   ]
  },
  {
   "cell_type": "code",
   "execution_count": 4,
   "id": "5ce73def-4207-45bc-9e9a-271b535ce348",
   "metadata": {},
   "outputs": [
    {
     "name": "stdout",
     "output_type": "stream",
     "text": [
      "1\n",
      "0\n"
     ]
    }
   ],
   "source": [
    "t=(1,2,3,4,5)\n",
    "print(t.count(1))\n",
    "print(t.count(6))"
   ]
  },
  {
   "cell_type": "markdown",
   "id": "f1ad434b-a1c9-48be-8a9e-012bf5cfcaf1",
   "metadata": {},
   "source": [
    "**index()**"
   ]
  },
  {
   "cell_type": "code",
   "execution_count": 23,
   "id": "f0d56e64-95b3-46d6-a161-5c64eb51440d",
   "metadata": {},
   "outputs": [
    {
     "data": {
      "text/plain": [
       "(4, 13, 14, 16)"
      ]
     },
     "execution_count": 23,
     "metadata": {},
     "output_type": "execute_result"
    }
   ],
   "source": [
    "t=(10, 20,30,40,1, 2,3,4,'a','p','p','l','e',1,1,2,1)\n",
    "i1=t.index(1)\n",
    "i2=t.index(1,i1+1)\n",
    "i3=t.index(1,i2+1)\n",
    "i4=t.index(1,i3+1)\n",
    "i1,i2,i3,i4"
   ]
  },
  {
   "cell_type": "code",
   "execution_count": null,
   "id": "54142443-ebf9-4786-9b3d-e8426ab5724c",
   "metadata": {},
   "outputs": [],
   "source": []
  }
 ],
 "metadata": {
  "kernelspec": {
   "display_name": "Python [conda env:base] *",
   "language": "python",
   "name": "conda-base-py"
  },
  "language_info": {
   "codemirror_mode": {
    "name": "ipython",
    "version": 3
   },
   "file_extension": ".py",
   "mimetype": "text/x-python",
   "name": "python",
   "nbconvert_exporter": "python",
   "pygments_lexer": "ipython3",
   "version": "3.13.5"
  }
 },
 "nbformat": 4,
 "nbformat_minor": 5
}
