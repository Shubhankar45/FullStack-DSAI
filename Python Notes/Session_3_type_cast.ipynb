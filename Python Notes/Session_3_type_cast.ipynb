{
 "cells": [
  {
   "cell_type": "code",
   "execution_count": 1,
   "id": "00167021-122f-444e-919d-5bf07523662a",
   "metadata": {},
   "outputs": [],
   "source": [
    "number1 = 10  # int\n",
    "number2=10.5  # float\n",
    "name='NareshIT' # string : str\n",
    "value=True      # boolean : bool\n",
    "############################################\n",
    "fruites=['Apple','Banana','cherry'] # list\n",
    "names=('Ramesh','Suresh','Sathish') # tuple\n",
    "age={20,22,24}  # set\n",
    "data={'Ramesh':20,'Suresh':22,'Sathish':24} # dictionary: dict"
   ]
  },
  {
   "cell_type": "markdown",
   "id": "7a7449e5-fa59-4305-8c85-a97a6b62ee52",
   "metadata": {},
   "source": [
    "# Type cast:\n",
    "\n",
    "- Convert one data type to another data type"
   ]
  },
  {
   "cell_type": "code",
   "execution_count": 3,
   "id": "d7272a50-4216-4797-83a2-3855b7b5ad2d",
   "metadata": {},
   "outputs": [
    {
     "data": {
      "text/plain": [
       "'100200'"
      ]
     },
     "execution_count": 3,
     "metadata": {},
     "output_type": "execute_result"
    }
   ],
   "source": [
    "n1='100'  # 100\n",
    "n2='200'  # 200\n",
    "n1+n2     # 100+200=300"
   ]
  },
  {
   "cell_type": "markdown",
   "id": "56fb3610-51ce-4b3a-b1a7-76aef167fe24",
   "metadata": {},
   "source": [
    "**Case-1**"
   ]
  },
  {
   "cell_type": "markdown",
   "id": "61b81fd6-3d23-403f-9436-7bde90c862ba",
   "metadata": {},
   "source": [
    "- int to float\n",
    "\n",
    "- int to str\n",
    "\n",
    "- int to bool"
   ]
  },
  {
   "cell_type": "code",
   "execution_count": 12,
   "id": "68cb971d-ccf7-46bd-a2c6-6d429b69fb4e",
   "metadata": {},
   "outputs": [
    {
     "data": {
      "text/plain": [
       "(10.0, '10', True)"
      ]
     },
     "execution_count": 12,
     "metadata": {},
     "output_type": "execute_result"
    }
   ],
   "source": [
    "number=10\n",
    "# int to float\n",
    "float(number),str(number),bool(number)"
   ]
  },
  {
   "cell_type": "code",
   "execution_count": 14,
   "id": "45a5ceab-d672-4fd7-adfc-bff921f2cc59",
   "metadata": {},
   "outputs": [
    {
     "data": {
      "text/plain": [
       "(-10.0, '-10', True)"
      ]
     },
     "execution_count": 14,
     "metadata": {},
     "output_type": "execute_result"
    }
   ],
   "source": [
    "float(-10),str(-10),bool(-10)\n",
    "# -10.0      '-10'    True"
   ]
  },
  {
   "cell_type": "code",
   "execution_count": 16,
   "id": "281e09ca-d0c5-4d04-8024-745e966dd72f",
   "metadata": {},
   "outputs": [
    {
     "data": {
      "text/plain": [
       "(0.0, '0', False)"
      ]
     },
     "execution_count": 16,
     "metadata": {},
     "output_type": "execute_result"
    }
   ],
   "source": [
    "float(0),str(0),bool(0)\n",
    "# 0.0     '0'    False"
   ]
  },
  {
   "cell_type": "markdown",
   "id": "58379708-5b94-4301-9907-8ae94d50b1c9",
   "metadata": {},
   "source": [
    "**Float to other datatypes**"
   ]
  },
  {
   "cell_type": "code",
   "execution_count": 19,
   "id": "035c1ef0-b592-4a9b-818a-c0194e0792f8",
   "metadata": {},
   "outputs": [
    {
     "name": "stdout",
     "output_type": "stream",
     "text": [
      "10\n",
      "10.5\n",
      "True\n"
     ]
    }
   ],
   "source": [
    "number1=10.5\n",
    "print(int(number1)) #\n",
    "print(str(number1)) # '10.5'\n",
    "print(bool(number1)) # False"
   ]
  },
  {
   "cell_type": "code",
   "execution_count": 23,
   "id": "defa0488-0b32-4bee-9cda-73b05de7a822",
   "metadata": {},
   "outputs": [
    {
     "data": {
      "text/plain": [
       "(10, '10.5', True)"
      ]
     },
     "execution_count": 23,
     "metadata": {},
     "output_type": "execute_result"
    }
   ],
   "source": [
    "number1=10.5\n",
    "int(number1),str(number1),bool(number1)"
   ]
  },
  {
   "cell_type": "code",
   "execution_count": 25,
   "id": "ce2cab5d-0515-4d7f-80b6-0cd78c6d09b3",
   "metadata": {},
   "outputs": [
    {
     "data": {
      "text/plain": [
       "(-10, '-10.5', True)"
      ]
     },
     "execution_count": 25,
     "metadata": {},
     "output_type": "execute_result"
    }
   ],
   "source": [
    "int(-10.5),str(-10.5),bool(-10.5)"
   ]
  },
  {
   "cell_type": "code",
   "execution_count": 35,
   "id": "e96039bf-bb16-400c-b1dc-f4f19c3fdafc",
   "metadata": {},
   "outputs": [
    {
     "data": {
      "text/plain": [
       "(0, '0.0', False)"
      ]
     },
     "execution_count": 35,
     "metadata": {},
     "output_type": "execute_result"
    }
   ],
   "source": [
    "int(0.0),str(0.0),bool(0.00000)  "
   ]
  },
  {
   "cell_type": "code",
   "execution_count": null,
   "id": "4b89c085-2ecd-4cc1-8b72-5d66aa774917",
   "metadata": {},
   "outputs": [],
   "source": [
    "0 0.0  False OFF\n",
    "       True  ON\n",
    "\n",
    "10  On  T\n",
    "-10 On  T\n",
    "0   off  f "
   ]
  },
  {
   "cell_type": "markdown",
   "id": "d7b17459-c3a6-485d-8f28-36921664c347",
   "metadata": {},
   "source": [
    "**String to other data types**"
   ]
  },
  {
   "cell_type": "code",
   "execution_count": null,
   "id": "bb79f4bb-1b42-433b-a0a8-9c165a5126c9",
   "metadata": {},
   "outputs": [],
   "source": [
    "s1='10'  # int float boolean\n",
    "s2='10.5'\n",
    "s3='apple'"
   ]
  },
  {
   "cell_type": "code",
   "execution_count": 38,
   "id": "4fab40b8-65b0-449b-a4a8-36b9e0e72eda",
   "metadata": {},
   "outputs": [
    {
     "name": "stdout",
     "output_type": "stream",
     "text": [
      "10\n",
      "10.0\n",
      "True\n"
     ]
    }
   ],
   "source": [
    "print(int('10'))   # 10\n",
    "print(float('10')) # 10.0\n",
    "print(bool('10'))  # True"
   ]
  },
  {
   "cell_type": "code",
   "execution_count": 40,
   "id": "3257593b-42a3-4752-853e-134da3ea8dbb",
   "metadata": {},
   "outputs": [
    {
     "ename": "ValueError",
     "evalue": "invalid literal for int() with base 10: '10.5'",
     "output_type": "error",
     "traceback": [
      "\u001b[1;31m---------------------------------------------------------------------------\u001b[0m",
      "\u001b[1;31mValueError\u001b[0m                                Traceback (most recent call last)",
      "Cell \u001b[1;32mIn[40], line 1\u001b[0m\n\u001b[1;32m----> 1\u001b[0m \u001b[38;5;28mprint\u001b[39m(\u001b[38;5;28mint\u001b[39m(\u001b[38;5;124m'\u001b[39m\u001b[38;5;124m10.5\u001b[39m\u001b[38;5;124m'\u001b[39m))   \u001b[38;5;66;03m# 10\u001b[39;00m\n\u001b[0;32m      2\u001b[0m \u001b[38;5;28mprint\u001b[39m(\u001b[38;5;28mfloat\u001b[39m(\u001b[38;5;124m'\u001b[39m\u001b[38;5;124m10.5\u001b[39m\u001b[38;5;124m'\u001b[39m)) \u001b[38;5;66;03m# 10.5\u001b[39;00m\n\u001b[0;32m      3\u001b[0m \u001b[38;5;28mprint\u001b[39m(\u001b[38;5;28mbool\u001b[39m(\u001b[38;5;124m'\u001b[39m\u001b[38;5;124m10.5\u001b[39m\u001b[38;5;124m'\u001b[39m))\n",
      "\u001b[1;31mValueError\u001b[0m: invalid literal for int() with base 10: '10.5'"
     ]
    }
   ],
   "source": [
    "print(int('10.5'))   # 10\n",
    "print(float('10.5')) # 10.5\n",
    "print(bool('10.5'))  # True"
   ]
  },
  {
   "cell_type": "code",
   "execution_count": 46,
   "id": "f3c6a08f-3228-4b56-9ffa-67f6d8e64087",
   "metadata": {},
   "outputs": [
    {
     "name": "stdout",
     "output_type": "stream",
     "text": [
      "10\n",
      "20\n"
     ]
    },
    {
     "ename": "NameError",
     "evalue": "name 'Lenavo' is not defined",
     "output_type": "error",
     "traceback": [
      "\u001b[1;31m---------------------------------------------------------------------------\u001b[0m",
      "\u001b[1;31mNameError\u001b[0m                                 Traceback (most recent call last)",
      "Cell \u001b[1;32mIn[46], line 6\u001b[0m\n\u001b[0;32m      4\u001b[0m \u001b[38;5;28mprint\u001b[39m(n2)\n\u001b[0;32m      5\u001b[0m n4\u001b[38;5;241m=\u001b[39m\u001b[38;5;241m100\u001b[39m\n\u001b[1;32m----> 6\u001b[0m n3\u001b[38;5;241m=\u001b[39mLenavo\n\u001b[0;32m      7\u001b[0m n4\u001b[38;5;241m=\u001b[39m\u001b[38;5;241m100\u001b[39m\n\u001b[0;32m      8\u001b[0m n5\u001b[38;5;241m=\u001b[39m\u001b[38;5;241m600\u001b[39m\n",
      "\u001b[1;31mNameError\u001b[0m: name 'Lenavo' is not defined"
     ]
    }
   ],
   "source": [
    "n1=10\n",
    "print(n1)\n",
    "n2=20\n",
    "print(n2)\n",
    "n4=100\n",
    "n3=Lenavo\n",
    "n4=100\n",
    "n5=600"
   ]
  },
  {
   "cell_type": "code",
   "execution_count": null,
   "id": "3e348296-980a-47a0-878a-1cf8e69d1ff9",
   "metadata": {},
   "outputs": [],
   "source": [
    "int('10.5')  # error\n",
    "int('10')    # 10\n",
    "# generally 10 is a integer\n",
    "# but represented as a string \n",
    "# both are same family\n",
    "\n",
    "\n"
   ]
  },
  {
   "cell_type": "code",
   "execution_count": 50,
   "id": "eadb7666-b620-49c3-ace4-c4a4263590f9",
   "metadata": {},
   "outputs": [
    {
     "data": {
      "text/plain": [
       "(10.5, 10)"
      ]
     },
     "execution_count": 50,
     "metadata": {},
     "output_type": "execute_result"
    }
   ],
   "source": [
    "float('10.5'),int('10')"
   ]
  },
  {
   "cell_type": "code",
   "execution_count": 52,
   "id": "5c69cebc-a668-4bb0-87d1-14f667c4329e",
   "metadata": {},
   "outputs": [
    {
     "data": {
      "text/plain": [
       "(10.0, 10.5)"
      ]
     },
     "execution_count": 52,
     "metadata": {},
     "output_type": "execute_result"
    }
   ],
   "source": [
    "float('10'),float('10.5')"
   ]
  },
  {
   "cell_type": "code",
   "execution_count": 54,
   "id": "0ef4ae24-13db-499b-9c3d-f985c9aff989",
   "metadata": {},
   "outputs": [
    {
     "data": {
      "text/plain": [
       "10"
      ]
     },
     "execution_count": 54,
     "metadata": {},
     "output_type": "execute_result"
    }
   ],
   "source": [
    "int('10')"
   ]
  },
  {
   "cell_type": "code",
   "execution_count": null,
   "id": "b6beb9d2-0b86-4f1f-82d5-b00fc2025539",
   "metadata": {},
   "outputs": [],
   "source": [
    "int(10)  # 10\n",
    "int(10.5) # 10\n",
    "int('10') # 10\n",
    "int('10.5') # error\n",
    "float(10)   # 10.0\n",
    "float(10.5) # 10.5\n",
    "float('10') # 10.0\n",
    "float('10.5') # 10.5"
   ]
  },
  {
   "cell_type": "code",
   "execution_count": null,
   "id": "566d399a-0123-43ef-b6b9-b986202a4acb",
   "metadata": {},
   "outputs": [],
   "source": [
    "int('0'),float('0'),bool('0')\n",
    "# 0        0.0        True         "
   ]
  },
  {
   "cell_type": "code",
   "execution_count": 58,
   "id": "05646155-3459-4d4d-8e73-5a88cccd903d",
   "metadata": {},
   "outputs": [
    {
     "data": {
      "text/plain": [
       "(1, 0, 5)"
      ]
     },
     "execution_count": 58,
     "metadata": {},
     "output_type": "execute_result"
    }
   ],
   "source": [
    "len('0'),len(''),len('apple')\n",
    "# yes      No       Yes"
   ]
  },
  {
   "cell_type": "code",
   "execution_count": 60,
   "id": "1eed84b8-2bb2-46fa-996f-f1899f02a146",
   "metadata": {},
   "outputs": [
    {
     "ename": "ValueError",
     "evalue": "invalid literal for int() with base 10: '0.0'",
     "output_type": "error",
     "traceback": [
      "\u001b[1;31m---------------------------------------------------------------------------\u001b[0m",
      "\u001b[1;31mValueError\u001b[0m                                Traceback (most recent call last)",
      "Cell \u001b[1;32mIn[60], line 1\u001b[0m\n\u001b[1;32m----> 1\u001b[0m \u001b[38;5;28mint\u001b[39m(\u001b[38;5;124m'\u001b[39m\u001b[38;5;124m0.0\u001b[39m\u001b[38;5;124m'\u001b[39m)\n",
      "\u001b[1;31mValueError\u001b[0m: invalid literal for int() with base 10: '0.0'"
     ]
    }
   ],
   "source": [
    "int('0.0') # error\n",
    "int('10.5') # error"
   ]
  },
  {
   "cell_type": "code",
   "execution_count": 62,
   "id": "4651df00-2001-45bb-a298-bd7050183a21",
   "metadata": {},
   "outputs": [
    {
     "data": {
      "text/plain": [
       "4"
      ]
     },
     "execution_count": 62,
     "metadata": {},
     "output_type": "execute_result"
    }
   ],
   "source": [
    "len('0.00')"
   ]
  },
  {
   "cell_type": "code",
   "execution_count": 64,
   "id": "daa24624-845e-4235-8d65-676a0500ac7c",
   "metadata": {},
   "outputs": [
    {
     "data": {
      "text/plain": [
       "0.0"
      ]
     },
     "execution_count": 64,
     "metadata": {},
     "output_type": "execute_result"
    }
   ],
   "source": [
    "0.00"
   ]
  },
  {
   "cell_type": "code",
   "execution_count": null,
   "id": "7e550266-a127-4eab-8f09-4dd4b6513546",
   "metadata": {},
   "outputs": [],
   "source": [
    "float('apple') # error\n",
    "int('apple')   # error\n",
    "bool('apple')  # True"
   ]
  },
  {
   "cell_type": "code",
   "execution_count": 66,
   "id": "2ea8d5a0-0416-4fb8-90a4-25b462a1af36",
   "metadata": {},
   "outputs": [
    {
     "data": {
      "text/plain": [
       "(1, 1.0, 'True')"
      ]
     },
     "execution_count": 66,
     "metadata": {},
     "output_type": "execute_result"
    }
   ],
   "source": [
    "int(True),float(True),str(True)\n",
    "# 1        1.0         'True'"
   ]
  },
  {
   "cell_type": "code",
   "execution_count": 68,
   "id": "a3529e64-17e8-4185-a18a-1c5b396b4649",
   "metadata": {},
   "outputs": [
    {
     "data": {
      "text/plain": [
       "(0, 0.0, 'False')"
      ]
     },
     "execution_count": 68,
     "metadata": {},
     "output_type": "execute_result"
    }
   ],
   "source": [
    "int(False),float(False),str(False)\n",
    "# 0        0.0            'False'"
   ]
  },
  {
   "cell_type": "code",
   "execution_count": null,
   "id": "5009c9fb-0f30-409c-8433-96cba4accc27",
   "metadata": {},
   "outputs": [],
   "source": [
    "float(10) # 10.0\n",
    "str(10)   # '10'\n",
    "bool(10)  # T\n",
    "int(10.5) # 10   error\n",
    "bool(10.5) # T\n",
    "str(10.5) # '10.5'\n",
    "int('10')  # 10\n",
    "float('10') # 10.0\n",
    "bool('10') # T\n",
    "int('10.5') # e\n",
    "float('10.5') # 10.5\n",
    "bool('10.5') # T\n",
    "int('apple') # e\n",
    "float('apple') # e\n",
    "bool('') # F\n",
    "int(True) # 1\n",
    "float(False) # 0.0 \n",
    "str(True) # 'True'"
   ]
  },
  {
   "cell_type": "code",
   "execution_count": 70,
   "id": "c8f45c75-9a73-4854-9aa5-29edd230bc41",
   "metadata": {},
   "outputs": [
    {
     "data": {
      "text/plain": [
       "10"
      ]
     },
     "execution_count": 70,
     "metadata": {},
     "output_type": "execute_result"
    }
   ],
   "source": [
    "int(10.5),int('10.5') \n",
    "# 10        fail"
   ]
  },
  {
   "cell_type": "code",
   "execution_count": 74,
   "id": "558e5dba-3616-4f15-8aa8-c390176c5efa",
   "metadata": {},
   "outputs": [
    {
     "data": {
      "text/plain": [
       "10"
      ]
     },
     "execution_count": 74,
     "metadata": {},
     "output_type": "execute_result"
    }
   ],
   "source": [
    "int(float('10.5'))  "
   ]
  },
  {
   "cell_type": "code",
   "execution_count": 78,
   "id": "476288c7-ccb9-4eaa-9886-d0b5b7fb467e",
   "metadata": {},
   "outputs": [
    {
     "data": {
      "text/plain": [
       "10"
      ]
     },
     "execution_count": 78,
     "metadata": {},
     "output_type": "execute_result"
    }
   ],
   "source": [
    "int(float('10.5'))"
   ]
  },
  {
   "cell_type": "code",
   "execution_count": 84,
   "id": "06ebaa70-540b-40b3-88d1-0cc22b1915e9",
   "metadata": {},
   "outputs": [
    {
     "data": {
      "text/plain": [
       "'100200'"
      ]
     },
     "execution_count": 84,
     "metadata": {},
     "output_type": "execute_result"
    }
   ],
   "source": [
    "n1='100'\n",
    "n2='200'\n",
    "n1+n2"
   ]
  },
  {
   "cell_type": "code",
   "execution_count": 86,
   "id": "54b1989f-1b7e-44cb-aa32-285ceaac1558",
   "metadata": {},
   "outputs": [
    {
     "data": {
      "text/plain": [
       "300"
      ]
     },
     "execution_count": 86,
     "metadata": {},
     "output_type": "execute_result"
    }
   ],
   "source": [
    "n1=int('100')\n",
    "n2=int('200')\n",
    "n1+n2"
   ]
  },
  {
   "cell_type": "code",
   "execution_count": 90,
   "id": "4581b46a-f427-406c-a356-76b0d3f9d9e2",
   "metadata": {},
   "outputs": [
    {
     "data": {
      "text/plain": [
       "300"
      ]
     },
     "execution_count": 90,
     "metadata": {},
     "output_type": "execute_result"
    }
   ],
   "source": [
    "n1='100'\n",
    "n2='200'\n",
    "n1+n2  # '100'+'200'\n",
    "int(n1)+int(n2) # int('100')+int('200')=100+200=300\n"
   ]
  },
  {
   "cell_type": "code",
   "execution_count": 96,
   "id": "7385f31e-6ecd-4000-948e-3f04b288f272",
   "metadata": {},
   "outputs": [
    {
     "data": {
      "text/plain": [
       "'100.5200'"
      ]
     },
     "execution_count": 96,
     "metadata": {},
     "output_type": "execute_result"
    }
   ],
   "source": [
    "n1='100.5'\n",
    "n2='200'\n",
    "n1+n2  "
   ]
  },
  {
   "cell_type": "code",
   "execution_count": 98,
   "id": "456a9c8e-e075-4bb2-9bbc-328f87cc21ad",
   "metadata": {},
   "outputs": [
    {
     "data": {
      "text/plain": [
       "300.5"
      ]
     },
     "execution_count": 98,
     "metadata": {},
     "output_type": "execute_result"
    }
   ],
   "source": [
    "n1=float('100.5') # float('100.5')=100.5\n",
    "n2=int('200')   # int('200') = 200\n",
    "n1+n2  "
   ]
  },
  {
   "cell_type": "code",
   "execution_count": 100,
   "id": "63765168-3e5c-407b-a02b-e4fe1f332169",
   "metadata": {},
   "outputs": [
    {
     "ename": "ValueError",
     "evalue": "invalid literal for int() with base 10: '100.5'",
     "output_type": "error",
     "traceback": [
      "\u001b[1;31m---------------------------------------------------------------------------\u001b[0m",
      "\u001b[1;31mValueError\u001b[0m                                Traceback (most recent call last)",
      "Cell \u001b[1;32mIn[100], line 1\u001b[0m\n\u001b[1;32m----> 1\u001b[0m n1\u001b[38;5;241m=\u001b[39m\u001b[38;5;28mint\u001b[39m(\u001b[38;5;124m'\u001b[39m\u001b[38;5;124m100.5\u001b[39m\u001b[38;5;124m'\u001b[39m) \u001b[38;5;66;03m# float('100.5')=100.5\u001b[39;00m\n\u001b[0;32m      2\u001b[0m n2\u001b[38;5;241m=\u001b[39m\u001b[38;5;28mint\u001b[39m(\u001b[38;5;124m'\u001b[39m\u001b[38;5;124m200\u001b[39m\u001b[38;5;124m'\u001b[39m)   \u001b[38;5;66;03m# int('200') = 200\u001b[39;00m\n\u001b[0;32m      3\u001b[0m n1\u001b[38;5;241m+\u001b[39mn2\n",
      "\u001b[1;31mValueError\u001b[0m: invalid literal for int() with base 10: '100.5'"
     ]
    }
   ],
   "source": [
    "n1=int('100.5') # float('100.5')=100.5\n",
    "n2=int('200')   # int('200') = 200\n",
    "n1+n2 "
   ]
  },
  {
   "cell_type": "markdown",
   "id": "bdb43338-1170-4ff9-bb18-e6940126265b",
   "metadata": {},
   "source": [
    "**eval**"
   ]
  },
  {
   "cell_type": "code",
   "execution_count": 105,
   "id": "34ee6213-8c06-4b66-a076-d9f9369dec5c",
   "metadata": {},
   "outputs": [
    {
     "name": "stdout",
     "output_type": "stream",
     "text": [
      "100.5\n",
      "200\n"
     ]
    },
    {
     "data": {
      "text/plain": [
       "300.5"
      ]
     },
     "execution_count": 105,
     "metadata": {},
     "output_type": "execute_result"
    }
   ],
   "source": [
    "n1=eval('100.5') \n",
    "print(n1)\n",
    "n2=eval('200') \n",
    "print(n2)\n",
    "n1+n2 \n",
    "\n",
    "\n",
    "n1=float('100.5')\n",
    "n2=float('200')  # 200\n",
    "n1+n2"
   ]
  },
  {
   "cell_type": "code",
   "execution_count": null,
   "id": "d8efcdbd-26ba-451c-8e71-f65c1345ec73",
   "metadata": {},
   "outputs": [],
   "source": [
    "float(n1+n2)\n",
    "float('100.5'+'200')\n",
    "float('100.5200')\n",
    "\n",
    "float(n1)+float(n2)\n",
    "float('100.5')+float('200')"
   ]
  },
  {
   "cell_type": "code",
   "execution_count": 107,
   "id": "9833a6fd-f791-410c-90cc-42dfbe11472f",
   "metadata": {},
   "outputs": [
    {
     "data": {
      "text/plain": [
       "'100.5200'"
      ]
     },
     "execution_count": 107,
     "metadata": {},
     "output_type": "execute_result"
    }
   ],
   "source": [
    "'100'+'200'  # '100200'\n",
    "'100'+'****' # '100****'\n",
    "'100.5'+'200' # '100.5200'"
   ]
  },
  {
   "cell_type": "code",
   "execution_count": 109,
   "id": "a78b241e-73fa-4b6d-a4a4-f0e09bdf65b7",
   "metadata": {},
   "outputs": [
    {
     "ename": "TypeError",
     "evalue": "unsupported operand type(s) for +: 'int' and 'str'",
     "output_type": "error",
     "traceback": [
      "\u001b[1;31m---------------------------------------------------------------------------\u001b[0m",
      "\u001b[1;31mTypeError\u001b[0m                                 Traceback (most recent call last)",
      "Cell \u001b[1;32mIn[109], line 1\u001b[0m\n\u001b[1;32m----> 1\u001b[0m \u001b[38;5;241m100\u001b[39m\u001b[38;5;241m+\u001b[39m\u001b[38;5;124m'\u001b[39m\u001b[38;5;124m200\u001b[39m\u001b[38;5;124m'\u001b[39m\n",
      "\u001b[1;31mTypeError\u001b[0m: unsupported operand type(s) for +: 'int' and 'str'"
     ]
    }
   ],
   "source": [
    "100+'200'"
   ]
  },
  {
   "cell_type": "code",
   "execution_count": 113,
   "id": "d2bdca00-c5a4-4db8-b8ff-cb7ca7da6f6e",
   "metadata": {},
   "outputs": [],
   "source": [
    "n1=eval('10.5')"
   ]
  },
  {
   "cell_type": "code",
   "execution_count": null,
   "id": "9dd3335d-a48b-4d12-9230-816693d480d6",
   "metadata": {},
   "outputs": [],
   "source": [
    "eval(10) #fail \n",
    "eval(10.5) # fail\n",
    "eval('apple') # fail"
   ]
  },
  {
   "cell_type": "code",
   "execution_count": 115,
   "id": "c01cdaec-67e2-4557-9507-34eafef4f443",
   "metadata": {},
   "outputs": [
    {
     "data": {
      "text/plain": [
       "300.5"
      ]
     },
     "execution_count": 115,
     "metadata": {},
     "output_type": "execute_result"
    }
   ],
   "source": [
    "\n",
    "n1='100.5'\n",
    "n2='200'\n",
    "n3=float(n1)+int(n2)\n",
    "n3\n",
    "\n"
   ]
  },
  {
   "cell_type": "code",
   "execution_count": 121,
   "id": "a790f6fe-d92a-4057-98cf-5766f9b129cc",
   "metadata": {},
   "outputs": [
    {
     "data": {
      "text/plain": [
       "False"
      ]
     },
     "execution_count": 121,
     "metadata": {},
     "output_type": "execute_result"
    }
   ],
   "source": [
    "int(10)==100 \n"
   ]
  },
  {
   "cell_type": "code",
   "execution_count": null,
   "id": "949fa5a5-4eef-478a-973f-bb8e478f83cf",
   "metadata": {},
   "outputs": [],
   "source": []
  }
 ],
 "metadata": {
  "kernelspec": {
   "display_name": "Python [conda env:base] *",
   "language": "python",
   "name": "conda-base-py"
  },
  "language_info": {
   "codemirror_mode": {
    "name": "ipython",
    "version": 3
   },
   "file_extension": ".py",
   "mimetype": "text/x-python",
   "name": "python",
   "nbconvert_exporter": "python",
   "pygments_lexer": "ipython3",
   "version": "3.12.7"
  }
 },
 "nbformat": 4,
 "nbformat_minor": 5
}
