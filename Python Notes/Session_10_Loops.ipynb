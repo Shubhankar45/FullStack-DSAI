{
 "cells": [
  {
   "cell_type": "markdown",
   "id": "70f9e60f-1bb4-4e8f-ad8c-d999645ffe50",
   "metadata": {},
   "source": [
    "**Loops**\n",
    "\n",
    "- Loops are used to repeat a block of code multiple times\n",
    "\n",
    "- function means reuse of code \n",
    "\n",
    "- when ever you think about how many times then think about loops"
   ]
  },
  {
   "cell_type": "markdown",
   "id": "621746cc-7bf7-4226-a158-10d3d2f8922d",
   "metadata": {},
   "source": [
    "- Entry point : Initial point\n",
    "\n",
    "- Condition : How many times the loop shoud run\n",
    "\n",
    "    - incremental \n",
    "\n",
    "    - decremental\n",
    "\n",
    "- Stop point : Condition to stop"
   ]
  },
  {
   "cell_type": "markdown",
   "id": "0df1acef-7514-4000-b3ab-bebdb75fa835",
   "metadata": {},
   "source": [
    "**for loop and while loop**"
   ]
  },
  {
   "cell_type": "markdown",
   "id": "ee6a1a19-0faf-4f69-8b95-bc5d2536d7f2",
   "metadata": {},
   "source": [
    "## For loop"
   ]
  },
  {
   "cell_type": "code",
   "execution_count": 5,
   "id": "392ec139-7169-4fda-92fc-6351d1d10a7e",
   "metadata": {},
   "outputs": [
    {
     "name": "stdout",
     "output_type": "stream",
     "text": [
      "hello\n",
      "hello\n",
      "hello\n"
     ]
    }
   ],
   "source": [
    "print('hello')  # 0\n",
    "print('hello')  # 1\n",
    "print('hello')  # 2\n",
    "                # 3\n",
    "                # 4\n",
    "                # i"
   ]
  },
  {
   "cell_type": "markdown",
   "id": "883af5f2-4f33-4647-97be-730edb54c39f",
   "metadata": {},
   "source": [
    "**case-1: range(stop)**\n",
    "\n",
    "- range(3)\n",
    "\n",
    "- start=0\n",
    "\n",
    "- increment by 1\n",
    "\n",
    "- last=stop-1 = 3-1=2\n",
    "\n",
    "- 0  1  2"
   ]
  },
  {
   "cell_type": "code",
   "execution_count": null,
   "id": "42a33f7c-1c19-4493-a71f-3268ad744ba0",
   "metadata": {},
   "outputs": [],
   "source": [
    "# syntax\n",
    "for i in range(3):\n",
    "    # write your line"
   ]
  },
  {
   "cell_type": "code",
   "execution_count": 8,
   "id": "40a4593b-200a-4c5a-b40d-fcc7634227b9",
   "metadata": {},
   "outputs": [
    {
     "name": "stdout",
     "output_type": "stream",
     "text": [
      "0\n",
      "1\n",
      "2\n"
     ]
    }
   ],
   "source": [
    "for i in range(3):\n",
    "    print(i)\n",
    "\n",
    "# i=0   print(0)\n",
    "# i=1   print(1)\n",
    "# i=2   print(2)"
   ]
  },
  {
   "cell_type": "code",
   "execution_count": 10,
   "id": "aa11480f-afa8-464c-af43-f5cce00c8849",
   "metadata": {},
   "outputs": [
    {
     "name": "stdout",
     "output_type": "stream",
     "text": [
      "hello\n",
      "hello\n",
      "hello\n"
     ]
    }
   ],
   "source": [
    "for i in range(3):\n",
    "    print('hello')"
   ]
  },
  {
   "cell_type": "code",
   "execution_count": null,
   "id": "494aef67-8c02-459a-b32b-3b40c07c6ee7",
   "metadata": {},
   "outputs": [],
   "source": [
    "# Q1) wap ask the user take a number print square of the number\n",
    "#     ask the repeat the task 3 times\n",
    "\n",
    "# step-1: num=eval()\n",
    "# step-2: print(num*num)\n",
    "\n",
    "# above two lines keep in a loop"
   ]
  },
  {
   "cell_type": "code",
   "execution_count": 12,
   "id": "f534ff81-166c-475b-9594-0908763c5db3",
   "metadata": {},
   "outputs": [
    {
     "name": "stdin",
     "output_type": "stream",
     "text": [
      "enter a number: 10\n"
     ]
    },
    {
     "name": "stdout",
     "output_type": "stream",
     "text": [
      "the square of the 10 is : 100\n"
     ]
    }
   ],
   "source": [
    "num=eval(input('enter a number:'))\n",
    "print(f'the square of the {num} is : {num*num}')"
   ]
  },
  {
   "cell_type": "code",
   "execution_count": null,
   "id": "a7a947a8-2ce1-4dee-b52a-be5c49995ac4",
   "metadata": {},
   "outputs": [],
   "source": [
    "num=eval(input('enter a number:'))\n",
    "print(f'the square of the {num} is : {num*num}')\n",
    "\n",
    "num=eval(input('enter a number:'))\n",
    "print(f'the square of the {num} is : {num*num}')\n",
    "\n",
    "num=eval(input('enter a number:'))\n",
    "print(f'the square of the {num} is : {num*num}')"
   ]
  },
  {
   "cell_type": "code",
   "execution_count": 16,
   "id": "90af21ee-462f-4656-890f-5ba5e50089b7",
   "metadata": {},
   "outputs": [
    {
     "name": "stdin",
     "output_type": "stream",
     "text": [
      "enter a number: 20\n"
     ]
    },
    {
     "name": "stdout",
     "output_type": "stream",
     "text": [
      "the square of the 20 is : 400\n"
     ]
    },
    {
     "name": "stdin",
     "output_type": "stream",
     "text": [
      "enter a number: 30\n"
     ]
    },
    {
     "name": "stdout",
     "output_type": "stream",
     "text": [
      "the square of the 30 is : 900\n"
     ]
    },
    {
     "name": "stdin",
     "output_type": "stream",
     "text": [
      "enter a number: 40\n"
     ]
    },
    {
     "name": "stdout",
     "output_type": "stream",
     "text": [
      "the square of the 40 is : 1600\n"
     ]
    }
   ],
   "source": [
    "for i in range(3):\n",
    "    num=eval(input('enter a number:'))\n",
    "    print(f'the square of the {num} is : {num*num}')\n"
   ]
  },
  {
   "cell_type": "code",
   "execution_count": 18,
   "id": "d7cc3ba4-3d74-48df-90b3-df3514e5ec64",
   "metadata": {},
   "outputs": [
    {
     "name": "stdout",
     "output_type": "stream",
     "text": [
      "the square of the 0 is : 0\n",
      "the square of the 1 is : 1\n",
      "the square of the 2 is : 4\n"
     ]
    }
   ],
   "source": [
    "for i in range(3):\n",
    "    print(f'the square of the {i} is : {i*i}')"
   ]
  },
  {
   "cell_type": "code",
   "execution_count": null,
   "id": "2f5c55a7-a11f-4d94-ab11-be898b5a6ab1",
   "metadata": {},
   "outputs": [],
   "source": [
    "# Q2) wap 7th table\n",
    "7x0=0\n",
    "7x1=7\n",
    "7x2=14\n",
    "7x3=21\n",
    ".\n",
    ".\n",
    ".\n",
    "7x10=70\n",
    "\n",
    "7xi   \n",
    "\n",
    "i ranges from 0 to 10  so  range(11)"
   ]
  },
  {
   "cell_type": "code",
   "execution_count": 22,
   "id": "74484bcf-2b36-4d0d-a9dd-ec6c346af70d",
   "metadata": {},
   "outputs": [
    {
     "name": "stdout",
     "output_type": "stream",
     "text": [
      "7x0=0\n",
      "7x1=7\n",
      "7x2=14\n",
      "7x3=21\n",
      "7x4=28\n",
      "7x5=35\n",
      "7x6=42\n",
      "7x7=49\n",
      "7x8=56\n",
      "7x9=63\n",
      "7x10=70\n"
     ]
    }
   ],
   "source": [
    "for i in range(11):\n",
    "    print(f'7x{i}={7*i}')"
   ]
  },
  {
   "cell_type": "markdown",
   "id": "76ef2330-0515-4041-8a3f-028fbea6afb5",
   "metadata": {},
   "source": [
    "**Case-2: range(start,stop)**\n",
    "\n",
    "- range(10,15)\n",
    "\n",
    "- start=start=10\n",
    "\n",
    "- increment by 1\n",
    "\n",
    "- last=stop-1=15-1=14\n",
    "\n",
    "- 10,11,12,13,14"
   ]
  },
  {
   "cell_type": "code",
   "execution_count": 45,
   "id": "ac5d240d-4485-49cd-9ea6-3a13b72a1000",
   "metadata": {},
   "outputs": [
    {
     "name": "stdout",
     "output_type": "stream",
     "text": [
      "10 11 12 13 14 15 16 17 18 19 "
     ]
    }
   ],
   "source": [
    "for i in range(10,20):\n",
    "    print(i,end=' ')"
   ]
  },
  {
   "cell_type": "code",
   "execution_count": 39,
   "id": "3bbeb86e-eeac-458d-84cd-2208ca4cbfb3",
   "metadata": {},
   "outputs": [
    {
     "name": "stdout",
     "output_type": "stream",
     "text": [
      "hello---->hai****hey\n"
     ]
    }
   ],
   "source": [
    "print('hello',end='---->')\n",
    "print('hai',end='****')\n",
    "print('hey')"
   ]
  },
  {
   "cell_type": "code",
   "execution_count": null,
   "id": "dd2cc7c0-88c7-4399-bfc2-cc5cdbafb3ee",
   "metadata": {},
   "outputs": [],
   "source": [
    "for i in range(100,104):\n",
    "    num=eval(input('enter a number:'))\n",
    "    print(f'the square of the {num} is : {num*num}')\n",
    "# i=1  i=2 i=3"
   ]
  },
  {
   "cell_type": "code",
   "execution_count": null,
   "id": "d894e166-f2f9-44ad-b145-42bc000b65e1",
   "metadata": {},
   "outputs": [],
   "source": [
    "# Q3) ask the user enter a number print even or odd\n",
    "#      repeat the task 5 times\n",
    "\n",
    "# Q4) ask the user get a random number between 1 to 100 print even or odd\n",
    "#    repeat the task 5 times\n",
    "\n",
    "# case1 and case2"
   ]
  },
  {
   "cell_type": "code",
   "execution_count": null,
   "id": "97741434-70ae-4e9e-96b6-3af710a9d94b",
   "metadata": {},
   "outputs": [],
   "source": [
    "for i in range(5):\n",
    "    num=eval(input('enter a number:'))\n",
    "    if num%2==0:\n",
    "        print(f'{num} is an even')\n",
    "    else:\n",
    "        print(f'{num} is an odd')"
   ]
  },
  {
   "cell_type": "code",
   "execution_count": null,
   "id": "f2ac6e56-a935-4a49-a0c4-fe269d2af305",
   "metadata": {},
   "outputs": [],
   "source": [
    "for i in range(1,6):\n",
    "    num=eval(input('enter a number:'))\n",
    "    if num%2==0:\n",
    "        print(f'{num} is an even')\n",
    "    else:\n",
    "        print(f'{num} is an odd')"
   ]
  },
  {
   "cell_type": "code",
   "execution_count": 51,
   "id": "cb5b376b-64c3-4542-adc2-884b1637b846",
   "metadata": {},
   "outputs": [
    {
     "name": "stdout",
     "output_type": "stream",
     "text": [
      "3 is an odd\n",
      "66 is an even\n",
      "54 is an even\n",
      "38 is an even\n",
      "74 is an even\n"
     ]
    }
   ],
   "source": [
    "import random\n",
    "for i in range(5):\n",
    "    num=random.randint(1,100)\n",
    "    if num%2==0:\n",
    "        print(f'{num} is an even')\n",
    "    else:\n",
    "        print(f'{num} is an odd')"
   ]
  },
  {
   "cell_type": "code",
   "execution_count": 53,
   "id": "e4f216b5-dbd7-404e-8fab-9ea3e93f72f8",
   "metadata": {},
   "outputs": [
    {
     "name": "stdin",
     "output_type": "stream",
     "text": [
      "enter the num: 20\n"
     ]
    },
    {
     "name": "stdout",
     "output_type": "stream",
     "text": [
      "20 is an even\n"
     ]
    },
    {
     "name": "stdin",
     "output_type": "stream",
     "text": [
      "enter the num: 21\n"
     ]
    },
    {
     "name": "stdout",
     "output_type": "stream",
     "text": [
      "21 is an odd\n"
     ]
    },
    {
     "name": "stdin",
     "output_type": "stream",
     "text": [
      "enter the num: 22\n"
     ]
    },
    {
     "name": "stdout",
     "output_type": "stream",
     "text": [
      "22 is an even\n"
     ]
    },
    {
     "name": "stdin",
     "output_type": "stream",
     "text": [
      "enter the num: 23\n"
     ]
    },
    {
     "name": "stdout",
     "output_type": "stream",
     "text": [
      "23 is an odd\n"
     ]
    },
    {
     "name": "stdin",
     "output_type": "stream",
     "text": [
      "enter the num: 24\n"
     ]
    },
    {
     "name": "stdout",
     "output_type": "stream",
     "text": [
      "24 is an even\n"
     ]
    }
   ],
   "source": [
    "def even_odd(num):\n",
    "    if num%2==0:\n",
    "        print(f'{num} is an even')\n",
    "    else:\n",
    "        print(f'{num} is an odd')\n",
    "\n",
    "for i in range(5):\n",
    "    num=eval(input('enter the num:'))\n",
    "    even_odd(num)"
   ]
  },
  {
   "cell_type": "code",
   "execution_count": 55,
   "id": "b8c8c469-3b4d-4190-8bdc-5a26dc8f5869",
   "metadata": {},
   "outputs": [
    {
     "name": "stdin",
     "output_type": "stream",
     "text": [
      "Enter a no: 6\n"
     ]
    },
    {
     "name": "stdout",
     "output_type": "stream",
     "text": [
      "6 is Even\n"
     ]
    },
    {
     "name": "stdin",
     "output_type": "stream",
     "text": [
      "Enter a no: 8\n"
     ]
    },
    {
     "name": "stdout",
     "output_type": "stream",
     "text": [
      "8 is Even\n"
     ]
    },
    {
     "name": "stdin",
     "output_type": "stream",
     "text": [
      "Enter a no: 9\n"
     ]
    },
    {
     "name": "stdout",
     "output_type": "stream",
     "text": [
      "9 is Odd\n"
     ]
    },
    {
     "name": "stdin",
     "output_type": "stream",
     "text": [
      "Enter a no: 10\n"
     ]
    },
    {
     "name": "stdout",
     "output_type": "stream",
     "text": [
      "10 is Even\n"
     ]
    },
    {
     "name": "stdin",
     "output_type": "stream",
     "text": [
      "Enter a no: 11\n"
     ]
    },
    {
     "name": "stdout",
     "output_type": "stream",
     "text": [
      "11 is Odd\n"
     ]
    }
   ],
   "source": [
    "for i in range (5,10):\n",
    "    num1=eval(input(\"Enter a no:\"))\n",
    "    if num1%2==0:\n",
    "        print(f\"{num1} is Even\")\n",
    "    else:\n",
    "        print(f\"{num1} is Odd\")\n"
   ]
  },
  {
   "cell_type": "markdown",
   "id": "d2aa9418-7ba0-4d5c-a568-0398772da76d",
   "metadata": {},
   "source": [
    "case-1: range(stop) = range(5)\n",
    "\n",
    "case-2: range(start,stop) = range(5,10)\n",
    "\n",
    "case-3: range(start,stop,step) = range(1,20,2)"
   ]
  },
  {
   "cell_type": "markdown",
   "id": "ef17d382-e22f-4a20-9966-4c0506d267ce",
   "metadata": {},
   "source": [
    "**case-3:range(start,stop,step)**\n",
    "\n",
    "- step : postive value or negative\n",
    "\n",
    "    - range(1,20,2) : step=2 postive increment\n",
    "\n",
    "    - range(1,20,-2) : step=-2 negative  decrement\n",
    "\n",
    "- start= start\n",
    "\n",
    "- if we have postive step\n",
    "\n",
    "    - last=stop-1\n",
    "\n",
    "- if we have negative step\n",
    "\n",
    "    - last=stop+1\n",
    "\n",
    "range(1,11,2)\n",
    "\n",
    "start=1  step=2  last =11-1=10\n",
    "\n",
    "1    3    5    7    9   "
   ]
  },
  {
   "cell_type": "code",
   "execution_count": 60,
   "id": "e7367c79-fe60-4250-b3bc-efd35480b298",
   "metadata": {},
   "outputs": [
    {
     "name": "stdout",
     "output_type": "stream",
     "text": [
      "2 5 8 11 14 17 "
     ]
    }
   ],
   "source": [
    "for i in range(2,20,3):\n",
    "    print(i,end=' ')\n",
    "\n",
    "# start=2  step=3  last=20-1=19\n",
    "# 2 5 8 11 14 17"
   ]
  },
  {
   "cell_type": "code",
   "execution_count": 62,
   "id": "a3039952-f5d0-4ab6-af25-7677e5ab0264",
   "metadata": {},
   "outputs": [],
   "source": [
    "for i in range(2,20,-3):\n",
    "    print(i,end=' ')\n",
    "\n",
    "# start=2  step=-3  last = stop+1 20+1=21"
   ]
  },
  {
   "cell_type": "code",
   "execution_count": 64,
   "id": "96d8bca6-4690-4f4b-aced-83372e447918",
   "metadata": {},
   "outputs": [
    {
     "name": "stdout",
     "output_type": "stream",
     "text": [
      "20 17 14 11 8 5 "
     ]
    }
   ],
   "source": [
    "for i in range(20,2,-3):\n",
    "    print(i,end=' ')\n",
    "# start=20  step=-3 last=stop+1 2+1=3\n",
    "# 20====>3"
   ]
  },
  {
   "cell_type": "code",
   "execution_count": 66,
   "id": "08e8ec77-220c-47db-a9c1-846ee7a99231",
   "metadata": {},
   "outputs": [],
   "source": [
    "for i in range(-20,2,-3):\n",
    "    print(i,end=' ')\n",
    "\n",
    "# start=-20 step=-3 last=stop+1 2+1=3"
   ]
  },
  {
   "cell_type": "code",
   "execution_count": null,
   "id": "3f6d195c-ba2d-47bc-a031-4a5c65f2d3ff",
   "metadata": {},
   "outputs": [],
   "source": [
    "range(3,18,3) # p\n",
    "range(3,18,-3) # nw\n",
    "range(3,-18,3) # nw\n",
    "range(-3,18,3) # w\n",
    "range(3,-18,-3) # w\n",
    "range(-3,18,-3) # nw\n",
    "range(-3,-18,3) # nw\n",
    "range(-3,-18,-3) # w\n",
    "range(18,3,3) # nw\n",
    "range(-18,3,3) # w\n",
    "range(-18,-3,3) # w\n",
    "range(-18,-3,-3) # nw"
   ]
  },
  {
   "cell_type": "code",
   "execution_count": 1,
   "id": "367c19be-1882-4d29-b171-97b82b860f32",
   "metadata": {},
   "outputs": [
    {
     "name": "stdin",
     "output_type": "stream",
     "text": [
      "which divisor user want: 75\n"
     ]
    },
    {
     "name": "stdout",
     "output_type": "stream",
     "text": [
      "1 is a divisor of 75\n",
      "3 is a divisor of 75\n",
      "5 is a divisor of 75\n",
      "15 is a divisor of 75\n",
      "25 is a divisor of 75\n",
      "75 is a divisor of 75\n"
     ]
    }
   ],
   "source": [
    "# 2mins ma\n",
    "# meanwhile execute below qn\n",
    "# WAP ask the user find the divisiors of 75\n",
    "# ans is: 1,5,15,25,75\n",
    "# idea: when we divide 75 with any number\n",
    "#       the reminder should be zero === Divisor\n",
    "# 75/1  75/2  75/3 ....... . 75/75\n",
    "# 75%i==0    i  1 to 76\n",
    "\n",
    "num= eval(input('which divisor user want:')) # 75\n",
    "for i in range(1,num+1):\n",
    "    if num%i==0:\n",
    "        print(f\"{i} is a divisor of {num}\")"
   ]
  },
  {
   "cell_type": "code",
   "execution_count": 9,
   "id": "ad94c4eb-5a2c-4ef9-bb9a-92cf5f1a1c18",
   "metadata": {},
   "outputs": [
    {
     "name": "stdout",
     "output_type": "stream",
     "text": [
      "2\n"
     ]
    },
    {
     "name": "stdin",
     "output_type": "stream",
     "text": [
      "enter the num between 1-10: 2\n"
     ]
    },
    {
     "name": "stdout",
     "output_type": "stream",
     "text": [
      "won\n",
      "10\n"
     ]
    },
    {
     "name": "stdin",
     "output_type": "stream",
     "text": [
      "enter the num between 1-10: 10\n"
     ]
    },
    {
     "name": "stdout",
     "output_type": "stream",
     "text": [
      "won\n",
      "1\n"
     ]
    },
    {
     "name": "stdin",
     "output_type": "stream",
     "text": [
      "enter the num between 1-10: 4\n"
     ]
    },
    {
     "name": "stdout",
     "output_type": "stream",
     "text": [
      "lost\n"
     ]
    }
   ],
   "source": [
    "# wap ask the user enter a number\n",
    "#     ask the user get a random number\n",
    "#    if both are equal print won \n",
    "#    otherwise print lost\n",
    "#    give 3 chances to the user (for)\n",
    "import random\n",
    "for i in range(1,4):\n",
    "    random_num=random.randint(1,10)\n",
    "    print(random_num)\n",
    "    user_num=eval(input('enter the num between 1-10:'))\n",
    "    if random_num==user_num:\n",
    "        print('won')\n",
    "    else:\n",
    "        print('lost')"
   ]
  },
  {
   "cell_type": "code",
   "execution_count": 11,
   "id": "6c2265a5-8d0d-45f6-95b3-1e2a92ed5076",
   "metadata": {},
   "outputs": [
    {
     "name": "stdout",
     "output_type": "stream",
     "text": [
      "5\n"
     ]
    },
    {
     "name": "stdin",
     "output_type": "stream",
     "text": [
      "enter the num between 1-10: 6\n"
     ]
    },
    {
     "name": "stdout",
     "output_type": "stream",
     "text": [
      "lost\n",
      "9\n"
     ]
    },
    {
     "name": "stdin",
     "output_type": "stream",
     "text": [
      "enter the num between 1-10: 9\n"
     ]
    },
    {
     "name": "stdout",
     "output_type": "stream",
     "text": [
      "won\n"
     ]
    }
   ],
   "source": [
    "import random\n",
    "for i in range(1,4):\n",
    "    random_num=random.randint(1,10)\n",
    "    print(random_num)\n",
    "    user_num=eval(input('enter the num between 1-10:'))\n",
    "    if random_num==user_num:\n",
    "        print('won')\n",
    "        break\n",
    "    else:\n",
    "        print('lost')"
   ]
  },
  {
   "cell_type": "code",
   "execution_count": null,
   "id": "b7d2f736-8d96-4c4b-9784-f0a160e6925f",
   "metadata": {},
   "outputs": [],
   "source": [
    "# Imagine that your develop internet\n",
    "\n",
    "# Case-1: when ever the correct pwd : code should stop\n",
    "# Case-2: whenever you are enter the wrong\n",
    "          # wrong pwd\n",
    "          # still have 2 chances\n",
    "          # still have 1 cahnces\n",
    "\n",
    "# Case-3: whenerver all the chances\n",
    "#         # try afer 24hours print"
   ]
  },
  {
   "cell_type": "code",
   "execution_count": 15,
   "id": "be655abb-f123-4b5b-a708-1866db2979e5",
   "metadata": {},
   "outputs": [
    {
     "name": "stdout",
     "output_type": "stream",
     "text": [
      "3\n",
      "2\n",
      "1\n",
      "chances are over\n"
     ]
    }
   ],
   "source": [
    "for i in range(3):\n",
    "    print(3-i)\n",
    "    val=3-i\n",
    "    if val==1:\n",
    "        print('chances are over')"
   ]
  },
  {
   "cell_type": "markdown",
   "id": "521ee6ab-be28-480e-ad44-2725ccdbede8",
   "metadata": {},
   "source": [
    "**sum and counter**"
   ]
  },
  {
   "cell_type": "code",
   "execution_count": null,
   "id": "c6875b95-f8b6-4eab-ba21-45c38accd1c3",
   "metadata": {},
   "outputs": [],
   "source": [
    "# Wap ask the user get the sum of first 10 natural number\n",
    "# 1+2+3+4+5+6+7+8+9+10= 55\n",
    "0+1=1\n",
    "1+2=3\n",
    "3+3=6\n",
    "6+4=10\n",
    "10+5=15\n",
    "15+6=21\n",
    "21+7=28\n",
    "28+8=36\n",
    "36+9=45\n",
    "45+10=55\n",
    "\n",
    "sum=sum+i"
   ]
  },
  {
   "cell_type": "code",
   "execution_count": 38,
   "id": "b56ead13-e0aa-4dce-b15a-1a9af5568bb1",
   "metadata": {},
   "outputs": [
    {
     "name": "stdout",
     "output_type": "stream",
     "text": [
      "1\n",
      "2\n",
      "3\n",
      "4\n",
      "5\n",
      "6\n",
      "7\n",
      "8\n",
      "9\n",
      "10\n",
      "55\n"
     ]
    }
   ],
   "source": [
    "# Dont give sum=0 \n",
    "Sum=0  # Fixed\n",
    "for i in range(1,11):\n",
    "    print(i)\n",
    "    Sum=Sum+i #Fixed\n",
    "print(Sum)\n",
    "\n",
    "# step-1: Sum=0   i=1  Sum=0+1=1   print(Summ)\n",
    "# step-2: Sum=1   i=2  Sum=1+2=3"
   ]
  },
  {
   "cell_type": "code",
   "execution_count": 22,
   "id": "e6832b09-32ae-467e-9151-e4ff7ac3e182",
   "metadata": {},
   "outputs": [
    {
     "name": "stdin",
     "output_type": "stream",
     "text": [
      "which divisor user want: 75\n"
     ]
    },
    {
     "name": "stdout",
     "output_type": "stream",
     "text": [
      "1 is a divisor of 75\n",
      "3 is a divisor of 75\n",
      "5 is a divisor of 75\n",
      "15 is a divisor of 75\n",
      "25 is a divisor of 75\n",
      "75 is a divisor of 75\n"
     ]
    },
    {
     "data": {
      "text/plain": [
       "124"
      ]
     },
     "execution_count": 22,
     "metadata": {},
     "output_type": "execute_result"
    }
   ],
   "source": [
    "# Wap ask the user get the sum of divsiors of 75\n",
    "# 1+5+15+25+75\n",
    "Summ=0\n",
    "num= eval(input('which divisor user want:')) # 75\n",
    "for i in range(1,num+1):  # i=1\n",
    "    if num%i==0:\n",
    "        print(f\"{i} is a divisor of {num}\")    \n",
    "        Summ=Summ+i\n",
    "\n",
    "Summ"
   ]
  },
  {
   "cell_type": "code",
   "execution_count": 24,
   "id": "364081a3-c653-4d00-b251-34843851f1a7",
   "metadata": {},
   "outputs": [
    {
     "name": "stdout",
     "output_type": "stream",
     "text": [
      "98 is an even\n",
      "65 is an odd\n",
      "88 is an even\n",
      "26 is an even\n",
      "21 is an odd\n",
      "Sum of Evens are: 212\n",
      "Sum of Odds are: 86\n"
     ]
    }
   ],
   "source": [
    "# Wap ask the user get a random number between 1 to 100\n",
    "# find  even or odd\n",
    "# get the sum of even and sum of odd\n",
    "# Get 5 random number (for 5 times)\n",
    "# even_summ=0\n",
    "# odd_summ=0\n",
    "\n",
    "even_summ=0\n",
    "odd_summ=0\n",
    "for i in range(5):\n",
    "    num=random.randint(1,100)\n",
    "    if num%2==0:\n",
    "        print(f'{num} is an even')\n",
    "        even_summ=even_summ+num\n",
    "    else:\n",
    "        print(f'{num} is an odd')\n",
    "        odd_summ+=num  # odd_sum=odd_sum+num\n",
    "\n",
    "print('Sum of Evens are:',even_summ)\n",
    "print('Sum of Odds are:',odd_summ)"
   ]
  },
  {
   "cell_type": "markdown",
   "id": "9a162640-c9eb-4003-872c-34684be6a732",
   "metadata": {},
   "source": [
    "**Counter Program**\n",
    "\n",
    "- Summation program when success it will add the number\n",
    "\n",
    "    - Summ=0   then  Summ=Summ+i  or Summ=Summ+num based on condtion\n",
    "\n",
    "- Count=0   Count=Count+1"
   ]
  },
  {
   "cell_type": "code",
   "execution_count": 26,
   "id": "04731dbe-61a5-4c01-a6d7-408e468c99b4",
   "metadata": {},
   "outputs": [
    {
     "name": "stdin",
     "output_type": "stream",
     "text": [
      "which divisor user want: 75\n"
     ]
    },
    {
     "name": "stdout",
     "output_type": "stream",
     "text": [
      "1 is a divisor of 75\n",
      "3 is a divisor of 75\n",
      "5 is a divisor of 75\n",
      "15 is a divisor of 75\n",
      "25 is a divisor of 75\n",
      "75 is a divisor of 75\n"
     ]
    },
    {
     "data": {
      "text/plain": [
       "6"
      ]
     },
     "execution_count": 26,
     "metadata": {},
     "output_type": "execute_result"
    }
   ],
   "source": [
    "# Wap ask the user get the find the number of divsiors of 75\n",
    "# 1, 5, 15,25,75 === 5\n",
    "Count=0\n",
    "num= eval(input('which divisor user want:')) # 75\n",
    "for i in range(1,num+1):  # i=1\n",
    "    if num%i==0:\n",
    "        print(f\"{i} is a divisor of {num}\")    \n",
    "        Count=Count+1\n",
    "\n",
    "Count"
   ]
  },
  {
   "cell_type": "code",
   "execution_count": 28,
   "id": "74494763-8334-452b-b630-3634f8b102c5",
   "metadata": {},
   "outputs": [
    {
     "name": "stdout",
     "output_type": "stream",
     "text": [
      "0\n",
      "1\n",
      "2\n"
     ]
    }
   ],
   "source": [
    "for i in range(3):\n",
    "    print(i)"
   ]
  },
  {
   "cell_type": "code",
   "execution_count": 30,
   "id": "41f9c4a1-9f79-414b-ab09-1b23b727ada1",
   "metadata": {},
   "outputs": [
    {
     "data": {
      "text/plain": [
       "2"
      ]
     },
     "execution_count": 30,
     "metadata": {},
     "output_type": "execute_result"
    }
   ],
   "source": [
    "i"
   ]
  },
  {
   "cell_type": "code",
   "execution_count": 43,
   "id": "4ad2808d-aef1-4805-9fea-b77e3fe01206",
   "metadata": {},
   "outputs": [
    {
     "name": "stdout",
     "output_type": "stream",
     "text": [
      "100 is an even\n",
      "46 is an even\n",
      "13 is an odd\n",
      "90 is an even\n",
      "92 is an even\n",
      "Sum of Evens are: 328\n",
      "Sum of Odds are: 13\n",
      "num of Evens are: 4\n",
      "num of Odds are: 1\n"
     ]
    }
   ],
   "source": [
    "even_summ,odd_summ=0,0\n",
    "even_count,odd_count=0,0\n",
    "for i in range(5):\n",
    "    num=random.randint(1,100)\n",
    "    if num%2==0:\n",
    "        print(f'{num} is an even')\n",
    "        even_summ=even_summ+num\n",
    "        even_count=even_count+1\n",
    "    else:\n",
    "        print(f'{num} is an odd')\n",
    "        odd_summ+=num  # odd_sum=odd_sum+num\n",
    "        odd_count+=1\n",
    "\n",
    "print('Sum of Evens are:',even_summ)\n",
    "print('Sum of Odds are:',odd_summ)\n",
    "\n",
    "print('num of Evens are:',even_count)\n",
    "print('num of Odds are:',odd_count)"
   ]
  },
  {
   "cell_type": "markdown",
   "id": "eddab349-2544-4381-9590-2df0641878d6",
   "metadata": {},
   "source": [
    "**in opeartor**"
   ]
  },
  {
   "cell_type": "code",
   "execution_count": null,
   "id": "c70cb5e9-b604-43e0-a32d-bca624bb800d",
   "metadata": {},
   "outputs": [],
   "source": [
    "for i in range() # math \n"
   ]
  },
  {
   "cell_type": "code",
   "execution_count": 46,
   "id": "3e1e49c0-87ee-4b9a-a837-b2f0545781f3",
   "metadata": {},
   "outputs": [
    {
     "ename": "TypeError",
     "evalue": "'str' object cannot be interpreted as an integer",
     "output_type": "error",
     "traceback": [
      "\u001b[1;31m---------------------------------------------------------------------------\u001b[0m",
      "\u001b[1;31mTypeError\u001b[0m                                 Traceback (most recent call last)",
      "Cell \u001b[1;32mIn[46], line 1\u001b[0m\n\u001b[1;32m----> 1\u001b[0m \u001b[38;5;28;01mfor\u001b[39;00m i \u001b[38;5;129;01min\u001b[39;00m \u001b[38;5;28mrange\u001b[39m(\u001b[38;5;124m'\u001b[39m\u001b[38;5;124mpython\u001b[39m\u001b[38;5;124m'\u001b[39m):\n\u001b[0;32m      2\u001b[0m     \u001b[38;5;28mprint\u001b[39m(i)\n",
      "\u001b[1;31mTypeError\u001b[0m: 'str' object cannot be interpreted as an integer"
     ]
    }
   ],
   "source": [
    "for i in range('python'):\n",
    "    print(i)"
   ]
  },
  {
   "cell_type": "code",
   "execution_count": 52,
   "id": "79f3ee5a-50fa-466c-bfda-7bb141edffce",
   "metadata": {},
   "outputs": [
    {
     "data": {
      "text/plain": [
       "False"
      ]
     },
     "execution_count": 52,
     "metadata": {},
     "output_type": "execute_result"
    }
   ],
   "source": [
    "'p' in 'python'\n",
    "'y' in 'python'\n",
    "'t' in 'python'\n",
    "'h' in 'python'\n",
    "'o' in 'python'\n",
    "'n' in 'python'\n",
    "\n",
    "#i in 'python'"
   ]
  },
  {
   "cell_type": "code",
   "execution_count": 54,
   "id": "039d1bc0-b156-4a68-ae1d-7cf08fdd160c",
   "metadata": {},
   "outputs": [
    {
     "name": "stdout",
     "output_type": "stream",
     "text": [
      "p\n",
      "y\n",
      "t\n",
      "h\n",
      "o\n",
      "n\n"
     ]
    }
   ],
   "source": [
    "for i in 'python':\n",
    "    print(i)"
   ]
  },
  {
   "cell_type": "code",
   "execution_count": 56,
   "id": "7b4db55f-d970-4eb4-849b-9b61604b1917",
   "metadata": {},
   "outputs": [
    {
     "name": "stdout",
     "output_type": "stream",
     "text": [
      "p y t h o n "
     ]
    }
   ],
   "source": [
    "for i in 'python':\n",
    "    print(i,end=' ')"
   ]
  },
  {
   "cell_type": "code",
   "execution_count": 58,
   "id": "b91b18a7-f9e7-4d37-a316-27fba176d255",
   "metadata": {},
   "outputs": [
    {
     "name": "stdout",
     "output_type": "stream",
     "text": [
      "p y t h o n "
     ]
    }
   ],
   "source": [
    "name='python'\n",
    "for i in name:\n",
    "    print(i,end=' ')"
   ]
  },
  {
   "cell_type": "code",
   "execution_count": 60,
   "id": "a7cc4841-1d4c-4fe7-9854-33dbf57e8a9f",
   "metadata": {},
   "outputs": [
    {
     "data": {
      "text/plain": [
       "True"
      ]
     },
     "execution_count": 60,
     "metadata": {},
     "output_type": "execute_result"
    }
   ],
   "source": [
    "'p'>'P'"
   ]
  },
  {
   "cell_type": "code",
   "execution_count": null,
   "id": "793699fc-edf0-470d-9402-dea3103b7839",
   "metadata": {},
   "outputs": [],
   "source": [
    "'english to the computer'\n",
    "ASCII : American Standrd Code for Information Interchange"
   ]
  },
  {
   "cell_type": "code",
   "execution_count": null,
   "id": "1201bbca-f499-4980-91cc-83aa4beb5d9b",
   "metadata": {},
   "outputs": [],
   "source": [
    "'A' === 65\n",
    "'a' === 97"
   ]
  },
  {
   "cell_type": "code",
   "execution_count": 62,
   "id": "4f6171e2-9003-4ca1-9a9c-b7e0c7e54402",
   "metadata": {},
   "outputs": [
    {
     "data": {
      "text/plain": [
       "65"
      ]
     },
     "execution_count": 62,
     "metadata": {},
     "output_type": "execute_result"
    }
   ],
   "source": [
    "ord('A')"
   ]
  },
  {
   "cell_type": "code",
   "execution_count": 68,
   "id": "da5cf479-1f5e-4d9c-81bd-915be2f5da64",
   "metadata": {},
   "outputs": [
    {
     "data": {
      "text/plain": [
       "(112, 80, True)"
      ]
     },
     "execution_count": 68,
     "metadata": {},
     "output_type": "execute_result"
    }
   ],
   "source": [
    "ord('p'),ord('P'), 'p'>'P'  # 112>80"
   ]
  },
  {
   "cell_type": "code",
   "execution_count": 70,
   "id": "156c228e-95ea-401a-bab8-b2ed53baaf4c",
   "metadata": {},
   "outputs": [
    {
     "data": {
      "text/plain": [
       "'p'"
      ]
     },
     "execution_count": 70,
     "metadata": {},
     "output_type": "execute_result"
    }
   ],
   "source": [
    "chr(112)"
   ]
  },
  {
   "cell_type": "code",
   "execution_count": 9,
   "id": "304b9b90-843f-4d06-8bdf-bcd4a367ae83",
   "metadata": {},
   "outputs": [
    {
     "name": "stdout",
     "output_type": "stream",
     "text": [
      "p:112;y:121;t:116;h:104;o:111;n:110;"
     ]
    }
   ],
   "source": [
    "for i in 'python':\n",
    "    print(f\"{i}:{ord(i)}\",end=';')\n",
    "\n",
    "# p : 112\n",
    "# i : ord(i)\n",
    "# {i} : {ord(i)}\n",
    "# f\"{i} : {ord(i)}\""
   ]
  },
  {
   "cell_type": "code",
   "execution_count": null,
   "id": "05281329-9dd6-4b41-830f-a26c53239f45",
   "metadata": {},
   "outputs": [],
   "source": [
    "# I want to know ascsii number of  A to Z\n",
    "for i in 'ABCDEFGHIJKLM'  # Funny"
   ]
  },
  {
   "cell_type": "code",
   "execution_count": 13,
   "id": "6530b094-a8c6-4c5f-91e2-68ab7c9919ec",
   "metadata": {},
   "outputs": [
    {
     "name": "stdout",
     "output_type": "stream",
     "text": [
      "A:65;B:66;C:67;D:68;E:69;F:70;G:71;H:72;I:73;J:74;K:75;L:76;M:77;N:78;O:79;P:80;Q:81;R:82;S:83;T:84;U:85;V:86;W:87;X:88;Y:89;Z:90;"
     ]
    }
   ],
   "source": [
    "import string\n",
    "Capital=string.ascii_uppercase\n",
    "for i in Capital:\n",
    "    print(f\"{i}:{ord(i)}\",end=';')"
   ]
  },
  {
   "cell_type": "code",
   "execution_count": 15,
   "id": "57aa2b27-d116-439f-a0e3-a16b96339cc5",
   "metadata": {},
   "outputs": [
    {
     "name": "stdout",
     "output_type": "stream",
     "text": [
      "a:97;b:98;c:99;d:100;e:101;f:102;g:103;h:104;i:105;j:106;k:107;l:108;m:109;n:110;o:111;p:112;q:113;r:114;s:115;t:116;u:117;v:118;w:119;x:120;y:121;z:122;"
     ]
    }
   ],
   "source": [
    "import string\n",
    "lower=string.ascii_lowercase\n",
    "for i in lower:\n",
    "    print(f\"{i}:{ord(i)}\",end=';')"
   ]
  },
  {
   "cell_type": "code",
   "execution_count": 19,
   "id": "6005c062-60c0-40dc-8b80-8bfa6f80f366",
   "metadata": {},
   "outputs": [
    {
     "name": "stdout",
     "output_type": "stream",
     "text": [
      "32: ;33:!;34:\";35:#;36:$;37:%;38:&;39:';40:(;41:);42:*;43:+;44:,;45:-;46:.;47:/;48:0;49:1;50:2;51:3;52:4;53:5;54:6;55:7;56:8;57:9;58::;59:;;60:<;61:=;62:>;63:?;64:@;65:A;66:B;67:C;68:D;69:E;70:F;71:G;72:H;73:I;74:J;75:K;76:L;77:M;78:N;79:O;80:P;81:Q;82:R;83:S;84:T;85:U;86:V;87:W;88:X;89:Y;90:Z;91:[;92:\\;93:];94:^;95:_;96:`;97:a;98:b;99:c;100:d;101:e;102:f;103:g;104:h;105:i;106:j;107:k;108:l;109:m;110:n;111:o;112:p;113:q;114:r;115:s;116:t;117:u;118:v;119:w;120:x;121:y;122:z;123:{;124:|;125:};126:~;"
     ]
    }
   ],
   "source": [
    "# A : 65     z : 122\n",
    "# Im curious \n",
    "for i in range(32,127):\n",
    "    print(f\"{i}:{chr(i)}\",end=';')"
   ]
  },
  {
   "cell_type": "code",
   "execution_count": 21,
   "id": "dd6429ed-7b8a-4647-90c0-3c3c3f0252d4",
   "metadata": {},
   "outputs": [
    {
     "name": "stdout",
     "output_type": "stream",
     "text": [
      "3077:అ;3078:ఆ;3079:ఇ;3080:ఈ;3081:ఉ;3082:ఊ;3083:ఋ;3084:ఌ;3085:఍;3086:ఎ;3087:ఏ;3088:ఐ;3089:఑;3090:ఒ;3091:ఓ;3092:ఔ;3093:క;3094:ఖ;3095:గ;3096:ఘ;3097:ఙ;3098:చ;3099:ఛ;3100:జ;3101:ఝ;3102:ఞ;3103:ట;3104:ఠ;3105:డ;3106:ఢ;3107:ణ;3108:త;3109:థ;3110:ద;3111:ధ;3112:న;3113:఩;3114:ప;3115:ఫ;3116:బ;3117:భ;3118:మ;3119:య;3120:ర;3121:ఱ;3122:ల;3123:ళ;3124:ఴ;3125:వ;3126:శ;3127:ష;3128:స;3129:హ;3130:఺;3131:఻;3132:఼;3133:ఽ;3134:ా;3135:ి;3136:ీ;3137:ు;3138:ూ;3139:ృ;3140:ౄ;3141:౅;3142:ె;3143:ే;3144:ై;3145:౉;3146:ొ;3147:ో;3148:ౌ;3149:్;3150:౎;3151:౏;3152:౐;3153:౑;3154:౒;3155:౓;3156:౔;3157:ౕ;3158:ౖ;3159:౗;3160:ౘ;3161:ౙ;3162:ౚ;3163:౛;3164:౜;3165:ౝ;3166:౞;3167:౟;3168:ౠ;3169:ౡ;3170:ౢ;3171:ౣ;3172:౤;3173:౥;3174:౦;3175:౧;3176:౨;3177:౩;3178:౪;3179:౫;3180:౬;3181:౭;3182:౮;3183:౯;3184:౰;3185:౱;3186:౲;3187:౳;3188:౴;3189:౵;3190:౶;3191:౷;3192:౸;3193:౹;3194:౺;3195:౻;3196:౼;3197:౽;3198:౾;3199:౿;3200:ಀ;3201:ಁ;3202:ಂ;3203:ಃ;3204:಄;3205:ಅ;3206:ಆ;3207:ಇ;3208:ಈ;3209:ಉ;3210:ಊ;3211:ಋ;3212:ಌ;3213:಍;3214:ಎ;3215:ಏ;3216:ಐ;3217:಑;3218:ಒ;3219:ಓ;3220:ಔ;3221:ಕ;3222:ಖ;3223:ಗ;3224:ಘ;3225:ಙ;3226:ಚ;3227:ಛ;3228:ಜ;3229:ಝ;3230:ಞ;3231:ಟ;3232:ಠ;3233:ಡ;3234:ಢ;3235:ಣ;3236:ತ;3237:ಥ;3238:ದ;3239:ಧ;3240:ನ;3241:಩;3242:ಪ;3243:ಫ;3244:ಬ;3245:ಭ;3246:ಮ;3247:ಯ;3248:ರ;3249:ಱ;3250:ಲ;3251:ಳ;3252:಴;3253:ವ;3254:ಶ;3255:ಷ;3256:ಸ;3257:ಹ;3258:಺;3259:಻;3260:಼;3261:ಽ;3262:ಾ;3263:ಿ;3264:ೀ;3265:ು;3266:ೂ;3267:ೃ;3268:ೄ;3269:೅;3270:ೆ;3271:ೇ;3272:ೈ;3273:೉;3274:ೊ;3275:ೋ;3276:ೌ;3277:್;3278:೎;3279:೏;3280:೐;3281:೑;3282:೒;3283:೓;3284:೔;3285:ೕ;3286:ೖ;3287:೗;3288:೘;3289:೙;3290:೚;3291:೛;3292:೜;3293:ೝ;3294:ೞ;3295:೟;3296:ೠ;3297:ೡ;3298:ೢ;3299:ೣ;3300:೤;3301:೥;3302:೦;3303:೧;3304:೨;3305:೩;3306:೪;3307:೫;3308:೬;3309:೭;3310:೮;3311:೯;3312:೰;3313:ೱ;3314:ೲ;3315:ೳ;3316:೴;3317:೵;3318:೶;3319:೷;3320:೸;3321:೹;3322:೺;3323:೻;3324:೼;3325:೽;3326:೾;3327:೿;3328:ഀ;3329:ഁ;3330:ം;3331:ഃ;3332:ഄ;3333:അ;3334:ആ;3335:ഇ;3336:ഈ;3337:ഉ;3338:ഊ;3339:ഋ;3340:ഌ;3341:഍;3342:എ;3343:ഏ;3344:ഐ;3345:഑;3346:ഒ;3347:ഓ;3348:ഔ;3349:ക;3350:ഖ;3351:ഗ;3352:ഘ;3353:ങ;3354:ച;3355:ഛ;3356:ജ;3357:ഝ;3358:ഞ;3359:ട;3360:ഠ;3361:ഡ;3362:ഢ;3363:ണ;3364:ത;3365:ഥ;3366:ദ;3367:ധ;3368:ന;3369:ഩ;3370:പ;3371:ഫ;3372:ബ;3373:ഭ;3374:മ;3375:യ;3376:ര;3377:റ;3378:ല;3379:ള;3380:ഴ;3381:വ;3382:ശ;3383:ഷ;3384:സ;3385:ഹ;3386:ഺ;3387:഻;3388:഼;3389:ഽ;3390:ാ;3391:ി;3392:ീ;3393:ു;3394:ൂ;3395:ൃ;3396:ൄ;3397:൅;3398:െ;3399:േ;3400:ൈ;3401:൉;3402:ൊ;3403:ോ;3404:ൌ;3405:്;3406:ൎ;3407:൏;3408:൐;3409:൑;3410:൒;3411:൓;3412:ൔ;3413:ൕ;3414:ൖ;3415:ൗ;3416:൘;3417:൙;3418:൚;3419:൛;3420:൜;3421:൝;3422:൞;3423:ൟ;3424:ൠ;3425:ൡ;3426:ൢ;3427:ൣ;3428:൤;3429:൥;3430:൦;3431:൧;3432:൨;3433:൩;3434:൪;3435:൫;3436:൬;3437:൭;3438:൮;3439:൯;3440:൰;3441:൱;3442:൲;3443:൳;3444:൴;3445:൵;3446:൶;3447:൷;3448:൸;3449:൹;3450:ൺ;3451:ൻ;3452:ർ;3453:ൽ;3454:ൾ;3455:ൿ;3456:඀;3457:ඁ;3458:ං;3459:ඃ;3460:඄;3461:අ;3462:ආ;3463:ඇ;3464:ඈ;3465:ඉ;3466:ඊ;3467:උ;3468:ඌ;3469:ඍ;3470:ඎ;3471:ඏ;3472:ඐ;3473:එ;3474:ඒ;3475:ඓ;3476:ඔ;3477:ඕ;3478:ඖ;3479:඗;3480:඘;3481:඙;3482:ක;3483:ඛ;3484:ග;3485:ඝ;3486:ඞ;3487:ඟ;3488:ච;3489:ඡ;3490:ජ;3491:ඣ;3492:ඤ;3493:ඥ;3494:ඦ;3495:ට;3496:ඨ;3497:ඩ;3498:ඪ;3499:ණ;3500:ඬ;3501:ත;3502:ථ;3503:ද;3504:ධ;3505:න;3506:඲;3507:ඳ;3508:ප;3509:ඵ;3510:බ;3511:භ;3512:ම;3513:ඹ;3514:ය;3515:ර;3516:඼;3517:ල;3518:඾;3519:඿;3520:ව;3521:ශ;3522:ෂ;3523:ස;3524:හ;3525:ළ;3526:ෆ;3527:෇;3528:෈;3529:෉;3530:්;3531:෋;3532:෌;3533:෍;3534:෎;3535:ා;3536:ැ;3537:ෑ;3538:ි;3539:ී;3540:ු;3541:෕;3542:ූ;3543:෗;3544:ෘ;3545:ෙ;3546:ේ;3547:ෛ;3548:ො;3549:ෝ;3550:ෞ;3551:ෟ;3552:෠;3553:෡;3554:෢;3555:෣;3556:෤;3557:෥;3558:෦;3559:෧;3560:෨;3561:෩;3562:෪;3563:෫;3564:෬;3565:෭;3566:෮;3567:෯;3568:෰;3569:෱;3570:ෲ;3571:ෳ;3572:෴;3573:෵;3574:෶;3575:෷;3576:෸;3577:෹;3578:෺;3579:෻;3580:෼;3581:෽;3582:෾;3583:෿;3584:฀;3585:ก;3586:ข;3587:ฃ;3588:ค;3589:ฅ;3590:ฆ;3591:ง;3592:จ;3593:ฉ;3594:ช;3595:ซ;3596:ฌ;3597:ญ;3598:ฎ;3599:ฏ;3600:ฐ;3601:ฑ;3602:ฒ;3603:ณ;3604:ด;3605:ต;3606:ถ;3607:ท;3608:ธ;3609:น;3610:บ;3611:ป;3612:ผ;3613:ฝ;3614:พ;3615:ฟ;3616:ภ;3617:ม;3618:ย;3619:ร;3620:ฤ;3621:ล;3622:ฦ;3623:ว;3624:ศ;3625:ษ;3626:ส;3627:ห;3628:ฬ;3629:อ;3630:ฮ;3631:ฯ;3632:ะ;3633:ั;3634:า;3635:ำ;3636:ิ;3637:ี;3638:ึ;3639:ื;3640:ุ;3641:ู;3642:ฺ;3643:฻;3644:฼;3645:฽;3646:฾;3647:฿;3648:เ;3649:แ;3650:โ;3651:ใ;3652:ไ;3653:ๅ;3654:ๆ;3655:็;3656:่;3657:้;3658:๊;3659:๋;3660:์;3661:ํ;3662:๎;3663:๏;3664:๐;3665:๑;3666:๒;3667:๓;3668:๔;3669:๕;3670:๖;3671:๗;3672:๘;3673:๙;3674:๚;3675:๛;3676:๜;3677:๝;3678:๞;3679:๟;3680:๠;3681:๡;3682:๢;3683:๣;3684:๤;3685:๥;3686:๦;3687:๧;3688:๨;3689:๩;3690:๪;3691:๫;3692:๬;3693:๭;3694:๮;3695:๯;3696:๰;3697:๱;3698:๲;3699:๳;3700:๴;3701:๵;3702:๶;3703:๷;3704:๸;3705:๹;3706:๺;3707:๻;3708:๼;3709:๽;3710:๾;3711:๿;3712:຀;3713:ກ;3714:ຂ;3715:຃;3716:ຄ;3717:຅;3718:ຆ;3719:ງ;3720:ຈ;3721:ຉ;3722:ຊ;3723:຋;3724:ຌ;3725:ຍ;3726:ຎ;3727:ຏ;3728:ຐ;3729:ຑ;3730:ຒ;3731:ຓ;3732:ດ;3733:ຕ;3734:ຖ;3735:ທ;3736:ຘ;3737:ນ;3738:ບ;3739:ປ;3740:ຜ;3741:ຝ;3742:ພ;3743:ຟ;3744:ຠ;3745:ມ;3746:ຢ;3747:ຣ;3748:຤;3749:ລ;3750:຦;3751:ວ;3752:ຨ;3753:ຩ;3754:ສ;3755:ຫ;3756:ຬ;3757:ອ;3758:ຮ;3759:ຯ;3760:ະ;3761:ັ;3762:າ;3763:ຳ;3764:ິ;3765:ີ;3766:ຶ;3767:ື;3768:ຸ;3769:ູ;3770:຺;3771:ົ;3772:ຼ;3773:ຽ;3774:຾;3775:຿;3776:ເ;3777:ແ;3778:ໂ;3779:ໃ;3780:ໄ;3781:໅;3782:ໆ;3783:໇;3784:່;3785:້;3786:໊;3787:໋;3788:໌;3789:ໍ;3790:໎;3791:໏;3792:໐;3793:໑;3794:໒;3795:໓;3796:໔;3797:໕;3798:໖;3799:໗;3800:໘;3801:໙;3802:໚;3803:໛;3804:ໜ;3805:ໝ;3806:ໞ;3807:ໟ;3808:໠;3809:໡;3810:໢;3811:໣;3812:໤;3813:໥;3814:໦;3815:໧;3816:໨;3817:໩;3818:໪;3819:໫;3820:໬;3821:໭;3822:໮;3823:໯;3824:໰;3825:໱;3826:໲;3827:໳;3828:໴;3829:໵;3830:໶;3831:໷;3832:໸;3833:໹;3834:໺;3835:໻;3836:໼;3837:໽;3838:໾;3839:໿;3840:ༀ;3841:༁;3842:༂;3843:༃;3844:༄;3845:༅;3846:༆;3847:༇;3848:༈;3849:༉;3850:༊;3851:་;3852:༌;3853:།;3854:༎;3855:༏;3856:༐;3857:༑;3858:༒;3859:༓;3860:༔;3861:༕;3862:༖;3863:༗;3864:༘;3865:༙;3866:༚;3867:༛;3868:༜;3869:༝;3870:༞;3871:༟;3872:༠;3873:༡;3874:༢;3875:༣;3876:༤;3877:༥;3878:༦;3879:༧;3880:༨;3881:༩;3882:༪;3883:༫;3884:༬;3885:༭;3886:༮;3887:༯;3888:༰;3889:༱;3890:༲;3891:༳;3892:༴;3893:༵;3894:༶;3895:༷;3896:༸;3897:༹;3898:༺;3899:༻;3900:༼;3901:༽;3902:༾;3903:༿;3904:ཀ;3905:ཁ;3906:ག;3907:གྷ;3908:ང;3909:ཅ;3910:ཆ;3911:ཇ;3912:཈;3913:ཉ;3914:ཊ;3915:ཋ;3916:ཌ;3917:ཌྷ;3918:ཎ;3919:ཏ;3920:ཐ;3921:ད;3922:དྷ;3923:ན;3924:པ;3925:ཕ;3926:བ;3927:བྷ;3928:མ;3929:ཙ;3930:ཚ;3931:ཛ;3932:ཛྷ;3933:ཝ;3934:ཞ;3935:ཟ;3936:འ;3937:ཡ;3938:ར;3939:ལ;3940:ཤ;3941:ཥ;3942:ས;3943:ཧ;3944:ཨ;3945:ཀྵ;3946:ཪ;3947:ཫ;3948:ཬ;3949:཭;3950:཮;3951:཯;3952:཰;3953:ཱ;3954:ི;3955:ཱི;3956:ུ;3957:ཱུ;3958:ྲྀ;3959:ཷ;3960:ླྀ;3961:ཹ;3962:ེ;3963:ཻ;3964:ོ;3965:ཽ;3966:ཾ;3967:ཿ;3968:ྀ;3969:ཱྀ;3970:ྂ;3971:ྃ;3972:྄;3973:྅;3974:྆;3975:྇;3976:ྈ;3977:ྉ;3978:ྊ;3979:ྋ;3980:ྌ;3981:ྍ;3982:ྎ;3983:ྏ;3984:ྐ;3985:ྑ;3986:ྒ;3987:ྒྷ;3988:ྔ;3989:ྕ;3990:ྖ;3991:ྗ;3992:྘;3993:ྙ;3994:ྚ;3995:ྛ;3996:ྜ;3997:ྜྷ;3998:ྞ;3999:ྟ;4000:ྠ;4001:ྡ;4002:ྡྷ;4003:ྣ;4004:ྤ;4005:ྥ;4006:ྦ;4007:ྦྷ;4008:ྨ;4009:ྩ;4010:ྪ;4011:ྫ;4012:ྫྷ;4013:ྭ;4014:ྮ;4015:ྯ;4016:ྰ;4017:ྱ;4018:ྲ;4019:ླ;4020:ྴ;4021:ྵ;4022:ྶ;4023:ྷ;4024:ྸ;4025:ྐྵ;4026:ྺ;4027:ྻ;4028:ྼ;4029:྽;4030:྾;4031:྿;4032:࿀;4033:࿁;4034:࿂;4035:࿃;4036:࿄;4037:࿅;4038:࿆;4039:࿇;4040:࿈;4041:࿉;4042:࿊;4043:࿋;4044:࿌;4045:࿍;4046:࿎;4047:࿏;4048:࿐;4049:࿑;4050:࿒;4051:࿓;4052:࿔;4053:࿕;4054:࿖;4055:࿗;4056:࿘;4057:࿙;4058:࿚;4059:࿛;4060:࿜;4061:࿝;4062:࿞;4063:࿟;4064:࿠;4065:࿡;4066:࿢;4067:࿣;4068:࿤;4069:࿥;4070:࿦;4071:࿧;4072:࿨;4073:࿩;4074:࿪;4075:࿫;4076:࿬;4077:࿭;4078:࿮;4079:࿯;4080:࿰;4081:࿱;4082:࿲;4083:࿳;4084:࿴;4085:࿵;4086:࿶;4087:࿷;4088:࿸;4089:࿹;4090:࿺;4091:࿻;4092:࿼;4093:࿽;4094:࿾;4095:࿿;4096:က;4097:ခ;4098:ဂ;4099:ဃ;4100:င;4101:စ;4102:ဆ;4103:ဇ;4104:ဈ;4105:ဉ;4106:ည;4107:ဋ;4108:ဌ;4109:ဍ;4110:ဎ;4111:ဏ;4112:တ;4113:ထ;4114:ဒ;4115:ဓ;4116:န;4117:ပ;4118:ဖ;4119:ဗ;4120:ဘ;4121:မ;4122:ယ;4123:ရ;4124:လ;4125:ဝ;4126:သ;4127:ဟ;4128:ဠ;4129:အ;4130:ဢ;4131:ဣ;4132:ဤ;4133:ဥ;4134:ဦ;4135:ဧ;4136:ဨ;4137:ဩ;4138:ဪ;4139:ါ;4140:ာ;4141:ိ;4142:ီ;4143:ု;4144:ူ;4145:ေ;4146:ဲ;4147:ဳ;4148:ဴ;4149:ဵ;4150:ံ;4151:့;4152:း;4153:္;4154:်;4155:ျ;4156:ြ;4157:ွ;4158:ှ;4159:ဿ;4160:၀;4161:၁;4162:၂;4163:၃;4164:၄;4165:၅;4166:၆;4167:၇;4168:၈;4169:၉;4170:၊;4171:။;4172:၌;4173:၍;4174:၎;4175:၏;4176:ၐ;4177:ၑ;4178:ၒ;4179:ၓ;4180:ၔ;4181:ၕ;4182:ၖ;4183:ၗ;4184:ၘ;4185:ၙ;4186:ၚ;4187:ၛ;4188:ၜ;4189:ၝ;4190:ၞ;4191:ၟ;4192:ၠ;4193:ၡ;4194:ၢ;4195:ၣ;4196:ၤ;4197:ၥ;4198:ၦ;4199:ၧ;4200:ၨ;4201:ၩ;4202:ၪ;4203:ၫ;4204:ၬ;4205:ၭ;4206:ၮ;4207:ၯ;4208:ၰ;4209:ၱ;4210:ၲ;4211:ၳ;4212:ၴ;4213:ၵ;4214:ၶ;4215:ၷ;4216:ၸ;4217:ၹ;4218:ၺ;4219:ၻ;4220:ၼ;4221:ၽ;4222:ၾ;4223:ၿ;4224:ႀ;4225:ႁ;4226:ႂ;4227:ႃ;4228:ႄ;4229:ႅ;4230:ႆ;4231:ႇ;4232:ႈ;4233:ႉ;4234:ႊ;4235:ႋ;4236:ႌ;4237:ႍ;4238:ႎ;4239:ႏ;4240:႐;4241:႑;4242:႒;4243:႓;4244:႔;4245:႕;4246:႖;4247:႗;4248:႘;4249:႙;4250:ႚ;4251:ႛ;4252:ႜ;4253:ႝ;4254:႞;4255:႟;4256:Ⴀ;4257:Ⴁ;4258:Ⴂ;4259:Ⴃ;4260:Ⴄ;4261:Ⴅ;4262:Ⴆ;4263:Ⴇ;4264:Ⴈ;4265:Ⴉ;4266:Ⴊ;4267:Ⴋ;4268:Ⴌ;4269:Ⴍ;4270:Ⴎ;4271:Ⴏ;4272:Ⴐ;4273:Ⴑ;4274:Ⴒ;4275:Ⴓ;4276:Ⴔ;4277:Ⴕ;4278:Ⴖ;4279:Ⴗ;4280:Ⴘ;4281:Ⴙ;4282:Ⴚ;4283:Ⴛ;4284:Ⴜ;4285:Ⴝ;4286:Ⴞ;4287:Ⴟ;4288:Ⴠ;4289:Ⴡ;4290:Ⴢ;4291:Ⴣ;4292:Ⴤ;4293:Ⴥ;4294:჆;4295:Ⴧ;4296:჈;4297:჉;4298:჊;4299:჋;4300:჌;4301:Ⴭ;4302:჎;4303:჏;4304:ა;4305:ბ;4306:გ;4307:დ;4308:ე;4309:ვ;4310:ზ;4311:თ;4312:ი;4313:კ;4314:ლ;4315:მ;4316:ნ;4317:ო;4318:პ;4319:ჟ;4320:რ;4321:ს;4322:ტ;4323:უ;4324:ფ;4325:ქ;4326:ღ;4327:ყ;4328:შ;4329:ჩ;4330:ც;4331:ძ;4332:წ;4333:ჭ;4334:ხ;4335:ჯ;4336:ჰ;4337:ჱ;4338:ჲ;4339:ჳ;4340:ჴ;4341:ჵ;4342:ჶ;4343:ჷ;4344:ჸ;4345:ჹ;4346:ჺ;4347:჻;4348:ჼ;4349:ჽ;4350:ჾ;4351:ჿ;4352:ᄀ;4353:ᄁ;4354:ᄂ;4355:ᄃ;4356:ᄄ;4357:ᄅ;4358:ᄆ;4359:ᄇ;4360:ᄈ;4361:ᄉ;4362:ᄊ;4363:ᄋ;4364:ᄌ;4365:ᄍ;4366:ᄎ;4367:ᄏ;4368:ᄐ;4369:ᄑ;4370:ᄒ;4371:ᄓ;4372:ᄔ;4373:ᄕ;4374:ᄖ;4375:ᄗ;4376:ᄘ;4377:ᄙ;4378:ᄚ;4379:ᄛ;4380:ᄜ;4381:ᄝ;4382:ᄞ;4383:ᄟ;4384:ᄠ;4385:ᄡ;4386:ᄢ;4387:ᄣ;4388:ᄤ;4389:ᄥ;4390:ᄦ;4391:ᄧ;4392:ᄨ;4393:ᄩ;4394:ᄪ;4395:ᄫ;4396:ᄬ;4397:ᄭ;4398:ᄮ;4399:ᄯ;4400:ᄰ;4401:ᄱ;4402:ᄲ;4403:ᄳ;4404:ᄴ;4405:ᄵ;4406:ᄶ;4407:ᄷ;4408:ᄸ;4409:ᄹ;4410:ᄺ;4411:ᄻ;4412:ᄼ;4413:ᄽ;4414:ᄾ;4415:ᄿ;4416:ᅀ;4417:ᅁ;4418:ᅂ;4419:ᅃ;4420:ᅄ;4421:ᅅ;4422:ᅆ;4423:ᅇ;4424:ᅈ;4425:ᅉ;4426:ᅊ;4427:ᅋ;4428:ᅌ;4429:ᅍ;4430:ᅎ;4431:ᅏ;4432:ᅐ;4433:ᅑ;4434:ᅒ;4435:ᅓ;4436:ᅔ;4437:ᅕ;4438:ᅖ;4439:ᅗ;4440:ᅘ;4441:ᅙ;4442:ᅚ;4443:ᅛ;4444:ᅜ;4445:ᅝ;4446:ᅞ;4447:ᅟ;4448:ᅠ;4449:ᅡ;4450:ᅢ;4451:ᅣ;4452:ᅤ;4453:ᅥ;4454:ᅦ;4455:ᅧ;4456:ᅨ;4457:ᅩ;4458:ᅪ;4459:ᅫ;4460:ᅬ;4461:ᅭ;4462:ᅮ;4463:ᅯ;4464:ᅰ;4465:ᅱ;4466:ᅲ;4467:ᅳ;4468:ᅴ;4469:ᅵ;4470:ᅶ;4471:ᅷ;4472:ᅸ;4473:ᅹ;4474:ᅺ;4475:ᅻ;4476:ᅼ;4477:ᅽ;4478:ᅾ;4479:ᅿ;4480:ᆀ;4481:ᆁ;4482:ᆂ;4483:ᆃ;4484:ᆄ;4485:ᆅ;4486:ᆆ;4487:ᆇ;4488:ᆈ;4489:ᆉ;4490:ᆊ;4491:ᆋ;4492:ᆌ;4493:ᆍ;4494:ᆎ;4495:ᆏ;4496:ᆐ;4497:ᆑ;4498:ᆒ;4499:ᆓ;"
     ]
    }
   ],
   "source": [
    "for i in range(3077,4500):\n",
    "    print(f\"{i}:{chr(i)}\",end=';')"
   ]
  },
  {
   "cell_type": "code",
   "execution_count": null,
   "id": "00e99fcf-e213-4bfd-b390-30348cc6cbf9",
   "metadata": {},
   "outputs": [],
   "source": []
  }
 ],
 "metadata": {
  "kernelspec": {
   "display_name": "Python [conda env:base] *",
   "language": "python",
   "name": "conda-base-py"
  },
  "language_info": {
   "codemirror_mode": {
    "name": "ipython",
    "version": 3
   },
   "file_extension": ".py",
   "mimetype": "text/x-python",
   "name": "python",
   "nbconvert_exporter": "python",
   "pygments_lexer": "ipython3",
   "version": "3.12.7"
  }
 },
 "nbformat": 4,
 "nbformat_minor": 5
}
