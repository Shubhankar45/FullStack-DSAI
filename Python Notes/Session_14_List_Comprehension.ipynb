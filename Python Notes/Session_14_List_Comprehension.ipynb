{
 "cells": [
  {
   "cell_type": "markdown",
   "id": "4e568b15-7aef-447b-bb87-25ed2fe71565",
   "metadata": {},
   "source": [
    "**List_Comprehension**"
   ]
  },
  {
   "cell_type": "markdown",
   "id": "023114ea-6763-4d2a-b07e-544ffb8ee39c",
   "metadata": {},
   "source": [
    "- Writing list operation in a single line is called as List Comprehension\n",
    "- Generally code process time will increase when we use for and if\n",
    "- List comprehension will reduce the processing time"
   ]
  },
  {
   "cell_type": "markdown",
   "id": "6b5e23fe-262f-4184-80ef-4e5516049b0a",
   "metadata": {},
   "source": [
    "**Case 1:List with for loop**"
   ]
  },
  {
   "cell_type": "code",
   "execution_count": null,
   "id": "1e67bf7c-9fb3-4747-9776-8545cbafe049",
   "metadata": {},
   "outputs": [],
   "source": [
    "#[<output><for loop>]"
   ]
  },
  {
   "cell_type": "code",
   "execution_count": null,
   "id": "71ccd1d9-94b4-46f6-8058-cd953c07afde",
   "metadata": {},
   "outputs": [],
   "source": [
    "#append 1 to 10 number in a list"
   ]
  },
  {
   "cell_type": "code",
   "execution_count": 2,
   "id": "2231e708-9347-4568-8c6a-945881ebfefc",
   "metadata": {},
   "outputs": [
    {
     "name": "stdout",
     "output_type": "stream",
     "text": [
      "[1, 2, 3, 4, 5, 6, 7, 8, 9, 10]\n"
     ]
    }
   ],
   "source": [
    "l=[]\n",
    "for i in range(1,11):\n",
    "    l.append(i)\n",
    "print(l)"
   ]
  },
  {
   "cell_type": "code",
   "execution_count": 3,
   "id": "0d3b1d34-e7f0-4a17-9563-922c913d9904",
   "metadata": {},
   "outputs": [
    {
     "name": "stdout",
     "output_type": "stream",
     "text": [
      "[1, 2, 3, 4, 5, 6, 7, 8, 9, 10]\n"
     ]
    }
   ],
   "source": [
    "l=[i for i in range(1,11)]\n",
    "print(l)"
   ]
  },
  {
   "cell_type": "code",
   "execution_count": null,
   "id": "ec501284-b931-4937-9090-0ea31077c366",
   "metadata": {},
   "outputs": [],
   "source": [
    "# Q1) input=['hyd','bengaluru','mumbai','chennai']\n",
    "#     output=['Hyd','Bengaluru','Mumbai','Chennai']\n",
    "\n",
    "# Q2) input=['hyd','bengaluru','mumbai','chennai']\n",
    "#     output=['HYD','BENGALURU','MUMBAI','CHENNAI']"
   ]
  },
  {
   "cell_type": "code",
   "execution_count": 7,
   "id": "bdfad447-04f4-4b7c-a1f5-2e09ee721343",
   "metadata": {},
   "outputs": [
    {
     "name": "stdout",
     "output_type": "stream",
     "text": [
      "['Hyd', 'Bengaluru', 'Mumbai', 'Chennai']\n"
     ]
    }
   ],
   "source": [
    "Input=['hyd','bengaluru','mumbai','chennai']\n",
    "output=[i.title() for i in Input]\n",
    "print(output)"
   ]
  },
  {
   "cell_type": "code",
   "execution_count": 8,
   "id": "cc2d942c-a96c-4cb3-a87c-4818cca03111",
   "metadata": {},
   "outputs": [
    {
     "name": "stdout",
     "output_type": "stream",
     "text": [
      "['HYD', 'BENGALURU', 'MUMBAI', 'CHENNAI']\n"
     ]
    }
   ],
   "source": [
    "Input=['hyd','bengaluru','mumbai','chennai']\n",
    "output=[i.upper() for i in Input]\n",
    "print(output)"
   ]
  },
  {
   "cell_type": "markdown",
   "id": "43dc0855-fcac-4027-9cf1-577fad3be0b5",
   "metadata": {},
   "source": [
    "**Case 2:for-if condition**"
   ]
  },
  {
   "cell_type": "code",
   "execution_count": null,
   "id": "09e21b47-a2ab-4181-bcf3-879b6e6cfacf",
   "metadata": {},
   "outputs": [],
   "source": [
    "#[<output> <for loop> <if condition>]"
   ]
  },
  {
   "cell_type": "code",
   "execution_count": 12,
   "id": "d8653f53-af41-4507-b8d5-388df2bd739c",
   "metadata": {},
   "outputs": [
    {
     "name": "stdout",
     "output_type": "stream",
     "text": [
      "[82, 26, 26]\n"
     ]
    }
   ],
   "source": [
    "import random \n",
    "Input=[random.randint(1,100) for i in range(5)]\n",
    "even_list=[]\n",
    "for i in Input:\n",
    "    if i%2==0:\n",
    "        even_list.append(i)\n",
    "print(even_list)      "
   ]
  },
  {
   "cell_type": "code",
   "execution_count": 14,
   "id": "f802fe5f-cac8-4e43-9ad6-0ff3bfe05bb2",
   "metadata": {},
   "outputs": [
    {
     "data": {
      "text/plain": [
       "([4, 88, 44], [37, 37])"
      ]
     },
     "execution_count": 14,
     "metadata": {},
     "output_type": "execute_result"
    }
   ],
   "source": [
    "import random \n",
    "Input=[random.randint(1,100) for i in range(5)]\n",
    "even_list=[i for i in Input if i%2==0]\n",
    "odd_list=[i for i in Input if i%2!=0]\n",
    "even_list,odd_list"
   ]
  },
  {
   "cell_type": "code",
   "execution_count": null,
   "id": "23173b9f-c236-41d9-b16d-5b2cdbddce2d",
   "metadata": {},
   "outputs": [],
   "source": [
    "#Q3)input=['hyd','bengaluru','mum#bai','chen#nai']\n",
    "#     output=['mum#bai','chen#nai']\n",
    "\n",
    "# Q4) input=['hyd','bengaluru','mum#bai','chen#nai']\n",
    "#     output=['hyd','bengaluru']"
   ]
  },
  {
   "cell_type": "code",
   "execution_count": 16,
   "id": "76775568-f075-4b2d-ab42-6f7f669f650d",
   "metadata": {},
   "outputs": [
    {
     "data": {
      "text/plain": [
       "['mum#bai', 'chen#nai']"
      ]
     },
     "execution_count": 16,
     "metadata": {},
     "output_type": "execute_result"
    }
   ],
   "source": [
    "Input=['hyd','bengaluru','mum#bai','chen#nai']\n",
    "output=[i for i in Input if '#' in i]\n",
    "output"
   ]
  },
  {
   "cell_type": "code",
   "execution_count": 17,
   "id": "95bc213e-98be-407c-b3a7-de90803684c1",
   "metadata": {},
   "outputs": [
    {
     "data": {
      "text/plain": [
       "['hyd', 'bengaluru']"
      ]
     },
     "execution_count": 17,
     "metadata": {},
     "output_type": "execute_result"
    }
   ],
   "source": [
    "Input=['hyd','bengaluru','mum#bai','chen#nai']\n",
    "output=[i for i in Input if '#' not in i]\n",
    "output"
   ]
  },
  {
   "cell_type": "markdown",
   "id": "daf2629e-66d4-4d46-86a6-5a0b7bd3c21c",
   "metadata": {},
   "source": [
    "**Case 3:for-if-else**"
   ]
  },
  {
   "cell_type": "code",
   "execution_count": null,
   "id": "a872c9f0-5002-4780-9537-739e7bbe177c",
   "metadata": {},
   "outputs": [],
   "source": [
    "#[<output if> <if condition> else <else output> <for loop> <>]"
   ]
  },
  {
   "cell_type": "code",
   "execution_count": 1,
   "id": "a77a23c7-cdc3-4860-ba89-7e5ba55c4c99",
   "metadata": {},
   "outputs": [
    {
     "data": {
      "text/plain": [
       "['30:even',\n",
       " '32:even',\n",
       " '3:odd',\n",
       " '75:odd',\n",
       " '69:odd',\n",
       " '38:even',\n",
       " '51:odd',\n",
       " '11:odd',\n",
       " '8:even',\n",
       " '19:odd',\n",
       " '73:odd',\n",
       " '65:odd',\n",
       " '22:even',\n",
       " '7:odd',\n",
       " '12:even',\n",
       " '60:even',\n",
       " '90:even',\n",
       " '36:even',\n",
       " '79:odd',\n",
       " '52:even',\n",
       " '10:even',\n",
       " '22:even',\n",
       " '66:even',\n",
       " '83:odd',\n",
       " '100:even',\n",
       " '31:odd',\n",
       " '56:even',\n",
       " '57:odd',\n",
       " '33:odd',\n",
       " '38:even',\n",
       " '13:odd',\n",
       " '95:odd',\n",
       " '26:even',\n",
       " '32:even',\n",
       " '7:odd',\n",
       " '80:even',\n",
       " '81:odd',\n",
       " '92:even',\n",
       " '62:even',\n",
       " '13:odd',\n",
       " '76:even',\n",
       " '94:even',\n",
       " '63:odd',\n",
       " '31:odd',\n",
       " '70:even',\n",
       " '45:odd',\n",
       " '13:odd',\n",
       " '14:even',\n",
       " '79:odd',\n",
       " '82:even',\n",
       " '91:odd',\n",
       " '12:even',\n",
       " '63:odd',\n",
       " '66:even',\n",
       " '79:odd',\n",
       " '93:odd',\n",
       " '46:even',\n",
       " '45:odd',\n",
       " '95:odd',\n",
       " '28:even',\n",
       " '49:odd',\n",
       " '69:odd',\n",
       " '41:odd',\n",
       " '15:odd',\n",
       " '6:even',\n",
       " '43:odd',\n",
       " '15:odd',\n",
       " '71:odd',\n",
       " '69:odd',\n",
       " '51:odd',\n",
       " '50:even',\n",
       " '72:even',\n",
       " '86:even',\n",
       " '31:odd',\n",
       " '35:odd',\n",
       " '9:odd',\n",
       " '66:even',\n",
       " '68:even',\n",
       " '69:odd',\n",
       " '45:odd',\n",
       " '96:even',\n",
       " '79:odd',\n",
       " '66:even',\n",
       " '61:odd',\n",
       " '16:even',\n",
       " '79:odd',\n",
       " '62:even',\n",
       " '7:odd',\n",
       " '57:odd',\n",
       " '75:odd',\n",
       " '69:odd',\n",
       " '57:odd',\n",
       " '33:odd',\n",
       " '6:even',\n",
       " '49:odd',\n",
       " '23:odd',\n",
       " '91:odd',\n",
       " '74:even',\n",
       " '43:odd']"
      ]
     },
     "execution_count": 1,
     "metadata": {},
     "output_type": "execute_result"
    }
   ],
   "source": [
    "import random\n",
    "num=[random.randint(1,100) for i in range(1,100)]\n",
    "output=[f\"{i}:even\" if i%2==0 else f\"{i}:odd\" for i in num ]\n",
    "output"
   ]
  },
  {
   "cell_type": "markdown",
   "id": "a2db867d-6be0-4e68-b359-e1404481598a",
   "metadata": {},
   "source": [
    "**Case 4:for-if-elif-else**"
   ]
  },
  {
   "cell_type": "code",
   "execution_count": null,
   "id": "4a1f6d6e-13fb-4feb-a023-89cf6c5b4673",
   "metadata": {},
   "outputs": [],
   "source": [
    "#[<if out> <if con> else <if out2> <if con> else <else out> <for loop>]"
   ]
  },
  {
   "cell_type": "markdown",
   "id": "7df988e8-1aad-4ee1-ab01-4260c95de6da",
   "metadata": {},
   "source": [
    "- There is no elif concept in list comprehension\n",
    "- elif will be write as if + else\n",
    "- elif condition, elif output: else, if cond, outout"
   ]
  },
  {
   "cell_type": "code",
   "execution_count": 4,
   "id": "5549b692-27f0-4a2f-b2a7-e7ce1a4e650d",
   "metadata": {},
   "outputs": [
    {
     "name": "stdout",
     "output_type": "stream",
     "text": [
      "50:B grade\n",
      "47:C grade\n",
      "89:A grade\n",
      "92:A grade\n",
      "66:B grade\n"
     ]
    }
   ],
   "source": [
    "Input=[50,47,89,92,66]\n",
    "for i in input1:\n",
    "    if i>=70:\n",
    "        print(f'{i}:A grade')\n",
    "    elif i>=50:\n",
    "        print(f'{i}:B grade')\n",
    "    else:\n",
    "        print(f'{i}:C grade')"
   ]
  },
  {
   "cell_type": "code",
   "execution_count": 6,
   "id": "894558d2-9993-44dd-a7cf-388d7e15c9f9",
   "metadata": {},
   "outputs": [
    {
     "data": {
      "text/plain": [
       "['50:B', '47:C', '89:A', '92:A', '66:B']"
      ]
     },
     "execution_count": 6,
     "metadata": {},
     "output_type": "execute_result"
    }
   ],
   "source": [
    "Input=[50,47,89,92,66]\n",
    "output=[f\"{i}:A\" if i>=70 else f\"{i}:B\" if i>=50 else f\"{i}:C\" for i in Input]\n",
    "output"
   ]
  },
  {
   "cell_type": "markdown",
   "id": "01ad3739-9783-4bbb-9d17-e7d44e27e4ce",
   "metadata": {},
   "source": [
    "**Student who passed**"
   ]
  },
  {
   "cell_type": "code",
   "execution_count": 1,
   "id": "a082cd62-b858-4c9c-8878-fdc91bcf22f1",
   "metadata": {},
   "outputs": [
    {
     "data": {
      "text/plain": [
       "['45:failed',\n",
       " '76:Passed',\n",
       " '89:Passed',\n",
       " '53:Passed',\n",
       " '67:Passed',\n",
       " '90:Passed',\n",
       " '82:Passed',\n",
       " '49:failed',\n",
       " '33:failed',\n",
       " '99:Passed']"
      ]
     },
     "execution_count": 1,
     "metadata": {},
     "output_type": "execute_result"
    }
   ],
   "source": [
    "Input=[45,76,89,53,67,90,82,49,33,99]\n",
    "output=[f\"{i}:Passed\" if i>50 else f\"{i}:failed\" for i in Input]\n",
    "output"
   ]
  },
  {
   "cell_type": "markdown",
   "id": "43de60bf-58b4-4182-b66c-316053fa758e",
   "metadata": {},
   "source": [
    "**Calculate grades for all students**"
   ]
  },
  {
   "cell_type": "code",
   "execution_count": 2,
   "id": "6b5fcb07-0f59-4643-8810-5a4904bed195",
   "metadata": {},
   "outputs": [
    {
     "name": "stdout",
     "output_type": "stream",
     "text": [
      "['45:F', '76:B', '89:A', '53:C', '67:C', '90:A', '82:B', '49:F', '33:F', '99:A']\n"
     ]
    }
   ],
   "source": [
    "Input=[45,76,89,53,67,90,82,49,33,99]\n",
    "output=[f\"{i}:A\" if i>=85 else f\"{i}:B\" if i>=70 and i<=84 else f\"{i}:C\" if i>=50 and i<=69 else f\"{i}:F\" for i in Input]\n",
    "print(output)"
   ]
  },
  {
   "cell_type": "markdown",
   "id": "bd3537dd-ae82-43b1-861e-59f912893f90",
   "metadata": {},
   "source": [
    "**Add 5 marks grace for who failed**"
   ]
  },
  {
   "cell_type": "code",
   "execution_count": 21,
   "id": "c76243df-e8e6-48e6-abad-de8c9ee4d67d",
   "metadata": {},
   "outputs": [
    {
     "name": "stdout",
     "output_type": "stream",
     "text": [
      "[50, 54, 38]\n"
     ]
    }
   ],
   "source": [
    "Input=[45,76,89,53,67,90,82,49,33,99]\n",
    "output=[i+5 for i in Input if i<50 ]\n",
    "print(output)"
   ]
  },
  {
   "cell_type": "markdown",
   "id": "7f69316a-a847-4d91-ad30-792326894508",
   "metadata": {},
   "source": [
    "**Top 3 students**"
   ]
  },
  {
   "cell_type": "code",
   "execution_count": 13,
   "id": "8c9a730a-399c-4271-8622-cf4a46419995",
   "metadata": {},
   "outputs": [
    {
     "name": "stdout",
     "output_type": "stream",
     "text": [
      "[99, 90, 89]\n"
     ]
    }
   ],
   "source": [
    "Input=[45,76,89,53,67,90,82,49,33,99]\n",
    "Input.sort()\n",
    "print(Input[:-4:-1])"
   ]
  },
  {
   "cell_type": "markdown",
   "id": "3d4c4171-2df8-47e4-9127-056c4cdba803",
   "metadata": {},
   "source": [
    "**Find Avg marks**"
   ]
  },
  {
   "cell_type": "code",
   "execution_count": 37,
   "id": "ddd91bdb-1559-4c7e-8264-403dd501340a",
   "metadata": {},
   "outputs": [
    {
     "name": "stdout",
     "output_type": "stream",
     "text": [
      "5.5\n"
     ]
    }
   ],
   "source": [
    "num = list(range(1, 11))\n",
    "total = 0\n",
    "[total := total + i for i in num] \n",
    "print(total / len(num))"
   ]
  },
  {
   "cell_type": "markdown",
   "id": "b52d4476-7d08-4e7f-8436-425519dd546e",
   "metadata": {},
   "source": [
    "**Lambda Function**"
   ]
  },
  {
   "cell_type": "markdown",
   "id": "3ab9ea62-0ac2-48d4-bbb7-e5369c2d03df",
   "metadata": {},
   "source": [
    "- Lambda function also function\n",
    "- It is similar to list comprehension\n",
    "- Functions we are writing in a single line"
   ]
  },
  {
   "cell_type": "code",
   "execution_count": 38,
   "id": "12f20b1d-9404-43b7-8390-d87bcaa958f0",
   "metadata": {},
   "outputs": [
    {
     "data": {
      "text/plain": [
       "30"
      ]
     },
     "execution_count": 38,
     "metadata": {},
     "output_type": "execute_result"
    }
   ],
   "source": [
    "def add(a):\n",
    "    return a+10\n",
    "add(20)"
   ]
  },
  {
   "cell_type": "markdown",
   "id": "68e280bf-17a8-4f7e-9df7-90990b75698c",
   "metadata": {},
   "source": [
    "**Case 1: Function with one argument**"
   ]
  },
  {
   "cell_type": "code",
   "execution_count": null,
   "id": "93c91953-eb60-4cda-a612-0feb7baf2995",
   "metadata": {},
   "outputs": [],
   "source": [
    "# What is the function name : add\n",
    "# What is the argument: a\n",
    "# What is the output:a+10\n",
    "#<function_name>=lambda <arg>:output"
   ]
  },
  {
   "cell_type": "code",
   "execution_count": 42,
   "id": "abf59e84-ba8d-4285-a01d-5e8b28b45e5c",
   "metadata": {},
   "outputs": [
    {
     "data": {
      "text/plain": [
       "60"
      ]
     },
     "execution_count": 42,
     "metadata": {},
     "output_type": "execute_result"
    }
   ],
   "source": [
    "add=lambda a:a+10\n",
    "add(50)"
   ]
  },
  {
   "cell_type": "markdown",
   "id": "d72f9dab-f85a-420a-811a-5d697188614d",
   "metadata": {},
   "source": [
    "**Case 2:Multiple arguments**"
   ]
  },
  {
   "cell_type": "code",
   "execution_count": null,
   "id": "c1a9c543-9f13-4f94-ab60-a93748d3631c",
   "metadata": {},
   "outputs": [],
   "source": [
    "#<function_name>=lambda <args>:output"
   ]
  },
  {
   "cell_type": "code",
   "execution_count": 43,
   "id": "c70a139c-fdcf-4e96-beec-ba1fbde4e9a1",
   "metadata": {},
   "outputs": [
    {
     "data": {
      "text/plain": [
       "20.0"
      ]
     },
     "execution_count": 43,
     "metadata": {},
     "output_type": "execute_result"
    }
   ],
   "source": [
    "def avg(x,y,z):\n",
    "    return (x+y+z)/3\n",
    "avg(10,20,30)"
   ]
  },
  {
   "cell_type": "code",
   "execution_count": 46,
   "id": "5291cad3-870e-4ac9-9082-392cb01c28ac",
   "metadata": {},
   "outputs": [
    {
     "data": {
      "text/plain": [
       "20"
      ]
     },
     "execution_count": 46,
     "metadata": {},
     "output_type": "execute_result"
    }
   ],
   "source": [
    "avg=lambda x,y,z:(x+y+z)/3\n",
    "round(avg(10,20,30))"
   ]
  },
  {
   "cell_type": "markdown",
   "id": "dd1e4b2d-bf0e-4990-be7c-7738af42cf5a",
   "metadata": {},
   "source": [
    "**Case 2:if-else**"
   ]
  },
  {
   "cell_type": "code",
   "execution_count": null,
   "id": "ef235c29-c441-42c1-9120-5fe22b10b7b6",
   "metadata": {},
   "outputs": [],
   "source": [
    "#<function_name>=lambda <args>:<if output> <if cond> else <else output>"
   ]
  },
  {
   "cell_type": "code",
   "execution_count": 48,
   "id": "5102f755-a8f2-4edd-8236-5b251b5b41c6",
   "metadata": {},
   "outputs": [
    {
     "data": {
      "text/plain": [
       "'odd'"
      ]
     },
     "execution_count": 48,
     "metadata": {},
     "output_type": "execute_result"
    }
   ],
   "source": [
    "def even_odd(num):\n",
    "    if num%2==0:\n",
    "        return 'even'\n",
    "    else:\n",
    "        return 'odd'\n",
    "even_odd(13)"
   ]
  },
  {
   "cell_type": "code",
   "execution_count": 49,
   "id": "050bdd25-cf8b-4172-9ad9-1134801e2319",
   "metadata": {},
   "outputs": [
    {
     "data": {
      "text/plain": [
       "'even'"
      ]
     },
     "execution_count": 49,
     "metadata": {},
     "output_type": "execute_result"
    }
   ],
   "source": [
    "even_odd=lambda num:'even' if num%2==0 else 'odd'\n",
    "even_odd(100)"
   ]
  },
  {
   "cell_type": "code",
   "execution_count": null,
   "id": "66b52fbc-d747-4c5d-adb6-bc890ed36522",
   "metadata": {},
   "outputs": [],
   "source": [
    "#input=['hyd','bengaluru','mumbai','chennai']\n",
    "#output=['Hyd','Bengaluru','Mumbai','Chennai']\n"
   ]
  },
  {
   "cell_type": "code",
   "execution_count": 1,
   "id": "f33f0194-0aea-4268-9ed1-814711a87089",
   "metadata": {},
   "outputs": [
    {
     "data": {
      "text/plain": [
       "<function __main__.<lambda>(i)>"
      ]
     },
     "execution_count": 1,
     "metadata": {},
     "output_type": "execute_result"
    }
   ],
   "source": [
    "#Step 1: Create a function\n",
    "Input=['hyd','bengaluru','mumbai','chennai']\n",
    "lambda i:i.title()\n"
   ]
  },
  {
   "cell_type": "code",
   "execution_count": 52,
   "id": "92246f75-196b-40b3-a881-349c82cc1aad",
   "metadata": {},
   "outputs": [
    {
     "data": {
      "text/plain": [
       "(<function __main__.<lambda>(i)>, ['hyd', 'bengaluru', 'mumbai', 'chennai'])"
      ]
     },
     "execution_count": 52,
     "metadata": {},
     "output_type": "execute_result"
    }
   ],
   "source": [
    "#Step 2: this arg needs input\n",
    "#inputs are available in a list:Input\n",
    "# lambda <arg>:<output>,<list>\n",
    "Input=['hyd','bengaluru','mumbai','chennai']\n",
    "lambda i:i.title(),Input"
   ]
  },
  {
   "cell_type": "markdown",
   "id": "5ba9824c-12a3-4e0a-9ff0-7e6adceca83f",
   "metadata": {},
   "source": [
    "**Mapping map()**"
   ]
  },
  {
   "cell_type": "code",
   "execution_count": 54,
   "id": "b3d50c3e-56c1-4b51-b901-e3a898dcc9df",
   "metadata": {},
   "outputs": [
    {
     "data": {
      "text/plain": [
       "['Hyd', 'Bengaluru', 'Mumbai', 'Chennai']"
      ]
     },
     "execution_count": 54,
     "metadata": {},
     "output_type": "execute_result"
    }
   ],
   "source": [
    "#Step 3:map the function and list\n",
    "#map(<functtion>,<list>)\n",
    "Input=['hyd','bengaluru','mumbai','chennai']\n",
    "map(lambda i:i.title(),Input)"
   ]
  },
  {
   "cell_type": "code",
   "execution_count": 55,
   "id": "017aa0b6-a8c1-408f-bc01-25d9606de3d2",
   "metadata": {},
   "outputs": [
    {
     "data": {
      "text/plain": [
       "['Hyd', 'Bengaluru', 'Mumbai', 'Chennai']"
      ]
     },
     "execution_count": 55,
     "metadata": {},
     "output_type": "execute_result"
    }
   ],
   "source": [
    "#Step 4:list function\n",
    "Input=['hyd','bengaluru','mumbai','chennai']\n",
    "list(map(lambda i:i.title(),Input))"
   ]
  },
  {
   "cell_type": "code",
   "execution_count": null,
   "id": "df072285-4e16-437a-a07b-ce49fe448069",
   "metadata": {},
   "outputs": [],
   "source": [
    "#input=['hyd','bengaluru','mumbai','chennai']\n",
    "#output=['HYD','BENGALURU','MUMBAI','CHENNAI']"
   ]
  },
  {
   "cell_type": "code",
   "execution_count": 56,
   "id": "69e3714c-55bb-4827-b583-41cd3a105e49",
   "metadata": {},
   "outputs": [
    {
     "data": {
      "text/plain": [
       "['HYD', 'BENGALURU', 'MUMBAI', 'CHENNAI']"
      ]
     },
     "execution_count": 56,
     "metadata": {},
     "output_type": "execute_result"
    }
   ],
   "source": [
    "Input=['hyd','bengaluru','mumbai','chennai']\n",
    "list(map(lambda i:i.upper(),Input))"
   ]
  },
  {
   "cell_type": "code",
   "execution_count": null,
   "id": "3a0ce2a9-90a9-42b6-8c15-5abf7437e14d",
   "metadata": {},
   "outputs": [],
   "source": [
    "# input=['hyd','bengaluru','mum#bai','chen#nai']\n",
    "# output=['mum#bai','chen#nai']\n"
   ]
  },
  {
   "cell_type": "markdown",
   "id": "655ced85-8d44-40e0-99d1-7f34291f9a49",
   "metadata": {},
   "source": [
    "**filter()**"
   ]
  },
  {
   "cell_type": "code",
   "execution_count": 64,
   "id": "de053737-bc7b-4d22-bab1-4d9a15459bac",
   "metadata": {},
   "outputs": [
    {
     "data": {
      "text/plain": [
       "['mum#bai', 'chen#nai']"
      ]
     },
     "execution_count": 64,
     "metadata": {},
     "output_type": "execute_result"
    }
   ],
   "source": [
    "#No need of if \n",
    "#filter() for conditions no need of map()\n",
    "Input=['hyd','bengaluru','mum#bai','chen#nai']\n",
    "list(filter(lambda i:'#' in i,Input))"
   ]
  },
  {
   "cell_type": "markdown",
   "id": "2c3baf20-5780-40f6-a400-76fefdc2628d",
   "metadata": {},
   "source": [
    "**reduce()**"
   ]
  },
  {
   "cell_type": "code",
   "execution_count": 65,
   "id": "d4a2e85e-2561-404a-8648-a36a49275724",
   "metadata": {},
   "outputs": [],
   "source": [
    "num=[i for i in range(1,11)]"
   ]
  },
  {
   "cell_type": "code",
   "execution_count": 66,
   "id": "5fee185a-39a2-48c8-9381-caf7d42d162e",
   "metadata": {},
   "outputs": [
    {
     "name": "stdout",
     "output_type": "stream",
     "text": [
      "55\n"
     ]
    }
   ],
   "source": [
    "sum=0\n",
    "for i in num:\n",
    "    sum=sum+i\n",
    "print(sum)"
   ]
  },
  {
   "cell_type": "code",
   "execution_count": 67,
   "id": "f5b145df-d1fe-4f7b-953a-f1c3d8a9842e",
   "metadata": {},
   "outputs": [
    {
     "data": {
      "text/plain": [
       "55"
      ]
     },
     "execution_count": 67,
     "metadata": {},
     "output_type": "execute_result"
    }
   ],
   "source": [
    "num=[i for i in range(1,11)]\n",
    "sum=0\n",
    "[sum:=sum+i for i in num][-1]"
   ]
  },
  {
   "cell_type": "code",
   "execution_count": 70,
   "id": "9ea46aff-7346-4425-b859-8a355f4fa6ad",
   "metadata": {},
   "outputs": [
    {
     "data": {
      "text/plain": [
       "['GenericAlias',\n",
       " 'RLock',\n",
       " 'WRAPPER_ASSIGNMENTS',\n",
       " 'WRAPPER_UPDATES',\n",
       " '_CacheInfo',\n",
       " '_HashedSeq',\n",
       " '_NOT_FOUND',\n",
       " '__all__',\n",
       " '__builtins__',\n",
       " '__cached__',\n",
       " '__doc__',\n",
       " '__file__',\n",
       " '__loader__',\n",
       " '__name__',\n",
       " '__package__',\n",
       " '__spec__',\n",
       " '_c3_merge',\n",
       " '_c3_mro',\n",
       " '_compose_mro',\n",
       " '_convert',\n",
       " '_find_impl',\n",
       " '_ge_from_gt',\n",
       " '_ge_from_le',\n",
       " '_ge_from_lt',\n",
       " '_gt_from_ge',\n",
       " '_gt_from_le',\n",
       " '_gt_from_lt',\n",
       " '_initial_missing',\n",
       " '_le_from_ge',\n",
       " '_le_from_gt',\n",
       " '_le_from_lt',\n",
       " '_lru_cache_wrapper',\n",
       " '_lt_from_ge',\n",
       " '_lt_from_gt',\n",
       " '_lt_from_le',\n",
       " '_make_key',\n",
       " '_unwrap_partial',\n",
       " '_unwrap_partialmethod',\n",
       " 'cache',\n",
       " 'cached_property',\n",
       " 'cmp_to_key',\n",
       " 'get_cache_token',\n",
       " 'lru_cache',\n",
       " 'namedtuple',\n",
       " 'partial',\n",
       " 'partialmethod',\n",
       " 'recursive_repr',\n",
       " 'reduce',\n",
       " 'singledispatch',\n",
       " 'singledispatchmethod',\n",
       " 'total_ordering',\n",
       " 'update_wrapper',\n",
       " 'wraps']"
      ]
     },
     "execution_count": 70,
     "metadata": {},
     "output_type": "execute_result"
    }
   ],
   "source": [
    "import functools\n",
    "dir(functools)"
   ]
  },
  {
   "cell_type": "code",
   "execution_count": null,
   "id": "1b2cae4c-5a53-4b47-bfd6-89897f93eb4c",
   "metadata": {},
   "outputs": [],
   "source": [
    "#map(lambda arg:<output>,<list>)\n",
    "#filter(map(lambda arg:(<ccondition output>,<list>)))\n",
    "#reduce(lambda arg:(<output>,<list>)"
   ]
  },
  {
   "cell_type": "code",
   "execution_count": 72,
   "id": "12565adb-351d-4775-8ba8-79557cf295eb",
   "metadata": {},
   "outputs": [
    {
     "data": {
      "text/plain": [
       "55"
      ]
     },
     "execution_count": 72,
     "metadata": {},
     "output_type": "execute_result"
    }
   ],
   "source": [
    "from functools import reduce\n",
    "num=[i for i in range(1,11)]\n",
    "reduce(lambda i,sum:sum+i,num)"
   ]
  },
  {
   "cell_type": "code",
   "execution_count": null,
   "id": "ca865850-6d87-4788-ad69-7e91f7d490bd",
   "metadata": {},
   "outputs": [],
   "source": []
  }
 ],
 "metadata": {
  "kernelspec": {
   "display_name": "Python [conda env:base] *",
   "language": "python",
   "name": "conda-base-py"
  },
  "language_info": {
   "codemirror_mode": {
    "name": "ipython",
    "version": 3
   },
   "file_extension": ".py",
   "mimetype": "text/x-python",
   "name": "python",
   "nbconvert_exporter": "python",
   "pygments_lexer": "ipython3",
   "version": "3.13.5"
  }
 },
 "nbformat": 4,
 "nbformat_minor": 5
}
