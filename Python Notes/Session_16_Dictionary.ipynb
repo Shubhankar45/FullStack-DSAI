{
 "cells": [
  {
   "cell_type": "markdown",
   "id": "36a9d5b4-07cf-460b-b000-fef44d748d21",
   "metadata": {},
   "source": [
    "**Mutable-Immutable**"
   ]
  },
  {
   "cell_type": "markdown",
   "id": "8dbb3086-cc42-4cac-9a50-723921cf4166",
   "metadata": {},
   "source": [
    "- We need to change the value of a specific key then its consider as mutable."
   ]
  },
  {
   "cell_type": "code",
   "execution_count": 2,
   "id": "f742a172-cbf7-4b5b-86a4-310685a64052",
   "metadata": {},
   "outputs": [
    {
     "data": {
      "text/plain": [
       "{'Ramesh': 25}"
      ]
     },
     "execution_count": 2,
     "metadata": {},
     "output_type": "execute_result"
    }
   ],
   "source": [
    "d={'Ramesh':20,'Ramesh':22}\n",
    "d['Ramesh']=25\n",
    "d"
   ]
  },
  {
   "cell_type": "code",
   "execution_count": 3,
   "id": "6dc8127e-3656-439d-9f63-ab3c56b1b0ca",
   "metadata": {},
   "outputs": [
    {
     "data": {
      "text/plain": [
       "{'Ramesh': 25, 'Suresh': 23, 'Mahesh': 22}"
      ]
     },
     "execution_count": 3,
     "metadata": {},
     "output_type": "execute_result"
    }
   ],
   "source": [
    "d={'Ramesh':20,'Suresh':23,'Mahesh':22}\n",
    "d['Ramesh']=25\n",
    "d"
   ]
  },
  {
   "cell_type": "markdown",
   "id": "44f0a1af-6366-4f3b-9137-bb7bd251c5d3",
   "metadata": {},
   "source": [
    "**Slicing**"
   ]
  },
  {
   "cell_type": "code",
   "execution_count": 4,
   "id": "664c655c-efa6-4e0e-9726-6a4848e28f46",
   "metadata": {},
   "outputs": [
    {
     "ename": "KeyError",
     "evalue": "slice(0, 2, None)",
     "output_type": "error",
     "traceback": [
      "\u001b[1;31m---------------------------------------------------------------------------\u001b[0m",
      "\u001b[1;31mKeyError\u001b[0m                                  Traceback (most recent call last)",
      "Cell \u001b[1;32mIn[4], line 2\u001b[0m\n\u001b[0;32m      1\u001b[0m d\u001b[38;5;241m=\u001b[39m{\u001b[38;5;124m'\u001b[39m\u001b[38;5;124mRamesh\u001b[39m\u001b[38;5;124m'\u001b[39m:\u001b[38;5;241m20\u001b[39m,\u001b[38;5;124m'\u001b[39m\u001b[38;5;124mSuresh\u001b[39m\u001b[38;5;124m'\u001b[39m:\u001b[38;5;241m23\u001b[39m,\u001b[38;5;124m'\u001b[39m\u001b[38;5;124mMahesh\u001b[39m\u001b[38;5;124m'\u001b[39m:\u001b[38;5;241m22\u001b[39m}\n\u001b[1;32m----> 2\u001b[0m d[\u001b[38;5;241m0\u001b[39m:\u001b[38;5;241m2\u001b[39m]\n",
      "\u001b[1;31mKeyError\u001b[0m: slice(0, 2, None)"
     ]
    }
   ],
   "source": [
    "d={'Ramesh':20,'Suresh':23,'Mahesh':22}\n",
    "d[0:2]"
   ]
  },
  {
   "cell_type": "markdown",
   "id": "4ec405a9-fbdf-48e6-b9e0-b5453ad8a8f4",
   "metadata": {},
   "source": [
    "- Slicing is not possible because in Dictionary only key-value concept"
   ]
  },
  {
   "cell_type": "code",
   "execution_count": 6,
   "id": "9567f38b-b584-4eca-a6f0-9c17b97b97f7",
   "metadata": {},
   "outputs": [
    {
     "data": {
      "text/plain": [
       "'apple'"
      ]
     },
     "execution_count": 6,
     "metadata": {},
     "output_type": "execute_result"
    }
   ],
   "source": [
    "d={'fruites':'apple'}\n",
    "d['fruites']"
   ]
  },
  {
   "cell_type": "code",
   "execution_count": 9,
   "id": "d9439415-0bd7-41ed-9bf8-4c255cd8fd58",
   "metadata": {},
   "outputs": [
    {
     "data": {
      "text/plain": [
       "('apple', 'cherry')"
      ]
     },
     "execution_count": 9,
     "metadata": {},
     "output_type": "execute_result"
    }
   ],
   "source": [
    "d={'fruites':['apple','cherry']}\n",
    "d['fruites'][0]"
   ]
  },
  {
   "cell_type": "code",
   "execution_count": 10,
   "id": "4c4a5ede-0401-4f29-9c48-833b8e32f71f",
   "metadata": {},
   "outputs": [
    {
     "data": {
      "text/plain": [
       "'cherry'"
      ]
     },
     "execution_count": 10,
     "metadata": {},
     "output_type": "execute_result"
    }
   ],
   "source": [
    "d['fruites'][1]"
   ]
  },
  {
   "cell_type": "code",
   "execution_count": 11,
   "id": "8d46ab1f-0e27-4d68-9451-016d013a0ea6",
   "metadata": {},
   "outputs": [
    {
     "data": {
      "text/plain": [
       "2"
      ]
     },
     "execution_count": 11,
     "metadata": {},
     "output_type": "execute_result"
    }
   ],
   "source": [
    "d={'fruites':['apple','cherry','banana'],'Cost':[20,5,2]}\n",
    "d['Cost'][2]"
   ]
  },
  {
   "cell_type": "code",
   "execution_count": 30,
   "id": "476e9afc-deb1-453c-98a0-df81b1457cea",
   "metadata": {},
   "outputs": [
    {
     "data": {
      "text/plain": [
       "'banana'"
      ]
     },
     "execution_count": 30,
     "metadata": {},
     "output_type": "execute_result"
    }
   ],
   "source": [
    "d={'fruites':['apple','cherry','banana'],'Cost':[20,5,2]}\n",
    "\n",
    "l=d['Cost']\n",
    "MIN=min(l)\n",
    "ID=l.index(MIN)\n",
    "d['fruites'][ID]"
   ]
  },
  {
   "cell_type": "code",
   "execution_count": 42,
   "id": "ae5381cc-be88-4aba-bed1-2130de22a230",
   "metadata": {},
   "outputs": [
    {
     "data": {
      "text/plain": [
       "'Cherry'"
      ]
     },
     "execution_count": 42,
     "metadata": {},
     "output_type": "execute_result"
    }
   ],
   "source": [
    "d={'Fruites':[{'items':['Apple','Cherry']}]}\n",
    "d['Fruites'][0]['items'][1]"
   ]
  },
  {
   "cell_type": "code",
   "execution_count": 41,
   "id": "3da6d981-1e6d-4693-bdf3-5fd733850965",
   "metadata": {},
   "outputs": [
    {
     "data": {
      "text/plain": [
       "'Apple'"
      ]
     },
     "execution_count": 41,
     "metadata": {},
     "output_type": "execute_result"
    }
   ],
   "source": [
    "d={'Fruites':{'items':'Apple'}}\n",
    "d['Fruites']['items']"
   ]
  },
  {
   "cell_type": "code",
   "execution_count": 61,
   "id": "34577ae4-8e19-45f3-89ac-5755b2ce6766",
   "metadata": {},
   "outputs": [
    {
     "data": {
      "text/plain": [
       "'viky'"
      ]
     },
     "execution_count": 61,
     "metadata": {},
     "output_type": "execute_result"
    }
   ],
   "source": [
    "d={'Fruites':[{'items':[\n",
    "                        {'orange':\n",
    "                         [\n",
    "                             {'Nagpur':\n",
    "                           [\n",
    "                               {'MH':\n",
    "                             [{'king':\n",
    "                               [{'shivaji':\n",
    "                                 [{'son':\n",
    "                                   [{'shambaji':\n",
    "                                     [{'chava':'viky'}]}]}\n",
    "                                 ]}]}]}]}\n",
    "                         ]}\n",
    "                       ]}\n",
    "             ]}\n",
    "d['Fruites'][0]['items'][0]['orange'][0]['Nagpur'][0]['MH'][0]['king'][0]['shivaji'][0]['son'][0]['shambaji'][0]['chava']"
   ]
  },
  {
   "cell_type": "markdown",
   "id": "9747e5e6-c02f-45ca-98a9-3391fabcd9ce",
   "metadata": {},
   "source": [
    "**Methods**"
   ]
  },
  {
   "cell_type": "code",
   "execution_count": 62,
   "id": "ab601704-7df1-4250-aaa8-267142b00474",
   "metadata": {},
   "outputs": [
    {
     "data": {
      "text/plain": [
       "['__class__',\n",
       " '__class_getitem__',\n",
       " '__contains__',\n",
       " '__delattr__',\n",
       " '__delitem__',\n",
       " '__dir__',\n",
       " '__doc__',\n",
       " '__eq__',\n",
       " '__format__',\n",
       " '__ge__',\n",
       " '__getattribute__',\n",
       " '__getitem__',\n",
       " '__getstate__',\n",
       " '__gt__',\n",
       " '__hash__',\n",
       " '__init__',\n",
       " '__init_subclass__',\n",
       " '__ior__',\n",
       " '__iter__',\n",
       " '__le__',\n",
       " '__len__',\n",
       " '__lt__',\n",
       " '__ne__',\n",
       " '__new__',\n",
       " '__or__',\n",
       " '__reduce__',\n",
       " '__reduce_ex__',\n",
       " '__repr__',\n",
       " '__reversed__',\n",
       " '__ror__',\n",
       " '__setattr__',\n",
       " '__setitem__',\n",
       " '__sizeof__',\n",
       " '__str__',\n",
       " '__subclasshook__',\n",
       " 'clear',\n",
       " 'copy',\n",
       " 'fromkeys',\n",
       " 'get',\n",
       " 'items',\n",
       " 'keys',\n",
       " 'pop',\n",
       " 'popitem',\n",
       " 'setdefault',\n",
       " 'update',\n",
       " 'values']"
      ]
     },
     "execution_count": 62,
     "metadata": {},
     "output_type": "execute_result"
    }
   ],
   "source": [
    "dir({})"
   ]
  },
  {
   "cell_type": "code",
   "execution_count": null,
   "id": "2360cc54-5516-4a70-bbe6-cc871511889f",
   "metadata": {},
   "outputs": [],
   "source": []
  }
 ],
 "metadata": {
  "kernelspec": {
   "display_name": "Python [conda env:base] *",
   "language": "python",
   "name": "conda-base-py"
  },
  "language_info": {
   "codemirror_mode": {
    "name": "ipython",
    "version": 3
   },
   "file_extension": ".py",
   "mimetype": "text/x-python",
   "name": "python",
   "nbconvert_exporter": "python",
   "pygments_lexer": "ipython3",
   "version": "3.13.5"
  }
 },
 "nbformat": 4,
 "nbformat_minor": 5
}
