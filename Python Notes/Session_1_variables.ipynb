{
 "cells": [
  {
   "cell_type": "code",
   "execution_count": 1,
   "id": "f6c391a0-b2e1-431e-91b4-799164b1b1a5",
   "metadata": {},
   "outputs": [
    {
     "ename": "SyntaxError",
     "evalue": "invalid syntax (4021428653.py, line 1)",
     "output_type": "error",
     "traceback": [
      "\u001b[1;36m  Cell \u001b[1;32mIn[1], line 1\u001b[1;36m\u001b[0m\n\u001b[1;33m    i like python\u001b[0m\n\u001b[1;37m      ^\u001b[0m\n\u001b[1;31mSyntaxError\u001b[0m\u001b[1;31m:\u001b[0m invalid syntax\n"
     ]
    }
   ],
   "source": [
    "i like python  "
   ]
  },
  {
   "cell_type": "code",
   "execution_count": 3,
   "id": "d9be6c18-97a8-4d2d-a7a1-80f88af37fcb",
   "metadata": {},
   "outputs": [],
   "source": [
    "# i like python  comment"
   ]
  },
  {
   "cell_type": "markdown",
   "id": "69d3d0d4-718b-41da-96cb-f30be44ba801",
   "metadata": {},
   "source": [
    "today im learning python\n",
    "python is very easy"
   ]
  },
  {
   "cell_type": "markdown",
   "id": "7aede184-50b3-4323-bad7-2dc85124cea5",
   "metadata": {},
   "source": [
    "# python  esc+m"
   ]
  },
  {
   "cell_type": "markdown",
   "id": "814264a0-b320-4b3a-8b65-22d1e2908940",
   "metadata": {},
   "source": [
    "## python"
   ]
  },
  {
   "cell_type": "markdown",
   "id": "2665a91e-d934-47c8-bb07-d20068d7b489",
   "metadata": {},
   "source": [
    "### python"
   ]
  },
  {
   "cell_type": "markdown",
   "id": "35dddd43-8b43-4ee4-a6db-a3c412581941",
   "metadata": {},
   "source": [
    "## python"
   ]
  },
  {
   "cell_type": "markdown",
   "id": "b62abddf-37cf-4a91-88b9-3320d5797d00",
   "metadata": {},
   "source": [
    "- today im learning python\n",
    "\n",
    "- python is good\n",
    "\n",
    "- python is easy\n",
    "\n",
    "- python is excellent"
   ]
  },
  {
   "cell_type": "code",
   "execution_count": null,
   "id": "e08572f4-5c90-40aa-89f9-34a35463eddc",
   "metadata": {},
   "outputs": [],
   "source": [
    "a=10\n",
    "b=20\n",
    "c=a+b\n",
    "c\n",
    "\n",
    "# esc+y   markdown to code mode\n",
    "# esc+m   code to markdown mode"
   ]
  },
  {
   "cell_type": "markdown",
   "id": "5bc4058c-94f3-4def-b713-6cfc09309a1f",
   "metadata": {},
   "source": [
    "## Variables"
   ]
  },
  {
   "cell_type": "markdown",
   "id": "01e28f0b-6984-476c-a043-55473442b02f",
   "metadata": {},
   "source": [
    "- store the value\n",
    "\n",
    "- change the value\n"
   ]
  },
  {
   "cell_type": "code",
   "execution_count": 19,
   "id": "b9c55339-b266-4a10-8160-f4f17f622070",
   "metadata": {},
   "outputs": [],
   "source": [
    "number=100 \n",
    "# 100 is a value stored in a variable called number"
   ]
  },
  {
   "cell_type": "code",
   "execution_count": 21,
   "id": "b22ebee6-5d29-49a4-bdd4-e8099778ca34",
   "metadata": {},
   "outputs": [
    {
     "name": "stdout",
     "output_type": "stream",
     "text": [
      "100\n"
     ]
    }
   ],
   "source": [
    "print(number)"
   ]
  },
  {
   "cell_type": "code",
   "execution_count": 23,
   "id": "5f71a014-8890-4bac-b7d3-71caa383ea4f",
   "metadata": {},
   "outputs": [
    {
     "data": {
      "text/plain": [
       "200"
      ]
     },
     "execution_count": 23,
     "metadata": {},
     "output_type": "execute_result"
    }
   ],
   "source": [
    "number=200\n",
    "number"
   ]
  },
  {
   "cell_type": "code",
   "execution_count": 25,
   "id": "ca1519e8-b905-4e11-8511-861a9ebed692",
   "metadata": {},
   "outputs": [
    {
     "name": "stdout",
     "output_type": "stream",
     "text": [
      "200\n"
     ]
    }
   ],
   "source": [
    "number=200\n",
    "print(number)"
   ]
  },
  {
   "cell_type": "code",
   "execution_count": 27,
   "id": "72c8bea8-61b7-4970-a2af-2acacdb2d6e5",
   "metadata": {},
   "outputs": [
    {
     "data": {
      "text/plain": [
       "300"
      ]
     },
     "execution_count": 27,
     "metadata": {},
     "output_type": "execute_result"
    }
   ],
   "source": [
    "number1=200\n",
    "number2=300\n",
    "number1\n",
    "number2"
   ]
  },
  {
   "cell_type": "code",
   "execution_count": 29,
   "id": "b2dacb16-feb7-4038-842e-50a1a8374d35",
   "metadata": {},
   "outputs": [
    {
     "name": "stdout",
     "output_type": "stream",
     "text": [
      "200\n",
      "300\n"
     ]
    }
   ],
   "source": [
    "number1=200\n",
    "number2=300\n",
    "print(number1)\n",
    "print(number2)"
   ]
  },
  {
   "cell_type": "code",
   "execution_count": 31,
   "id": "6d123835-35c9-4a6c-8d28-c6b7b073aa5f",
   "metadata": {},
   "outputs": [],
   "source": [
    "number=100\n",
    "NUMBER=200"
   ]
  },
  {
   "cell_type": "code",
   "execution_count": 33,
   "id": "665acc9e-d6f7-46d1-b8b3-b849948747d8",
   "metadata": {},
   "outputs": [
    {
     "data": {
      "text/plain": [
       "100"
      ]
     },
     "execution_count": 33,
     "metadata": {},
     "output_type": "execute_result"
    }
   ],
   "source": [
    "number"
   ]
  },
  {
   "cell_type": "code",
   "execution_count": 35,
   "id": "0a3d6da1-1e63-4502-ac25-e2a219b18a2c",
   "metadata": {},
   "outputs": [
    {
     "data": {
      "text/plain": [
       "200"
      ]
     },
     "execution_count": 35,
     "metadata": {},
     "output_type": "execute_result"
    }
   ],
   "source": [
    "NUMBER"
   ]
  },
  {
   "cell_type": "code",
   "execution_count": 37,
   "id": "22f790b9-b4b5-4a06-b26e-c1e5c74f1efe",
   "metadata": {},
   "outputs": [
    {
     "data": {
      "text/plain": [
       "400"
      ]
     },
     "execution_count": 37,
     "metadata": {},
     "output_type": "execute_result"
    }
   ],
   "source": [
    "number123=400\n",
    "number123"
   ]
  },
  {
   "cell_type": "code",
   "execution_count": null,
   "id": "18afe0e5-d891-4900-a7bb-59db451233a7",
   "metadata": {},
   "outputs": [],
   "source": [
    "number   # small \n",
    "NUMBER   # capital \n",
    "number123 # numbers as suffix\n"
   ]
  },
  {
   "cell_type": "code",
   "execution_count": 39,
   "id": "1c476682-9316-4076-b6e5-4ef19de73940",
   "metadata": {},
   "outputs": [
    {
     "ename": "SyntaxError",
     "evalue": "invalid decimal literal (3682356261.py, line 1)",
     "output_type": "error",
     "traceback": [
      "\u001b[1;36m  Cell \u001b[1;32mIn[39], line 1\u001b[1;36m\u001b[0m\n\u001b[1;33m    123number=500\u001b[0m\n\u001b[1;37m      ^\u001b[0m\n\u001b[1;31mSyntaxError\u001b[0m\u001b[1;31m:\u001b[0m invalid decimal literal\n"
     ]
    }
   ],
   "source": [
    "123number=500"
   ]
  },
  {
   "cell_type": "code",
   "execution_count": 43,
   "id": "664c3c05-b758-414b-aaeb-eff4ac7a6147",
   "metadata": {},
   "outputs": [
    {
     "ename": "TypeError",
     "evalue": "unsupported operand type(s) for @=: 'int' and 'int'",
     "output_type": "error",
     "traceback": [
      "\u001b[1;31m---------------------------------------------------------------------------\u001b[0m",
      "\u001b[1;31mTypeError\u001b[0m                                 Traceback (most recent call last)",
      "Cell \u001b[1;32mIn[43], line 1\u001b[0m\n\u001b[1;32m----> 1\u001b[0m number\u001b[38;5;241m@\u001b[39m\u001b[38;5;241m=\u001b[39m\u001b[38;5;241m600\u001b[39m\n",
      "\u001b[1;31mTypeError\u001b[0m: unsupported operand type(s) for @=: 'int' and 'int'"
     ]
    }
   ],
   "source": [
    "number@=600"
   ]
  },
  {
   "cell_type": "code",
   "execution_count": null,
   "id": "e7fff52d-be5c-4fc1-a084-0e1eff4cd04e",
   "metadata": {},
   "outputs": [],
   "source": [
    "number   # w\n",
    "NUMBER   # w\n",
    "number123 # w\n",
    "123number # f\n",
    "number@ # f\n"
   ]
  },
  {
   "cell_type": "code",
   "execution_count": null,
   "id": "ee2dd198-4a3b-4816-9b0f-3714c5182b17",
   "metadata": {},
   "outputs": [],
   "source": [
    "number\n",
    "NUMBER\n",
    "number123\n"
   ]
  },
  {
   "cell_type": "code",
   "execution_count": 45,
   "id": "28998106-5c7d-4efc-bd6a-c22c97f77d1a",
   "metadata": {},
   "outputs": [
    {
     "ename": "SyntaxError",
     "evalue": "invalid syntax (3564362462.py, line 1)",
     "output_type": "error",
     "traceback": [
      "\u001b[1;36m  Cell \u001b[1;32mIn[45], line 1\u001b[1;36m\u001b[0m\n\u001b[1;33m    number one=600\u001b[0m\n\u001b[1;37m           ^\u001b[0m\n\u001b[1;31mSyntaxError\u001b[0m\u001b[1;31m:\u001b[0m invalid syntax\n"
     ]
    }
   ],
   "source": [
    "number one=600\n"
   ]
  },
  {
   "cell_type": "code",
   "execution_count": 47,
   "id": "451c66fc-bc0b-4c30-8072-3a0c25968701",
   "metadata": {},
   "outputs": [
    {
     "data": {
      "text/plain": [
       "800"
      ]
     },
     "execution_count": 47,
     "metadata": {},
     "output_type": "execute_result"
    }
   ],
   "source": [
    "number_one=800\n",
    "number_one"
   ]
  },
  {
   "cell_type": "code",
   "execution_count": null,
   "id": "ba30fa9f-f79b-4190-837c-2a9a270f26d5",
   "metadata": {},
   "outputs": [],
   "source": [
    "areaoftraingle=100  # w\n",
    "area_of_traingle=200 # w\n",
    "area of traingle=300 # fail"
   ]
  },
  {
   "cell_type": "code",
   "execution_count": null,
   "id": "c2f8e3d0-51e0-41d4-8659-15ce41e1b73a",
   "metadata": {},
   "outputs": [],
   "source": [
    "number=100  # w\n",
    "Number=200 # w\n",
    "NUMBER=300 # w\n",
    "number one=400 # f\n",
    "number_one=500 # w\n",
    "_=600 # w\n",
    "number@=700 # f\n",
    "if=800 # f\n",
    "else=900 # f\n"
   ]
  },
  {
   "cell_type": "code",
   "execution_count": 49,
   "id": "ce8e00b8-00ee-400a-9aec-cb2eedddd7c5",
   "metadata": {},
   "outputs": [
    {
     "name": "stdout",
     "output_type": "stream",
     "text": [
      "100\n"
     ]
    }
   ],
   "source": [
    "print(100)"
   ]
  },
  {
   "cell_type": "code",
   "execution_count": 53,
   "id": "66e655d6-8c23-4c0f-b8af-5d0c14c14e23",
   "metadata": {},
   "outputs": [
    {
     "ename": "SyntaxError",
     "evalue": "cannot assign to function call here. Maybe you meant '==' instead of '='? (2408402598.py, line 1)",
     "output_type": "error",
     "traceback": [
      "\u001b[1;36m  Cell \u001b[1;32mIn[53], line 1\u001b[1;36m\u001b[0m\n\u001b[1;33m    print()=100\u001b[0m\n\u001b[1;37m    ^\u001b[0m\n\u001b[1;31mSyntaxError\u001b[0m\u001b[1;31m:\u001b[0m cannot assign to function call here. Maybe you meant '==' instead of '='?\n"
     ]
    }
   ],
   "source": [
    "print()=100"
   ]
  },
  {
   "cell_type": "markdown",
   "id": "e21a7e53-9ba9-459f-aef6-d06a0e3fb97d",
   "metadata": {},
   "source": [
    "- Variables are case sensitive\n",
    "\n",
    "    - number and NUMBER\n",
    "\n",
    "- Variable can be capital and small letters\n",
    "\n",
    "- numbers as starting does not allow as variable\n",
    "\n",
    "    - 123number\n",
    "\n",
    "- Varibles does not include spl charcters\n",
    "\n",
    "    - number@\n",
    "\n",
    "- keywords or reserved words looks like green also not allowed as varaible\n",
    "\n",
    "    - ex: if else for True False elif def etc"
   ]
  },
  {
   "cell_type": "code",
   "execution_count": 1,
   "id": "e024ea6a-ba01-481b-8637-073d738f4ea6",
   "metadata": {},
   "outputs": [
    {
     "name": "stdout",
     "output_type": "stream",
     "text": [
      "100\n"
     ]
    }
   ],
   "source": [
    "num=100\n",
    "print(num)"
   ]
  },
  {
   "cell_type": "code",
   "execution_count": 5,
   "id": "9863d6ef-98cc-4b46-8d79-68df45e0003b",
   "metadata": {},
   "outputs": [
    {
     "data": {
      "text/plain": [
       "int"
      ]
     },
     "execution_count": 5,
     "metadata": {},
     "output_type": "execute_result"
    }
   ],
   "source": [
    "type(num)"
   ]
  },
  {
   "cell_type": "code",
   "execution_count": 7,
   "id": "f370ba13-e9df-42fe-b3ef-7c6bddf18abd",
   "metadata": {},
   "outputs": [
    {
     "data": {
      "text/plain": [
       "100"
      ]
     },
     "execution_count": 7,
     "metadata": {},
     "output_type": "execute_result"
    }
   ],
   "source": [
    "sum=100\n",
    "sum   # dont use \n",
    "\n",
    "# sum use case is different"
   ]
  },
  {
   "cell_type": "code",
   "execution_count": 1,
   "id": "74513f52-f69b-4ac1-9156-36575a50d6c1",
   "metadata": {},
   "outputs": [
    {
     "data": {
      "text/plain": [
       "300"
      ]
     },
     "execution_count": 1,
     "metadata": {},
     "output_type": "execute_result"
    }
   ],
   "source": [
    "sum([100,200])"
   ]
  },
  {
   "cell_type": "markdown",
   "id": "cdf0b8ab-6e72-403b-aafb-d3df2090179a",
   "metadata": {},
   "source": [
    "**variable should be black color**"
   ]
  },
  {
   "cell_type": "code",
   "execution_count": null,
   "id": "73a4ef04-0c9a-45c6-be09-d8737c7d1bd1",
   "metadata": {},
   "outputs": [],
   "source": [
    "Sum=300  # correct way\n",
    "sum=400  # wrong way"
   ]
  },
  {
   "cell_type": "code",
   "execution_count": null,
   "id": "8a64769c-c529-41dc-bb8a-2451241b7e13",
   "metadata": {},
   "outputs": [],
   "source": [
    "max=500  # wrong way it will work\n",
    "Max=500  # correct way"
   ]
  },
  {
   "cell_type": "code",
   "execution_count": 4,
   "id": "bc28c068-b432-424b-bb2d-2698cdf5d6cc",
   "metadata": {},
   "outputs": [
    {
     "data": {
      "text/plain": [
       "200"
      ]
     },
     "execution_count": 4,
     "metadata": {},
     "output_type": "execute_result"
    }
   ],
   "source": [
    "max([100,200])"
   ]
  },
  {
   "cell_type": "code",
   "execution_count": null,
   "id": "ffbfe4d5-4493-46e7-a0fc-51480a8f14d3",
   "metadata": {},
   "outputs": [],
   "source": [
    "min=200   # it will work but wrong\n",
    "Min=300"
   ]
  },
  {
   "cell_type": "code",
   "execution_count": 6,
   "id": "d1126ea7-f752-4b3d-bea1-9c6c3b3e16a9",
   "metadata": {},
   "outputs": [
    {
     "data": {
      "text/plain": [
       "100"
      ]
     },
     "execution_count": 6,
     "metadata": {},
     "output_type": "execute_result"
    }
   ],
   "source": [
    "min([100,200])"
   ]
  },
  {
   "cell_type": "code",
   "execution_count": null,
   "id": "d66335ee-af74-4ffa-b992-4281796deadc",
   "metadata": {},
   "outputs": [],
   "source": [
    "print([100,200])   # print \n",
    "type([100,200])    # type list\n",
    "sum([100,200])     # 300\n",
    "max([100,200])     # 200\n",
    "min([100,200])     # 100\n",
    "len([100,20])      # 2\n",
    "\n",
    "\n",
    "# sum=\n",
    "# print=\n",
    "# max="
   ]
  },
  {
   "cell_type": "code",
   "execution_count": null,
   "id": "fa72b643-773e-446e-9520-eafcbb93ac34",
   "metadata": {},
   "outputs": [],
   "source": [
    "number  # w\n",
    "NUmber  # w\n",
    "NUMBER  # W\n",
    "number123 # w\n",
    "number_one # w\n",
    "number one # f\n",
    "number@ # f\n",
    "123number # f\n",
    "if # f\n",
    "else # f\n",
    "max  # works but not goo\n",
    "min  # works but not good \n",
    "\n",
    "tomorrow we have class at same time\n"
   ]
  },
  {
   "cell_type": "code",
   "execution_count": 12,
   "id": "5e34070c-f216-4a7f-ae13-304e3a782072",
   "metadata": {},
   "outputs": [],
   "source": [
    "number=300"
   ]
  },
  {
   "cell_type": "code",
   "execution_count": null,
   "id": "af5665e5-f43a-41a1-a418-7bd5216160e9",
   "metadata": {},
   "outputs": [],
   "source": []
  }
 ],
 "metadata": {
  "kernelspec": {
   "display_name": "Python [conda env:base] *",
   "language": "python",
   "name": "conda-base-py"
  },
  "language_info": {
   "codemirror_mode": {
    "name": "ipython",
    "version": 3
   },
   "file_extension": ".py",
   "mimetype": "text/x-python",
   "name": "python",
   "nbconvert_exporter": "python",
   "pygments_lexer": "ipython3",
   "version": "3.12.7"
  }
 },
 "nbformat": 4,
 "nbformat_minor": 5
}
