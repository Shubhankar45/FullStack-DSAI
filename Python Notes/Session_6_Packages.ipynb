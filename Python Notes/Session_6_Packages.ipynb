{
 "cells": [
  {
   "cell_type": "code",
   "execution_count": null,
   "id": "82214f49-2437-412b-9656-620360799142",
   "metadata": {},
   "outputs": [],
   "source": [
    "Ramesh is the very good student\n",
    "he developed a python code of additon\n",
    "a=10\n",
    "b=20\n",
    "c=a+b\n",
    "c\n",
    "\n",
    "wow this code is working\n",
    "this addition code no one implemented\n",
    "charity === \n",
    "\n",
    "he decided to give the code to the entire world\n",
    "he approached the anaconda organization\n",
    "\n",
    "Anaconda also liked they agreed \n",
    "okay Ramesh we will take your code\n",
    "\n",
    "Ramesh ==== anaconda how can i give my\n",
    "\n",
    "package\n",
    "\n",
    "MOM who ever installed anaconda software\n",
    "my package also should install \n",
    "\n",
    "when anaconda  green color 2-5mins"
   ]
  },
  {
   "cell_type": "code",
   "execution_count": null,
   "id": "091cb935-bb0e-47ff-a1c5-6a1f2516c24e",
   "metadata": {},
   "outputs": [],
   "source": [
    "package:  ADDITION\n",
    "\n",
    "suresh new === anaconda \n",
    "   ADDITION PACKAGE IS AVAILABLE IN SURESH LAPTOP"
   ]
  },
  {
   "cell_type": "code",
   "execution_count": null,
   "id": "77f948b5-4db9-474a-b714-e3bfc54d1eb4",
   "metadata": {},
   "outputs": [],
   "source": [
    "import <package name>\n",
    "import ADDITION"
   ]
  },
  {
   "cell_type": "code",
   "execution_count": 1,
   "id": "754af4d0-a500-4c79-95eb-b51946aa4f59",
   "metadata": {},
   "outputs": [
    {
     "ename": "ModuleNotFoundError",
     "evalue": "No module named 'ADDITION'",
     "output_type": "error",
     "traceback": [
      "\u001b[1;31m---------------------------------------------------------------------------\u001b[0m",
      "\u001b[1;31mModuleNotFoundError\u001b[0m                       Traceback (most recent call last)",
      "Cell \u001b[1;32mIn[1], line 1\u001b[0m\n\u001b[1;32m----> 1\u001b[0m \u001b[38;5;28;01mimport\u001b[39;00m \u001b[38;5;21;01mADDITION\u001b[39;00m\n",
      "\u001b[1;31mModuleNotFoundError\u001b[0m: No module named 'ADDITION'"
     ]
    }
   ],
   "source": [
    "import ADDITION"
   ]
  },
  {
   "cell_type": "code",
   "execution_count": 3,
   "id": "3d362308-c157-48a0-81b5-29e04b6a69bc",
   "metadata": {},
   "outputs": [],
   "source": [
    "# package name: random\n",
    "import random"
   ]
  },
  {
   "cell_type": "code",
   "execution_count": 5,
   "id": "53d17ede-4afa-4955-a3c9-8b0dc8798192",
   "metadata": {},
   "outputs": [],
   "source": [
    "# package name : math\n",
    "import math"
   ]
  },
  {
   "cell_type": "code",
   "execution_count": 7,
   "id": "80ec2f08-38a0-45c0-bffd-29e11d5552da",
   "metadata": {},
   "outputs": [],
   "source": [
    "# package name: time\n",
    "import time"
   ]
  },
  {
   "cell_type": "code",
   "execution_count": 9,
   "id": "bcfeb926-ebbc-4e6a-90ba-fd834be752b5",
   "metadata": {},
   "outputs": [],
   "source": [
    "# package name: cv2         (computer vision)\n",
    "import cv2"
   ]
  },
  {
   "cell_type": "code",
   "execution_count": 11,
   "id": "858e9f2b-73c0-41f7-83b3-855c46cfa7b5",
   "metadata": {},
   "outputs": [],
   "source": [
    "import random"
   ]
  },
  {
   "cell_type": "code",
   "execution_count": 13,
   "id": "1a248984-3e5d-49c5-a447-7f200a8e3a87",
   "metadata": {},
   "outputs": [
    {
     "data": {
      "text/plain": [
       "<module 'random' from 'E:\\\\Anaconda\\\\Lib\\\\random.py'>"
      ]
     },
     "execution_count": 13,
     "metadata": {},
     "output_type": "execute_result"
    }
   ],
   "source": [
    "random"
   ]
  },
  {
   "cell_type": "code",
   "execution_count": null,
   "id": "faea5216-a420-4f87-8343-5c7efe6d0312",
   "metadata": {},
   "outputs": [],
   "source": [
    "#step-1: we got some idea about module or package\n",
    "#step-2: we know how to use :  import <package>"
   ]
  },
  {
   "cell_type": "code",
   "execution_count": null,
   "id": "556f4a45-67d5-4be2-a6d1-f3f7065e59c8",
   "metadata": {},
   "outputs": [],
   "source": [
    "Ramesh is very happy \n",
    "addition \n",
    "subtraction\n",
    "multiplication\n",
    "division\n",
    "\n",
    "anaconda \n",
    "\n",
    "hey Ramesh how you want share again\n",
    "\n",
    "case-1: keep all add sub mul div in one pyhon file\n",
    "case-2: create each seperate file then \n",
    "         keep in a box give to me\n",
    "\n"
   ]
  },
  {
   "cell_type": "code",
   "execution_count": null,
   "id": "ab03801b-2b08-4628-ae33-6f1d28031634",
   "metadata": {},
   "outputs": [],
   "source": [
    "# we liked first one\n",
    "# module \n",
    "# single python file\n",
    "# module: MathFunction   uncle\n",
    "#      add                \n",
    "#      sub\n",
    "#      mul\n",
    "#      div"
   ]
  },
  {
   "cell_type": "code",
   "execution_count": 17,
   "id": "cc84fed0-2fa6-464d-b1bf-d4c3ee96fe7a",
   "metadata": {},
   "outputs": [
    {
     "data": {
      "text/plain": [
       "['BPF',\n",
       " 'LOG4',\n",
       " 'NV_MAGICCONST',\n",
       " 'RECIP_BPF',\n",
       " 'Random',\n",
       " 'SG_MAGICCONST',\n",
       " 'SystemRandom',\n",
       " 'TWOPI',\n",
       " '_ONE',\n",
       " '_Sequence',\n",
       " '__all__',\n",
       " '__builtins__',\n",
       " '__cached__',\n",
       " '__doc__',\n",
       " '__file__',\n",
       " '__loader__',\n",
       " '__name__',\n",
       " '__package__',\n",
       " '__spec__',\n",
       " '_accumulate',\n",
       " '_acos',\n",
       " '_bisect',\n",
       " '_ceil',\n",
       " '_cos',\n",
       " '_e',\n",
       " '_exp',\n",
       " '_fabs',\n",
       " '_floor',\n",
       " '_index',\n",
       " '_inst',\n",
       " '_isfinite',\n",
       " '_lgamma',\n",
       " '_log',\n",
       " '_log2',\n",
       " '_os',\n",
       " '_pi',\n",
       " '_random',\n",
       " '_repeat',\n",
       " '_sha512',\n",
       " '_sin',\n",
       " '_sqrt',\n",
       " '_test',\n",
       " '_test_generator',\n",
       " '_urandom',\n",
       " '_warn',\n",
       " 'betavariate',\n",
       " 'binomialvariate',\n",
       " 'choice',\n",
       " 'choices',\n",
       " 'expovariate',\n",
       " 'gammavariate',\n",
       " 'gauss',\n",
       " 'getrandbits',\n",
       " 'getstate',\n",
       " 'lognormvariate',\n",
       " 'normalvariate',\n",
       " 'paretovariate',\n",
       " 'randbytes',\n",
       " 'randint',\n",
       " 'random',\n",
       " 'randrange',\n",
       " 'sample',\n",
       " 'seed',\n",
       " 'setstate',\n",
       " 'shuffle',\n",
       " 'triangular',\n",
       " 'uniform',\n",
       " 'vonmisesvariate',\n",
       " 'weibullvariate']"
      ]
     },
     "execution_count": 17,
     "metadata": {},
     "output_type": "execute_result"
    }
   ],
   "source": [
    "import random\n",
    "dir(random)"
   ]
  },
  {
   "cell_type": "code",
   "execution_count": 19,
   "id": "e91005a7-bf7b-4801-918c-b570e617750c",
   "metadata": {},
   "outputs": [
    {
     "data": {
      "text/plain": [
       "['__doc__',\n",
       " '__loader__',\n",
       " '__name__',\n",
       " '__package__',\n",
       " '__spec__',\n",
       " 'acos',\n",
       " 'acosh',\n",
       " 'asin',\n",
       " 'asinh',\n",
       " 'atan',\n",
       " 'atan2',\n",
       " 'atanh',\n",
       " 'cbrt',\n",
       " 'ceil',\n",
       " 'comb',\n",
       " 'copysign',\n",
       " 'cos',\n",
       " 'cosh',\n",
       " 'degrees',\n",
       " 'dist',\n",
       " 'e',\n",
       " 'erf',\n",
       " 'erfc',\n",
       " 'exp',\n",
       " 'exp2',\n",
       " 'expm1',\n",
       " 'fabs',\n",
       " 'factorial',\n",
       " 'floor',\n",
       " 'fmod',\n",
       " 'frexp',\n",
       " 'fsum',\n",
       " 'gamma',\n",
       " 'gcd',\n",
       " 'hypot',\n",
       " 'inf',\n",
       " 'isclose',\n",
       " 'isfinite',\n",
       " 'isinf',\n",
       " 'isnan',\n",
       " 'isqrt',\n",
       " 'lcm',\n",
       " 'ldexp',\n",
       " 'lgamma',\n",
       " 'log',\n",
       " 'log10',\n",
       " 'log1p',\n",
       " 'log2',\n",
       " 'modf',\n",
       " 'nan',\n",
       " 'nextafter',\n",
       " 'perm',\n",
       " 'pi',\n",
       " 'pow',\n",
       " 'prod',\n",
       " 'radians',\n",
       " 'remainder',\n",
       " 'sin',\n",
       " 'sinh',\n",
       " 'sqrt',\n",
       " 'sumprod',\n",
       " 'tan',\n",
       " 'tanh',\n",
       " 'tau',\n",
       " 'trunc',\n",
       " 'ulp']"
      ]
     },
     "execution_count": 19,
     "metadata": {},
     "output_type": "execute_result"
    }
   ],
   "source": [
    "# step-1: import <module>\n",
    "# step-2: dir(<module>)\n",
    "\n",
    "import math\n",
    "dir(math)"
   ]
  },
  {
   "cell_type": "code",
   "execution_count": null,
   "id": "9f0807aa-8dbe-4049-9636-51e28cce1c74",
   "metadata": {},
   "outputs": [],
   "source": [
    "# module: MathFunction   uncle\n",
    "#      add               kid1 : cricket             \n",
    "#      sub               kid2 : story teller\n",
    "#      mul               kid3 : football\n",
    "#      div               kid4 : artist"
   ]
  },
  {
   "cell_type": "code",
   "execution_count": 21,
   "id": "4e4e526f-ff39-4ff9-b2bc-b70943d6742c",
   "metadata": {},
   "outputs": [
    {
     "ename": "NameError",
     "evalue": "name 'sin' is not defined",
     "output_type": "error",
     "traceback": [
      "\u001b[1;31m---------------------------------------------------------------------------\u001b[0m",
      "\u001b[1;31mNameError\u001b[0m                                 Traceback (most recent call last)",
      "Cell \u001b[1;32mIn[21], line 1\u001b[0m\n\u001b[1;32m----> 1\u001b[0m sin\n",
      "\u001b[1;31mNameError\u001b[0m: name 'sin' is not defined"
     ]
    }
   ],
   "source": [
    "sin"
   ]
  },
  {
   "cell_type": "code",
   "execution_count": 23,
   "id": "5fcaec7a-4afc-4bfa-9bf6-f6e088a52933",
   "metadata": {},
   "outputs": [],
   "source": []
  },
  {
   "cell_type": "code",
   "execution_count": 27,
   "id": "02fa3d64-7ca4-4a9d-b912-c8adbcf5360e",
   "metadata": {},
   "outputs": [
    {
     "data": {
      "text/plain": [
       "0.40607451899258984"
      ]
     },
     "execution_count": 27,
     "metadata": {},
     "output_type": "execute_result"
    }
   ],
   "source": [
    "import random\n",
    "random.random()"
   ]
  },
  {
   "cell_type": "code",
   "execution_count": 31,
   "id": "aba80621-4cf7-4e7a-b25e-5f9987338c9d",
   "metadata": {},
   "outputs": [
    {
     "data": {
      "text/plain": [
       "['BPF',\n",
       " 'LOG4',\n",
       " 'NV_MAGICCONST',\n",
       " 'RECIP_BPF',\n",
       " 'Random',\n",
       " 'SG_MAGICCONST',\n",
       " 'SystemRandom',\n",
       " 'TWOPI',\n",
       " '_ONE',\n",
       " '_Sequence',\n",
       " '__all__',\n",
       " '__builtins__',\n",
       " '__cached__',\n",
       " '__doc__',\n",
       " '__file__',\n",
       " '__loader__',\n",
       " '__name__',\n",
       " '__package__',\n",
       " '__spec__',\n",
       " '_accumulate',\n",
       " '_acos',\n",
       " '_bisect',\n",
       " '_ceil',\n",
       " '_cos',\n",
       " '_e',\n",
       " '_exp',\n",
       " '_fabs',\n",
       " '_floor',\n",
       " '_index',\n",
       " '_inst',\n",
       " '_isfinite',\n",
       " '_lgamma',\n",
       " '_log',\n",
       " '_log2',\n",
       " '_os',\n",
       " '_pi',\n",
       " '_random',\n",
       " '_repeat',\n",
       " '_sha512',\n",
       " '_sin',\n",
       " '_sqrt',\n",
       " '_test',\n",
       " '_test_generator',\n",
       " '_urandom',\n",
       " '_warn',\n",
       " 'betavariate',\n",
       " 'binomialvariate',\n",
       " 'choice',\n",
       " 'choices',\n",
       " 'expovariate',\n",
       " 'gammavariate',\n",
       " 'gauss',\n",
       " 'getrandbits',\n",
       " 'getstate',\n",
       " 'lognormvariate',\n",
       " 'normalvariate',\n",
       " 'paretovariate',\n",
       " 'randbytes',\n",
       " 'randint',\n",
       " 'random',\n",
       " 'randrange',\n",
       " 'sample',\n",
       " 'seed',\n",
       " 'setstate',\n",
       " 'shuffle',\n",
       " 'triangular',\n",
       " 'uniform',\n",
       " 'vonmisesvariate',\n",
       " 'weibullvariate']"
      ]
     },
     "execution_count": 31,
     "metadata": {},
     "output_type": "execute_result"
    }
   ],
   "source": [
    "import random\n",
    "dir(random)"
   ]
  },
  {
   "cell_type": "code",
   "execution_count": 35,
   "id": "1c25daaa-1f66-47e9-afd4-ef4f5fcf8440",
   "metadata": {},
   "outputs": [
    {
     "data": {
      "text/plain": [
       "0.9943784218575537"
      ]
     },
     "execution_count": 35,
     "metadata": {},
     "output_type": "execute_result"
    }
   ],
   "source": [
    "import random\n",
    "random.random()"
   ]
  },
  {
   "cell_type": "code",
   "execution_count": null,
   "id": "3342f51c-106c-4dc4-900b-87f037f08a12",
   "metadata": {},
   "outputs": [],
   "source": [
    "# step-1: import modulename\n",
    "# step-2: inorder to methods apply directory\n",
    "#         dir(modulename)\n",
    "# step-3: choose one method\n",
    "#         modulename.methodname\n",
    "# if above one is function it will say function or method\n",
    "# we need to add brackets\n",
    "\n",
    "# if above one not a function it will give direct values\n",
    "# step-4: apply the brackets perform the shift+tab\n",
    "#         modulename.methodname()\n",
    "\n",
    "# step-5: Read the doc string undertand it and use it"
   ]
  },
  {
   "cell_type": "code",
   "execution_count": 37,
   "id": "4c915bbe-46ea-47ef-9a7f-9ce15f9bdc10",
   "metadata": {},
   "outputs": [],
   "source": [
    "import random"
   ]
  },
  {
   "cell_type": "code",
   "execution_count": 39,
   "id": "b0dc3973-04e5-4f21-b92c-aabf16d8e008",
   "metadata": {},
   "outputs": [
    {
     "data": {
      "text/plain": [
       "['BPF',\n",
       " 'LOG4',\n",
       " 'NV_MAGICCONST',\n",
       " 'RECIP_BPF',\n",
       " 'Random',\n",
       " 'SG_MAGICCONST',\n",
       " 'SystemRandom',\n",
       " 'TWOPI',\n",
       " '_ONE',\n",
       " '_Sequence',\n",
       " '__all__',\n",
       " '__builtins__',\n",
       " '__cached__',\n",
       " '__doc__',\n",
       " '__file__',\n",
       " '__loader__',\n",
       " '__name__',\n",
       " '__package__',\n",
       " '__spec__',\n",
       " '_accumulate',\n",
       " '_acos',\n",
       " '_bisect',\n",
       " '_ceil',\n",
       " '_cos',\n",
       " '_e',\n",
       " '_exp',\n",
       " '_fabs',\n",
       " '_floor',\n",
       " '_index',\n",
       " '_inst',\n",
       " '_isfinite',\n",
       " '_lgamma',\n",
       " '_log',\n",
       " '_log2',\n",
       " '_os',\n",
       " '_pi',\n",
       " '_random',\n",
       " '_repeat',\n",
       " '_sha512',\n",
       " '_sin',\n",
       " '_sqrt',\n",
       " '_test',\n",
       " '_test_generator',\n",
       " '_urandom',\n",
       " '_warn',\n",
       " 'betavariate',\n",
       " 'binomialvariate',\n",
       " 'choice',\n",
       " 'choices',\n",
       " 'expovariate',\n",
       " 'gammavariate',\n",
       " 'gauss',\n",
       " 'getrandbits',\n",
       " 'getstate',\n",
       " 'lognormvariate',\n",
       " 'normalvariate',\n",
       " 'paretovariate',\n",
       " 'randbytes',\n",
       " 'randint',\n",
       " 'random',\n",
       " 'randrange',\n",
       " 'sample',\n",
       " 'seed',\n",
       " 'setstate',\n",
       " 'shuffle',\n",
       " 'triangular',\n",
       " 'uniform',\n",
       " 'vonmisesvariate',\n",
       " 'weibullvariate']"
      ]
     },
     "execution_count": 39,
     "metadata": {},
     "output_type": "execute_result"
    }
   ],
   "source": [
    "dir(random)"
   ]
  },
  {
   "cell_type": "code",
   "execution_count": 47,
   "id": "630831a0-b1b8-4754-a119-6553b1c8a756",
   "metadata": {},
   "outputs": [
    {
     "data": {
      "text/plain": [
       "<function Random.random()>"
      ]
     },
     "execution_count": 47,
     "metadata": {},
     "output_type": "execute_result"
    }
   ],
   "source": [
    "random.random\n"
   ]
  },
  {
   "cell_type": "code",
   "execution_count": 49,
   "id": "69c5cdb3-9786-4a65-8b55-04b0334e190c",
   "metadata": {},
   "outputs": [
    {
     "data": {
      "text/plain": [
       "0.8007221548659025"
      ]
     },
     "execution_count": 49,
     "metadata": {},
     "output_type": "execute_result"
    }
   ],
   "source": [
    "random.random()"
   ]
  },
  {
   "cell_type": "code",
   "execution_count": null,
   "id": "a39e53a5-9967-4cf1-b5ed-b95fa36cc8ea",
   "metadata": {},
   "outputs": [],
   "source": [
    "random() -> x in the interval [0, 1)"
   ]
  },
  {
   "cell_type": "code",
   "execution_count": null,
   "id": "1c08fb80-0d47-4a26-ba73-54ec52ffb919",
   "metadata": {},
   "outputs": [],
   "source": [
    "import random\n",
    "dir(random)\n",
    "random.random\n",
    "random.random()"
   ]
  },
  {
   "cell_type": "code",
   "execution_count": null,
   "id": "3ccec55b-cd9f-4009-adb0-44066604db1e",
   "metadata": {},
   "outputs": [],
   "source": [
    "# pacakge    name :  random\n",
    "# attribute name : randint"
   ]
  },
  {
   "cell_type": "code",
   "execution_count": 59,
   "id": "b8b61dff-a607-49fb-9a1e-5edba2dffde5",
   "metadata": {},
   "outputs": [
    {
     "data": {
      "text/plain": [
       "3"
      ]
     },
     "execution_count": 59,
     "metadata": {},
     "output_type": "execute_result"
    }
   ],
   "source": [
    "import random\n",
    "random.randint(1,6)\n",
    "random.random()"
   ]
  },
  {
   "cell_type": "code",
   "execution_count": null,
   "id": "37d0de54-8823-429e-a627-a76e9322d890",
   "metadata": {},
   "outputs": [],
   "source": [
    "Return random integer in range [a, b], including both end points"
   ]
  },
  {
   "cell_type": "code",
   "execution_count": 63,
   "id": "a2255cc7-2d0c-4029-809d-8182df1f21af",
   "metadata": {},
   "outputs": [
    {
     "ename": "TypeError",
     "evalue": "Random.randint() missing 2 required positional arguments: 'a' and 'b'",
     "output_type": "error",
     "traceback": [
      "\u001b[1;31m---------------------------------------------------------------------------\u001b[0m",
      "\u001b[1;31mTypeError\u001b[0m                                 Traceback (most recent call last)",
      "Cell \u001b[1;32mIn[63], line 1\u001b[0m\n\u001b[1;32m----> 1\u001b[0m random\u001b[38;5;241m.\u001b[39mrandint()\n",
      "\u001b[1;31mTypeError\u001b[0m: Random.randint() missing 2 required positional arguments: 'a' and 'b'"
     ]
    }
   ],
   "source": [
    "random.randint()"
   ]
  },
  {
   "cell_type": "code",
   "execution_count": null,
   "id": "17867f55-2d36-4874-aeb3-e0682758d086",
   "metadata": {},
   "outputs": [],
   "source": [
    "typeError: Random.randint() missing 1 required positional argument: 'b'\n",
    "           Random.randint() missing 2 req      p          a          a,b"
   ]
  },
  {
   "cell_type": "code",
   "execution_count": null,
   "id": "c084ffd6-8844-4608-b754-1235409f7db5",
   "metadata": {},
   "outputs": [],
   "source": [
    "random.randint() # understand the error\n",
    "random.randint(10) # understand the error\n",
    "random.randint(10,20) # working "
   ]
  },
  {
   "cell_type": "code",
   "execution_count": null,
   "id": "b75ae106-d671-4951-a739-975da0939735",
   "metadata": {},
   "outputs": [],
   "source": [
    "# packae name           method name\n",
    "  random                random          DONE\n",
    "  random                randint         DONE\n",
    "  random                uniform         DONE\n",
    "  random                sample          DONE\n",
    "  random                choice      random.choice(<use list inside>)\n",
    "  random                shuffle     \n",
    "  n=[10,20,30,40]\n",
    "  random.shuffle(n)\n",
    "  print(n)\n",
    "\n",
    "  math                  sqrt\n",
    "  math                  sin\n",
    "  math                  pi\n",
    "  math                  e\n",
    "  math                  pow"
   ]
  },
  {
   "cell_type": "code",
   "execution_count": 73,
   "id": "69f40804-1d2e-49bb-8650-b3153c354d83",
   "metadata": {},
   "outputs": [
    {
     "data": {
      "text/plain": [
       "[20, 30]"
      ]
     },
     "execution_count": 73,
     "metadata": {},
     "output_type": "execute_result"
    }
   ],
   "source": [
    "random.sample([10,20,30,40],2)\n"
   ]
  },
  {
   "cell_type": "code",
   "execution_count": 69,
   "id": "869f0d95-64ba-4042-a8ef-9c6596edb1ec",
   "metadata": {},
   "outputs": [
    {
     "data": {
      "text/plain": [
       "3.141592653589793"
      ]
     },
     "execution_count": 69,
     "metadata": {},
     "output_type": "execute_result"
    }
   ],
   "source": [
    "math.pi"
   ]
  },
  {
   "cell_type": "code",
   "execution_count": 77,
   "id": "c39f2fe8-ae10-4dcc-b33c-e2688ef04a4e",
   "metadata": {},
   "outputs": [
    {
     "data": {
      "text/plain": [
       "1.0768753333671608"
      ]
     },
     "execution_count": 77,
     "metadata": {},
     "output_type": "execute_result"
    }
   ],
   "source": [
    "random.uniform(1,6)  # any value float"
   ]
  },
  {
   "cell_type": "code",
   "execution_count": 85,
   "id": "4a1a26f8-a121-4d44-8aa0-b96f93923834",
   "metadata": {},
   "outputs": [
    {
     "data": {
      "text/plain": [
       "[20, 10]"
      ]
     },
     "execution_count": 85,
     "metadata": {},
     "output_type": "execute_result"
    }
   ],
   "source": [
    "n=[10,20,30,40,50]   # population\n",
    "k=2                  # samples\n",
    "random.sample(n,k)"
   ]
  },
  {
   "cell_type": "code",
   "execution_count": 93,
   "id": "f3e495fe-9060-47a5-967b-2d865c8b4b88",
   "metadata": {},
   "outputs": [
    {
     "data": {
      "text/plain": [
       "10"
      ]
     },
     "execution_count": 93,
     "metadata": {},
     "output_type": "execute_result"
    }
   ],
   "source": [
    "n=[10,20,30,40,50]\n",
    "random.choice(n)"
   ]
  },
  {
   "cell_type": "code",
   "execution_count": 97,
   "id": "78050b8c-465e-4e2a-b392-8c296e4a693b",
   "metadata": {},
   "outputs": [
    {
     "name": "stdout",
     "output_type": "stream",
     "text": [
      "[30, 10, 40, 20]\n"
     ]
    }
   ],
   "source": [
    "n=[10,20,30,40]\n",
    "random.shuffle(n)\n",
    "print(n)"
   ]
  },
  {
   "cell_type": "code",
   "execution_count": null,
   "id": "f788cce9-03a1-4c4f-b4ee-3b8090121a2f",
   "metadata": {},
   "outputs": [],
   "source": [
    "sample === some values will be selected\n",
    "choice === one value choice\n",
    "shuffle === mix "
   ]
  },
  {
   "cell_type": "code",
   "execution_count": null,
   "id": "4fa436bc-5512-45b9-9e11-5aa36e9c02a5",
   "metadata": {},
   "outputs": [],
   "source": [
    " math                  sqrt\n",
    "  math                  sin\n",
    "  math                  pi\n",
    "  math                  e\n",
    "  math                  pow"
   ]
  },
  {
   "cell_type": "code",
   "execution_count": 103,
   "id": "d760c9ee-bf3c-43f9-b856-8c1c164be933",
   "metadata": {},
   "outputs": [
    {
     "data": {
      "text/plain": [
       "5.0"
      ]
     },
     "execution_count": 103,
     "metadata": {},
     "output_type": "execute_result"
    }
   ],
   "source": [
    "import math\n",
    "math.sqrt(25)"
   ]
  },
  {
   "cell_type": "code",
   "execution_count": 107,
   "id": "6b698d29-7124-4741-a8a2-ee2a6ea54e92",
   "metadata": {},
   "outputs": [
    {
     "data": {
      "text/plain": [
       "8.0"
      ]
     },
     "execution_count": 107,
     "metadata": {},
     "output_type": "execute_result"
    }
   ],
   "source": [
    "math.pow(2,3)"
   ]
  },
  {
   "cell_type": "code",
   "execution_count": 109,
   "id": "98c6922f-9dc8-4e58-9efd-44f5564ea9ce",
   "metadata": {},
   "outputs": [
    {
     "data": {
      "text/plain": [
       "3.141592653589793"
      ]
     },
     "execution_count": 109,
     "metadata": {},
     "output_type": "execute_result"
    }
   ],
   "source": [
    "math.pi"
   ]
  },
  {
   "cell_type": "code",
   "execution_count": 111,
   "id": "da30de71-fde1-4a67-862b-8eaa52f99a60",
   "metadata": {},
   "outputs": [
    {
     "data": {
      "text/plain": [
       "2.718281828459045"
      ]
     },
     "execution_count": 111,
     "metadata": {},
     "output_type": "execute_result"
    }
   ],
   "source": [
    "math.e"
   ]
  },
  {
   "cell_type": "code",
   "execution_count": null,
   "id": "2eede4a1-6f29-42f5-baf3-a259187bab17",
   "metadata": {},
   "outputs": [],
   "source": [
    "Sir without import also coming only math. sqrt\n",
    "# one time import enough"
   ]
  },
  {
   "cell_type": "code",
   "execution_count": 113,
   "id": "389382b6-a7bd-4cd5-9384-cdcf76a97990",
   "metadata": {},
   "outputs": [],
   "source": [
    "import keyword"
   ]
  },
  {
   "cell_type": "code",
   "execution_count": 115,
   "id": "44ae8557-afe0-469d-8dd2-cd5e04d3200e",
   "metadata": {},
   "outputs": [
    {
     "data": {
      "text/plain": [
       "['__all__',\n",
       " '__builtins__',\n",
       " '__cached__',\n",
       " '__doc__',\n",
       " '__file__',\n",
       " '__loader__',\n",
       " '__name__',\n",
       " '__package__',\n",
       " '__spec__',\n",
       " 'iskeyword',\n",
       " 'issoftkeyword',\n",
       " 'kwlist',\n",
       " 'softkwlist']"
      ]
     },
     "execution_count": 115,
     "metadata": {},
     "output_type": "execute_result"
    }
   ],
   "source": [
    "dir(keyword)"
   ]
  },
  {
   "cell_type": "code",
   "execution_count": 137,
   "id": "1621c937-ccf5-433c-b93a-7c69ebbd1623",
   "metadata": {},
   "outputs": [
    {
     "data": {
      "text/plain": [
       "['False',\n",
       " 'None',\n",
       " 'True',\n",
       " 'and',\n",
       " 'as',\n",
       " 'assert',\n",
       " 'async',\n",
       " 'await',\n",
       " 'break',\n",
       " 'class',\n",
       " 'continue',\n",
       " 'def',\n",
       " 'del',\n",
       " 'elif',\n",
       " 'else',\n",
       " 'except',\n",
       " 'finally',\n",
       " 'for',\n",
       " 'from',\n",
       " 'global',\n",
       " 'if',\n",
       " 'import',\n",
       " 'in',\n",
       " 'is',\n",
       " 'lambda',\n",
       " 'nonlocal',\n",
       " 'not',\n",
       " 'or',\n",
       " 'pass',\n",
       " 'raise',\n",
       " 'return',\n",
       " 'try',\n",
       " 'while',\n",
       " 'with',\n",
       " 'yield']"
      ]
     },
     "execution_count": 137,
     "metadata": {},
     "output_type": "execute_result"
    }
   ],
   "source": [
    "import keyword\n",
    "keyword.kwlist"
   ]
  },
  {
   "cell_type": "code",
   "execution_count": 127,
   "id": "fc32d775-5f7e-4502-8d76-0ecb5c703f01",
   "metadata": {},
   "outputs": [
    {
     "name": "stdout",
     "output_type": "stream",
     "text": [
      "hello\n"
     ]
    }
   ],
   "source": [
    "import time\n",
    "print('hello')"
   ]
  },
  {
   "cell_type": "code",
   "execution_count": 129,
   "id": "ef6a1e25-89b1-47c5-b0a1-6861d2da3377",
   "metadata": {},
   "outputs": [
    {
     "name": "stdout",
     "output_type": "stream",
     "text": [
      "hello\n"
     ]
    }
   ],
   "source": [
    "import time\n",
    "time.sleep(5)\n",
    "print('hello')"
   ]
  },
  {
   "cell_type": "code",
   "execution_count": null,
   "id": "4fed61ee-96de-4890-bea3-fcc75d9b2c62",
   "metadata": {},
   "outputs": [],
   "source": [
    "sir how do we know what functions are available in module\n",
    "dir(random) \n",
    "\n",
    "\n",
    "sir do we have to make all time modules\n",
    "sir gen ai class?"
   ]
  },
  {
   "cell_type": "code",
   "execution_count": 135,
   "id": "7f30970d-2581-4025-99ba-c9fcfb3d06c6",
   "metadata": {},
   "outputs": [
    {
     "data": {
      "text/plain": [
       "[40, 40, 50, 10]"
      ]
     },
     "execution_count": 135,
     "metadata": {},
     "output_type": "execute_result"
    }
   ],
   "source": [
    "n=[10,20,20,30,40,40,50]   # population\n",
    "k=4                # samples\n",
    "random.sample(n,k)"
   ]
  },
  {
   "cell_type": "code",
   "execution_count": null,
   "id": "213f50c0-2939-4c9b-8b88-5e59313c0125",
   "metadata": {},
   "outputs": [],
   "source": []
  }
 ],
 "metadata": {
  "kernelspec": {
   "display_name": "Python [conda env:base] *",
   "language": "python",
   "name": "conda-base-py"
  },
  "language_info": {
   "codemirror_mode": {
    "name": "ipython",
    "version": 3
   },
   "file_extension": ".py",
   "mimetype": "text/x-python",
   "name": "python",
   "nbconvert_exporter": "python",
   "pygments_lexer": "ipython3",
   "version": "3.12.7"
  }
 },
 "nbformat": 4,
 "nbformat_minor": 5
}
