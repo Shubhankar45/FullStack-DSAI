{
 "cells": [
  {
   "cell_type": "code",
   "execution_count": null,
   "id": "3e67b40d-9888-4e9d-bc68-ef2e069f71f2",
   "metadata": {},
   "outputs": [],
   "source": [
    "# Our focus is not only write the code\n",
    "# Explain to the grandfather"
   ]
  },
  {
   "cell_type": "code",
   "execution_count": 3,
   "id": "10ffeac3-af23-45d8-9509-652ca7556bd7",
   "metadata": {},
   "outputs": [
    {
     "name": "stdout",
     "output_type": "stream",
     "text": [
      "10\n",
      "20\n"
     ]
    }
   ],
   "source": [
    "a=10\n",
    "b=20\n",
    "print(a)\n",
    "print(b)"
   ]
  },
  {
   "cell_type": "code",
   "execution_count": 5,
   "id": "e7ee5fc7-21d1-4cd9-82a0-48bea9a2c1a8",
   "metadata": {},
   "outputs": [
    {
     "data": {
      "text/plain": [
       "(10, 20)"
      ]
     },
     "execution_count": 5,
     "metadata": {},
     "output_type": "execute_result"
    }
   ],
   "source": [
    "a=10\n",
    "b=20\n",
    "a,b"
   ]
  },
  {
   "cell_type": "code",
   "execution_count": 43,
   "id": "85ff49dd-0eb7-4917-bc33-f95a5b75ee69",
   "metadata": {},
   "outputs": [
    {
     "name": "stdout",
     "output_type": "stream",
     "text": [
      "10 20\n"
     ]
    }
   ],
   "source": [
    "a=10\n",
    "b=20\n",
    "print(a,b)"
   ]
  },
  {
   "cell_type": "code",
   "execution_count": 9,
   "id": "645ac46a-58ab-44b4-a067-11da2d235209",
   "metadata": {},
   "outputs": [
    {
     "name": "stdout",
     "output_type": "stream",
     "text": [
      "30\n"
     ]
    }
   ],
   "source": [
    "a=10\n",
    "b=20\n",
    "c=a+b\n",
    "print(c)\n",
    "\n",
    "# a=10 b=20 c=sum of a and b\n",
    "# sum of two variables "
   ]
  },
  {
   "cell_type": "code",
   "execution_count": 45,
   "id": "1af55aa7-233d-44f7-8a66-073f839e9c58",
   "metadata": {},
   "outputs": [
    {
     "name": "stdout",
     "output_type": "stream",
     "text": [
      "sum of 10 and 20 is 30\n",
      "sum of a and b is c\n",
      "sum of 10 and 20 is 30\n"
     ]
    }
   ],
   "source": [
    "a=10\n",
    "b=20\n",
    "c=a+b\n",
    "print(\"sum of 10 and 20 is 30\") \n",
    "print(\"sum of a and b is c\")\n",
    "print(\"sum of\",a,\"and\",b,\"is\",c)"
   ]
  },
  {
   "cell_type": "code",
   "execution_count": 47,
   "id": "5bbd90ea-c66a-445b-9ff7-cf8155d4d181",
   "metadata": {},
   "outputs": [
    {
     "name": "stdout",
     "output_type": "stream",
     "text": [
      "my name is python im 10 years old came from hyd\n"
     ]
    }
   ],
   "source": [
    "name='python'\n",
    "age=10\n",
    "city='hyd'\n",
    "print(\"my name is\",name,\"im\",age,\"years old came from\",city)"
   ]
  },
  {
   "cell_type": "markdown",
   "id": "30d30211-d5b1-4110-a58f-a840317355dd",
   "metadata": {},
   "source": [
    "**Method-2:format**"
   ]
  },
  {
   "cell_type": "code",
   "execution_count": 52,
   "id": "531c1e9b-dac9-497d-bb6f-8f8ac58b5912",
   "metadata": {},
   "outputs": [
    {
     "name": "stdout",
     "output_type": "stream",
     "text": [
      "sum of 10 and 20 is 30\n",
      "sum of {} and {} is {}\n",
      "sum of 10 and 20 is 30\n"
     ]
    }
   ],
   "source": [
    "a=10\n",
    "b=20\n",
    "c=a+b\n",
    "print(\"sum of 10 and 20 is 30\") \n",
    "print(\"sum of {} and {} is {}\") \n",
    "print(\"sum of {} and {} is {}\".format(a,b,c)) "
   ]
  },
  {
   "cell_type": "code",
   "execution_count": 60,
   "id": "3e147fcc-bdb7-46f9-b9bb-64ead448dec8",
   "metadata": {},
   "outputs": [
    {
     "name": "stdout",
     "output_type": "stream",
     "text": [
      "my name is kumar im 10 years old im from bangalore\n",
      "my name is bangalore im 10 years old im from kumar\n"
     ]
    }
   ],
   "source": [
    "name=\"kumar\"\n",
    "age=10\n",
    "city=\"bangalore\"\n",
    "print(\"my name is kumar im 10 years old im from bangalore\")\n",
    "print(\"my name is {} im {} years old im from {}\".format(city,age,name))"
   ]
  },
  {
   "cell_type": "markdown",
   "id": "d767b18f-fb11-4e5d-a82b-fa8c9937db62",
   "metadata": {},
   "source": [
    "**Method-3:fstring**"
   ]
  },
  {
   "cell_type": "code",
   "execution_count": 65,
   "id": "ccdf70e8-826e-4366-a306-88dd64077bce",
   "metadata": {},
   "outputs": [
    {
     "name": "stdout",
     "output_type": "stream",
     "text": [
      "sum of 10 and 20 is 30\n",
      "sum of {a} and {b} is {c}\n",
      "sum of 10 and 20 is 30\n"
     ]
    }
   ],
   "source": [
    "a=10\n",
    "b=20\n",
    "c=a+b\n",
    "print(\"sum of 10 and 20 is 30\") \n",
    "print(\"sum of {a} and {b} is {c}\") \n",
    "print(f\"sum of {a} and {b} is {c}\") "
   ]
  },
  {
   "cell_type": "code",
   "execution_count": null,
   "id": "bcff3d88-206a-4294-a2cf-34fc87b0431b",
   "metadata": {},
   "outputs": [],
   "source": [
    "# wap ask the user take two number\n",
    "# print addition subtraction multiplication and division\n",
    "\n",
    "# Output like below:\n",
    "# the addition of 100 and 200 is:300           a+b\n",
    "# the subtraction of 100 and 200 is: -100      a-b   \n",
    "# the multiplication of 100 and 200 is: 20000  a*b\n",
    "# the division of 100 and 200 is: 0.5          a/b"
   ]
  },
  {
   "cell_type": "code",
   "execution_count": 69,
   "id": "b4e5b193-936b-4037-86d1-6d15cbf46e13",
   "metadata": {},
   "outputs": [
    {
     "name": "stdout",
     "output_type": "stream",
     "text": [
      "sum of 100 and 200 is equal to 300.\n",
      "sub of 100 and 200 is equal to -100.\n",
      "multi of 100 and 200 is equal to 20000.\n",
      "div of 100 and 200 is equal to 0.5.\n"
     ]
    }
   ],
   "source": [
    "a=100\n",
    "b=200\n",
    "print(f\"sum of {a} and {b} is equal to {a+b}.\")\n",
    "print(f\"sub of {a} and {b} is equal to {a-b}.\")\n",
    "print(f\"multi of {a} and {b} is equal to {a*b}.\")\n",
    "print(f\"div of {a} and {b} is equal to {a/b}.\")"
   ]
  },
  {
   "cell_type": "code",
   "execution_count": 83,
   "id": "ee44e82b-977a-479e-9cbb-df91128ca8c6",
   "metadata": {},
   "outputs": [
    {
     "name": "stdout",
     "output_type": "stream",
     "text": [
      "the avg of 11,20 and 30 is:20.333333333333332\n"
     ]
    }
   ],
   "source": [
    "# wap ask the user take three numbers a,b,c\n",
    "# find the average\n",
    "# formula :  avg=(a+b+c)/3\n",
    "\n",
    "a=11\n",
    "b=20\n",
    "c=30\n",
    "avg=(a+b+c)/3\n",
    "print(f\"the avg of {a},{b} and {c} is:{avg}\")"
   ]
  },
  {
   "cell_type": "code",
   "execution_count": 87,
   "id": "572c8f88-3080-4c95-b662-ca236f89b3cf",
   "metadata": {},
   "outputs": [
    {
     "data": {
      "text/plain": [
       "34"
      ]
     },
     "execution_count": 87,
     "metadata": {},
     "output_type": "execute_result"
    }
   ],
   "source": [
    "round(34.47) "
   ]
  },
  {
   "cell_type": "code",
   "execution_count": 89,
   "id": "1d4e3501-7002-4f5a-a545-7e68c0f2ead1",
   "metadata": {},
   "outputs": [
    {
     "data": {
      "text/plain": [
       "35"
      ]
     },
     "execution_count": 89,
     "metadata": {},
     "output_type": "execute_result"
    }
   ],
   "source": [
    "round(34.57)"
   ]
  },
  {
   "cell_type": "code",
   "execution_count": 95,
   "id": "4bc0893d-ac02-4ae7-b03c-6310a2aa9112",
   "metadata": {},
   "outputs": [
    {
     "data": {
      "text/plain": [
       "34.478"
      ]
     },
     "execution_count": 95,
     "metadata": {},
     "output_type": "execute_result"
    }
   ],
   "source": [
    "round(34.47777,1) # 34.5\n",
    "round(34.47777,2) # 34.48\n",
    "round(34.47777,3) # 34.478"
   ]
  },
  {
   "cell_type": "code",
   "execution_count": 97,
   "id": "e57c2ee1-f4a6-422d-a82e-08a30199f4e6",
   "metadata": {},
   "outputs": [
    {
     "name": "stdout",
     "output_type": "stream",
     "text": [
      "the avg of 11,20 and 30 is:20.33\n"
     ]
    }
   ],
   "source": [
    "a=11\n",
    "b=20\n",
    "c=30\n",
    "avg=(a+b+c)/3\n",
    "avg1=round(avg,2)\n",
    "print(f\"the avg of {a},{b} and {c} is:{avg1}\")"
   ]
  },
  {
   "cell_type": "code",
   "execution_count": null,
   "id": "a13e2ce0-252c-4ca7-a924-fa04506ebcc8",
   "metadata": {},
   "outputs": [],
   "source": [
    "# wap ask the user take two number print subtraction multiplication and division\n",
    "# wap ask the user take the radius find the area of circle\n",
    "# pi=3.14\n",
    "# r=100\n",
    "# area_of_circle=pi*r*r\n",
    "\n",
    "# wap ask the user take height and breadth find the area of traingle\n",
    "#       area_of_traingle=0.5*b*h\n",
    "\n",
    "# wap ask the user take 3 numbers find the average\n",
    "# wap ask the user take the bill amount and tip anount calculate total bill\n",
    "# wap ask the user take the salary, percetage of tax calculate tax amount\n",
    "# wap ask the user take the value in dollar convert into rupees\n",
    "#         1$=80rs\n",
    "# wap ask the use take weight in kgs convert into pounds\n",
    "#     1kg=2.2pounds"
   ]
  },
  {
   "cell_type": "code",
   "execution_count": 107,
   "id": "f2aa4489-1749-4280-b72f-67c92113f7cb",
   "metadata": {},
   "outputs": [
    {
     "name": "stdout",
     "output_type": "stream",
     "text": [
      "31400.0\n"
     ]
    }
   ],
   "source": [
    "# pi=3.14\n",
    "# r=100\n",
    "# area_of_circle=pi*r*r\n",
    "pi=3.14\n",
    "r=100\n",
    "area_of_circle=pi*r*r\n",
    "\n",
    "print(area_of_circle)  # fine for me"
   ]
  },
  {
   "cell_type": "code",
   "execution_count": 109,
   "id": "33efa4d5-8576-4830-b9a0-fa9ea64ee4ed",
   "metadata": {},
   "outputs": [
    {
     "name": "stdout",
     "output_type": "stream",
     "text": [
      "100.0\n"
     ]
    }
   ],
   "source": [
    "# wap ask the user take height and breadth find the area of traingle\n",
    "#       area_of_traingle=0.5*b*h\n",
    "b=10\n",
    "h=20\n",
    "area_of_traingle=0.5*b*h\n",
    "print(area_of_traingle)"
   ]
  },
  {
   "cell_type": "code",
   "execution_count": null,
   "id": "db0199c5-cd8e-46fc-ac45-474cde7ab2ff",
   "metadata": {},
   "outputs": [],
   "source": [
    "bill_amount=1000\n",
    "tip_per=10\n",
    "tip_Amount=bill_amount*tip_per/100\n",
    "total_Amount=bill_amount+tip_Amount"
   ]
  },
  {
   "cell_type": "code",
   "execution_count": null,
   "id": "ad1d9b7d-c2ad-45ca-8f7b-8c79457399ac",
   "metadata": {},
   "outputs": [],
   "source": [
    "# wap ask the user take the salary, percetage of tax calculate tax amount\n",
    "bill_amount=10000\n",
    "tip_percentage=10\n",
    "tip_amount=bill_amount*tip_percentage/100\n",
    "total_amount=bill_amount+tip_amount\n",
    "print(f\"the total bill is:{total_amount}\")\n",
    "# wap ask the user take the value in dollar convert into rupees\n",
    "#         1$=80rs\n",
    "dollar=5\n",
    "rupee_value=80\n",
    "total=dollar*rupee_value\n",
    "print(\"total amount in rupees:5$*80rs=400\")\n",
    "print(f\"total amount in rupees:{dollar}$*{rupee_value}rs={total}\")\n",
    "# wap ask the use take weight in kgs convert into pounds\n",
    "#     1kg=2.2pounds"
   ]
  },
  {
   "cell_type": "code",
   "execution_count": 5,
   "id": "38176d04-aae5-4b6f-8d88-c6df76cb14bb",
   "metadata": {},
   "outputs": [
    {
     "name": "stdout",
     "output_type": "stream",
     "text": [
      "total amount in rupees:5$*80rs=400rs\n",
      "total amount in rupees:{}$*{}rs={}rs\n",
      "total amount in rupees:{dollar}$*{rupee_value}rs={total}rs\n",
      "total amount in rupees:5$*80rs=400rs\n"
     ]
    }
   ],
   "source": [
    "dollar=5\n",
    "rupee_value=80\n",
    "total=dollar*rupee_value\n",
    "print(\"total amount in rupees:5$*80rs=400rs\") # Fix the write\n",
    "print(\"total amount in rupees:{}$*{}rs={}rs\") # apply curly\n",
    "print(\"total amount in rupees:{dollar}$*{rupee_value}rs={total}rs\") # provide the variables\n",
    "print(f\"total amount in rupees:{dollar}$*{rupee_value}rs={total}rs\") # f string"
   ]
  },
  {
   "cell_type": "code",
   "execution_count": 7,
   "id": "2575c441-1ab8-4220-bc0e-2e747bbfe5f0",
   "metadata": {},
   "outputs": [
    {
     "name": "stdout",
     "output_type": "stream",
     "text": [
      "converted value of weight of kg is 50 and pound is 2.20462 : 110.231 \n"
     ]
    }
   ],
   "source": [
    "kgs = 50\n",
    "pound = 2.20462\n",
    "converted_value =kgs* pound\n",
    "print(f\"converted value of weight of kg is {kgs} and pound is {pound} : {converted_value} \")"
   ]
  },
  {
   "cell_type": "code",
   "execution_count": 17,
   "id": "96c9cc1c-e41a-4a9a-ab5a-e3dbb9d52e21",
   "metadata": {},
   "outputs": [
    {
     "name": "stdout",
     "output_type": "stream",
     "text": [
      " weight_in_pounds = weight_in_kgs*2.2 = 70*2.2 = 154.0lbs\n"
     ]
    }
   ],
   "source": [
    "weight_in_kgs=70\n",
    "weight_in_pounds=2.2*weight_in_kgs\n",
    "print(f\" weight_in_pounds = weight_in_kgs*2.2 = {weight_in_kgs}*2.2 = {weight_in_pounds}lbs\")"
   ]
  },
  {
   "cell_type": "code",
   "execution_count": null,
   "id": "ff87d367-27fa-4b35-ac69-a0b42f0e40db",
   "metadata": {},
   "outputs": [],
   "source": [
    "\n"
   ]
  }
 ],
 "metadata": {
  "kernelspec": {
   "display_name": "Python [conda env:base] *",
   "language": "python",
   "name": "conda-base-py"
  },
  "language_info": {
   "codemirror_mode": {
    "name": "ipython",
    "version": 3
   },
   "file_extension": ".py",
   "mimetype": "text/x-python",
   "name": "python",
   "nbconvert_exporter": "python",
   "pygments_lexer": "ipython3",
   "version": "3.12.7"
  }
 },
 "nbformat": 4,
 "nbformat_minor": 5
}
