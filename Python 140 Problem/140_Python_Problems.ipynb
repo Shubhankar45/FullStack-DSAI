{
 "cells": [
  {
   "cell_type": "markdown",
   "id": "6b4765e3-aa64-4c36-96d4-d6120b94376d",
   "metadata": {},
   "source": [
    "**140 Python Problems**"
   ]
  },
  {
   "cell_type": "markdown",
   "id": "4e92af2d-030d-4718-a8d8-5ea0f48302db",
   "metadata": {},
   "source": [
    "- 1).Write a Python program to print \"Hello Python\"."
   ]
  },
  {
   "cell_type": "code",
   "execution_count": 1,
   "id": "fece29b1-e690-4925-ae84-27b587f85fe9",
   "metadata": {},
   "outputs": [
    {
     "name": "stdout",
     "output_type": "stream",
     "text": [
      "Hello Python\n"
     ]
    }
   ],
   "source": [
    "print(\"Hello Python\")"
   ]
  },
  {
   "cell_type": "markdown",
   "id": "c2579d10-d3d0-4e28-804b-6afd18dfb4de",
   "metadata": {},
   "source": [
    "- 2).Write a Python program to do arithmetical operations addition and division."
   ]
  },
  {
   "cell_type": "code",
   "execution_count": 2,
   "id": "18b8e754-87c1-49db-9ee1-9114fba5d588",
   "metadata": {},
   "outputs": [
    {
     "name": "stdin",
     "output_type": "stream",
     "text": [
      "Enter Number 1:  1\n",
      "Enter Number 2:  3\n"
     ]
    },
    {
     "name": "stdout",
     "output_type": "stream",
     "text": [
      "Addition 4\n",
      "Multiplication 3\n",
      "Division 0.3333333333333333\n",
      "Substraction -2\n"
     ]
    }
   ],
   "source": [
    "n1=int(input(\"Enter Number 1: \"))\n",
    "n2=int(input(\"Enter Number 2: \"))\n",
    "print(f\"Addition {n1+n2}\")\n",
    "print(f\"Multiplication {n1*n2}\")\n",
    "print(f\"Division {n1/n2}\")\n",
    "print(f\"Substraction {n1-n2}\")"
   ]
  },
  {
   "cell_type": "markdown",
   "id": "53b44e52-427c-40df-9403-129870cbbfbf",
   "metadata": {},
   "source": [
    "- 3).Write a Python program to find the area of a triangle."
   ]
  },
  {
   "cell_type": "code",
   "execution_count": 3,
   "id": "b3286980-0d4a-4364-b9ed-2e2cb9579585",
   "metadata": {},
   "outputs": [
    {
     "name": "stdin",
     "output_type": "stream",
     "text": [
      "Enter base:  1\n",
      "Enter height:  3\n"
     ]
    },
    {
     "name": "stdout",
     "output_type": "stream",
     "text": [
      "Area of the triangle: 1.5\n"
     ]
    }
   ],
   "source": [
    "n1=int(input(\"Enter base: \"))\n",
    "n2=int(input(\"Enter height: \"))\n",
    "print(f\"Area of the triangle: {0.5*n1*n2}\")"
   ]
  },
  {
   "cell_type": "markdown",
   "id": "4f9ce40e-a237-4269-8b51-50faa7fbcac4",
   "metadata": {},
   "source": [
    "- 4).Write a Python program to swap two variables."
   ]
  },
  {
   "cell_type": "code",
   "execution_count": 4,
   "id": "c6b8afaa-9d12-4ab3-a521-a987eee1c20e",
   "metadata": {},
   "outputs": [
    {
     "name": "stdin",
     "output_type": "stream",
     "text": [
      "Enter Number 1:  1\n",
      "Enter Number 2:  3\n"
     ]
    },
    {
     "name": "stdout",
     "output_type": "stream",
     "text": [
      "The value of n1:3 \n",
      " The value of n2:1\n"
     ]
    }
   ],
   "source": [
    "n1=int(input(\"Enter Number 1: \"))\n",
    "n2=int(input(\"Enter Number 2: \"))\n",
    "n1,n2=n2,n1\n",
    "print(f\"The value of n1:{n1} \\n The value of n2:{n2}\")"
   ]
  },
  {
   "cell_type": "markdown",
   "id": "ed207755-a26c-48be-b595-f2d051f1755d",
   "metadata": {},
   "source": [
    "- 5).Write a Python program to generate a random number."
   ]
  },
  {
   "cell_type": "code",
   "execution_count": 5,
   "id": "92b65698-a901-493f-acb5-9b7f2081349c",
   "metadata": {},
   "outputs": [
    {
     "name": "stdout",
     "output_type": "stream",
     "text": [
      "Random no is: 969\n"
     ]
    }
   ],
   "source": [
    "import random\n",
    "n=random.randint(1,1000)\n",
    "print(f\"Random no is: {n}\")"
   ]
  },
  {
   "cell_type": "markdown",
   "id": "7f281b87-0b34-4909-8178-1711bc028526",
   "metadata": {},
   "source": [
    "- 6).Write a Python program to convert kilometers to miles."
   ]
  },
  {
   "cell_type": "code",
   "execution_count": 6,
   "id": "7bf79e28-edf4-4bbb-ad54-c0874a41e56e",
   "metadata": {},
   "outputs": [
    {
     "name": "stdin",
     "output_type": "stream",
     "text": [
      "Enter Kms  1\n"
     ]
    },
    {
     "name": "stdout",
     "output_type": "stream",
     "text": [
      "1 = 0.62 miles\n"
     ]
    }
   ],
   "source": [
    "km=int(input(\"Enter Kms \"))\n",
    "conversion_factor = 0.621371\n",
    "print(f'{km} = {(km*conversion_factor):.2f} miles' )"
   ]
  },
  {
   "cell_type": "markdown",
   "id": "b47277b6-fb2a-4074-a305-303aafa54db7",
   "metadata": {},
   "source": [
    "- 7).Write a Python program to convert Celsius to Fahrenheinite"
   ]
  },
  {
   "cell_type": "code",
   "execution_count": 7,
   "id": "93783eb8-496c-4f71-b346-3f1f11c05963",
   "metadata": {},
   "outputs": [
    {
     "name": "stdin",
     "output_type": "stream",
     "text": [
      "Enter Temp in Celcius  1\n"
     ]
    },
    {
     "name": "stdout",
     "output_type": "stream",
     "text": [
      "1=33.8 Farhenite\n"
     ]
    }
   ],
   "source": [
    "cel=int(input(\"Enter Temp in Celcius \"))\n",
    "print(f'{cel}={(cel*9/5)+32} Farhenite')"
   ]
  },
  {
   "cell_type": "markdown",
   "id": "81666e01-9eae-4897-a18a-3a5073adc942",
   "metadata": {},
   "source": [
    "- 8).Write a Python program to display calendar."
   ]
  },
  {
   "cell_type": "code",
   "execution_count": 8,
   "id": "4ee8a409-a7a3-4386-97e8-a48ef26d1837",
   "metadata": {},
   "outputs": [
    {
     "name": "stdin",
     "output_type": "stream",
     "text": [
      "Enter The Year:  1\n",
      "Enter The Month:  1\n"
     ]
    },
    {
     "name": "stdout",
     "output_type": "stream",
     "text": [
      "     January 1\n",
      "Mo Tu We Th Fr Sa Su\n",
      " 1  2  3  4  5  6  7\n",
      " 8  9 10 11 12 13 14\n",
      "15 16 17 18 19 20 21\n",
      "22 23 24 25 26 27 28\n",
      "29 30 31\n",
      "\n"
     ]
    }
   ],
   "source": [
    "import calendar\n",
    "year=int(input(\"Enter The Year: \"))\n",
    "month=int(input(\"Enter The Month: \"))\n",
    "print(calendar.month(year,month))"
   ]
  },
  {
   "cell_type": "markdown",
   "id": "88a5c51a-2448-4267-90a7-a93ffa32a94e",
   "metadata": {},
   "source": [
    "- 9).Write a Python program to solve quadratic equation.\n",
    "The standard form of a quadratic equation is:\n",
    "\n",
    "where\n",
    "a, b and c are real numbers and\n",
    "\n",
    "The solutions of this quadratic equation is given by:\n",
    "ax**2 + bx + c = 0\n",
    "\n",
    "\n",
    "a ≠ 0\n",
    "\n",
    "(−b ± (b − 4ac )/(2a)"
   ]
  },
  {
   "cell_type": "code",
   "execution_count": 9,
   "id": "eb86d8fb-cebf-4dca-88f6-25aa0279b040",
   "metadata": {},
   "outputs": [
    {
     "name": "stdin",
     "output_type": "stream",
     "text": [
      "Enter value of a:  1\n",
      "Enter value of b:  2\n",
      "Enter value of c:  3\n"
     ]
    },
    {
     "name": "stdout",
     "output_type": "stream",
     "text": [
      "Root 1: -1.0 + 1.4142135623730951i\n",
      "Root 2: -1.0 - 1.4142135623730951i\n"
     ]
    }
   ],
   "source": [
    "import math\n",
    "a=int(input(\"Enter value of a: \"))\n",
    "b=int(input(\"Enter value of b: \"))\n",
    "c=int(input(\"Enter value of c: \"))\n",
    "\n",
    "discriminant = b**2 - 4*a*c\n",
    "if discriminant > 0:\n",
    "    root1 = (-b + math.sqrt(discriminant)) / (2*a)\n",
    "    root2 = (-b - math.sqrt(discriminant)) / (2*a)\n",
    "    print(f\"Root 1: {root1}\")\n",
    "    print(f\"Root 2: {root2}\")\n",
    "elif discriminant == 0:\n",
    "    root = -b / (2*a)\n",
    "    print(f\"Root: {root}\")\n",
    "else:\n",
    "    real_part = -b / (2*a)\n",
    "    imaginary_part = math.sqrt(abs(discriminant)) / (2*a)\n",
    "    print(f\"Root 1: {real_part} + {imaginary_part}i\")\n",
    "    print(f\"Root 2: {real_part} - {imaginary_part}i\")"
   ]
  },
  {
   "cell_type": "markdown",
   "id": "08af2cae-cc97-43bc-be00-c079b4763aa0",
   "metadata": {},
   "source": [
    "- 10).Write a Python program to swap two variables without temp variable."
   ]
  },
  {
   "cell_type": "code",
   "execution_count": 10,
   "id": "1e38fb0c-a9b2-49fb-bf6c-77673cf74975",
   "metadata": {},
   "outputs": [
    {
     "name": "stdin",
     "output_type": "stream",
     "text": [
      "Enter Number 1:  1\n",
      "Enter Number 2:  1\n"
     ]
    },
    {
     "name": "stdout",
     "output_type": "stream",
     "text": [
      "The value of n1:1 \n",
      " The value of n2:1\n"
     ]
    }
   ],
   "source": [
    "n1=int(input(\"Enter Number 1: \"))\n",
    "n2=int(input(\"Enter Number 2: \"))\n",
    "n1,n2=n2,n1\n",
    "print(f\"The value of n1:{n1} \\n The value of n2:{n2}\")"
   ]
  },
  {
   "cell_type": "markdown",
   "id": "f8602073-e35f-4f57-98a7-31c069404591",
   "metadata": {},
   "source": [
    "- 11).Write a Python Program to Check if a Number is Positive, Negative or Zero."
   ]
  },
  {
   "cell_type": "code",
   "execution_count": 11,
   "id": "4aeb6b05-2e6c-42a8-9891-0b13f9ef63e8",
   "metadata": {},
   "outputs": [
    {
     "name": "stdin",
     "output_type": "stream",
     "text": [
      "Enter a number:  -3\n"
     ]
    },
    {
     "name": "stdout",
     "output_type": "stream",
     "text": [
      "-3 is a negative no\n"
     ]
    }
   ],
   "source": [
    "n=int(input(\"Enter a number: \"))\n",
    "if n>0:\n",
    "    print(f\"{n} is a positive no\")\n",
    "elif n<0:\n",
    "    print(f\"{n} is a negative no\")\n",
    "else:\n",
    "     print(f\"{n} is equals to 0\")\n",
    "    "
   ]
  },
  {
   "cell_type": "markdown",
   "id": "f33a6359-400a-4d46-a02c-28fbbca5dc67",
   "metadata": {},
   "source": [
    "- 12).Write a Python Program to Check if a Number is Odd or Even."
   ]
  },
  {
   "cell_type": "code",
   "execution_count": 12,
   "id": "35d4fd38-d1b6-4b40-bd87-87c876f122c8",
   "metadata": {},
   "outputs": [
    {
     "name": "stdin",
     "output_type": "stream",
     "text": [
      "Enter a number:  2\n"
     ]
    },
    {
     "name": "stdout",
     "output_type": "stream",
     "text": [
      "2 is even\n"
     ]
    }
   ],
   "source": [
    "n=int(input(\"Enter a number: \"))\n",
    "if n%2==0:\n",
    "    print(f\"{n} is even\")\n",
    "else:\n",
    "    print(f\"{n} is odd\")"
   ]
  },
  {
   "cell_type": "markdown",
   "id": "ba42c2a0-6883-47d4-9bc0-010e0978ea50",
   "metadata": {},
   "source": [
    "- 13).Write a Python Program to Check Leap Year."
   ]
  },
  {
   "cell_type": "code",
   "execution_count": 18,
   "id": "71456b00-a4d5-4bcd-8a2c-88a904a56d80",
   "metadata": {},
   "outputs": [
    {
     "name": "stdin",
     "output_type": "stream",
     "text": [
      "Enter a year:  2000\n"
     ]
    },
    {
     "name": "stdout",
     "output_type": "stream",
     "text": [
      "2000 is a leap year\n"
     ]
    }
   ],
   "source": [
    "year=int(input(\"Enter a year: \"))\n",
    "\n",
    "if year%400==0 or year%4==0 and year%100!=0:\n",
    "    print(f\"{n} is a leap year\")\n",
    "else:\n",
    "    print(f\"{n} is not a leap year\")"
   ]
  },
  {
   "cell_type": "markdown",
   "id": "4b35e2b4-cef8-43b9-acb9-180aa0f9c7c9",
   "metadata": {},
   "source": [
    "- 14).Write a Python Program to Check Prime Number.\n",
    "\n",
    "- **Prime Numbers:**\n",
    "A prime number is a whole number that cannot be evenly divided by any other number\n",
    "except for 1 and itself. For example, 2, 3, 5, 7, 11, and 13 are prime numbers because they\n",
    "cannot be divided by any other positive integer except for 1 and their own value."
   ]
  },
  {
   "cell_type": "code",
   "execution_count": 22,
   "id": "effc753a-bd88-4380-8afd-e864f27787ba",
   "metadata": {},
   "outputs": [
    {
     "name": "stdin",
     "output_type": "stream",
     "text": [
      "Enter a number:  4\n"
     ]
    },
    {
     "name": "stdout",
     "output_type": "stream",
     "text": [
      "4 is not a prime number\n"
     ]
    }
   ],
   "source": [
    "n=int(input(\"Enter a number: \"))\n",
    "isPrime=True\n",
    "if n==1:\n",
    "    isPrime=True\n",
    "elif n>1:\n",
    "    for i in range(2,n):\n",
    "        if n%i==0:\n",
    "            isPrime=False\n",
    "            break\n",
    "if isPrime:\n",
    "    print(f\"{n} is a prime number\")\n",
    "else:\n",
    "    print(f\"{n} is not a prime number\")\n",
    "    \n",
    "    "
   ]
  },
  {
   "cell_type": "markdown",
   "id": "baf6ee18-6058-490e-8a3c-2ca4980089b6",
   "metadata": {},
   "source": [
    "- 15).Write a Python Program to Print all Prime Numbers in an Interval of 1-10."
   ]
  },
  {
   "cell_type": "code",
   "execution_count": 33,
   "id": "a5122b17-53f8-4b49-94a6-bc9ae3e5b14e",
   "metadata": {},
   "outputs": [
    {
     "name": "stdout",
     "output_type": "stream",
     "text": [
      "1 is not a prime number\n",
      "2 is a prime number\n",
      "3 is a prime number\n",
      "4 is not a prime number\n",
      "5 is a prime number\n",
      "6 is not a prime number\n",
      "7 is a prime number\n",
      "8 is not a prime number\n",
      "9 is not a prime number\n",
      "10 is not a prime number\n"
     ]
    }
   ],
   "source": [
    "n = 1\n",
    "while n < 11:\n",
    "    if n == 1:\n",
    "        print(f\"{n} is not a prime number\")\n",
    "    else:\n",
    "        is_prime = True\n",
    "        for i in range(2, int(n**0.5) + 1):\n",
    "            if n % i == 0:\n",
    "                is_prime = False\n",
    "                break\n",
    "        if is_prime:\n",
    "            print(f\"{n} is a prime number\")\n",
    "        else:\n",
    "            print(f\"{n} is not a prime number\")\n",
    "    n += 1\n"
   ]
  },
  {
   "cell_type": "markdown",
   "id": "c15b6c51-c096-4c26-bc97-2732838a582b",
   "metadata": {},
   "source": [
    "- 16)Write a Python Program to Find the Factorial of a Number."
   ]
  },
  {
   "cell_type": "code",
   "execution_count": 37,
   "id": "b19560fb-f10c-4a92-b0f0-9f8199165844",
   "metadata": {},
   "outputs": [
    {
     "name": "stdin",
     "output_type": "stream",
     "text": [
      "Enter a number:  5\n"
     ]
    },
    {
     "name": "stdout",
     "output_type": "stream",
     "text": [
      "Factorial of 5 i 120\n"
     ]
    }
   ],
   "source": [
    "n=int(input(\"Enter a number: \"))\n",
    "\n",
    "if n==0:\n",
    "    print(f\"Factorial of {n} is 1\")\n",
    "elif n<0:\n",
    "    print(f\"Factorial of {n} does not exists as it is a negative number \")\n",
    "else:\n",
    "    fact=1\n",
    "    for i in range(1,n+1):\n",
    "        fact=fact*i\n",
    "        \n",
    "print(f\"Factorial of {n} is: {fact}\")"
   ]
  },
  {
   "cell_type": "markdown",
   "id": "73faa9d6-0766-4a41-8329-af8527c96068",
   "metadata": {},
   "source": [
    "- 17).Write a Python Program to Display the multiplication Table."
   ]
  },
  {
   "cell_type": "code",
   "execution_count": 38,
   "id": "3623ab3c-97bd-4574-8b97-85c78b0172dc",
   "metadata": {},
   "outputs": [
    {
     "name": "stdin",
     "output_type": "stream",
     "text": [
      "Enter a number:  4\n"
     ]
    },
    {
     "name": "stdout",
     "output_type": "stream",
     "text": [
      "4x1=4\n",
      "4x2=8\n",
      "4x3=12\n",
      "4x4=16\n",
      "4x5=20\n",
      "4x6=24\n",
      "4x7=28\n",
      "4x8=32\n",
      "4x9=36\n",
      "4x10=40\n"
     ]
    }
   ],
   "source": [
    "n=int(input(\"Enter a number: \"))\n",
    "\n",
    "for i in range(1,11):\n",
    "    print(f\"{n}x{i}={n*i}\")"
   ]
  },
  {
   "cell_type": "markdown",
   "id": "6540f417-378f-4150-9438-da412a0ef008",
   "metadata": {},
   "source": [
    "- 18).Write a Python Program to Print the Fibonacci sequence.\n",
    "**Fibonacci sequence:**\n",
    "- The Fibonacci sequence is a series of numbers where each number is the sum of the two\n",
    "preceding ones, typically starting with 0 and 1. So, the sequence begins with 0 and 1, and\n",
    "the next number is obtained by adding the previous two numbers. This pattern continues\n",
    "indefinitely, generating a sequence that looks like this:\n",
    "0, 1, 1, 2, 3, 5, 8, 13, 21, 34, 55, 89, 144, and so on.\n",
    "- Mathematically, the Fibonacci sequence can be defined using the following recurrence\n",
    "relation:\n",
    "- F(0) = 0 F(1) = 1 F(n) = F(n − 1) + F(n − 2)for n > 1"
   ]
  },
  {
   "cell_type": "code",
   "execution_count": null,
   "id": "25f8ab98-ec3e-4e0c-b324-0d9d3c271d79",
   "metadata": {},
   "outputs": [],
   "source": [
    "nterms = int(input(\"How many terms? \"))\n",
    "\n",
    "n1, n2 = 0, 1\n",
    "count = 0\n",
    "\n",
    "if nterms <= 0:\n",
    "    print(\"Please enter a positive integer\")\n",
    "elif nterms == 1:\n",
    "    print(\"Fibonacci sequence upto\", nterms, \":\")\n",
    "    print(n1)\n",
    "else:\n",
    "    print(\"Fibonacci sequence:\")\n",
    "    while count < nterms:\n",
    "        print(n1)\n",
    "        nth = n1 + n2\n",
    "        n1 = n2\n",
    "        n2 = nth\n",
    "        count += 1\n"
   ]
  },
  {
   "cell_type": "markdown",
   "id": "70441e85-ea13-4aee-85f3-55ccd02e8117",
   "metadata": {},
   "source": [
    "19). Write a Python Program to Check Armstrong Number?\n",
    "- **Armstrong Number:**\n",
    "- It is a number that is equal to the sum of its own digits, each raised to a power equal to the\n",
    "number of digits in the number.\n",
    "- For example, let's consider the number 153:\n",
    "It has three digits (1, 5, and 3).\n",
    "If we calculate + , we get , which is equal to .\n",
    "So, 153 is an Armstrong number because it equals the sum of its digits raised to the power\n",
    "of the number of digits in the number.\n",
    "- Another example is 9474:\n",
    "It has four digits (9, 4, 7, and 4).\n",
    "- If we calculate , we get , which is also\n",
    "equal to .\n",
    "Therefore, 9474 is an Armstrong number as well.\n"
   ]
  },
  {
   "cell_type": "code",
   "execution_count": null,
   "id": "1ad80e65-d52f-44bf-97d8-d63b235a5ba1",
   "metadata": {},
   "outputs": [],
   "source": [
    "n = int(input(\"Enter a number: \"))\n",
    "order = len(str(n))\n",
    "temp_num = n\n",
    "sum_of_powers = 0\n",
    "\n",
    "while temp_num > 0:\n",
    "    digit = temp_num % 10\n",
    "    sum_of_powers += digit ** order\n",
    "    temp_num = temp_num // 10\n",
    "\n",
    "if sum_of_powers == n:\n",
    "    print(f\"{n} is an Armstrong number.\")\n",
    "else:\n",
    "    print(f\"{n} is not an Armstrong number.\")\n"
   ]
  },
  {
   "cell_type": "markdown",
   "id": "89501b10-ccf3-475c-8d19-3cc6f93732fd",
   "metadata": {},
   "source": [
    "- 20). Write a Python Program to Find Armstrong Number in an Interval."
   ]
  },
  {
   "cell_type": "code",
   "execution_count": null,
   "id": "c0f09abf-a848-47ae-94f5-4722963de1ca",
   "metadata": {},
   "outputs": [],
   "source": [
    "lower=int(input(\"Enter starting point: \"))\n",
    "upper=int(input(\"Enter ending point: \"))\n",
    "for i in range(lower,upper+1):\n",
    "    order=len(str(i))\n",
    "    sum_of_powers=0\n",
    "    temp_num=i\n",
    "    while temp_num>0:\n",
    "        digit=temp_num%10\n",
    "        sum_of_powers+=digit**order\n",
    "        temp_num=temp_num//10\n",
    "    if sum_of_powers==i:\n",
    "        print(i)\n",
    "    "
   ]
  },
  {
   "cell_type": "markdown",
   "id": "4f47f29d-185a-4b3f-89b7-7f9ee01847e2",
   "metadata": {},
   "source": [
    "- 21).Write a Python Program to Find the Sum of Natural Numbers.\n",
    "Natural numbers are a set of positive integers that are used to count and order objects.\n",
    "They are the numbers that typically start from 1 and continue indefinitely, including all the\n",
    "whole numbers greater than 0. In mathematical notation, the set of natural numbers is often\n",
    "denoted as \"N\" and can be expressed as:\n",
    "\n",
    "N = 1, 2, 3, 4, 5, 6, 7, 8, . . ."
   ]
  },
  {
   "cell_type": "code",
   "execution_count": null,
   "id": "ba0a4f67-5f41-4f9b-a25f-a7399d690748",
   "metadata": {},
   "outputs": [],
   "source": [
    "lower=int(input(\"Enter starting point: \"))\n",
    "upper=int(input(\"Enter ending point: \"))\n",
    "sum=0\n",
    "for i in range(lower,upper+1):\n",
    "    sum+=i\n",
    "print(f\"Sum of natural number from {lower} to {upper} is {sum}\")"
   ]
  },
  {
   "cell_type": "markdown",
   "id": "571d0a95-8e0a-4fd1-b15c-dbc6b658a61c",
   "metadata": {},
   "source": [
    "22).Write a Python Program to Find LCM.\n",
    "- **Least Common Multiple (LCM):**\n",
    "- LCM, or Least Common Multiple, is the smallest multiple that is exactly divisible by two or\n",
    "more numbers.\n",
    "Formula:\n",
    "- For two numbers a and b, the LCM can be found using the formula:\n",
    " LCM(a,b)=|a.b|/gcd(a,b)\n",
    "- For more than two numbers, you can find the LCM step by step, taking the LCM of pairs of\n",
    "numbers at a time until you reach the last pair.\n",
    "- Note: GCD stands for Greatest Common Divisor."
   ]
  },
  {
   "cell_type": "code",
   "execution_count": 2,
   "id": "f443e31a-bda2-4396-87fb-f2d04347f509",
   "metadata": {},
   "outputs": [
    {
     "data": {
      "text/plain": [
       "24"
      ]
     },
     "execution_count": 2,
     "metadata": {},
     "output_type": "execute_result"
    }
   ],
   "source": [
    "def lcm(x,y):\n",
    "    if x>y:\n",
    "        greater=x\n",
    "    elif y>x:\n",
    "        greater=y\n",
    "    while(True):\n",
    "        if(greater%x==0) and (greater%y==0):\n",
    "            lcm=greater\n",
    "            break\n",
    "        greater+=1\n",
    "    return lcm\n",
    "lcm(12,8)"
   ]
  },
  {
   "cell_type": "markdown",
   "id": "11445759-1c9d-4253-8693-ae0ef50799c0",
   "metadata": {},
   "source": [
    "23).Write a Python Program to Find HCF.\n",
    "- **Highest Common Factor(HCF):**\n",
    "- HCF, or Highest Common Factor, is the largest positive integer that divides two or more\n",
    "numbers without leaving a remainder.\n",
    "Formula:For two numbers a and b, the HCF can be found using the formula:\n",
    "\n",
    "For more than two numbers, you can find the HCF by taking the GCD of pairs of numbers at\n",
    "a time until you reach the last pair.\n",
    "Note: GCD stands for Greatest Common Divisor."
   ]
  },
  {
   "cell_type": "code",
   "execution_count": 3,
   "id": "8526b761-51b5-497b-a4ee-5b29bf03d5e5",
   "metadata": {},
   "outputs": [
    {
     "data": {
      "text/plain": [
       "6"
      ]
     },
     "execution_count": 3,
     "metadata": {},
     "output_type": "execute_result"
    }
   ],
   "source": [
    "def hcf(x,y):\n",
    "    if x>y:\n",
    "        smaller=y\n",
    "    else:\n",
    "        smaller=x\n",
    "    while(True):\n",
    "        if(smaller%y==0)or(smaller%x==0):\n",
    "            hcf=smaller\n",
    "            break\n",
    "        smaller+=1\n",
    "    return hcf\n",
    "hcf(12,6)"
   ]
  },
  {
   "cell_type": "markdown",
   "id": "1eba0465-2989-4e74-b9d3-24978e46fc4e",
   "metadata": {},
   "source": [
    "24).Write a Python Program to Convert Decimal to Binary, Octal and Hexadecimal.\n",
    "- **How can we manually convert a decimal number to binary, octal and hexadecimal?**\n",
    "- Converting a decimal number to binary, octal, and hexadecimal involves dividing the\n",
    "decimal number by the base repeatedly and noting the remainders at each step. Here's a\n",
    "simple example:\n",
    "- Let's convert the decimal number 27 to binary, octal, and hexadecimal.\n",
    "- 1. Binary:\n",
    "   - Divide 27 by 2. Quotient is 13, remainder is 1. Note the remainder.\n",
    "   - Divide 13 by 2. Quotient is 6, remainder is 1. Note the remainder.\n",
    "   - Divide 6 by 2. Quotient is 3, remainder is 0. Note the remainder.\n",
    "   - Divide 3 by 2. Quotient is 1, remainder is 1. Note the remainder.\n",
    "   - Divide 1 by 2. Quotient is 0, remainder is 1. Note the remainder.\n",
    "     Reading the remainders from bottom to top, the binary representation of 27 is 11011.\n",
    "- 2. Octal:\n",
    "   - Divide 27 by 8. Quotient is 3, remainder is 3. Note the remainder.\n",
    "   - Divide 3 by 8. Quotient is 0, remainder is 3. Note the remainder.\n",
    "   - Reading the remainders from bottom to top, the octal representation of 27 is 33.\n",
    "- 3. Hexadecimal:\n",
    "   - Divide 27 by 16. Quotient is 1, remainder is 11 (B in hexadecimal). Note the\n",
    "remainder.\n",
    "   - Reading the remainders, the hexadecimal representation of 27 is 1B.\n",
    "So, in summary:\n",
    "   - Binary: 27 in decimal is 11011 in binary.\n",
    "   - Octal: 27 in decimal is 33 in octal.\n",
    "   - Hexadecimal: 27 in decimal is 1B in hexadecimal."
   ]
  },
  {
   "cell_type": "code",
   "execution_count": 9,
   "id": "eb23a2fa-af15-4888-a29e-057ec1214771",
   "metadata": {},
   "outputs": [
    {
     "name": "stdin",
     "output_type": "stream",
     "text": [
      "Enter a decimal number:  27\n"
     ]
    },
    {
     "name": "stdout",
     "output_type": "stream",
     "text": [
      "27 in binary is 0b11011\n",
      "27 in octal is 0o33\n",
      "27 in hexa decimal is 0x1b\n"
     ]
    }
   ],
   "source": [
    "decimal=int(input(\"Enter a decimal number: \"))\n",
    "\n",
    "print(f\"{decimal} in binary is {bin(decimal)}\")\n",
    "print(f\"{decimal} in octal is {oct(decimal)}\")\n",
    "print(f\"{decimal} in hexa decimal is {hex(decimal)}\")"
   ]
  },
  {
   "cell_type": "markdown",
   "id": "6cf543b3-02c2-4c21-9bfc-cfd32a7771f5",
   "metadata": {},
   "source": [
    "Q25). Write a Python Program To Find ASCII value of a character.\n",
    "- **ASCII value:**\n",
    "  - ASCII, or American Standard Code for Information Interchange, is a character encoding\n",
    "standard that uses numeric values to represent characters. Each ASCII character is\n",
    "assigned a unique 7-bit or 8-bit binary number, allowing computers to exchange information\n",
    "and display text in a consistent way. The ASCII values range from 0 to 127 (for 7-bit ASCII)\n",
    "or 0 to 255 (for 8-bit ASCII), with each value corresponding to a specific character, such as\n",
    "letters, digits, punctuation marks, and control characters."
   ]
  },
  {
   "cell_type": "code",
   "execution_count": 13,
   "id": "3227d667-9196-402f-a08a-7573654aa1b9",
   "metadata": {},
   "outputs": [
    {
     "name": "stdin",
     "output_type": "stream",
     "text": [
      "Enter a Character:  A\n"
     ]
    },
    {
     "name": "stdout",
     "output_type": "stream",
     "text": [
      "Ascii value of 'A' is 65\n"
     ]
    }
   ],
   "source": [
    "character=input(\"Enter a Character: \")\n",
    "if len(character)>1 or len(character)==0:\n",
    "    print(\"Invalid Input\")\n",
    "    \n",
    "else:\n",
    "    print(f\"Ascii value of '{character}' is {ord(character)}\")\n",
    "    "
   ]
  },
  {
   "cell_type": "markdown",
   "id": "e4233f25-3203-4a22-a583-0b9c1cff882a",
   "metadata": {},
   "source": [
    "Q26).Write a Python Program to Make a Simple Calculator with 4 basic mathematical\n",
    "operations."
   ]
  },
  {
   "cell_type": "code",
   "execution_count": 17,
   "id": "6ef73aba-b8fa-404a-bdcb-151ee689d0a6",
   "metadata": {},
   "outputs": [
    {
     "name": "stdin",
     "output_type": "stream",
     "text": [
      "Enter first number:  100\n",
      "Enter second number:  90\n",
      "Enter your choice 1,2,3 or 4 \n",
      " 1)ADD \n",
      " 2)SUBTRACT \n",
      " 3)MULTIPLICATION \n",
      " 4)DIVISION \n",
      " 4\n"
     ]
    },
    {
     "name": "stdout",
     "output_type": "stream",
     "text": [
      "Addition of 100.0 and 90.0 is 1.11:\n"
     ]
    }
   ],
   "source": [
    "def add(x,y):\n",
    "    return x+y\n",
    "def sub(x,y):\n",
    "    return x-y\n",
    "def mul(x,y):\n",
    "    return x*y\n",
    "def div(x,y):\n",
    "    return x/y\n",
    "n1=float(input(\"Enter first number: \"))\n",
    "n2=float(input(\"Enter second number: \"))\n",
    "choice=input(\"Enter your choice 1,2,3 or 4 \\n 1)ADD \\n 2)SUBTRACT \\n 3)MULTIPLICATION \\n 4)DIVISION \\n\")\n",
    "if choice==\"1\":\n",
    "    print(f\"Addition of {n1} and {n2} is {(n1+n2):.2f}:\")\n",
    "elif choice==\"2\":\n",
    "    print(f\"Addition of {n1} and {n2} is {(n1-n2):.2f}:\")\n",
    "elif choice==\"3\":\n",
    "    print(f\"Addition of {n1} and {n2} is {(n1*n2):.2f}:\")\n",
    "elif choice==\"4\":\n",
    "    print(f\"Addition of {n1} and {n2} is {(n1/n2):.2f}:\")\n",
    "else:\n",
    "    print(\"Invalid Input\")"
   ]
  },
  {
   "cell_type": "markdown",
   "id": "1234d656-3f9b-4e65-88b0-05768910bd37",
   "metadata": {},
   "source": [
    "Q27).Write a Python Program to Display Fibonacci Sequence Using Recursion.\n",
    "Fibonacci sequence:\n",
    "- The Fibonacci sequence is a series of numbers in which each number is the sum of the two\n",
    "preceding ones, usually starting with 0 and 1. In mathematical terms, it is defined by the\n",
    "recurrence relation ( F(n) = F(n-1) + F(n-2) ), with initial conditions ( F(0) = 0 ) and ( F(1) = 1\n",
    "). \n",
    "- The sequence begins: 0, 1, 1, 2, 3, 5, 8, 13, 21, and so on. The Fibonacci sequence has\n",
    "widespread applications in mathematics, computer science, nature, and art."
   ]
  },
  {
   "cell_type": "code",
   "execution_count": 20,
   "id": "67be2e28-5897-4d49-a5b5-6818eba620f6",
   "metadata": {},
   "outputs": [
    {
     "name": "stdin",
     "output_type": "stream",
     "text": [
      "Enter the value:  3\n"
     ]
    },
    {
     "name": "stdout",
     "output_type": "stream",
     "text": [
      "Fibonacci upto index 3 is 2\n"
     ]
    }
   ],
   "source": [
    "def fibo(n):\n",
    "    if n<=1:\n",
    "        return n\n",
    "    return fibo(n-1)+fibo(n-2)\n",
    "n=int(input(\"Enter the value: \"))\n",
    "print(f\"Fibonacci upto index {n} is {fibo(n)}\")\n",
    "    "
   ]
  },
  {
   "cell_type": "markdown",
   "id": "862b6dc2-751a-4dab-92d7-102ceae4adb9",
   "metadata": {},
   "source": [
    "Q28).Write a Python Program to Find Factorial of Number Using Recursion."
   ]
  },
  {
   "cell_type": "code",
   "execution_count": 23,
   "id": "ffc6a278-6069-4494-b4d6-62fc315793b1",
   "metadata": {},
   "outputs": [
    {
     "name": "stdin",
     "output_type": "stream",
     "text": [
      "Enter the value:  5\n"
     ]
    },
    {
     "name": "stdout",
     "output_type": "stream",
     "text": [
      "Factorial of 5 is 120\n"
     ]
    }
   ],
   "source": [
    "def fact(n):\n",
    "    if n<1:\n",
    "        return \"Invalid input\"\n",
    "    if n==0 or n==1:\n",
    "        return 1\n",
    "    return n*fact(n-1)\n",
    "n=int(input(\"Enter the value: \"))\n",
    "print(f\"Factorial of {n} is {fact(n)}\")"
   ]
  },
  {
   "cell_type": "markdown",
   "id": "c3a5a0d4-1046-40cc-93b9-95753ed78484",
   "metadata": {},
   "source": [
    "Q29).Write a Python Program to calculate your Body Mass Index.\n",
    "- **Body Mass Index (BMI)** is a measure of body fat based on an individual's weight and\n",
    "height. It is commonly used as a screening tool to categorize individuals into different weight\n",
    "status categories, such as underweight, normal weight, overweight, and obesity.\n",
    "The BMI is calculated using the following formula:\n",
    "    - BMI = weight_kg / (height_m ** 2)"
   ]
  },
  {
   "cell_type": "code",
   "execution_count": 6,
   "id": "ebf2c37b-82ab-494f-9933-67016dfa3604",
   "metadata": {},
   "outputs": [
    {
     "name": "stdin",
     "output_type": "stream",
     "text": [
      "Enter your weight in kgs:  52\n",
      "Enter your height in mtr:  1.7\n"
     ]
    },
    {
     "name": "stdout",
     "output_type": "stream",
     "text": [
      "Your BMI is: 17.99307958477509\n",
      "You are underweight.\n"
     ]
    }
   ],
   "source": [
    "inp1=float(input(\"Enter your weight in kgs: \"))\n",
    "inp2=float(input(\"Enter your height in mtr: \"))\n",
    "\n",
    "bmi=inp1/(inp2**2)\n",
    "print(f\"Your BMI is: {bmi}\")\n",
    "if bmi <= 18.5:\n",
    "    print(\"You are underweight.\")\n",
    "    \n",
    "\n",
    "elif 18.5 < bmi <= 24.9:\n",
    "    print(\"Your weight is normal.\")\n",
    "\n",
    "elif 25 < bmi <= 29.29:\n",
    "    print(\"You are overweight.\")\n",
    "\n",
    "else:\n",
    "    print(\"You are obese.\")\n"
   ]
  },
  {
   "cell_type": "markdown",
   "id": "7ca76193-6af9-46d5-a642-0deebf41f798",
   "metadata": {},
   "source": [
    "Q30).Write a Python Program to calculate the natural logarithm of any number."
   ]
  },
  {
   "cell_type": "code",
   "execution_count": 10,
   "id": "deb7457f-cae4-4e3d-8ae0-b64da3f998d1",
   "metadata": {},
   "outputs": [
    {
     "name": "stdin",
     "output_type": "stream",
     "text": [
      "Enter a number:  1.4\n"
     ]
    },
    {
     "name": "stdout",
     "output_type": "stream",
     "text": [
      "log(1.4) = 0.3364722366212129\n"
     ]
    }
   ],
   "source": [
    "import math\n",
    "num=float(input(\"Enter a number: \"))\n",
    "\n",
    "if num<0:\n",
    "    print(\"Please enter a positive number..!\")\n",
    "else:\n",
    "    print(f\"log({num}) = {math.log(num)}\")"
   ]
  },
  {
   "cell_type": "markdown",
   "id": "8d60ca5d-5f67-4b9b-95af-0f691068766f",
   "metadata": {},
   "source": [
    "Q31).Write a Python Program for cube sum of first n natural numbers?"
   ]
  },
  {
   "cell_type": "code",
   "execution_count": 13,
   "id": "5c8d389c-7474-4e7c-880f-5a6c21a197ec",
   "metadata": {},
   "outputs": [
    {
     "name": "stdin",
     "output_type": "stream",
     "text": [
      "Enter the range :  10\n"
     ]
    },
    {
     "name": "stdout",
     "output_type": "stream",
     "text": [
      "Cube sum of numbers upto 10 = 3025\n"
     ]
    }
   ],
   "source": [
    "n=int(input(\"Enter the range : \"))\n",
    "cube=[i**3 for i in range(1,n+1)]\n",
    "print(f\"Cube sum of numbers upto {n} = {sum(cube)}\")"
   ]
  },
  {
   "cell_type": "markdown",
   "id": "01aedaf6-2e6a-4ff3-9171-3429d5c1b9df",
   "metadata": {},
   "source": [
    "Q32).Write a Python Program to find sum of array.\n",
    "- In Python, an array is a data structure used to store a collection of elements, each identified\n",
    "by an index or a key. Unlike some other programming languages, Python does not have a\n",
    "built-in array type. Instead, the most commonly used array-like data structure is the list.\n",
    "A list in Python is a dynamic array, meaning it can change in size during runtime. Elements\n",
    "in a list can be of different data types, and you can perform various operations such as\n",
    "adding, removing, or modifying elements. Lists are defined using square brackets [] and\n",
    "can be indexed and sliced to access specific elements or sublists."
   ]
  },
  {
   "cell_type": "code",
   "execution_count": 15,
   "id": "2011b9c1-a2b1-4aed-b93a-4b5d2846697c",
   "metadata": {},
   "outputs": [
    {
     "name": "stdout",
     "output_type": "stream",
     "text": [
      "3025\n"
     ]
    }
   ],
   "source": [
    "def sum_of_arr(n):\n",
    "    total=0\n",
    "    for i in n:\n",
    "        total+=i\n",
    "    return total\n",
    "n=[i**3 for i in range(11)]\n",
    "print(sum_of_arr(n))"
   ]
  },
  {
   "cell_type": "markdown",
   "id": "fa5ddd8c-ea9f-4546-a3e0-abebefd30cbd",
   "metadata": {},
   "source": [
    "Q33).Write a Python Program to find largest element in an array."
   ]
  },
  {
   "cell_type": "code",
   "execution_count": 18,
   "id": "36dcb7c7-ab88-4443-a798-9960b8f3eb95",
   "metadata": {},
   "outputs": [
    {
     "name": "stdout",
     "output_type": "stream",
     "text": [
      "19\n"
     ]
    }
   ],
   "source": [
    "def largest(n):\n",
    "    max=0\n",
    "    for i in n:\n",
    "        if i>max:\n",
    "            max=i\n",
    "\n",
    "    return max\n",
    "n=[1,3,4,5,9,19,12]\n",
    "print(largest(n))"
   ]
  },
  {
   "cell_type": "markdown",
   "id": "204bc11c-12b4-4404-b2ce-192e02c76288",
   "metadata": {},
   "source": [
    "Q34).Write a Python Program for array rotation."
   ]
  },
  {
   "cell_type": "code",
   "execution_count": 29,
   "id": "99935285-daed-43be-9288-b5ac80c7448a",
   "metadata": {},
   "outputs": [
    {
     "name": "stdout",
     "output_type": "stream",
     "text": [
      "[3, 4, 5, 1, 2]\n"
     ]
    }
   ],
   "source": [
    "def rotated_arr(arr, n):\n",
    "    if n < 0 or n > len(arr):\n",
    "        print(\"Invalid Operation!\")\n",
    "        return None\n",
    "    else:\n",
    "        rotated_array = [0] * len(arr)\n",
    "        for i in range(len(arr)):\n",
    "            rotated_array[i] = arr[(i + n) % len(arr)]\n",
    "        return rotated_array\n",
    "\n",
    "arr = [1, 2, 3, 4, 5]\n",
    "n = 2\n",
    "print(rotated_arr(arr, n))"
   ]
  },
  {
   "cell_type": "markdown",
   "id": "b35be6ea-c858-48ca-9e56-870882e6d2e5",
   "metadata": {},
   "source": [
    "Q35).Write a Python Program to Split the array and add the first part to the end?"
   ]
  },
  {
   "cell_type": "code",
   "execution_count": 30,
   "id": "f274f6b4-4baf-47ba-98c8-3ef6ba55fe3e",
   "metadata": {},
   "outputs": [
    {
     "name": "stdout",
     "output_type": "stream",
     "text": [
      "[4, 5, 6, 1, 2, 3]\n"
     ]
    }
   ],
   "source": [
    "def swap_order(arr,k):\n",
    "    first_part=arr[:k]\n",
    "    last_part=arr[k:]\n",
    "    updated_arr=last_part+first_part\n",
    "    return updated_arr\n",
    "arr=[1,2,3,4,5,6]\n",
    "k=3\n",
    "print(swap_order(arr,k))"
   ]
  },
  {
   "cell_type": "markdown",
   "id": "62de3055-30ce-471b-b5ed-f6018ccc32ce",
   "metadata": {},
   "source": [
    "Q36).Write a Python Program to check if given array is Monotonic.\n",
    "A monotonic array is one that is entirely non-increasing or non-decreasing."
   ]
  },
  {
   "cell_type": "code",
   "execution_count": 34,
   "id": "c605dc92-b6ee-41d9-a99b-963d328a5948",
   "metadata": {},
   "outputs": [
    {
     "name": "stdout",
     "output_type": "stream",
     "text": [
      "True\n"
     ]
    }
   ],
   "source": [
    "def monotonic(arr):\n",
    "    increasing=decreasing=True\n",
    "\n",
    "    for i in range(len(arr)):\n",
    "        if arr[i]>arr[i-1]:\n",
    "            decreasing=False\n",
    "        elif arr[i]>arr[i+1]:\n",
    "            increasing=False\n",
    "    return increasing or decreasing\n",
    "arr=[1,2,3]\n",
    "print(monotonic(arr))\n",
    "            "
   ]
  },
  {
   "cell_type": "code",
   "execution_count": null,
   "id": "7229fdb3-3f1c-47d3-bf9a-51878b53af1c",
   "metadata": {},
   "outputs": [],
   "source": []
  }
 ],
 "metadata": {
  "kernelspec": {
   "display_name": "Python [conda env:base] *",
   "language": "python",
   "name": "conda-base-py"
  },
  "language_info": {
   "codemirror_mode": {
    "name": "ipython",
    "version": 3
   },
   "file_extension": ".py",
   "mimetype": "text/x-python",
   "name": "python",
   "nbconvert_exporter": "python",
   "pygments_lexer": "ipython3",
   "version": "3.13.5"
  }
 },
 "nbformat": 4,
 "nbformat_minor": 5
}
